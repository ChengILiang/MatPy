{
 "cells": [
  {
   "cell_type": "code",
   "execution_count": 6,
   "metadata": {
    "collapsed": false
   },
   "outputs": [
    {
     "name": "stderr",
     "output_type": "stream",
     "text": [
      "/site/x86/anaconda-1.8/anaconda/lib/python2.7/site-packages/ipykernel/__main__.py:21: RuntimeWarning: overflow encountered in double_scalars\n"
     ]
    },
    {
     "ename": "ValueError",
     "evalue": "Jacobian is required for dogleg minimization",
     "output_type": "error",
     "traceback": [
      "\u001b[1;31m---------------------------------------------------------------------------\u001b[0m",
      "\u001b[1;31mValueError\u001b[0m                                Traceback (most recent call last)",
      "\u001b[1;32m<ipython-input-6-1f6c87c7de35>\u001b[0m in \u001b[0;36m<module>\u001b[1;34m()\u001b[0m\n\u001b[0;32m     29\u001b[0m \u001b[1;33m\u001b[0m\u001b[0m\n\u001b[0;32m     30\u001b[0m     \u001b[1;34m\" scipy.optimize.OptimizeResult contains the number iterations \"\u001b[0m\u001b[1;33m\u001b[0m\u001b[0m\n\u001b[1;32m---> 31\u001b[1;33m     \u001b[0mresult\u001b[0m \u001b[1;33m=\u001b[0m \u001b[0mminimize\u001b[0m\u001b[1;33m(\u001b[0m\u001b[0mfunction\u001b[0m\u001b[1;33m,\u001b[0m \u001b[0mx0\u001b[0m \u001b[1;33m=\u001b[0m \u001b[0mguess\u001b[0m\u001b[1;33m,\u001b[0m \u001b[0mmethod\u001b[0m \u001b[1;33m=\u001b[0m \u001b[0mmethod\u001b[0m\u001b[1;33m,\u001b[0m\u001b[1;33m)\u001b[0m\u001b[1;33m\u001b[0m\u001b[0m\n\u001b[0m\u001b[0;32m     32\u001b[0m \u001b[1;33m\u001b[0m\u001b[0m\n\u001b[0;32m     33\u001b[0m \u001b[1;33m\u001b[0m\u001b[0m\n",
      "\u001b[1;32m/site/x86/anaconda-1.8/anaconda/lib/python2.7/site-packages/scipy/optimize/_minimize.pyc\u001b[0m in \u001b[0;36mminimize\u001b[1;34m(fun, x0, args, method, jac, hess, hessp, bounds, constraints, tol, callback, options)\u001b[0m\n\u001b[0;32m    453\u001b[0m     \u001b[1;32melif\u001b[0m \u001b[0mmeth\u001b[0m \u001b[1;33m==\u001b[0m \u001b[1;34m'dogleg'\u001b[0m\u001b[1;33m:\u001b[0m\u001b[1;33m\u001b[0m\u001b[0m\n\u001b[0;32m    454\u001b[0m         return _minimize_dogleg(fun, x0, args, jac, hess,\n\u001b[1;32m--> 455\u001b[1;33m                                 callback=callback, **options)\n\u001b[0m\u001b[0;32m    456\u001b[0m     \u001b[1;32melif\u001b[0m \u001b[0mmeth\u001b[0m \u001b[1;33m==\u001b[0m \u001b[1;34m'trust-ncg'\u001b[0m\u001b[1;33m:\u001b[0m\u001b[1;33m\u001b[0m\u001b[0m\n\u001b[0;32m    457\u001b[0m         return _minimize_trust_ncg(fun, x0, args, jac, hess, hessp,\n",
      "\u001b[1;32m/site/x86/anaconda-1.8/anaconda/lib/python2.7/site-packages/scipy/optimize/_trustregion_dogleg.pyc\u001b[0m in \u001b[0;36m_minimize_dogleg\u001b[1;34m(fun, x0, args, jac, hess, **trust_region_options)\u001b[0m\n\u001b[0;32m     30\u001b[0m     \"\"\"\n\u001b[0;32m     31\u001b[0m     \u001b[1;32mif\u001b[0m \u001b[0mjac\u001b[0m \u001b[1;32mis\u001b[0m \u001b[0mNone\u001b[0m\u001b[1;33m:\u001b[0m\u001b[1;33m\u001b[0m\u001b[0m\n\u001b[1;32m---> 32\u001b[1;33m         \u001b[1;32mraise\u001b[0m \u001b[0mValueError\u001b[0m\u001b[1;33m(\u001b[0m\u001b[1;34m'Jacobian is required for dogleg minimization'\u001b[0m\u001b[1;33m)\u001b[0m\u001b[1;33m\u001b[0m\u001b[0m\n\u001b[0m\u001b[0;32m     33\u001b[0m     \u001b[1;32mif\u001b[0m \u001b[0mhess\u001b[0m \u001b[1;32mis\u001b[0m \u001b[0mNone\u001b[0m\u001b[1;33m:\u001b[0m\u001b[1;33m\u001b[0m\u001b[0m\n\u001b[0;32m     34\u001b[0m         \u001b[1;32mraise\u001b[0m \u001b[0mValueError\u001b[0m\u001b[1;33m(\u001b[0m\u001b[1;34m'Hessian is required for dogleg minimization'\u001b[0m\u001b[1;33m)\u001b[0m\u001b[1;33m\u001b[0m\u001b[0m\n",
      "\u001b[1;31mValueError\u001b[0m: Jacobian is required for dogleg minimization"
     ]
    }
   ],
   "source": [
    "# initial setup\n",
    "%matplotlib inline\n",
    "\n",
    "import numpy as np\n",
    "import scipy as sp\n",
    "import matplotlib.pyplot as plot\n",
    "\n",
    "from scipy.optimize import minimize\n",
    "\n",
    "import timeit\n",
    "\n",
    "#all methods to minimize\n",
    "methods = ['Nelder-Mead','Powell','CG','BFGS','Newton-CG','L-BFGS-B','TNC','COBYLA','SLSQP','dogleg','trust-ncg']\n",
    "\n",
    "start = np.zeros(0)\n",
    "stop = np.zeros(0)\n",
    "num_iters = np.zeros(0)\n",
    "\n",
    "#runtime code goes here\n",
    "\n",
    "function = lambda x: x[0]**3 + np.sin(x[0]) + np.cos(x[1]) + x[1]**(1/3) + np.exp(x[1])#the function we're testing will go here\n",
    "\n",
    "#testing every minimization method\n",
    "for method in methods:\n",
    "    \n",
    "    start = np.append(start,timeit.default_timer())\n",
    "    \n",
    "    guess = [500,1]\n",
    "    \n",
    "    \" scipy.optimize.OptimizeResult contains the number iterations \"\n",
    "    result = minimize(function, x0 = guess, method = method,)\n",
    "    \n",
    "    \n",
    "    stop = np.append(stop,timeit.default_timer())\n",
    "    \n",
    "\n",
    "\n",
    "exec_time = stop-start\n",
    "\n",
    "counter = 0\n",
    "\n",
    "#could print all of the runtimes as they run but it would be better to print them at the end and store runtimes\n",
    "for method in methods:\n",
    "    \n",
    "    print '{0} took {1} seconds to minimize this function. The result, {2} was found at {3}'.format(method,exec_time[counter],result.x,result.fun)\n",
    "    counter = counter + 1"
   ]
  },
  {
   "cell_type": "code",
   "execution_count": 3,
   "metadata": {
    "collapsed": false
   },
   "outputs": [
    {
     "data": {
      "text/plain": [
       "2.7182818284590451"
      ]
     },
     "execution_count": 3,
     "metadata": {},
     "output_type": "execute_result"
    }
   ],
   "source": [
    "np.exp(1)"
   ]
  },
  {
   "cell_type": "markdown",
   "metadata": {},
   "source": [
    "### Took out all methods where Jacobian is required, for now (Newton-CG and the last two)"
   ]
  },
  {
   "cell_type": "code",
   "execution_count": 13,
   "metadata": {
    "collapsed": false
   },
   "outputs": [
    {
     "name": "stdout",
     "output_type": "stream",
     "text": [
      "Nelder-Mead took 0.0181648731232 seconds. The result, [-749499.       0.] was found at -4.21030127126e+17\n",
      "Powell took 0.01198387146 seconds. The result, [-749499.       0.] was found at -4.21030127126e+17\n",
      "CG took 0.00102806091309 seconds. The result, [-749499.       0.] was found at -4.21030127126e+17\n",
      "BFGS took 0.00100708007812 seconds. The result, [-749499.       0.] was found at -4.21030127126e+17\n",
      "L-BFGS-B took 0.00197005271912 seconds. The result, [-749499.       0.] was found at -4.21030127126e+17\n",
      "TNC took 0.00141406059265 seconds. The result, [-749499.       0.] was found at -4.21030127126e+17\n",
      "COBYLA took 0.0109460353851 seconds. The result, [-749499.       0.] was found at -4.21030127126e+17\n",
      "SLSQP took 0.000349998474121 seconds. The result, [-749499.       0.] was found at -4.21030127126e+17\n"
     ]
    },
    {
     "name": "stderr",
     "output_type": "stream",
     "text": [
      "/site/x86/anaconda-1.8/anaconda/lib/python2.7/site-packages/ipykernel/__main__.py:21: RuntimeWarning: overflow encountered in double_scalars\n"
     ]
    }
   ],
   "source": [
    "# initial setup\n",
    "%matplotlib inline\n",
    "\n",
    "import numpy as np\n",
    "import scipy as sp\n",
    "import matplotlib.pyplot as plot\n",
    "\n",
    "from scipy.optimize import minimize\n",
    "\n",
    "import timeit\n",
    "\n",
    "#all methods to minimize\n",
    "methods = ['Nelder-Mead','Powell','CG','BFGS','L-BFGS-B','TNC','COBYLA','SLSQP',]\n",
    "\n",
    "start = np.zeros(0)\n",
    "stop = np.zeros(0)\n",
    "num_iters = np.zeros(0)\n",
    "\n",
    "#runtime code goes here\n",
    "\n",
    "function = lambda x: x[0]**3 + np.sin(x[0]) + np.cos(x[1]) + x[1]**(1/3) + np.exp(x[1])#the function we're testing will go here\n",
    "\n",
    "#testing every minimization method\n",
    "for method in methods:\n",
    "    \n",
    "    start = np.append(start,timeit.default_timer())\n",
    "    \n",
    "    guess = [500,1]\n",
    "    \n",
    "    \" scipy.optimize.OptimizeResult contains the number iterations \"\n",
    "    num_iters = np.append(num_iters,sp.optimize.OptimizeResult.itervalues)\n",
    "    result = minimize(function, x0 = guess, method = method,)\n",
    "    stop = np.append(stop,timeit.default_timer())\n",
    "\n",
    "exec_time = stop-start\n",
    "\n",
    "counter = 0\n",
    "\n",
    "#could print all of the runtimes as they run but it would be better to print them at the end and store runtimes\n",
    "for method in methods:\n",
    "    \n",
    "    print '{0} took {1} seconds. The result, {2} was found at {3}'.format(method,exec_time[counter],result.x,result.fun)\n",
    "    counter = counter + 1"
   ]
  },
  {
   "cell_type": "code",
   "execution_count": 17,
   "metadata": {
    "collapsed": false
   },
   "outputs": [
    {
     "ename": "AttributeError",
     "evalue": "type object 'OptimizeResult' has no attribute 'nit'",
     "output_type": "error",
     "traceback": [
      "\u001b[1;31m---------------------------------------------------------------------------\u001b[0m",
      "\u001b[1;31mAttributeError\u001b[0m                            Traceback (most recent call last)",
      "\u001b[1;32m<ipython-input-17-8144d23a47b0>\u001b[0m in \u001b[0;36m<module>\u001b[1;34m()\u001b[0m\n\u001b[0;32m     29\u001b[0m \u001b[1;33m\u001b[0m\u001b[0m\n\u001b[0;32m     30\u001b[0m     \u001b[1;34m\" scipy.optimize.OptimizeResult contains the number iterations \"\u001b[0m\u001b[1;33m\u001b[0m\u001b[0m\n\u001b[1;32m---> 31\u001b[1;33m     \u001b[0mnum_iters\u001b[0m \u001b[1;33m=\u001b[0m \u001b[0mnp\u001b[0m\u001b[1;33m.\u001b[0m\u001b[0mappend\u001b[0m\u001b[1;33m(\u001b[0m\u001b[0mnum_iters\u001b[0m\u001b[1;33m,\u001b[0m\u001b[0msp\u001b[0m\u001b[1;33m.\u001b[0m\u001b[0moptimize\u001b[0m\u001b[1;33m.\u001b[0m\u001b[0mOptimizeResult\u001b[0m\u001b[1;33m.\u001b[0m\u001b[0mnit\u001b[0m\u001b[1;33m)\u001b[0m\u001b[1;33m\u001b[0m\u001b[0m\n\u001b[0m\u001b[0;32m     32\u001b[0m     \u001b[0mresult\u001b[0m \u001b[1;33m=\u001b[0m \u001b[0mminimize\u001b[0m\u001b[1;33m(\u001b[0m\u001b[0mfunction\u001b[0m\u001b[1;33m,\u001b[0m \u001b[0mx0\u001b[0m \u001b[1;33m=\u001b[0m \u001b[0mguess\u001b[0m\u001b[1;33m,\u001b[0m \u001b[0mmethod\u001b[0m \u001b[1;33m=\u001b[0m \u001b[0mmethod\u001b[0m\u001b[1;33m,\u001b[0m\u001b[1;33m)\u001b[0m\u001b[1;33m\u001b[0m\u001b[0m\n\u001b[0;32m     33\u001b[0m     \u001b[0mstop\u001b[0m \u001b[1;33m=\u001b[0m \u001b[0mnp\u001b[0m\u001b[1;33m.\u001b[0m\u001b[0mappend\u001b[0m\u001b[1;33m(\u001b[0m\u001b[0mstop\u001b[0m\u001b[1;33m,\u001b[0m\u001b[0mtimeit\u001b[0m\u001b[1;33m.\u001b[0m\u001b[0mdefault_timer\u001b[0m\u001b[1;33m(\u001b[0m\u001b[1;33m)\u001b[0m\u001b[1;33m)\u001b[0m\u001b[1;33m\u001b[0m\u001b[0m\n",
      "\u001b[1;31mAttributeError\u001b[0m: type object 'OptimizeResult' has no attribute 'nit'"
     ]
    }
   ],
   "source": [
    "# initial setup\n",
    "%matplotlib inline\n",
    "\n",
    "import numpy as np\n",
    "import scipy as sp\n",
    "import matplotlib.pyplot as plot\n",
    "\n",
    "from scipy.optimize import minimize\n",
    "\n",
    "import timeit\n",
    "\n",
    "#all methods to minimize\n",
    "methods = ['Nelder-Mead','Powell','CG','BFGS','L-BFGS-B','TNC','COBYLA','SLSQP',]\n",
    "\n",
    "start = np.zeros(0)\n",
    "stop = np.zeros(0)\n",
    "num_iters = np.zeros(0)\n",
    "\n",
    "#runtime code goes here\n",
    "\n",
    "function = lambda x: x[0]**3 + np.sin(x[0]) + np.cos(x[1]) + x[1]**(1/3) + np.exp(x[1])#the function we're testing will go here\n",
    "\n",
    "#testing every minimization method\n",
    "for method in methods:\n",
    "    \n",
    "    start = np.append(start,timeit.default_timer())\n",
    "    \n",
    "    guess = [500,1]\n",
    "    \n",
    "    \" scipy.optimize.OptimizeResult contains the number iterations \"\n",
    "    num_iters = np.append(num_iters,sp.optimize.OptimizeResult.nit)\n",
    "    result = minimize(function, x0 = guess, method = method,)\n",
    "    stop = np.append(stop,timeit.default_timer())\n",
    "\n",
    "exec_time = stop-start\n",
    "\n",
    "counter = 0\n",
    "\n",
    "#could print all of the runtimes as they run but it would be better to print them at the end and store runtimes\n",
    "for method in methods:\n",
    "    \n",
    "    print '{0} took {1} seconds. The result, {2} was found at {3} and took {4} iterations'.format(method,exec_time[counter],result.x,result.fun,num_iters[counter])\n",
    "    counter = counter + 1"
   ]
  },
  {
   "cell_type": "code",
   "execution_count": 30,
   "metadata": {
    "collapsed": false
   },
   "outputs": [
    {
     "ename": "IndexError",
     "evalue": "index 0 is out of bounds for axis 0 with size 0",
     "output_type": "error",
     "traceback": [
      "\u001b[1;31m---------------------------------------------------------------------------\u001b[0m",
      "\u001b[1;31mIndexError\u001b[0m                                Traceback (most recent call last)",
      "\u001b[1;32m<ipython-input-30-547458fdc102>\u001b[0m in \u001b[0;36m<module>\u001b[1;34m()\u001b[0m\n\u001b[0;32m     46\u001b[0m \u001b[1;32mfor\u001b[0m \u001b[0mmethod\u001b[0m \u001b[1;32min\u001b[0m \u001b[0mmethods\u001b[0m\u001b[1;33m:\u001b[0m\u001b[1;33m\u001b[0m\u001b[0m\n\u001b[0;32m     47\u001b[0m \u001b[1;33m\u001b[0m\u001b[0m\n\u001b[1;32m---> 48\u001b[1;33m     \u001b[1;32mprint\u001b[0m \u001b[1;34m'{0} took {1} seconds. The result, {2} was found at {3} and took {4} iterations'\u001b[0m\u001b[1;33m.\u001b[0m\u001b[0mformat\u001b[0m\u001b[1;33m(\u001b[0m\u001b[0mmethod\u001b[0m\u001b[1;33m,\u001b[0m\u001b[0mexec_time\u001b[0m\u001b[1;33m[\u001b[0m\u001b[0mcounter\u001b[0m\u001b[1;33m]\u001b[0m\u001b[1;33m,\u001b[0m\u001b[0mresult\u001b[0m\u001b[1;33m.\u001b[0m\u001b[0mx\u001b[0m\u001b[1;33m,\u001b[0m\u001b[0mresult\u001b[0m\u001b[1;33m.\u001b[0m\u001b[0mfun\u001b[0m\u001b[1;33m,\u001b[0m\u001b[0mnum_iters\u001b[0m\u001b[1;33m[\u001b[0m\u001b[0mcounter\u001b[0m\u001b[1;33m]\u001b[0m\u001b[1;33m)\u001b[0m\u001b[1;33m\u001b[0m\u001b[0m\n\u001b[0m\u001b[0;32m     49\u001b[0m     \u001b[0mcounter\u001b[0m \u001b[1;33m=\u001b[0m \u001b[0mcounter\u001b[0m \u001b[1;33m+\u001b[0m \u001b[1;36m1\u001b[0m\u001b[1;33m\u001b[0m\u001b[0m\n",
      "\u001b[1;31mIndexError\u001b[0m: index 0 is out of bounds for axis 0 with size 0"
     ]
    }
   ],
   "source": [
    "%matplotlib inline\n",
    "\n",
    "import numpy as np\n",
    "import scipy as sp\n",
    "import matplotlib.pyplot as plot\n",
    "\n",
    "from scipy.optimize import minimize\n",
    "\n",
    "import timeit\n",
    "from memory_profiler import memory_usage\n",
    "\n",
    "#all methods to minimize\n",
    "methods = ['Nelder-Mead']\n",
    "\n",
    "start = np.zeros(0)\n",
    "stop = np.zeros(0)\n",
    "num_iters = np.zeros(0)\n",
    "\n",
    "most_mem = np.zeros(0)\n",
    "\n",
    "#runtime code goes here\n",
    "\n",
    "function = lambda x: x[0]**3 + np.sin(x[0]) + np.cos(x[1]) + x[1]**(1/3) + np.exp(x[1])#the function we're testing will go here\n",
    "\n",
    "#testing every minimization method\n",
    "for method in methods:\n",
    "    \n",
    "    mem_use = memory_usage(-1,interval=0.1)\n",
    "    start = np.append(start,timeit.default_timer())\n",
    "    \n",
    "    guess = [500,1]\n",
    "    \n",
    "    # Possibly was finding the iterations in the wrong order\n",
    "    result = minimize(function, x0 = guess, method = method,)\n",
    "    #num_iters = np.append(num_iters,sp.optimize.OptimizeResult.x)\n",
    "    stop = np.append(stop,timeit.default_timer())\n",
    "    \n",
    "    # tracks amount of memory used\n",
    "    most_mem = np.append(most_mem,max(mem_use)) \n",
    "\n",
    "exec_time = stop-start\n",
    "\n",
    "counter = 0\n",
    "\n",
    "#could print all of the runtimes as they run but it would be better to print them at the end and store runtimes\n",
    "for method in methods:\n",
    "    \n",
    "    print '{0} took {1} seconds. The result, {2} was found at {3} and took {4} iterations'.format(method,exec_time[counter],result.x,result.fun,num_iters[counter])\n",
    "    counter = counter + 1"
   ]
  },
  {
   "cell_type": "markdown",
   "metadata": {},
   "source": [
    "### Practice using memory_profiler"
   ]
  },
  {
   "cell_type": "code",
   "execution_count": 31,
   "metadata": {
    "collapsed": false
   },
   "outputs": [
    {
     "name": "stdout",
     "output_type": "stream",
     "text": [
      "john\n",
      "[74.67578125]\n"
     ]
    }
   ],
   "source": [
    "from memory_profiler import memory_usage\n",
    "\n",
    "def apple():\n",
    "    return \"john\"\n",
    "\n",
    "#-1 first param means current process\n",
    "mem_usage = memory_usage(-1, interval = .000001)\n",
    "print apple()\n",
    "print mem_usage\n",
    "    \n",
    "    "
   ]
  },
  {
   "cell_type": "markdown",
   "metadata": {},
   "source": [
    "### Momentarily ignoring iterations"
   ]
  },
  {
   "cell_type": "code",
   "execution_count": 42,
   "metadata": {
    "collapsed": false
   },
   "outputs": [
    {
     "name": "stdout",
     "output_type": "stream",
     "text": [
      "<class 'scipy.optimize.optimize.OptimizeResult'>\n",
      "<class 'scipy.optimize.optimize.OptimizeResult'>\n",
      "<class 'scipy.optimize.optimize.OptimizeResult'>\n",
      "<class 'scipy.optimize.optimize.OptimizeResult'>\n",
      "<class 'scipy.optimize.optimize.OptimizeResult'>\n",
      "<class 'scipy.optimize.optimize.OptimizeResult'>\n",
      "<class 'scipy.optimize.optimize.OptimizeResult'>\n",
      "<class 'scipy.optimize.optimize.OptimizeResult'>\n",
      "Nelder-Mead took 0.0201230049133 seconds. The result, [-749499.       0.] was found at -4.21030127126e+17\n",
      "Nelder-Mead used 75.0 megabytes\n",
      "\n",
      "Powell took 0.0199398994446 seconds. The result, [-749499.       0.] was found at -4.21030127126e+17\n",
      "Powell used 75.0 megabytes\n",
      "\n",
      "CG took 0.0042290687561 seconds. The result, [-749499.       0.] was found at -4.21030127126e+17\n",
      "CG used 75.0 megabytes\n",
      "\n",
      "BFGS took 0.00317192077637 seconds. The result, [-749499.       0.] was found at -4.21030127126e+17\n",
      "BFGS used 75.0 megabytes\n",
      "\n",
      "L-BFGS-B took 0.00667285919189 seconds. The result, [-749499.       0.] was found at -4.21030127126e+17\n",
      "L-BFGS-B used 75.0 megabytes\n",
      "\n",
      "TNC took 0.0020489692688 seconds. The result, [-749499.       0.] was found at -4.21030127126e+17\n",
      "TNC used 75.0 megabytes\n",
      "\n",
      "COBYLA took 0.0151929855347 seconds. The result, [-749499.       0.] was found at -4.21030127126e+17\n",
      "COBYLA used 75.0 megabytes\n",
      "\n",
      "SLSQP took 0.00119805335999 seconds. The result, [-749499.       0.] was found at -4.21030127126e+17\n",
      "SLSQP used 75.0 megabytes\n",
      "\n"
     ]
    },
    {
     "name": "stderr",
     "output_type": "stream",
     "text": [
      "/site/x86/anaconda-1.8/anaconda/lib/python2.7/site-packages/ipykernel/__main__.py:23: RuntimeWarning: overflow encountered in double_scalars\n"
     ]
    }
   ],
   "source": [
    "%matplotlib inline\n",
    "\n",
    "import numpy as np\n",
    "import scipy as sp\n",
    "import matplotlib.pyplot as plot\n",
    "\n",
    "from scipy.optimize import minimize\n",
    "\n",
    "import timeit\n",
    "from memory_profiler import memory_usage\n",
    "\n",
    "#all methods to minimize\n",
    "methods = ['Nelder-Mead','Powell','CG','BFGS','L-BFGS-B','TNC','COBYLA','SLSQP',]\n",
    "\n",
    "start = np.zeros(0)\n",
    "stop = np.zeros(0)\n",
    "#num_iters = np.zeros(0)\n",
    "\n",
    "most_mem = np.zeros(0)\n",
    "\n",
    "#runtime code goes here\n",
    "\n",
    "function = lambda x: x[0]**3 + np.sin(x[0]) + np.cos(x[1]) + x[1]**(1/3) + np.exp(x[1])#the function we're testing will go here\n",
    "\n",
    "#testing every minimization method\n",
    "for method in methods:\n",
    "    \n",
    "    mem_use = memory_usage(-1,interval=0.1)\n",
    "    start = np.append(start,timeit.default_timer())\n",
    "    \n",
    "    guess = [500,1]\n",
    "    \n",
    "    # Possibly was finding the iterations in the wrong order\n",
    "    result = minimize(function, x0 = guess, method = method,tol=1e-6)\n",
    "    \n",
    "    #num_iters = np.append(num_iters,result.nit)\n",
    "    stop = np.append(stop,timeit.default_timer())\n",
    "    \n",
    "    # tracks amount of memory used\n",
    "    most_mem = np.append(most_mem,max(mem_use)) \n",
    "\n",
    "exec_time = stop-start\n",
    "\n",
    "counter = 0\n",
    "\n",
    "#could print all of the runtimes as they run but it would be better to print them at the end and store runtimes\n",
    "for method in methods:\n",
    "    \n",
    "    print '{0} took {1} seconds. The result, {2} was found at {3}'.format(method,exec_time[counter],result.x,result.fun,)\n",
    "    print '{0} used {1} megabytes'.format(method,most_mem[counter])\n",
    "    print\n",
    "    \n",
    "    counter = counter + 1"
   ]
  },
  {
   "cell_type": "markdown",
   "metadata": {},
   "source": [
    "### Considering number of iterations now"
   ]
  },
  {
   "cell_type": "code",
   "execution_count": 47,
   "metadata": {
    "collapsed": false
   },
   "outputs": [
    {
     "name": "stdout",
     "output_type": "stream",
     "text": [
      "Nelder-Mead took 0.0172619819641 seconds. The result, [-749499.       0.] was found at -4.21030127126e+17\n",
      "Nelder-Mead used 75.0859375 megabytes and took 203.0 iterations\n",
      "\n",
      "Powell took 0.0176990032196 seconds. The result, [-749499.       0.] was found at -4.21030127126e+17\n",
      "Powell used 75.0859375 megabytes and took 1.0 iterations\n",
      "\n",
      "CG took 0.00308299064636 seconds. The result, [-749499.       0.] was found at -4.21030127126e+17\n",
      "CG used 75.0859375 megabytes and took 1.0 iterations\n",
      "\n",
      "BFGS took 0.00304198265076 seconds. The result, [-749499.       0.] was found at -4.21030127126e+17\n",
      "BFGS used 75.0859375 megabytes and took 1.0 iterations\n",
      "\n",
      "L-BFGS-B took 0.00541996955872 seconds. The result, [-749499.       0.] was found at -4.21030127126e+17\n",
      "L-BFGS-B used 75.0859375 megabytes and took 16.0 iterations\n",
      "\n",
      "TNC took 0.00156807899475 seconds. The result, [-749499.       0.] was found at -4.21030127126e+17\n",
      "TNC used 75.0859375 megabytes and took 6.0 iterations\n",
      "\n",
      "COBYLA took 0.0191829204559 seconds. The result, [-749499.       0.] was found at -4.21030127126e+17\n",
      "COBYLA used 75.0859375 megabytes and took -1.0 iterations\n",
      "\n",
      "SLSQP took 0.00107502937317 seconds. The result, [-749499.       0.] was found at -4.21030127126e+17\n",
      "SLSQP used 75.0859375 megabytes and took 2.0 iterations\n",
      "\n"
     ]
    },
    {
     "name": "stderr",
     "output_type": "stream",
     "text": [
      "/site/x86/anaconda-1.8/anaconda/lib/python2.7/site-packages/ipykernel/__main__.py:23: RuntimeWarning: overflow encountered in double_scalars\n"
     ]
    }
   ],
   "source": [
    "%matplotlib inline\n",
    "\n",
    "import numpy as np\n",
    "import scipy as sp\n",
    "import matplotlib.pyplot as plot\n",
    "\n",
    "from scipy.optimize import minimize\n",
    "\n",
    "import timeit\n",
    "from memory_profiler import memory_usage\n",
    "\n",
    "#all methods to minimize\n",
    "methods = ['Nelder-Mead','Powell','CG','BFGS','L-BFGS-B','TNC','COBYLA','SLSQP',]\n",
    "\n",
    "start = np.zeros(0)\n",
    "stop = np.zeros(0)\n",
    "num_iters = np.zeros(0)\n",
    "\n",
    "most_mem = np.zeros(0)\n",
    "\n",
    "#runtime code goes here\n",
    "\n",
    "function = lambda x: x[0]**3 + np.sin(x[0]) + np.cos(x[1]) + x[1]**(1/3) + np.exp(x[1])#the function we're testing\n",
    "\n",
    "#testing every minimization method\n",
    "for method in methods:\n",
    "    \n",
    "    mem_use = memory_usage(-1,interval=0.1)\n",
    "    start = np.append(start,timeit.default_timer())\n",
    "    \n",
    "    guess = [500,1] # guess for correct minimum\n",
    "    \n",
    "    # Possibly was finding the iterations in the wrong order\n",
    "    result = minimize(function, x0 = guess, method = method,tol=1e-6)\n",
    "    \n",
    "    keys = result.keys() # contains all traits of result\n",
    "    iterations = -1\n",
    "    \n",
    "    if 'nit' in keys:    \n",
    "        iterations = result.get('nit')\n",
    "        \n",
    "    num_iters = np.append(num_iters,iterations)\n",
    "    stop = np.append(stop,timeit.default_timer())\n",
    "    \n",
    "    # tracks amount of memory used\n",
    "    most_mem = np.append(most_mem,max(mem_use)) \n",
    "\n",
    "exec_time = stop-start\n",
    "\n",
    "counter = 0\n",
    "\n",
    "# If an algorithm took (-1) iterations, the number of iterations was not returned\n",
    "for method in methods:\n",
    "    \n",
    "    print '{0} took {1} seconds. The result, {2} was found at {3}'.format(method,exec_time[counter],result.x,result.fun,)\n",
    "    print '{0} used {1} megabytes and took {2} iterations'.format(method,most_mem[counter],num_iters[counter])\n",
    "    print\n",
    "    \n",
    "    counter = counter + 1"
   ]
  },
  {
   "cell_type": "code",
   "execution_count": null,
   "metadata": {
    "collapsed": true
   },
   "outputs": [],
   "source": []
  }
 ],
 "metadata": {
  "kernelspec": {
   "display_name": "Python 2",
   "language": "python",
   "name": "python2"
  },
  "language_info": {
   "codemirror_mode": {
    "name": "ipython",
    "version": 2
   },
   "file_extension": ".py",
   "mimetype": "text/x-python",
   "name": "python",
   "nbconvert_exporter": "python",
   "pygments_lexer": "ipython2",
   "version": "2.7.11"
  }
 },
 "nbformat": 4,
 "nbformat_minor": 0
}
