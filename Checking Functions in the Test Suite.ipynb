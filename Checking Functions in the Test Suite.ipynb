{
 "cells": [
  {
   "cell_type": "code",
   "execution_count": 6,
   "metadata": {
    "collapsed": false
   },
   "outputs": [
    {
     "name": "stderr",
     "output_type": "stream",
     "text": [
      "/site/x86/anaconda-1.8/anaconda/lib/python2.7/site-packages/ipykernel/__main__.py:21: RuntimeWarning: overflow encountered in double_scalars\n"
     ]
    },
    {
     "ename": "ValueError",
     "evalue": "Jacobian is required for dogleg minimization",
     "output_type": "error",
     "traceback": [
      "\u001b[1;31m---------------------------------------------------------------------------\u001b[0m",
      "\u001b[1;31mValueError\u001b[0m                                Traceback (most recent call last)",
      "\u001b[1;32m<ipython-input-6-1f6c87c7de35>\u001b[0m in \u001b[0;36m<module>\u001b[1;34m()\u001b[0m\n\u001b[0;32m     29\u001b[0m \u001b[1;33m\u001b[0m\u001b[0m\n\u001b[0;32m     30\u001b[0m     \u001b[1;34m\" scipy.optimize.OptimizeResult contains the number iterations \"\u001b[0m\u001b[1;33m\u001b[0m\u001b[0m\n\u001b[1;32m---> 31\u001b[1;33m     \u001b[0mresult\u001b[0m \u001b[1;33m=\u001b[0m \u001b[0mminimize\u001b[0m\u001b[1;33m(\u001b[0m\u001b[0mfunction\u001b[0m\u001b[1;33m,\u001b[0m \u001b[0mx0\u001b[0m \u001b[1;33m=\u001b[0m \u001b[0mguess\u001b[0m\u001b[1;33m,\u001b[0m \u001b[0mmethod\u001b[0m \u001b[1;33m=\u001b[0m \u001b[0mmethod\u001b[0m\u001b[1;33m,\u001b[0m\u001b[1;33m)\u001b[0m\u001b[1;33m\u001b[0m\u001b[0m\n\u001b[0m\u001b[0;32m     32\u001b[0m \u001b[1;33m\u001b[0m\u001b[0m\n\u001b[0;32m     33\u001b[0m \u001b[1;33m\u001b[0m\u001b[0m\n",
      "\u001b[1;32m/site/x86/anaconda-1.8/anaconda/lib/python2.7/site-packages/scipy/optimize/_minimize.pyc\u001b[0m in \u001b[0;36mminimize\u001b[1;34m(fun, x0, args, method, jac, hess, hessp, bounds, constraints, tol, callback, options)\u001b[0m\n\u001b[0;32m    453\u001b[0m     \u001b[1;32melif\u001b[0m \u001b[0mmeth\u001b[0m \u001b[1;33m==\u001b[0m \u001b[1;34m'dogleg'\u001b[0m\u001b[1;33m:\u001b[0m\u001b[1;33m\u001b[0m\u001b[0m\n\u001b[0;32m    454\u001b[0m         return _minimize_dogleg(fun, x0, args, jac, hess,\n\u001b[1;32m--> 455\u001b[1;33m                                 callback=callback, **options)\n\u001b[0m\u001b[0;32m    456\u001b[0m     \u001b[1;32melif\u001b[0m \u001b[0mmeth\u001b[0m \u001b[1;33m==\u001b[0m \u001b[1;34m'trust-ncg'\u001b[0m\u001b[1;33m:\u001b[0m\u001b[1;33m\u001b[0m\u001b[0m\n\u001b[0;32m    457\u001b[0m         return _minimize_trust_ncg(fun, x0, args, jac, hess, hessp,\n",
      "\u001b[1;32m/site/x86/anaconda-1.8/anaconda/lib/python2.7/site-packages/scipy/optimize/_trustregion_dogleg.pyc\u001b[0m in \u001b[0;36m_minimize_dogleg\u001b[1;34m(fun, x0, args, jac, hess, **trust_region_options)\u001b[0m\n\u001b[0;32m     30\u001b[0m     \"\"\"\n\u001b[0;32m     31\u001b[0m     \u001b[1;32mif\u001b[0m \u001b[0mjac\u001b[0m \u001b[1;32mis\u001b[0m \u001b[0mNone\u001b[0m\u001b[1;33m:\u001b[0m\u001b[1;33m\u001b[0m\u001b[0m\n\u001b[1;32m---> 32\u001b[1;33m         \u001b[1;32mraise\u001b[0m \u001b[0mValueError\u001b[0m\u001b[1;33m(\u001b[0m\u001b[1;34m'Jacobian is required for dogleg minimization'\u001b[0m\u001b[1;33m)\u001b[0m\u001b[1;33m\u001b[0m\u001b[0m\n\u001b[0m\u001b[0;32m     33\u001b[0m     \u001b[1;32mif\u001b[0m \u001b[0mhess\u001b[0m \u001b[1;32mis\u001b[0m \u001b[0mNone\u001b[0m\u001b[1;33m:\u001b[0m\u001b[1;33m\u001b[0m\u001b[0m\n\u001b[0;32m     34\u001b[0m         \u001b[1;32mraise\u001b[0m \u001b[0mValueError\u001b[0m\u001b[1;33m(\u001b[0m\u001b[1;34m'Hessian is required for dogleg minimization'\u001b[0m\u001b[1;33m)\u001b[0m\u001b[1;33m\u001b[0m\u001b[0m\n",
      "\u001b[1;31mValueError\u001b[0m: Jacobian is required for dogleg minimization"
     ]
    }
   ],
   "source": [
    "# initial setup\n",
    "%matplotlib inline\n",
    "\n",
    "import numpy as np\n",
    "import scipy as sp\n",
    "import matplotlib.pyplot as plot\n",
    "\n",
    "from scipy.optimize import minimize\n",
    "\n",
    "import timeit\n",
    "\n",
    "#all methods to minimize\n",
    "methods = ['Nelder-Mead','Powell','CG','BFGS','Newton-CG','L-BFGS-B','TNC','COBYLA','SLSQP','dogleg','trust-ncg']\n",
    "\n",
    "start = np.zeros(0)\n",
    "stop = np.zeros(0)\n",
    "num_iters = np.zeros(0)\n",
    "\n",
    "#runtime code goes here\n",
    "\n",
    "function = lambda x: x[0]**3 + np.sin(x[0]) + np.cos(x[1]) + x[1]**(1/3) + np.exp(x[1])#the function we're testing will go here\n",
    "\n",
    "#testing every minimization method\n",
    "for method in methods:\n",
    "    \n",
    "    start = np.append(start,timeit.default_timer())\n",
    "    \n",
    "    guess = [500,1]\n",
    "    \n",
    "    \" scipy.optimize.OptimizeResult contains the number iterations \"\n",
    "    result = minimize(function, x0 = guess, method = method,)\n",
    "    \n",
    "    \n",
    "    stop = np.append(stop,timeit.default_timer())\n",
    "    \n",
    "\n",
    "\n",
    "exec_time = stop-start\n",
    "\n",
    "counter = 0\n",
    "\n",
    "#could print all of the runtimes as they run but it would be better to print them at the end and store runtimes\n",
    "for method in methods:\n",
    "    \n",
    "    print '{0} took {1} seconds to minimize this function. The result, {2} was found at {3}'.format(method,exec_time[counter],result.x,result.fun)\n",
    "    counter = counter + 1"
   ]
  },
  {
   "cell_type": "code",
   "execution_count": 3,
   "metadata": {
    "collapsed": false
   },
   "outputs": [
    {
     "data": {
      "text/plain": [
       "2.7182818284590451"
      ]
     },
     "execution_count": 3,
     "metadata": {},
     "output_type": "execute_result"
    }
   ],
   "source": [
    "np.exp(1)"
   ]
  },
  {
   "cell_type": "markdown",
   "metadata": {},
   "source": [
    "### Took out all methods where Jacobian is required, for now (Newton-CG and the last two)"
   ]
  },
  {
   "cell_type": "code",
   "execution_count": 13,
   "metadata": {
    "collapsed": false
   },
   "outputs": [
    {
     "name": "stdout",
     "output_type": "stream",
     "text": [
      "Nelder-Mead took 0.0181648731232 seconds. The result, [-749499.       0.] was found at -4.21030127126e+17\n",
      "Powell took 0.01198387146 seconds. The result, [-749499.       0.] was found at -4.21030127126e+17\n",
      "CG took 0.00102806091309 seconds. The result, [-749499.       0.] was found at -4.21030127126e+17\n",
      "BFGS took 0.00100708007812 seconds. The result, [-749499.       0.] was found at -4.21030127126e+17\n",
      "L-BFGS-B took 0.00197005271912 seconds. The result, [-749499.       0.] was found at -4.21030127126e+17\n",
      "TNC took 0.00141406059265 seconds. The result, [-749499.       0.] was found at -4.21030127126e+17\n",
      "COBYLA took 0.0109460353851 seconds. The result, [-749499.       0.] was found at -4.21030127126e+17\n",
      "SLSQP took 0.000349998474121 seconds. The result, [-749499.       0.] was found at -4.21030127126e+17\n"
     ]
    },
    {
     "name": "stderr",
     "output_type": "stream",
     "text": [
      "/site/x86/anaconda-1.8/anaconda/lib/python2.7/site-packages/ipykernel/__main__.py:21: RuntimeWarning: overflow encountered in double_scalars\n"
     ]
    }
   ],
   "source": [
    "# initial setup\n",
    "%matplotlib inline\n",
    "\n",
    "import numpy as np\n",
    "import scipy as sp\n",
    "import matplotlib.pyplot as plot\n",
    "\n",
    "from scipy.optimize import minimize\n",
    "\n",
    "import timeit\n",
    "\n",
    "#all methods to minimize\n",
    "methods = ['Nelder-Mead','Powell','CG','BFGS','L-BFGS-B','TNC','COBYLA','SLSQP',]\n",
    "\n",
    "start = np.zeros(0)\n",
    "stop = np.zeros(0)\n",
    "num_iters = np.zeros(0)\n",
    "\n",
    "#runtime code goes here\n",
    "\n",
    "function = lambda x: x[0]**3 + np.sin(x[0]) + np.cos(x[1]) + x[1]**(1/3) + np.exp(x[1])#the function we're testing will go here\n",
    "\n",
    "#testing every minimization method\n",
    "for method in methods:\n",
    "    \n",
    "    start = np.append(start,timeit.default_timer())\n",
    "    \n",
    "    guess = [500,1]\n",
    "    \n",
    "    \" scipy.optimize.OptimizeResult contains the number iterations \"\n",
    "    num_iters = np.append(num_iters,sp.optimize.OptimizeResult.itervalues)\n",
    "    result = minimize(function, x0 = guess, method = method,)\n",
    "    stop = np.append(stop,timeit.default_timer())\n",
    "\n",
    "exec_time = stop-start\n",
    "\n",
    "counter = 0\n",
    "\n",
    "#could print all of the runtimes as they run but it would be better to print them at the end and store runtimes\n",
    "for method in methods:\n",
    "    \n",
    "    print '{0} took {1} seconds. The result, {2} was found at {3}'.format(method,exec_time[counter],result.x,result.fun)\n",
    "    counter = counter + 1"
   ]
  },
  {
   "cell_type": "code",
   "execution_count": 17,
   "metadata": {
    "collapsed": false
   },
   "outputs": [
    {
     "ename": "AttributeError",
     "evalue": "type object 'OptimizeResult' has no attribute 'nit'",
     "output_type": "error",
     "traceback": [
      "\u001b[1;31m---------------------------------------------------------------------------\u001b[0m",
      "\u001b[1;31mAttributeError\u001b[0m                            Traceback (most recent call last)",
      "\u001b[1;32m<ipython-input-17-8144d23a47b0>\u001b[0m in \u001b[0;36m<module>\u001b[1;34m()\u001b[0m\n\u001b[0;32m     29\u001b[0m \u001b[1;33m\u001b[0m\u001b[0m\n\u001b[0;32m     30\u001b[0m     \u001b[1;34m\" scipy.optimize.OptimizeResult contains the number iterations \"\u001b[0m\u001b[1;33m\u001b[0m\u001b[0m\n\u001b[1;32m---> 31\u001b[1;33m     \u001b[0mnum_iters\u001b[0m \u001b[1;33m=\u001b[0m \u001b[0mnp\u001b[0m\u001b[1;33m.\u001b[0m\u001b[0mappend\u001b[0m\u001b[1;33m(\u001b[0m\u001b[0mnum_iters\u001b[0m\u001b[1;33m,\u001b[0m\u001b[0msp\u001b[0m\u001b[1;33m.\u001b[0m\u001b[0moptimize\u001b[0m\u001b[1;33m.\u001b[0m\u001b[0mOptimizeResult\u001b[0m\u001b[1;33m.\u001b[0m\u001b[0mnit\u001b[0m\u001b[1;33m)\u001b[0m\u001b[1;33m\u001b[0m\u001b[0m\n\u001b[0m\u001b[0;32m     32\u001b[0m     \u001b[0mresult\u001b[0m \u001b[1;33m=\u001b[0m \u001b[0mminimize\u001b[0m\u001b[1;33m(\u001b[0m\u001b[0mfunction\u001b[0m\u001b[1;33m,\u001b[0m \u001b[0mx0\u001b[0m \u001b[1;33m=\u001b[0m \u001b[0mguess\u001b[0m\u001b[1;33m,\u001b[0m \u001b[0mmethod\u001b[0m \u001b[1;33m=\u001b[0m \u001b[0mmethod\u001b[0m\u001b[1;33m,\u001b[0m\u001b[1;33m)\u001b[0m\u001b[1;33m\u001b[0m\u001b[0m\n\u001b[0;32m     33\u001b[0m     \u001b[0mstop\u001b[0m \u001b[1;33m=\u001b[0m \u001b[0mnp\u001b[0m\u001b[1;33m.\u001b[0m\u001b[0mappend\u001b[0m\u001b[1;33m(\u001b[0m\u001b[0mstop\u001b[0m\u001b[1;33m,\u001b[0m\u001b[0mtimeit\u001b[0m\u001b[1;33m.\u001b[0m\u001b[0mdefault_timer\u001b[0m\u001b[1;33m(\u001b[0m\u001b[1;33m)\u001b[0m\u001b[1;33m)\u001b[0m\u001b[1;33m\u001b[0m\u001b[0m\n",
      "\u001b[1;31mAttributeError\u001b[0m: type object 'OptimizeResult' has no attribute 'nit'"
     ]
    }
   ],
   "source": [
    "# initial setup\n",
    "%matplotlib inline\n",
    "\n",
    "import numpy as np\n",
    "import scipy as sp\n",
    "import matplotlib.pyplot as plot\n",
    "\n",
    "from scipy.optimize import minimize\n",
    "\n",
    "import timeit\n",
    "\n",
    "#all methods to minimize\n",
    "methods = ['Nelder-Mead','Powell','CG','BFGS','L-BFGS-B','TNC','COBYLA','SLSQP',]\n",
    "\n",
    "start = np.zeros(0)\n",
    "stop = np.zeros(0)\n",
    "num_iters = np.zeros(0)\n",
    "\n",
    "#runtime code goes here\n",
    "\n",
    "function = lambda x: x[0]**3 + np.sin(x[0]) + np.cos(x[1]) + x[1]**(1/3) + np.exp(x[1])#the function we're testing will go here\n",
    "\n",
    "#testing every minimization method\n",
    "for method in methods:\n",
    "    \n",
    "    start = np.append(start,timeit.default_timer())\n",
    "    \n",
    "    guess = [500,1]\n",
    "    \n",
    "    \" scipy.optimize.OptimizeResult contains the number iterations \"\n",
    "    num_iters = np.append(num_iters,sp.optimize.OptimizeResult.nit)\n",
    "    result = minimize(function, x0 = guess, method = method,)\n",
    "    stop = np.append(stop,timeit.default_timer())\n",
    "\n",
    "exec_time = stop-start\n",
    "\n",
    "counter = 0\n",
    "\n",
    "#could print all of the runtimes as they run but it would be better to print them at the end and store runtimes\n",
    "for method in methods:\n",
    "    \n",
    "    print '{0} took {1} seconds. The result, {2} was found at {3} and took {4} iterations'.format(method,exec_time[counter],result.x,result.fun,num_iters[counter])\n",
    "    counter = counter + 1"
   ]
  },
  {
   "cell_type": "code",
   "execution_count": 30,
   "metadata": {
    "collapsed": false
   },
   "outputs": [
    {
     "ename": "IndexError",
     "evalue": "index 0 is out of bounds for axis 0 with size 0",
     "output_type": "error",
     "traceback": [
      "\u001b[1;31m---------------------------------------------------------------------------\u001b[0m",
      "\u001b[1;31mIndexError\u001b[0m                                Traceback (most recent call last)",
      "\u001b[1;32m<ipython-input-30-547458fdc102>\u001b[0m in \u001b[0;36m<module>\u001b[1;34m()\u001b[0m\n\u001b[0;32m     46\u001b[0m \u001b[1;32mfor\u001b[0m \u001b[0mmethod\u001b[0m \u001b[1;32min\u001b[0m \u001b[0mmethods\u001b[0m\u001b[1;33m:\u001b[0m\u001b[1;33m\u001b[0m\u001b[0m\n\u001b[0;32m     47\u001b[0m \u001b[1;33m\u001b[0m\u001b[0m\n\u001b[1;32m---> 48\u001b[1;33m     \u001b[1;32mprint\u001b[0m \u001b[1;34m'{0} took {1} seconds. The result, {2} was found at {3} and took {4} iterations'\u001b[0m\u001b[1;33m.\u001b[0m\u001b[0mformat\u001b[0m\u001b[1;33m(\u001b[0m\u001b[0mmethod\u001b[0m\u001b[1;33m,\u001b[0m\u001b[0mexec_time\u001b[0m\u001b[1;33m[\u001b[0m\u001b[0mcounter\u001b[0m\u001b[1;33m]\u001b[0m\u001b[1;33m,\u001b[0m\u001b[0mresult\u001b[0m\u001b[1;33m.\u001b[0m\u001b[0mx\u001b[0m\u001b[1;33m,\u001b[0m\u001b[0mresult\u001b[0m\u001b[1;33m.\u001b[0m\u001b[0mfun\u001b[0m\u001b[1;33m,\u001b[0m\u001b[0mnum_iters\u001b[0m\u001b[1;33m[\u001b[0m\u001b[0mcounter\u001b[0m\u001b[1;33m]\u001b[0m\u001b[1;33m)\u001b[0m\u001b[1;33m\u001b[0m\u001b[0m\n\u001b[0m\u001b[0;32m     49\u001b[0m     \u001b[0mcounter\u001b[0m \u001b[1;33m=\u001b[0m \u001b[0mcounter\u001b[0m \u001b[1;33m+\u001b[0m \u001b[1;36m1\u001b[0m\u001b[1;33m\u001b[0m\u001b[0m\n",
      "\u001b[1;31mIndexError\u001b[0m: index 0 is out of bounds for axis 0 with size 0"
     ]
    }
   ],
   "source": [
    "%matplotlib inline\n",
    "\n",
    "import numpy as np\n",
    "import scipy as sp\n",
    "import matplotlib.pyplot as plot\n",
    "\n",
    "from scipy.optimize import minimize\n",
    "\n",
    "import timeit\n",
    "from memory_profiler import memory_usage\n",
    "\n",
    "#all methods to minimize\n",
    "methods = ['Nelder-Mead']\n",
    "\n",
    "start = np.zeros(0)\n",
    "stop = np.zeros(0)\n",
    "num_iters = np.zeros(0)\n",
    "\n",
    "most_mem = np.zeros(0)\n",
    "\n",
    "#runtime code goes here\n",
    "\n",
    "function = lambda x: x[0]**3 + np.sin(x[0]) + np.cos(x[1]) + x[1]**(1/3) + np.exp(x[1])#the function we're testing will go here\n",
    "\n",
    "#testing every minimization method\n",
    "for method in methods:\n",
    "    \n",
    "    mem_use = memory_usage(-1,interval=0.1)\n",
    "    start = np.append(start,timeit.default_timer())\n",
    "    \n",
    "    guess = [500,1]\n",
    "    \n",
    "    # Possibly was finding the iterations in the wrong order\n",
    "    result = minimize(function, x0 = guess, method = method,)\n",
    "    #num_iters = np.append(num_iters,sp.optimize.OptimizeResult.x)\n",
    "    stop = np.append(stop,timeit.default_timer())\n",
    "    \n",
    "    # tracks amount of memory used\n",
    "    most_mem = np.append(most_mem,max(mem_use)) \n",
    "\n",
    "exec_time = stop-start\n",
    "\n",
    "counter = 0\n",
    "\n",
    "#could print all of the runtimes as they run but it would be better to print them at the end and store runtimes\n",
    "for method in methods:\n",
    "    \n",
    "    print '{0} took {1} seconds. The result, {2} was found at {3} and took {4} iterations'.format(method,exec_time[counter],result.x,result.fun,num_iters[counter])\n",
    "    counter = counter + 1"
   ]
  },
  {
   "cell_type": "markdown",
   "metadata": {},
   "source": [
    "### Practice using memory_profiler"
   ]
  },
  {
   "cell_type": "code",
   "execution_count": 31,
   "metadata": {
    "collapsed": false
   },
   "outputs": [
    {
     "name": "stdout",
     "output_type": "stream",
     "text": [
      "john\n",
      "[74.67578125]\n"
     ]
    }
   ],
   "source": [
    "from memory_profiler import memory_usage\n",
    "\n",
    "def apple():\n",
    "    return \"john\"\n",
    "\n",
    "#-1 first param means current process\n",
    "mem_usage = memory_usage(-1, interval = .000001)\n",
    "print apple()\n",
    "print mem_usage\n",
    "    \n",
    "    "
   ]
  },
  {
   "cell_type": "markdown",
   "metadata": {},
   "source": [
    "### Momentarily ignoring iterations"
   ]
  },
  {
   "cell_type": "code",
   "execution_count": 113,
   "metadata": {
    "collapsed": false
   },
   "outputs": [
    {
     "name": "stdout",
     "output_type": "stream",
     "text": [
      "Nelder-Mead took 0.0210659503937 seconds. The result, [-749499.       0.] was found at -4.21030127126e+17\n",
      "Nelder-Mead used 195.44921875 megabytes\n",
      "\n",
      "Powell took 0.0187449455261 seconds. The result, [-749499.       0.] was found at -4.21030127126e+17\n",
      "Powell used 195.44921875 megabytes\n",
      "\n",
      "CG took 0.00318908691406 seconds. The result, [-749499.       0.] was found at -4.21030127126e+17\n",
      "CG used 195.44921875 megabytes\n",
      "\n",
      "BFGS took 0.00309801101685 seconds. The result, [-749499.       0.] was found at -4.21030127126e+17\n",
      "BFGS used 195.44921875 megabytes\n",
      "\n",
      "L-BFGS-B took 0.00588202476501 seconds. The result, [-749499.       0.] was found at -4.21030127126e+17\n",
      "L-BFGS-B used 195.44921875 megabytes\n",
      "\n",
      "TNC took 0.00411915779114 seconds. The result, [-749499.       0.] was found at -4.21030127126e+17\n",
      "TNC used 195.44921875 megabytes\n",
      "\n",
      "COBYLA took 0.0179750919342 seconds. The result, [-749499.       0.] was found at -4.21030127126e+17\n",
      "COBYLA used 195.44921875 megabytes\n",
      "\n",
      "SLSQP took 0.00119185447693 seconds. The result, [-749499.       0.] was found at -4.21030127126e+17\n",
      "SLSQP used 195.44921875 megabytes\n",
      "\n"
     ]
    },
    {
     "name": "stderr",
     "output_type": "stream",
     "text": [
      "/site/x86/anaconda-1.8/anaconda/lib/python2.7/site-packages/ipykernel/__main__.py:23: RuntimeWarning: overflow encountered in double_scalars\n"
     ]
    }
   ],
   "source": [
    "%matplotlib inline\n",
    "\n",
    "import numpy as np\n",
    "import scipy as sp\n",
    "import matplotlib.pyplot as plot\n",
    "\n",
    "from scipy.optimize import minimize\n",
    "\n",
    "import timeit\n",
    "from memory_profiler import memory_usage\n",
    "\n",
    "#all methods to minimize\n",
    "methods = ['Nelder-Mead','Powell','CG','BFGS','L-BFGS-B','TNC','COBYLA','SLSQP',]\n",
    "\n",
    "start = np.zeros(0)\n",
    "stop = np.zeros(0)\n",
    "#num_iters = np.zeros(0)\n",
    "\n",
    "most_mem = np.zeros(0)\n",
    "\n",
    "#runtime code goes here\n",
    "\n",
    "function = lambda x: x[0]**3 + np.sin(x[0]) + np.cos(x[1]) + x[1]**(1/3) + np.exp(x[1])#the function we're testing will go here\n",
    "\n",
    "#testing every minimization method\n",
    "for method in methods:\n",
    "    \n",
    "    mem_use = memory_usage(-1,interval=0.1)\n",
    "    start = np.append(start,timeit.default_timer())\n",
    "    \n",
    "    guess = [500,1]\n",
    "    \n",
    "    # Possibly was finding the iterations in the wrong order\n",
    "    result = minimize(function, x0 = guess, method = method,tol=1e-6)\n",
    "    \n",
    "    #num_iters = np.append(num_iters,result.nit)\n",
    "    stop = np.append(stop,timeit.default_timer())\n",
    "    \n",
    "    # tracks amount of memory used\n",
    "    most_mem = np.append(most_mem,max(mem_use)) \n",
    "\n",
    "exec_time = stop-start\n",
    "\n",
    "counter = 0\n",
    "\n",
    "#could print all of the runtimes as they run but it would be better to print them at the end and store runtimes\n",
    "for method in methods:\n",
    "    \n",
    "    print '{0} took {1} seconds. The result, {2} was found at {3}'.format(method,exec_time[counter],result.x,result.fun,)\n",
    "    print '{0} used {1} megabytes'.format(method,most_mem[counter])\n",
    "    print\n",
    "    \n",
    "    counter = counter + 1"
   ]
  },
  {
   "cell_type": "markdown",
   "metadata": {},
   "source": [
    "### Considering number of iterations now and displaying results of tests on a function"
   ]
  },
  {
   "cell_type": "code",
   "execution_count": 82,
   "metadata": {
    "collapsed": false
   },
   "outputs": [
    {
     "name": "stdout",
     "output_type": "stream",
     "text": [
      "Nelder-Mead took 0.0208358764648 seconds. The result, [-749499.       0.] was found at -4.21030127126e+17\n",
      "Nelder-Mead used 221.9140625 megabytes and took 203.0 iterations\n",
      "\n",
      "Powell took 0.0170938968658 seconds. The result, [-749499.       0.] was found at -4.21030127126e+17\n",
      "Powell used 221.9140625 megabytes and took 1.0 iterations\n",
      "\n",
      "CG took 0.00309300422668 seconds. The result, [-749499.       0.] was found at -4.21030127126e+17\n",
      "CG used 221.9140625 megabytes and took 1.0 iterations\n",
      "\n",
      "BFGS took 0.0030689239502 seconds. The result, [-749499.       0.] was found at -4.21030127126e+17\n",
      "BFGS used 221.9140625 megabytes and took 1.0 iterations\n",
      "\n",
      "L-BFGS-B took 0.0059552192688 seconds. The result, [-749499.       0.] was found at -4.21030127126e+17\n",
      "L-BFGS-B used 221.9140625 megabytes and took 16.0 iterations\n",
      "\n",
      "TNC took 0.00421190261841 seconds. The result, [-749499.       0.] was found at -4.21030127126e+17\n",
      "TNC used 221.9140625 megabytes and took 6.0 iterations\n",
      "\n",
      "COBYLA took 0.0188648700714 seconds. The result, [-749499.       0.] was found at -4.21030127126e+17\n",
      "COBYLA used 221.9140625 megabytes and took -1.0 iterations\n",
      "\n",
      "SLSQP took 0.00116491317749 seconds. The result, [-749499.       0.] was found at -4.21030127126e+17\n",
      "SLSQP used 221.9140625 megabytes and took 2.0 iterations\n",
      "\n"
     ]
    },
    {
     "name": "stderr",
     "output_type": "stream",
     "text": [
      "/site/x86/anaconda-1.8/anaconda/lib/python2.7/site-packages/ipykernel/__main__.py:23: RuntimeWarning: overflow encountered in double_scalars\n"
     ]
    }
   ],
   "source": [
    "%matplotlib inline\n",
    "\n",
    "import numpy as np\n",
    "import scipy as sp\n",
    "import matplotlib.pyplot as plot\n",
    "\n",
    "from scipy.optimize import minimize\n",
    "\n",
    "import timeit\n",
    "from memory_profiler import memory_usage\n",
    "\n",
    "#all methods to minimize\n",
    "methods = ['Nelder-Mead','Powell','CG','BFGS','L-BFGS-B','TNC','COBYLA','SLSQP',]\n",
    "\n",
    "start = np.zeros(0)\n",
    "stop = np.zeros(0)\n",
    "num_iters = np.zeros(0)\n",
    "\n",
    "most_mem = np.zeros(0)\n",
    "\n",
    "#runtime code goes here\n",
    "\n",
    "function = lambda x: x[0]**3 + np.sin(x[0]) + np.cos(x[1]) + x[1]**(1/3) + np.exp(x[1])#the function we're testing \n",
    "\n",
    "#testing every minimization method\n",
    "for method in methods:\n",
    "    \n",
    "    mem_use = memory_usage(-1,interval=0.1)\n",
    "    start = np.append(start,timeit.default_timer())\n",
    "    \n",
    "    guess = [500,1] # guess for correct minimum\n",
    "    \n",
    "    # Possibly was finding the iterations in the wrong order\n",
    "    result = minimize(function, x0 = guess, method = method,tol=1e-6)\n",
    "    \n",
    "    keys = result.keys() # contains all traits of result\n",
    "    iterations = -1\n",
    "    \n",
    "    if 'nit' in keys:    \n",
    "        iterations = result.get('nit')\n",
    "        \n",
    "    num_iters = np.append(num_iters,iterations)\n",
    "    stop = np.append(stop,timeit.default_timer())\n",
    "    \n",
    "    # tracks amount of memory used\n",
    "    most_mem = np.append(most_mem,max(mem_use)) \n",
    "\n",
    "exec_time = stop-start\n",
    "\n",
    "counter = 0\n",
    "\n",
    "# If an algorithm took (-1) iterations, the number of iterations was not returned\n",
    "for method in methods:\n",
    "    \n",
    "    print '{0} took {1} seconds. The result, {2} was found at {3}'.format(method,exec_time[counter],result.x,result.fun,)\n",
    "    print '{0} used {1} megabytes and took {2} iterations'.format(method,most_mem[counter],num_iters[counter])\n",
    "    print\n",
    "    \n",
    "    counter = counter + 1"
   ]
  },
  {
   "cell_type": "markdown",
   "metadata": {},
   "source": [
    "### Seems that the memory is displaying as being constant, abstract optimization to function"
   ]
  },
  {
   "cell_type": "code",
   "execution_count": 87,
   "metadata": {
    "collapsed": false
   },
   "outputs": [
    {
     "ename": "UnboundLocalError",
     "evalue": "local variable 'start' referenced before assignment",
     "output_type": "error",
     "traceback": [
      "\u001b[1;31m---------------------------------------------------------------------------\u001b[0m",
      "\u001b[1;31mUnboundLocalError\u001b[0m                         Traceback (most recent call last)",
      "\u001b[1;32m<ipython-input-87-b1d490db23ef>\u001b[0m in \u001b[0;36m<module>\u001b[1;34m()\u001b[0m\n\u001b[0;32m     47\u001b[0m \u001b[1;33m\u001b[0m\u001b[0m\n\u001b[0;32m     48\u001b[0m \u001b[1;33m\u001b[0m\u001b[0m\n\u001b[1;32m---> 49\u001b[1;33m     \u001b[0mmem_use\u001b[0m \u001b[1;33m=\u001b[0m \u001b[0mmemory_usage\u001b[0m\u001b[1;33m(\u001b[0m\u001b[0moptimization\u001b[0m\u001b[1;33m(\u001b[0m\u001b[1;33m)\u001b[0m\u001b[1;33m,\u001b[0m\u001b[0minterval\u001b[0m\u001b[1;33m=\u001b[0m\u001b[1;36m0.1\u001b[0m\u001b[1;33m)\u001b[0m\u001b[1;33m\u001b[0m\u001b[0m\n\u001b[0m\u001b[0;32m     50\u001b[0m \u001b[1;33m\u001b[0m\u001b[0m\n\u001b[0;32m     51\u001b[0m \u001b[0mexec_time\u001b[0m \u001b[1;33m=\u001b[0m \u001b[0mstop\u001b[0m\u001b[1;33m-\u001b[0m\u001b[0mstart\u001b[0m\u001b[1;33m\u001b[0m\u001b[0m\n",
      "\u001b[1;32m<ipython-input-87-b1d490db23ef>\u001b[0m in \u001b[0;36moptimization\u001b[1;34m()\u001b[0m\n\u001b[0;32m     28\u001b[0m     \u001b[1;32mdef\u001b[0m \u001b[0moptimization\u001b[0m\u001b[1;33m(\u001b[0m\u001b[1;33m)\u001b[0m\u001b[1;33m:\u001b[0m\u001b[1;33m\u001b[0m\u001b[0m\n\u001b[0;32m     29\u001b[0m \u001b[1;33m\u001b[0m\u001b[0m\n\u001b[1;32m---> 30\u001b[1;33m         \u001b[0mstart\u001b[0m \u001b[1;33m=\u001b[0m \u001b[0mnp\u001b[0m\u001b[1;33m.\u001b[0m\u001b[0mappend\u001b[0m\u001b[1;33m(\u001b[0m\u001b[0mstart\u001b[0m\u001b[1;33m,\u001b[0m\u001b[0mtimeit\u001b[0m\u001b[1;33m.\u001b[0m\u001b[0mdefault_timer\u001b[0m\u001b[1;33m(\u001b[0m\u001b[1;33m)\u001b[0m\u001b[1;33m)\u001b[0m\u001b[1;33m\u001b[0m\u001b[0m\n\u001b[0m\u001b[0;32m     31\u001b[0m \u001b[1;33m\u001b[0m\u001b[0m\n\u001b[0;32m     32\u001b[0m         \u001b[0mguess\u001b[0m \u001b[1;33m=\u001b[0m \u001b[1;33m[\u001b[0m\u001b[1;36m500\u001b[0m\u001b[1;33m,\u001b[0m\u001b[1;36m1\u001b[0m\u001b[1;33m]\u001b[0m \u001b[1;31m# guess for correct minimum\u001b[0m\u001b[1;33m\u001b[0m\u001b[0m\n",
      "\u001b[1;31mUnboundLocalError\u001b[0m: local variable 'start' referenced before assignment"
     ]
    }
   ],
   "source": [
    "%matplotlib inline\n",
    "\n",
    "import numpy as np\n",
    "import scipy as sp\n",
    "import matplotlib.pyplot as plot\n",
    "\n",
    "from scipy.optimize import minimize\n",
    "\n",
    "import timeit\n",
    "from memory_profiler import memory_usage\n",
    "\n",
    "#all methods to minimize\n",
    "methods = ['Nelder-Mead','Powell','CG','BFGS','L-BFGS-B','TNC','COBYLA','SLSQP',]\n",
    "\n",
    "start = np.zeros(0)\n",
    "stop = np.zeros(0)\n",
    "num_iters = np.zeros(0)\n",
    "\n",
    "most_mem = np.zeros(0)\n",
    "\n",
    "#runtime code goes here\n",
    "\n",
    "function = lambda x: x[0]**3 + np.sin(x[0]) + np.cos(x[1]) + x[1]**(1/3) + np.exp(x[1])#the function we're testing \n",
    "\n",
    "#testing every minimization method\n",
    "for method in methods:\n",
    "\n",
    "    def optimization():\n",
    "        \n",
    "        start = np.append(start,timeit.default_timer())\n",
    "\n",
    "        guess = [500,1] # guess for correct minimum\n",
    "\n",
    "        result = minimize(function, x0 = guess, method = method,tol=1e-6)\n",
    "\n",
    "        keys = result.keys() # contains all traits of result\n",
    "        iterations = -1\n",
    "\n",
    "        if 'nit' in keys:    \n",
    "            iterations = result.get('nit')\n",
    "\n",
    "        num_iters = np.append(num_iters,iterations)\n",
    "        stop = np.append(stop,timeit.default_timer())\n",
    "\n",
    "        # tracks amount of memory used\n",
    "        most_mem = np.append(most_mem,max(mem_use)) \n",
    "\n",
    "\n",
    "    mem_use = memory_usage(optimization(),interval=0.1)\n",
    "        \n",
    "exec_time = stop-start\n",
    "\n",
    "counter = 0\n",
    "\n",
    "# If an algorithm took (-1) iterations, the number of iterations was not returned\n",
    "for method in methods:\n",
    "    \n",
    "    print '{0} took {1} seconds. The result, {2} was found at {3}'.format(method,exec_time[counter],result.x,result.fun,)\n",
    "    print '{0} used {1} megabytes and took {2} iterations'.format(method,most_mem[counter],num_iters[counter])\n",
    "    print\n",
    "    \n",
    "    counter = counter + 1"
   ]
  },
  {
   "cell_type": "markdown",
   "metadata": {},
   "source": [
    "### Unexpected behavior with function because it needs parameters, we can try the resource module"
   ]
  },
  {
   "cell_type": "code",
   "execution_count": 111,
   "metadata": {
    "collapsed": false
   },
   "outputs": [
    {
     "ename": "SyntaxError",
     "evalue": "non-keyword arg after keyword arg (<ipython-input-111-4093c7251db5>, line 28)",
     "output_type": "error",
     "traceback": [
      "\u001b[1;36m  File \u001b[1;32m\"<ipython-input-111-4093c7251db5>\"\u001b[1;36m, line \u001b[1;32m28\u001b[0m\n\u001b[1;33m    mem = memory_usage(optim(method),interval=0.1,1)\u001b[0m\n\u001b[1;31mSyntaxError\u001b[0m\u001b[1;31m:\u001b[0m non-keyword arg after keyword arg\n"
     ]
    }
   ],
   "source": [
    "%matplotlib inline\n",
    "\n",
    "import numpy as np\n",
    "import scipy as sp\n",
    "import matplotlib.pyplot as plot\n",
    "\n",
    "from scipy.optimize import minimize\n",
    "\n",
    "import timeit\n",
    "from memory_profiler import memory_usage\n",
    "\n",
    "#all methods to minimize (No methods that require Jacobian)\n",
    "methods = ['Nelder-Mead','Powell','CG','BFGS','L-BFGS-B','TNC','COBYLA','SLSQP',]\n",
    "\n",
    "start = np.zeros(0)\n",
    "stop = np.zeros(0)\n",
    "num_iters = np.zeros(0)\n",
    "most_mem = np.zeros(0)\n",
    "\n",
    "#runtime code goes here\n",
    "\n",
    "function = lambda x: x[0]**3 + np.sin(x[0]) + np.cos(x[1]) + x[1]**(1/3) + np.exp(x[1])#the function we're testing \n",
    "\n",
    "#testing every minimization method\n",
    "for method in methods:\n",
    "\n",
    "    exec_data = optim(method)\n",
    "    mem = memory_usage(optim(method),interval=0.1,1)\n",
    "\n",
    "\n",
    "    \n",
    "def optim(method):\n",
    "        \n",
    "        start_time = timeit.default_timer()\n",
    "\n",
    "        guess = [500,1] # guess for correct minimum\n",
    "\n",
    "        result = minimize(function, x0 = guess, method = method,tol=1e-6)\n",
    "\n",
    "        keys = result.keys() # contains all traits of result\n",
    "        iterations = -1\n",
    "\n",
    "        if 'nit' in keys:    \n",
    "            iterations = result.get('nit')\n",
    "\n",
    "        stop_time = timeit.default_timer()\n",
    "        \n",
    "        runtime = stop_time-start_time\n",
    "        \n",
    "        #returns a tuple with the necessary info\n",
    "        return (runtime, iterations, result.x, result.fun)\n",
    "        \n",
    "\n",
    "#print optim('Nelder-Mead')\n",
    "exec_time = stop-start\n",
    "\n",
    "counter = 0\n",
    "\n",
    "\"\"\"\n",
    "# If an algorithm took (-1) iterations, the number of iterations was not returned\n",
    "for method in methods:\n",
    "    \n",
    "    print '{0} took {1} seconds. The result, {2} was found at {3}'.format(method,exec_time[counter],result.x,result.fun,)\n",
    "    print '{0} used {1} megabytes and took {2} iterations'.format(method,most_mem[counter],num_iters[counter])\n",
    "    print\n",
    "    \n",
    "    counter = counter + 1\n",
    "    \n",
    "\"\"\""
   ]
  },
  {
   "cell_type": "markdown",
   "metadata": {},
   "source": [
    "### Practice standardizing visuals and making them look good"
   ]
  },
  {
   "cell_type": "code",
   "execution_count": 98,
   "metadata": {
    "collapsed": false
   },
   "outputs": [
    {
     "data": {
      "image/png": "[encoded data removed]",
      "text/plain": [
       "<matplotlib.figure.Figure at 0x7f4a34672f50>"
      ]
     },
     "metadata": {},
     "output_type": "display_data"
    },
    {
     "name": "stdout",
     "output_type": "stream",
     "text": [
      "[195.4375, 195.421875, 195.421875, 195.421875, 195.421875, 195.421875, 195.421875, 195.421875, 195.421875, 195.421875, 195.421875, 195.4453125, 195.4453125, 195.4453125, 195.4453125, 195.4453125, 195.4453125, 195.4453125, 195.4453125, 195.4453125, 195.4453125, 195.4453125, 195.4453125, 195.4453125, 195.4453125, 195.4453125, 195.4453125, 195.4453125, 195.4453125, 195.4453125, 195.4453125, 195.4453125, 195.4453125, 195.4453125, 195.4453125, 195.4453125, 195.4453125, 195.4453125, 195.4453125, 195.4453125, 195.4453125, 195.4453125, 195.4453125, 195.4453125, 195.4453125, 195.4453125, 195.4453125, 195.4453125]\n"
     ]
    }
   ],
   "source": [
    "from memory_profiler import memory_usage\n",
    "\n",
    "#mem = memory_usage(-1,.1,1)\n",
    "print memory_usage(disp, 0.01,0.5) #displayed varying amounts of memory used with time, as expected\n",
    "\n",
    "\n",
    "def disp():\n",
    "    x = np.arange(-np.pi,np.pi,0.01)\n",
    "    y = np.sin(x)\n",
    "\n",
    "    plot.figure(figsize=[20,10])\n",
    "    plot.ylabel(\"Sin(x)\")\n",
    "    plot.xlabel(\"x\")\n",
    "\n",
    "    plot.plot(x,y)\n",
    "    plot.show()\n",
    "\n"
   ]
  },
  {
   "cell_type": "code",
   "execution_count": 121,
   "metadata": {
    "collapsed": false
   },
   "outputs": [
    {
     "name": "stdout",
     "output_type": "stream",
     "text": [
      "Nelder-Mead took 0.0150029659271 seconds. The result, [-749499.       0.] was found at -4.21030127126e+17\n",
      "Nelder-Mead used 237.0 megabytes\n",
      "\n",
      "Powell took 0.0129799842834 seconds. The result, [-749499.       0.] was found at -4.21030127126e+17\n",
      "Powell used 237.0 megabytes\n",
      "\n",
      "CG took 0.00103521347046 seconds. The result, [-749499.       0.] was found at -4.21030127126e+17\n",
      "CG used 237.0 megabytes\n",
      "\n",
      "BFGS took 0.00101017951965 seconds. The result, [-749499.       0.] was found at -4.21030127126e+17\n",
      "BFGS used 237.0 megabytes\n",
      "\n",
      "L-BFGS-B took 0.00213694572449 seconds. The result, [-749499.       0.] was found at -4.21030127126e+17\n",
      "L-BFGS-B used 237.0 megabytes\n",
      "\n",
      "TNC took 0.00147008895874 seconds. The result, [-749499.       0.] was found at -4.21030127126e+17\n",
      "TNC used 237.0 megabytes\n",
      "\n",
      "COBYLA took 0.0104899406433 seconds. The result, [-749499.       0.] was found at -4.21030127126e+17\n",
      "COBYLA used 237.0 megabytes\n",
      "\n",
      "SLSQP took 0.000348091125488 seconds. The result, [-749499.       0.] was found at -4.21030127126e+17\n",
      "SLSQP used 237.0 megabytes\n",
      "\n"
     ]
    },
    {
     "name": "stderr",
     "output_type": "stream",
     "text": [
      "/site/x86/anaconda-1.8/anaconda/lib/python2.7/site-packages/ipykernel/__main__.py:23: RuntimeWarning: overflow encountered in double_scalars\n"
     ]
    }
   ],
   "source": [
    "%matplotlib inline\n",
    "\n",
    "import numpy as np\n",
    "import scipy as sp\n",
    "import matplotlib.pyplot as plot\n",
    "\n",
    "from scipy.optimize import minimize\n",
    "\n",
    "import timeit\n",
    "import resource\n",
    "\n",
    "#all methods to minimize\n",
    "methods = ['Nelder-Mead','Powell','CG','BFGS','L-BFGS-B','TNC','COBYLA','SLSQP',]\n",
    "\n",
    "start = np.zeros(0)\n",
    "stop = np.zeros(0)\n",
    "#num_iters = np.zeros(0)\n",
    "\n",
    "all_mem = np.zeros(0)\n",
    "\n",
    "#runtime code goes here\n",
    "\n",
    "function = lambda x: x[0]**3 + np.sin(x[0]) + np.cos(x[1]) + x[1]**(1/3) + np.exp(x[1])#the function we're testing will go here\n",
    "\n",
    "#testing every minimization method\n",
    "for method in methods:\n",
    "    \n",
    "    start = np.append(start,timeit.default_timer())\n",
    "    \n",
    "    guess = [500,1]\n",
    "    \n",
    "    result = minimize(function, x0 = guess, method = method,tol=1e-6)\n",
    "    mem = resource.getrusage(resource.RUSAGE_SELF).ru_maxrss # cur mem in KB\n",
    "\n",
    "    #num_iters = np.append(num_iters,result.nit)\n",
    "    stop = np.append(stop,timeit.default_timer())\n",
    "    \n",
    "    # tracks amount of memory used\n",
    "    all_mem = np.append(all_mem,mem/1000) \n",
    "\n",
    "exec_time = stop-start\n",
    "\n",
    "for counter, method in enumerate(methods):\n",
    "    \n",
    "    print '{0} took {1} seconds. The result, {2} was found at {3}'.format(method,exec_time[counter],result.x,result.fun,)\n",
    "    print '{0} used {1} megabytes'.format(method,all_mem[counter])\n",
    "    print\n",
    "    \n",
    "    "
   ]
  },
  {
   "cell_type": "markdown",
   "metadata": {},
   "source": [
    "### Two ways to do this: resource module, and memory_profiler"
   ]
  },
  {
   "cell_type": "code",
   "execution_count": 127,
   "metadata": {
    "collapsed": false
   },
   "outputs": [
    {
     "name": "stdout",
     "output_type": "stream",
     "text": [
      "Nelder-Mead took 0.0150549411774 seconds. The result, [-749499.       0.] was found at -4.21030127126e+17\n",
      "Nelder-Mead used 237.888 megabytes and took 203.0 iterations\n",
      "\n",
      "Powell took 0.0131690502167 seconds. The result, [-749499.       0.] was found at -4.21030127126e+17\n",
      "Powell used 237.888 megabytes and took 1.0 iterations\n",
      "\n",
      "CG took 0.00108408927917 seconds. The result, [-749499.       0.] was found at -4.21030127126e+17\n",
      "CG used 237.888 megabytes and took 1.0 iterations\n",
      "\n",
      "BFGS took 0.00120186805725 seconds. The result, [-749499.       0.] was found at -4.21030127126e+17\n",
      "BFGS used 237.888 megabytes and took 1.0 iterations\n",
      "\n",
      "L-BFGS-B took 0.00197601318359 seconds. The result, [-749499.       0.] was found at -4.21030127126e+17\n",
      "L-BFGS-B used 237.888 megabytes and took 16.0 iterations\n",
      "\n",
      "TNC took 0.00140285491943 seconds. The result, [-749499.       0.] was found at -4.21030127126e+17\n",
      "TNC used 237.888 megabytes and took 6.0 iterations\n",
      "\n",
      "COBYLA took 0.0103261470795 seconds. The result, [-749499.       0.] was found at -4.21030127126e+17\n",
      "COBYLA used 237.888 megabytes and took -1.0 iterations\n",
      "\n",
      "SLSQP took 0.000355958938599 seconds. The result, [-749499.       0.] was found at -4.21030127126e+17\n",
      "SLSQP used 237.888 megabytes and took 2.0 iterations\n",
      "\n"
     ]
    },
    {
     "name": "stderr",
     "output_type": "stream",
     "text": [
      "/site/x86/anaconda-1.8/anaconda/lib/python2.7/site-packages/ipykernel/__main__.py:22: RuntimeWarning: overflow encountered in double_scalars\n"
     ]
    }
   ],
   "source": [
    "%matplotlib inline\n",
    "\n",
    "import numpy as np\n",
    "import scipy as sp\n",
    "import matplotlib.pyplot as plot\n",
    "\n",
    "from scipy.optimize import minimize\n",
    "\n",
    "import timeit\n",
    "import resource\n",
    "\n",
    "#all methods to minimize\n",
    "methods = ['Nelder-Mead','Powell','CG','BFGS','L-BFGS-B','TNC','COBYLA','SLSQP',]\n",
    "\n",
    "start = np.zeros(0)\n",
    "stop = np.zeros(0)\n",
    "num_iters = np.zeros(0)\n",
    "all_mem = np.zeros(0)\n",
    "\n",
    "#runtime code goes here\n",
    "\n",
    "function = lambda x: x[0]**3 + np.sin(x[0]) + np.cos(x[1]) + x[1]**(1/3) + np.exp(x[1])#the function we're testing \n",
    "\n",
    "#testing every minimization method\n",
    "for method in methods:\n",
    "    \n",
    "    start = np.append(start,timeit.default_timer())\n",
    "    \n",
    "    guess = [500,1] # guess for correct minimum\n",
    "    \n",
    "    # Possibly was finding the iterations in the wrong order\n",
    "    result = minimize(function, x0 = guess, method = method,tol=1e-6)\n",
    "    \n",
    "    keys = result.keys() # contains all traits of result\n",
    "    iterations = -1\n",
    "    \n",
    "    if 'nit' in keys:    \n",
    "        iterations = result.get('nit')\n",
    "        \n",
    "    num_iters = np.append(num_iters,iterations)\n",
    "    stop = np.append(stop,timeit.default_timer())\n",
    "    \n",
    "    # tracks amount of memory used\n",
    "    all_mem = np.append(all_mem,resource.getrusage(resource.RUSAGE_SELF).ru_maxrss/1000.) \n",
    "\n",
    "exec_time = stop-start\n",
    "\n",
    "# If an algorithm took (-1) iterations, the number of iterations was not returned\n",
    "for counter, method in enumerate(methods):\n",
    "    \n",
    "    print '{0} took {1} seconds. The result, {2} was found at {3}'.format(method,exec_time[counter],result.x,result.fun,)\n",
    "    print '{0} used {1} megabytes and took {2} iterations'.format(method,all_mem[counter],num_iters[counter])\n",
    "    print\n",
    "    "
   ]
  },
  {
   "cell_type": "code",
   "execution_count": 132,
   "metadata": {
    "collapsed": false
   },
   "outputs": [
    {
     "name": "stdout",
     "output_type": "stream",
     "text": [
      "Nelder-Mead took 0.0138928890228 seconds. The result, (-749499.0, 0.0) was found at -4.21030127126e+17\n",
      "Nelder-Mead used 195.46875 megabytes and took 203.0 iterations\n",
      "\n",
      "Powell took 0.0203771591187 seconds. The result, (-749499.0, 0.0) was found at -4.21030127126e+17\n",
      "Powell used 195.46875 megabytes and took 1.0 iterations\n",
      "\n",
      "CG took 0.00120377540588 seconds. The result, (-749499.0, 0.0) was found at -4.21030127126e+17\n",
      "CG used 195.46875 megabytes and took 1.0 iterations\n",
      "\n",
      "BFGS took 0.00308609008789 seconds. The result, (-749499.0, 0.0) was found at -4.21030127126e+17\n",
      "BFGS used 195.46875 megabytes and took 1.0 iterations\n",
      "\n",
      "L-BFGS-B took 0.00576090812683 seconds. The result, (-749499.0, 0.0) was found at -4.21030127126e+17\n",
      "L-BFGS-B used 195.46875 megabytes and took 16.0 iterations\n",
      "\n",
      "TNC took 0.00412583351135 seconds. The result, (-749499.0, 0.0) was found at -4.21030127126e+17\n",
      "TNC used 195.46875 megabytes and took 6.0 iterations\n",
      "\n",
      "COBYLA took 0.0205020904541 seconds. The result, (-749499.0, 0.0) was found at -4.21030127126e+17\n",
      "COBYLA used 195.46875 megabytes and took -1.0 iterations\n",
      "\n",
      "SLSQP took 0.00109601020813 seconds. The result, (-749499.0, 0.0) was found at -4.21030127126e+17\n",
      "SLSQP used 195.46875 megabytes and took 2.0 iterations\n",
      "\n"
     ]
    },
    {
     "name": "stderr",
     "output_type": "stream",
     "text": [
      "/site/x86/anaconda-1.8/anaconda/lib/python2.7/site-packages/ipykernel/__main__.py:23: RuntimeWarning: overflow encountered in double_scalars\n"
     ]
    }
   ],
   "source": [
    "%matplotlib inline\n",
    "\n",
    "import numpy as np\n",
    "import scipy as sp\n",
    "import matplotlib.pyplot as plot\n",
    "\n",
    "from scipy.optimize import minimize\n",
    "\n",
    "import timeit\n",
    "from memory_profiler import memory_usage\n",
    "\n",
    "#all methods to minimize\n",
    "methods = ['Nelder-Mead','Powell','CG','BFGS','L-BFGS-B','TNC','COBYLA','SLSQP',]\n",
    "\n",
    "start = np.zeros(0)\n",
    "stop = np.zeros(0)\n",
    "num_iters = np.zeros(0)\n",
    "\n",
    "most_mem = np.zeros(0)\n",
    "\n",
    "#runtime code goes here\n",
    "\n",
    "function = lambda x: x[0]**3 + np.sin(x[0]) + np.cos(x[1]) + x[1]**(1/3) + np.exp(x[1])#the function we're testing \n",
    "\n",
    "#testing every minimization method\n",
    "for method in methods:\n",
    "    \n",
    "    mem_use = memory_usage(-1,interval=0.1)\n",
    "    start = np.append(start,timeit.default_timer())\n",
    "    \n",
    "    guess = [500,1] # guess for correct minimum\n",
    "    \n",
    "    # Possibly was finding the iterations in the wrong order\n",
    "    result = minimize(function, x0 = guess, method = method,tol=1e-6)\n",
    "    \n",
    "    keys = result.keys() # contains all traits of result\n",
    "    iterations = -1\n",
    "    \n",
    "    if 'nit' in keys:    \n",
    "        iterations = result.get('nit')\n",
    "        \n",
    "    num_iters = np.append(num_iters,iterations)\n",
    "    stop = np.append(stop,timeit.default_timer())\n",
    "    \n",
    "    # tracks amount of memory used\n",
    "    most_mem = np.append(most_mem,max(mem_use)) \n",
    "\n",
    "exec_time = stop-start\n",
    "\n",
    "# If an algorithm took (-1) iterations, the number of iterations was not returned\n",
    "for counter, method in enumerate(methods):\n",
    "    \n",
    "    print '{0} took {1} seconds. The result, ({2}, {3}) was found at {4}'.format(method,exec_time[counter],result.x[0],result.x[1],result.fun)\n",
    "    print '{0} used {1} megabytes and took {2} iterations'.format(method,most_mem[counter],num_iters[counter])\n",
    "    print\n",
    "    "
   ]
  }
 ],
 "metadata": {
  "kernelspec": {
   "display_name": "Python 2",
   "language": "python",
   "name": "python2"
  },
  "language_info": {
   "codemirror_mode": {
    "name": "ipython",
    "version": 2
   },
   "file_extension": ".py",
   "mimetype": "text/x-python",
   "name": "python",
   "nbconvert_exporter": "python",
   "pygments_lexer": "ipython2",
   "version": "2.7.11"
  }
 },
 "nbformat": 4,
 "nbformat_minor": 0
}
