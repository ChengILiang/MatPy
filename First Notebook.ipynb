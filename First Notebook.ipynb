{
 "cells": [
  {
   "cell_type": "markdown",
   "metadata": {},
   "source": [
    "Going to create a simple plot"
   ]
  },
  {
   "cell_type": "code",
   "execution_count": 20,
   "metadata": {
    "collapsed": true
   },
   "outputs": [],
   "source": [
    "%matplotlib inline\n",
    "\n",
    "#adding necessary libraries\n",
    "import matplotlib as mpl\n",
    "import matplotlib.pyplot as plot\n",
    "import numpy as np"
   ]
  },
  {
   "cell_type": "code",
   "execution_count": 21,
   "metadata": {
    "collapsed": false
   },
   "outputs": [
    {
     "data": {
      "image/png": "[encoded data removed]",
      "text/plain": [
       "<matplotlib.figure.Figure at 0x7f9bfc842650>"
      ]
     },
     "metadata": {},
     "output_type": "display_data"
    }
   ],
   "source": [
    "plot.ylabel(\"Values of our Function!\")\n",
    "plot.plot([1,2,3,4],[1,5,1,5],'r')\n",
    "plot.show()"
   ]
  },
  {
   "cell_type": "markdown",
   "metadata": {},
   "source": [
    "Creating a linear model"
   ]
  },
  {
   "cell_type": "code",
   "execution_count": 22,
   "metadata": {
    "collapsed": false
   },
   "outputs": [],
   "source": [
    "t = np.arange(1.,50.)"
   ]
  },
  {
   "cell_type": "code",
   "execution_count": 23,
   "metadata": {
    "collapsed": false
   },
   "outputs": [
    {
     "data": {
      "image/png": "[encoded data removed]",
      "text/plain": [
       "<matplotlib.figure.Figure at 0x7f9bfc8a5fd0>"
      ]
     },
     "metadata": {},
     "output_type": "display_data"
    }
   ],
   "source": [
    "def f(t):\n",
    "    return 5*t+3\n",
    "\n",
    "for sec in t:\n",
    "    plot.plot(t,f(t))"
   ]
  },
  {
   "cell_type": "markdown",
   "metadata": {},
   "source": [
    "Same with lamda function"
   ]
  },
  {
   "cell_type": "code",
   "execution_count": 24,
   "metadata": {
    "collapsed": false
   },
   "outputs": [
    {
     "ename": "ValueError",
     "evalue": "x and y must have same first dimension",
     "output_type": "error",
     "traceback": [
      "\u001b[1;31m---------------------------------------------------------------------------\u001b[0m",
      "\u001b[1;31mValueError\u001b[0m                                Traceback (most recent call last)",
      "\u001b[1;32m<ipython-input-24-773c8d0f6777>\u001b[0m in \u001b[0;36m<module>\u001b[1;34m()\u001b[0m\n\u001b[0;32m      1\u001b[0m \u001b[1;32mfor\u001b[0m \u001b[0msec\u001b[0m \u001b[1;32min\u001b[0m \u001b[0mt\u001b[0m\u001b[1;33m:\u001b[0m\u001b[1;33m\u001b[0m\u001b[0m\n\u001b[1;32m----> 2\u001b[1;33m     \u001b[0mplot\u001b[0m\u001b[1;33m.\u001b[0m\u001b[0mplot\u001b[0m\u001b[1;33m(\u001b[0m\u001b[0mt\u001b[0m\u001b[1;33m,\u001b[0m\u001b[1;33m(\u001b[0m\u001b[1;32mlambda\u001b[0m \u001b[0mt\u001b[0m\u001b[1;33m:\u001b[0m \u001b[1;36m5\u001b[0m\u001b[1;33m*\u001b[0m\u001b[0mt\u001b[0m\u001b[1;33m+\u001b[0m\u001b[1;36m3\u001b[0m\u001b[1;33m)\u001b[0m\u001b[1;33m)\u001b[0m\u001b[1;33m\u001b[0m\u001b[0m\n\u001b[0m",
      "\u001b[1;32m/site/x86/anaconda-1.8/anaconda/lib/python2.7/site-packages/matplotlib/pyplot.py\u001b[0m in \u001b[0;36mplot\u001b[1;34m(*args, **kwargs)\u001b[0m\n\u001b[0;32m   3152\u001b[0m         \u001b[0max\u001b[0m\u001b[1;33m.\u001b[0m\u001b[0mhold\u001b[0m\u001b[1;33m(\u001b[0m\u001b[0mhold\u001b[0m\u001b[1;33m)\u001b[0m\u001b[1;33m\u001b[0m\u001b[0m\n\u001b[0;32m   3153\u001b[0m     \u001b[1;32mtry\u001b[0m\u001b[1;33m:\u001b[0m\u001b[1;33m\u001b[0m\u001b[0m\n\u001b[1;32m-> 3154\u001b[1;33m         \u001b[0mret\u001b[0m \u001b[1;33m=\u001b[0m \u001b[0max\u001b[0m\u001b[1;33m.\u001b[0m\u001b[0mplot\u001b[0m\u001b[1;33m(\u001b[0m\u001b[1;33m*\u001b[0m\u001b[0margs\u001b[0m\u001b[1;33m,\u001b[0m \u001b[1;33m**\u001b[0m\u001b[0mkwargs\u001b[0m\u001b[1;33m)\u001b[0m\u001b[1;33m\u001b[0m\u001b[0m\n\u001b[0m\u001b[0;32m   3155\u001b[0m     \u001b[1;32mfinally\u001b[0m\u001b[1;33m:\u001b[0m\u001b[1;33m\u001b[0m\u001b[0m\n\u001b[0;32m   3156\u001b[0m         \u001b[0max\u001b[0m\u001b[1;33m.\u001b[0m\u001b[0mhold\u001b[0m\u001b[1;33m(\u001b[0m\u001b[0mwashold\u001b[0m\u001b[1;33m)\u001b[0m\u001b[1;33m\u001b[0m\u001b[0m\n",
      "\u001b[1;32m/site/x86/anaconda-1.8/anaconda/lib/python2.7/site-packages/matplotlib/__init__.py\u001b[0m in \u001b[0;36minner\u001b[1;34m(ax, *args, **kwargs)\u001b[0m\n\u001b[0;32m   1809\u001b[0m                     warnings.warn(msg % (label_namer, func.__name__),\n\u001b[0;32m   1810\u001b[0m                                   RuntimeWarning, stacklevel=2)\n\u001b[1;32m-> 1811\u001b[1;33m             \u001b[1;32mreturn\u001b[0m \u001b[0mfunc\u001b[0m\u001b[1;33m(\u001b[0m\u001b[0max\u001b[0m\u001b[1;33m,\u001b[0m \u001b[1;33m*\u001b[0m\u001b[0margs\u001b[0m\u001b[1;33m,\u001b[0m \u001b[1;33m**\u001b[0m\u001b[0mkwargs\u001b[0m\u001b[1;33m)\u001b[0m\u001b[1;33m\u001b[0m\u001b[0m\n\u001b[0m\u001b[0;32m   1812\u001b[0m         \u001b[0mpre_doc\u001b[0m \u001b[1;33m=\u001b[0m \u001b[0minner\u001b[0m\u001b[1;33m.\u001b[0m\u001b[0m__doc__\u001b[0m\u001b[1;33m\u001b[0m\u001b[0m\n\u001b[0;32m   1813\u001b[0m         \u001b[1;32mif\u001b[0m \u001b[0mpre_doc\u001b[0m \u001b[1;32mis\u001b[0m \u001b[0mNone\u001b[0m\u001b[1;33m:\u001b[0m\u001b[1;33m\u001b[0m\u001b[0m\n",
      "\u001b[1;32m/site/x86/anaconda-1.8/anaconda/lib/python2.7/site-packages/matplotlib/axes/_axes.py\u001b[0m in \u001b[0;36mplot\u001b[1;34m(self, *args, **kwargs)\u001b[0m\n\u001b[0;32m   1425\u001b[0m             \u001b[0mkwargs\u001b[0m\u001b[1;33m[\u001b[0m\u001b[1;34m'color'\u001b[0m\u001b[1;33m]\u001b[0m \u001b[1;33m=\u001b[0m \u001b[0mc\u001b[0m\u001b[1;33m\u001b[0m\u001b[0m\n\u001b[0;32m   1426\u001b[0m \u001b[1;33m\u001b[0m\u001b[0m\n\u001b[1;32m-> 1427\u001b[1;33m         \u001b[1;32mfor\u001b[0m \u001b[0mline\u001b[0m \u001b[1;32min\u001b[0m \u001b[0mself\u001b[0m\u001b[1;33m.\u001b[0m\u001b[0m_get_lines\u001b[0m\u001b[1;33m(\u001b[0m\u001b[1;33m*\u001b[0m\u001b[0margs\u001b[0m\u001b[1;33m,\u001b[0m \u001b[1;33m**\u001b[0m\u001b[0mkwargs\u001b[0m\u001b[1;33m)\u001b[0m\u001b[1;33m:\u001b[0m\u001b[1;33m\u001b[0m\u001b[0m\n\u001b[0m\u001b[0;32m   1428\u001b[0m             \u001b[0mself\u001b[0m\u001b[1;33m.\u001b[0m\u001b[0madd_line\u001b[0m\u001b[1;33m(\u001b[0m\u001b[0mline\u001b[0m\u001b[1;33m)\u001b[0m\u001b[1;33m\u001b[0m\u001b[0m\n\u001b[0;32m   1429\u001b[0m             \u001b[0mlines\u001b[0m\u001b[1;33m.\u001b[0m\u001b[0mappend\u001b[0m\u001b[1;33m(\u001b[0m\u001b[0mline\u001b[0m\u001b[1;33m)\u001b[0m\u001b[1;33m\u001b[0m\u001b[0m\n",
      "\u001b[1;32m/site/x86/anaconda-1.8/anaconda/lib/python2.7/site-packages/matplotlib/axes/_base.py\u001b[0m in \u001b[0;36m_grab_next_args\u001b[1;34m(self, *args, **kwargs)\u001b[0m\n\u001b[0;32m    384\u001b[0m                 \u001b[1;32mreturn\u001b[0m\u001b[1;33m\u001b[0m\u001b[0m\n\u001b[0;32m    385\u001b[0m             \u001b[1;32mif\u001b[0m \u001b[0mlen\u001b[0m\u001b[1;33m(\u001b[0m\u001b[0mremaining\u001b[0m\u001b[1;33m)\u001b[0m \u001b[1;33m<=\u001b[0m \u001b[1;36m3\u001b[0m\u001b[1;33m:\u001b[0m\u001b[1;33m\u001b[0m\u001b[0m\n\u001b[1;32m--> 386\u001b[1;33m                 \u001b[1;32mfor\u001b[0m \u001b[0mseg\u001b[0m \u001b[1;32min\u001b[0m \u001b[0mself\u001b[0m\u001b[1;33m.\u001b[0m\u001b[0m_plot_args\u001b[0m\u001b[1;33m(\u001b[0m\u001b[0mremaining\u001b[0m\u001b[1;33m,\u001b[0m \u001b[0mkwargs\u001b[0m\u001b[1;33m)\u001b[0m\u001b[1;33m:\u001b[0m\u001b[1;33m\u001b[0m\u001b[0m\n\u001b[0m\u001b[0;32m    387\u001b[0m                     \u001b[1;32myield\u001b[0m \u001b[0mseg\u001b[0m\u001b[1;33m\u001b[0m\u001b[0m\n\u001b[0;32m    388\u001b[0m                 \u001b[1;32mreturn\u001b[0m\u001b[1;33m\u001b[0m\u001b[0m\n",
      "\u001b[1;32m/site/x86/anaconda-1.8/anaconda/lib/python2.7/site-packages/matplotlib/axes/_base.py\u001b[0m in \u001b[0;36m_plot_args\u001b[1;34m(self, tup, kwargs)\u001b[0m\n\u001b[0;32m    362\u001b[0m             \u001b[0mx\u001b[0m\u001b[1;33m,\u001b[0m \u001b[0my\u001b[0m \u001b[1;33m=\u001b[0m \u001b[0mindex_of\u001b[0m\u001b[1;33m(\u001b[0m\u001b[0mtup\u001b[0m\u001b[1;33m[\u001b[0m\u001b[1;33m-\u001b[0m\u001b[1;36m1\u001b[0m\u001b[1;33m]\u001b[0m\u001b[1;33m)\u001b[0m\u001b[1;33m\u001b[0m\u001b[0m\n\u001b[0;32m    363\u001b[0m \u001b[1;33m\u001b[0m\u001b[0m\n\u001b[1;32m--> 364\u001b[1;33m         \u001b[0mx\u001b[0m\u001b[1;33m,\u001b[0m \u001b[0my\u001b[0m \u001b[1;33m=\u001b[0m \u001b[0mself\u001b[0m\u001b[1;33m.\u001b[0m\u001b[0m_xy_from_xy\u001b[0m\u001b[1;33m(\u001b[0m\u001b[0mx\u001b[0m\u001b[1;33m,\u001b[0m \u001b[0my\u001b[0m\u001b[1;33m)\u001b[0m\u001b[1;33m\u001b[0m\u001b[0m\n\u001b[0m\u001b[0;32m    365\u001b[0m \u001b[1;33m\u001b[0m\u001b[0m\n\u001b[0;32m    366\u001b[0m         \u001b[1;32mif\u001b[0m \u001b[0mself\u001b[0m\u001b[1;33m.\u001b[0m\u001b[0mcommand\u001b[0m \u001b[1;33m==\u001b[0m \u001b[1;34m'plot'\u001b[0m\u001b[1;33m:\u001b[0m\u001b[1;33m\u001b[0m\u001b[0m\n",
      "\u001b[1;32m/site/x86/anaconda-1.8/anaconda/lib/python2.7/site-packages/matplotlib/axes/_base.py\u001b[0m in \u001b[0;36m_xy_from_xy\u001b[1;34m(self, x, y)\u001b[0m\n\u001b[0;32m    221\u001b[0m         \u001b[0my\u001b[0m \u001b[1;33m=\u001b[0m \u001b[0m_check_1d\u001b[0m\u001b[1;33m(\u001b[0m\u001b[0my\u001b[0m\u001b[1;33m)\u001b[0m\u001b[1;33m\u001b[0m\u001b[0m\n\u001b[0;32m    222\u001b[0m         \u001b[1;32mif\u001b[0m \u001b[0mx\u001b[0m\u001b[1;33m.\u001b[0m\u001b[0mshape\u001b[0m\u001b[1;33m[\u001b[0m\u001b[1;36m0\u001b[0m\u001b[1;33m]\u001b[0m \u001b[1;33m!=\u001b[0m \u001b[0my\u001b[0m\u001b[1;33m.\u001b[0m\u001b[0mshape\u001b[0m\u001b[1;33m[\u001b[0m\u001b[1;36m0\u001b[0m\u001b[1;33m]\u001b[0m\u001b[1;33m:\u001b[0m\u001b[1;33m\u001b[0m\u001b[0m\n\u001b[1;32m--> 223\u001b[1;33m             \u001b[1;32mraise\u001b[0m \u001b[0mValueError\u001b[0m\u001b[1;33m(\u001b[0m\u001b[1;34m\"x and y must have same first dimension\"\u001b[0m\u001b[1;33m)\u001b[0m\u001b[1;33m\u001b[0m\u001b[0m\n\u001b[0m\u001b[0;32m    224\u001b[0m         \u001b[1;32mif\u001b[0m \u001b[0mx\u001b[0m\u001b[1;33m.\u001b[0m\u001b[0mndim\u001b[0m \u001b[1;33m>\u001b[0m \u001b[1;36m2\u001b[0m \u001b[1;32mor\u001b[0m \u001b[0my\u001b[0m\u001b[1;33m.\u001b[0m\u001b[0mndim\u001b[0m \u001b[1;33m>\u001b[0m \u001b[1;36m2\u001b[0m\u001b[1;33m:\u001b[0m\u001b[1;33m\u001b[0m\u001b[0m\n\u001b[0;32m    225\u001b[0m             \u001b[1;32mraise\u001b[0m \u001b[0mValueError\u001b[0m\u001b[1;33m(\u001b[0m\u001b[1;34m\"x and y can be no greater than 2-D\"\u001b[0m\u001b[1;33m)\u001b[0m\u001b[1;33m\u001b[0m\u001b[0m\n",
      "\u001b[1;31mValueError\u001b[0m: x and y must have same first dimension"
     ]
    },
    {
     "data": {
      "image/png": "[encoded data removed]",
      "text/plain": [
       "<matplotlib.figure.Figure at 0x7f9bf708d2d0>"
      ]
     },
     "metadata": {},
     "output_type": "display_data"
    }
   ],
   "source": [
    "for sec in t:\n",
    "    plot.plot(t,(lambda t: 5*t+3))"
   ]
  },
  {
   "cell_type": "code",
   "execution_count": 26,
   "metadata": {
    "collapsed": false
   },
   "outputs": [
    {
     "data": {
      "image/png": "[encoded data removed]",
      "text/plain": [
       "<matplotlib.figure.Figure at 0x7f9bf7044b90>"
      ]
     },
     "metadata": {},
     "output_type": "display_data"
    }
   ],
   "source": [
    "t = np.arange(-50.,50.)\n",
    "\n",
    "for sec in t:\n",
    "    plot.plot(sec,1,\"ro\")\n",
    "    \n",
    "plot.show()"
   ]
  },
  {
   "cell_type": "code",
   "execution_count": 27,
   "metadata": {
    "collapsed": false
   },
   "outputs": [
    {
     "data": {
      "image/png": "[encoded data removed]",
      "text/plain": [
       "<matplotlib.figure.Figure at 0x7f9bf70c64d0>"
      ]
     },
     "metadata": {},
     "output_type": "display_data"
    }
   ],
   "source": [
    "for x in t:\n",
    "    plot.plot(x,x**2,\"ro\")"
   ]
  },
  {
   "cell_type": "code",
   "execution_count": 28,
   "metadata": {
    "collapsed": false
   },
   "outputs": [
    {
     "data": {
      "image/png": "[encoded data removed]",
      "text/plain": [
       "<matplotlib.figure.Figure at 0x7f9bfc520cd0>"
      ]
     },
     "metadata": {},
     "output_type": "display_data"
    }
   ],
   "source": [
    "from scipy.optimize import minimize\n",
    "\n",
    "for x in t:\n",
    "    plot.plot(x,x**2,\"ro\")\n"
   ]
  },
  {
   "cell_type": "code",
   "execution_count": 29,
   "metadata": {
    "collapsed": false
   },
   "outputs": [],
   "source": [
    "function = lambda x: x**3"
   ]
  },
  {
   "cell_type": "code",
   "execution_count": 30,
   "metadata": {
    "collapsed": false
   },
   "outputs": [
    {
     "data": {
      "image/png": "[encoded data removed]",
      "text/plain": [
       "<matplotlib.figure.Figure at 0x7f9bf2b1e850>"
      ]
     },
     "metadata": {},
     "output_type": "display_data"
    }
   ],
   "source": [
    "for x in t:\n",
    "    plot.plot(x,function(x),'ro')"
   ]
  },
  {
   "cell_type": "code",
   "execution_count": 31,
   "metadata": {
    "collapsed": true
   },
   "outputs": [],
   "source": [
    "# Defining an arbitrary function that we will then minimize\n",
    "def funct(x):\n",
    "    return x**4-x**2+x-1"
   ]
  },
  {
   "cell_type": "code",
   "execution_count": 32,
   "metadata": {
    "collapsed": false
   },
   "outputs": [
    {
     "data": {
      "image/png": "[encoded data removed]",
      "text/plain": [
       "<matplotlib.figure.Figure at 0x7f9bf2b8b690>"
      ]
     },
     "metadata": {},
     "output_type": "display_data"
    }
   ],
   "source": [
    "for x in t:    \n",
    "    plot.plot(x,funct(x),'yo')"
   ]
  },
  {
   "cell_type": "code",
   "execution_count": 33,
   "metadata": {
    "collapsed": false
   },
   "outputs": [],
   "source": [
    "# our initial guess here will be bad, just to see how quickly it will work\n",
    "minimum=minimize(funct,1000,method='Nelder-Mead',tol=1e-10)"
   ]
  },
  {
   "cell_type": "code",
   "execution_count": 34,
   "metadata": {
    "collapsed": false
   },
   "outputs": [
    {
     "name": "stdout",
     "output_type": "stream",
     "text": [
      "[-0.88464618]\n"
     ]
    }
   ],
   "source": [
    "print minimum.x"
   ]
  },
  {
   "cell_type": "code",
   "execution_count": 35,
   "metadata": {
    "collapsed": false
   },
   "outputs": [
    {
     "name": "stdout",
     "output_type": "stream",
     "text": [
      "[-2.05478406]\n"
     ]
    }
   ],
   "source": [
    "print funct(minimum.x)"
   ]
  },
  {
   "cell_type": "code",
   "execution_count": 36,
   "metadata": {
    "collapsed": false
   },
   "outputs": [
    {
     "name": "stdout",
     "output_type": "stream",
     "text": [
      "[ 0.]\n"
     ]
    }
   ],
   "source": [
    "# We can do the same thing with x^2 and see what we will have as a result\n",
    "def quadratic(x):\n",
    "    return x**2\n",
    "\n",
    "quad_min=minimize(quadratic,10000000,method='Nelder-Mead',tol=1e-10)\n",
    "print quad_min.x #0., we know this is correct because the analytic solution is zero"
   ]
  },
  {
   "cell_type": "code",
   "execution_count": 37,
   "metadata": {
    "collapsed": false,
    "scrolled": true
   },
   "outputs": [
    {
     "data": {
      "text/plain": [
       "<matplotlib.text.Annotation at 0x7f9bf7363ad0>"
      ]
     },
     "execution_count": 37,
     "metadata": {},
     "output_type": "execute_result"
    },
    {
     "data": {
      "image/png": "[encoded data removed]",
      "text/plain": [
       "<matplotlib.figure.Figure at 0x7f9bf7305ad0>"
      ]
     },
     "metadata": {},
     "output_type": "display_data"
    }
   ],
   "source": [
    "plot.plot(t,quadratic(t))\n",
    "plot.title(\"Y=X^2\")\n",
    "plot.annotate(\"Minimum\",xy=(quad_min.x,quadratic(quad_min.x)),xytext=(0,1000),arrowprops=dict(facecolor='black', shrink=0.05))"
   ]
  },
  {
   "cell_type": "markdown",
   "metadata": {},
   "source": [
    "### Predictive model based on a linear curve"
   ]
  },
  {
   "cell_type": "code",
   "execution_count": 38,
   "metadata": {
    "collapsed": false
   },
   "outputs": [
    {
     "ename": "TypeError",
     "evalue": "fit() takes at most 4 arguments (5 given)",
     "output_type": "error",
     "traceback": [
      "\u001b[1;31m---------------------------------------------------------------------------\u001b[0m",
      "\u001b[1;31mTypeError\u001b[0m                                 Traceback (most recent call last)",
      "\u001b[1;32m<ipython-input-38-c15b90842069>\u001b[0m in \u001b[0;36m<module>\u001b[1;34m()\u001b[0m\n\u001b[0;32m      1\u001b[0m \u001b[1;32mfrom\u001b[0m \u001b[0msklearn\u001b[0m \u001b[1;32mimport\u001b[0m \u001b[0mlinear_model\u001b[0m \u001b[1;32mas\u001b[0m \u001b[0mlin_mod\u001b[0m\u001b[1;33m\u001b[0m\u001b[0m\n\u001b[0;32m      2\u001b[0m \u001b[0mlinfit\u001b[0m \u001b[1;33m=\u001b[0m \u001b[0mlin_mod\u001b[0m\u001b[1;33m.\u001b[0m\u001b[0mLinearRegression\u001b[0m\u001b[1;33m(\u001b[0m\u001b[1;33m)\u001b[0m\u001b[1;33m\u001b[0m\u001b[0m\n\u001b[1;32m----> 3\u001b[1;33m \u001b[0mlinfit\u001b[0m\u001b[1;33m.\u001b[0m\u001b[0mfit\u001b[0m\u001b[1;33m(\u001b[0m\u001b[1;33m[\u001b[0m\u001b[1;36m0\u001b[0m\u001b[1;33m,\u001b[0m\u001b[1;36m0\u001b[0m\u001b[1;33m]\u001b[0m\u001b[1;33m,\u001b[0m\u001b[1;33m[\u001b[0m\u001b[1;36m1\u001b[0m\u001b[1;33m,\u001b[0m\u001b[1;36m0\u001b[0m\u001b[1;33m]\u001b[0m\u001b[1;33m,\u001b[0m\u001b[1;33m[\u001b[0m\u001b[1;36m1\u001b[0m\u001b[1;33m,\u001b[0m\u001b[1;36m1\u001b[0m\u001b[1;33m]\u001b[0m\u001b[1;33m,\u001b[0m\u001b[1;33m[\u001b[0m\u001b[1;36m2\u001b[0m\u001b[1;33m,\u001b[0m\u001b[1;36m1\u001b[0m\u001b[1;33m]\u001b[0m\u001b[1;33m)\u001b[0m\u001b[1;33m\u001b[0m\u001b[0m\n\u001b[0m",
      "\u001b[1;31mTypeError\u001b[0m: fit() takes at most 4 arguments (5 given)"
     ]
    }
   ],
   "source": [
    "from sklearn import linear_model as lin_mod\n",
    "linfit = lin_mod.LinearRegression()\n",
    "linfit.fit([0,0],[1,0],[1,1],[2,1])"
   ]
  },
  {
   "cell_type": "code",
   "execution_count": 40,
   "metadata": {
    "collapsed": true
   },
   "outputs": [],
   "source": [
    "# We create a sample data set, the first half will be used for learning, and the next half for testing\n",
    "x = np.arange(0.,50.,0.5)\n",
    "y = np.arange(0.,100.,1.)\n",
    "\n",
    "# The actual model here is y=2x"
   ]
  },
  {
   "cell_type": "code",
   "execution_count": 41,
   "metadata": {
    "collapsed": true
   },
   "outputs": [],
   "source": [
    "teachx = x[:50]\n",
    "testx = x[50:]\n",
    "\n",
    "teachy = y[:50]\n",
    "testy = y[50:]"
   ]
  },
  {
   "cell_type": "code",
   "execution_count": 42,
   "metadata": {
    "collapsed": false
   },
   "outputs": [
    {
     "name": "stderr",
     "output_type": "stream",
     "text": [
      "/site/x86/anaconda-1.8/anaconda/lib/python2.7/site-packages/sklearn/utils/validation.py:386: DeprecationWarning: Passing 1d arrays as data is deprecated in 0.17 and willraise ValueError in 0.19. Reshape your data either using X.reshape(-1, 1) if your data has a single feature or X.reshape(1, -1) if it contains a single sample.\n",
      "  DeprecationWarning)\n"
     ]
    },
    {
     "ename": "ValueError",
     "evalue": "Found arrays with inconsistent numbers of samples: [ 1 50]",
     "output_type": "error",
     "traceback": [
      "\u001b[1;31m---------------------------------------------------------------------------\u001b[0m",
      "\u001b[1;31mValueError\u001b[0m                                Traceback (most recent call last)",
      "\u001b[1;32m<ipython-input-42-fa8d8f16cb1a>\u001b[0m in \u001b[0;36m<module>\u001b[1;34m()\u001b[0m\n\u001b[1;32m----> 1\u001b[1;33m \u001b[0mlinfit\u001b[0m\u001b[1;33m.\u001b[0m\u001b[0mfit\u001b[0m\u001b[1;33m(\u001b[0m\u001b[0mteachx\u001b[0m\u001b[1;33m,\u001b[0m\u001b[0mteachy\u001b[0m\u001b[1;33m)\u001b[0m\u001b[1;33m\u001b[0m\u001b[0m\n\u001b[0m",
      "\u001b[1;32m/site/x86/anaconda-1.8/anaconda/lib/python2.7/site-packages/sklearn/linear_model/base.pyc\u001b[0m in \u001b[0;36mfit\u001b[1;34m(self, X, y, sample_weight)\u001b[0m\n\u001b[0;32m    425\u001b[0m         \u001b[0mn_jobs_\u001b[0m \u001b[1;33m=\u001b[0m \u001b[0mself\u001b[0m\u001b[1;33m.\u001b[0m\u001b[0mn_jobs\u001b[0m\u001b[1;33m\u001b[0m\u001b[0m\n\u001b[0;32m    426\u001b[0m         X, y = check_X_y(X, y, accept_sparse=['csr', 'csc', 'coo'],\n\u001b[1;32m--> 427\u001b[1;33m                          y_numeric=True, multi_output=True)\n\u001b[0m\u001b[0;32m    428\u001b[0m \u001b[1;33m\u001b[0m\u001b[0m\n\u001b[0;32m    429\u001b[0m         \u001b[1;32mif\u001b[0m \u001b[1;33m(\u001b[0m\u001b[1;33m(\u001b[0m\u001b[0msample_weight\u001b[0m \u001b[1;32mis\u001b[0m \u001b[1;32mnot\u001b[0m \u001b[0mNone\u001b[0m\u001b[1;33m)\u001b[0m \u001b[1;32mand\u001b[0m \u001b[0mnp\u001b[0m\u001b[1;33m.\u001b[0m\u001b[0matleast_1d\u001b[0m\u001b[1;33m(\u001b[0m\u001b[0msample_weight\u001b[0m\u001b[1;33m)\u001b[0m\u001b[1;33m.\u001b[0m\u001b[0mndim\u001b[0m \u001b[1;33m>\u001b[0m \u001b[1;36m1\u001b[0m\u001b[1;33m)\u001b[0m\u001b[1;33m:\u001b[0m\u001b[1;33m\u001b[0m\u001b[0m\n",
      "\u001b[1;32m/site/x86/anaconda-1.8/anaconda/lib/python2.7/site-packages/sklearn/utils/validation.pyc\u001b[0m in \u001b[0;36mcheck_X_y\u001b[1;34m(X, y, accept_sparse, dtype, order, copy, force_all_finite, ensure_2d, allow_nd, multi_output, ensure_min_samples, ensure_min_features, y_numeric, warn_on_dtype, estimator)\u001b[0m\n\u001b[0;32m    518\u001b[0m         \u001b[0my\u001b[0m \u001b[1;33m=\u001b[0m \u001b[0my\u001b[0m\u001b[1;33m.\u001b[0m\u001b[0mastype\u001b[0m\u001b[1;33m(\u001b[0m\u001b[0mnp\u001b[0m\u001b[1;33m.\u001b[0m\u001b[0mfloat64\u001b[0m\u001b[1;33m)\u001b[0m\u001b[1;33m\u001b[0m\u001b[0m\n\u001b[0;32m    519\u001b[0m \u001b[1;33m\u001b[0m\u001b[0m\n\u001b[1;32m--> 520\u001b[1;33m     \u001b[0mcheck_consistent_length\u001b[0m\u001b[1;33m(\u001b[0m\u001b[0mX\u001b[0m\u001b[1;33m,\u001b[0m \u001b[0my\u001b[0m\u001b[1;33m)\u001b[0m\u001b[1;33m\u001b[0m\u001b[0m\n\u001b[0m\u001b[0;32m    521\u001b[0m \u001b[1;33m\u001b[0m\u001b[0m\n\u001b[0;32m    522\u001b[0m     \u001b[1;32mreturn\u001b[0m \u001b[0mX\u001b[0m\u001b[1;33m,\u001b[0m \u001b[0my\u001b[0m\u001b[1;33m\u001b[0m\u001b[0m\n",
      "\u001b[1;32m/site/x86/anaconda-1.8/anaconda/lib/python2.7/site-packages/sklearn/utils/validation.pyc\u001b[0m in \u001b[0;36mcheck_consistent_length\u001b[1;34m(*arrays)\u001b[0m\n\u001b[0;32m    174\u001b[0m     \u001b[1;32mif\u001b[0m \u001b[0mlen\u001b[0m\u001b[1;33m(\u001b[0m\u001b[0muniques\u001b[0m\u001b[1;33m)\u001b[0m \u001b[1;33m>\u001b[0m \u001b[1;36m1\u001b[0m\u001b[1;33m:\u001b[0m\u001b[1;33m\u001b[0m\u001b[0m\n\u001b[0;32m    175\u001b[0m         raise ValueError(\"Found arrays with inconsistent numbers of samples: \"\n\u001b[1;32m--> 176\u001b[1;33m                          \"%s\" % str(uniques))\n\u001b[0m\u001b[0;32m    177\u001b[0m \u001b[1;33m\u001b[0m\u001b[0m\n\u001b[0;32m    178\u001b[0m \u001b[1;33m\u001b[0m\u001b[0m\n",
      "\u001b[1;31mValueError\u001b[0m: Found arrays with inconsistent numbers of samples: [ 1 50]"
     ]
    }
   ],
   "source": [
    "linfit.fit(teachx,teachy)"
   ]
  },
  {
   "cell_type": "code",
   "execution_count": 44,
   "metadata": {
    "collapsed": false
   },
   "outputs": [
    {
     "name": "stdout",
     "output_type": "stream",
     "text": [
      "[  0.    0.5   1.    1.5   2.    2.5   3.    3.5   4.    4.5   5.    5.5\n",
      "   6.    6.5   7.    7.5   8.    8.5   9.    9.5  10.   10.5  11.   11.5\n",
      "  12.   12.5  13.   13.5  14.   14.5  15.   15.5  16.   16.5  17.   17.5\n",
      "  18.   18.5  19.   19.5  20.   20.5  21.   21.5  22.   22.5  23.   23.5\n",
      "  24.   24.5]\n"
     ]
    }
   ],
   "source": [
    "print teachx"
   ]
  },
  {
   "cell_type": "code",
   "execution_count": 45,
   "metadata": {
    "collapsed": false
   },
   "outputs": [
    {
     "name": "stdout",
     "output_type": "stream",
     "text": [
      "[  0.   1.   2.   3.   4.   5.   6.   7.   8.   9.  10.  11.  12.  13.  14.\n",
      "  15.  16.  17.  18.  19.  20.  21.  22.  23.  24.  25.  26.  27.  28.  29.\n",
      "  30.  31.  32.  33.  34.  35.  36.  37.  38.  39.  40.  41.  42.  43.  44.\n",
      "  45.  46.  47.  48.  49.]\n"
     ]
    }
   ],
   "source": [
    "print teachy"
   ]
  },
  {
   "cell_type": "code",
   "execution_count": 46,
   "metadata": {
    "collapsed": false
   },
   "outputs": [
    {
     "name": "stdout",
     "output_type": "stream",
     "text": [
      "The first data set is of size 50 The second is of size 50\n"
     ]
    }
   ],
   "source": [
    "print \"The first data set is of size\", teachx.size, \"The second is of size\", teachy.size #confirming that we're good"
   ]
  },
  {
   "cell_type": "code",
   "execution_count": 47,
   "metadata": {
    "collapsed": false
   },
   "outputs": [
    {
     "data": {
      "text/plain": [
       "LinearRegression(copy_X=True, fit_intercept=True, n_jobs=1, normalize=False)"
      ]
     },
     "execution_count": 47,
     "metadata": {},
     "output_type": "execute_result"
    }
   ],
   "source": [
    "teachx = teachx.reshape(-1,1);teachy = teachy.reshape(-1,1) #if reshape is -1, it infers the proper values for shape\n",
    "linfit.fit(teachx,teachy)"
   ]
  },
  {
   "cell_type": "code",
   "execution_count": 48,
   "metadata": {
    "collapsed": false
   },
   "outputs": [
    {
     "name": "stdout",
     "output_type": "stream",
     "text": [
      "[[ 2.]]\n"
     ]
    }
   ],
   "source": [
    "print linfit.coef_ #2, correct, this is y=2*x"
   ]
  },
  {
   "cell_type": "code",
   "execution_count": 49,
   "metadata": {
    "collapsed": false
   },
   "outputs": [],
   "source": [
    "testx = testx.reshape(-1,1)\n",
    "predicted = linfit.predict(testx).reshape(-1,1)"
   ]
  },
  {
   "cell_type": "code",
   "execution_count": 55,
   "metadata": {
    "collapsed": false,
    "scrolled": false
   },
   "outputs": [
    {
     "data": {
      "image/png": "[encoded data removed]",
      "text/plain": [
       "<matplotlib.figure.Figure at 0x7f9bf72bc210>"
      ]
     },
     "metadata": {},
     "output_type": "display_data"
    }
   ],
   "source": [
    "plot.plot(testx,predicted,\"b-\") # demonstrates the prediction was 100% accurate\n",
    "plot.plot(testx,testy,\"y-\") #the two plots\n",
    "plot.show() #comes out a mix of the two colors"
   ]
  },
  {
   "cell_type": "markdown",
   "metadata": {
    "collapsed": true
   },
   "source": [
    "### Creating a few data points, and predicting a model from them"
   ]
  },
  {
   "cell_type": "code",
   "execution_count": 62,
   "metadata": {
    "collapsed": false
   },
   "outputs": [
    {
     "name": "stdout",
     "output_type": "stream",
     "text": [
      "X [-50.         -48.98989899 -47.97979798 -46.96969697 -45.95959596\n",
      " -44.94949495 -43.93939394 -42.92929293 -41.91919192 -40.90909091\n",
      " -39.8989899  -38.88888889 -37.87878788 -36.86868687 -35.85858586\n",
      " -34.84848485 -33.83838384 -32.82828283 -31.81818182 -30.80808081\n",
      " -29.7979798  -28.78787879 -27.77777778 -26.76767677 -25.75757576\n",
      " -24.74747475 -23.73737374 -22.72727273 -21.71717172 -20.70707071\n",
      " -19.6969697  -18.68686869 -17.67676768 -16.66666667 -15.65656566\n",
      " -14.64646465 -13.63636364 -12.62626263 -11.61616162 -10.60606061\n",
      "  -9.5959596   -8.58585859  -7.57575758  -6.56565657  -5.55555556\n",
      "  -4.54545455  -3.53535354  -2.52525253  -1.51515152  -0.50505051\n",
      "   0.50505051   1.51515152   2.52525253   3.53535354   4.54545455\n",
      "   5.55555556   6.56565657   7.57575758   8.58585859   9.5959596\n",
      "  10.60606061  11.61616162  12.62626263  13.63636364  14.64646465\n",
      "  15.65656566  16.66666667  17.67676768  18.68686869  19.6969697\n",
      "  20.70707071  21.71717172  22.72727273  23.73737374  24.74747475\n",
      "  25.75757576  26.76767677  27.77777778  28.78787879  29.7979798\n",
      "  30.80808081  31.81818182  32.82828283  33.83838384  34.84848485\n",
      "  35.85858586  36.86868687  37.87878788  38.88888889  39.8989899\n",
      "  40.90909091  41.91919192  42.92929293  43.93939394  44.94949495\n",
      "  45.95959596  46.96969697  47.97979798  48.98989899  50.        ]\n",
      "Y [-50. -49. -48. -47. -46. -45. -44. -43. -42. -41. -40. -39. -38. -37. -36.\n",
      " -35. -34. -33. -32. -31. -30. -29. -28. -27. -26. -25. -24. -23. -22. -21.\n",
      " -20. -19. -18. -17. -16. -15. -14. -13. -12. -11. -10.  -9.  -8.  -7.  -6.\n",
      "  -5.  -4.  -3.  -2.  -1.   0.   1.   2.   3.   4.   5.   6.   7.   8.   9.\n",
      "  10.  11.  12.  13.  14.  15.  16.  17.  18.  19.  20.  21.  22.  23.  24.\n",
      "  25.  26.  27.  28.  29.  30.  31.  32.  33.  34.  35.  36.  37.  38.  39.\n",
      "  40.  41.  42.  43.  44.  45.  46.  47.  48.  49.  50.]\n"
     ]
    }
   ],
   "source": [
    "x = np.linspace(-50.,50.,100)\n",
    "y = np.arange(-50.,51.,1.) #does not include last data point\n",
    "print \"X\", x\n",
    "print \"Y\", y\n",
    "\n",
    "# arange() produces more accurate results than does linspace()"
   ]
  },
  {
   "cell_type": "code",
   "execution_count": 91,
   "metadata": {
    "collapsed": false
   },
   "outputs": [
    {
     "name": "stdout",
     "output_type": "stream",
     "text": [
      "27\n"
     ]
    }
   ],
   "source": [
    "x = np.arange(-50.,51.,1.)\n",
    "first_function = lambda val: val**3\n",
    "print(first_function(3))"
   ]
  },
  {
   "cell_type": "code",
   "execution_count": 92,
   "metadata": {
    "collapsed": true
   },
   "outputs": [],
   "source": [
    "second_function = lambda val: val**3 + 6"
   ]
  },
  {
   "cell_type": "code",
   "execution_count": 93,
   "metadata": {
    "collapsed": false
   },
   "outputs": [
    {
     "name": "stdout",
     "output_type": "stream",
     "text": [
      "131\n"
     ]
    }
   ],
   "source": [
    "print second_function(5)"
   ]
  },
  {
   "cell_type": "code",
   "execution_count": 94,
   "metadata": {
    "collapsed": true
   },
   "outputs": [],
   "source": [
    "first_domain = x[:50]\n",
    "second_domain = x[50:]"
   ]
  },
  {
   "cell_type": "code",
   "execution_count": 95,
   "metadata": {
    "collapsed": false
   },
   "outputs": [
    {
     "ename": "NameError",
     "evalue": "name 'vectorize' is not defined",
     "output_type": "error",
     "traceback": [
      "\u001b[1;31m---------------------------------------------------------------------------\u001b[0m",
      "\u001b[1;31mNameError\u001b[0m                                 Traceback (most recent call last)",
      "\u001b[1;32m<ipython-input-95-3bdc8d8250f2>\u001b[0m in \u001b[0;36m<module>\u001b[1;34m()\u001b[0m\n\u001b[1;32m----> 1\u001b[1;33m \u001b[0mfirst_range\u001b[0m \u001b[1;33m=\u001b[0m \u001b[0mvectorize\u001b[0m\u001b[1;33m(\u001b[0m\u001b[0mfirst_function\u001b[0m\u001b[1;33m(\u001b[0m\u001b[0mfirst_domain\u001b[0m\u001b[1;33m)\u001b[0m\u001b[1;33m)\u001b[0m \u001b[1;31m#not how vectorize works, should be called on numpy\u001b[0m\u001b[1;33m\u001b[0m\u001b[0m\n\u001b[0m\u001b[0;32m      2\u001b[0m \u001b[1;32mprint\u001b[0m \u001b[0mfirst_range\u001b[0m\u001b[1;33m\u001b[0m\u001b[0m\n",
      "\u001b[1;31mNameError\u001b[0m: name 'vectorize' is not defined"
     ]
    }
   ],
   "source": [
    "first_range = vectorize(first_function(first_domain)) #not how vectorize works, should be called on numpy\n",
    "print first_range"
   ]
  },
  {
   "cell_type": "code",
   "execution_count": null,
   "metadata": {
    "collapsed": false
   },
   "outputs": [],
   "source": [
    "first_range = first_function(first_domain)\n",
    "print first_range"
   ]
  },
  {
   "cell_type": "code",
   "execution_count": null,
   "metadata": {
    "collapsed": false
   },
   "outputs": [],
   "source": [
    "second_range = second_function(second_domain)\n",
    "print second_range"
   ]
  },
  {
   "cell_type": "code",
   "execution_count": 96,
   "metadata": {
    "collapsed": false
   },
   "outputs": [
    {
     "name": "stdout",
     "output_type": "stream",
     "text": [
      "Num: -50.0 Value: -125000.0\n",
      "Num: -49.0 Value: -117649.0\n",
      "Num: -48.0 Value: -110592.0\n",
      "Num: -47.0 Value: -103823.0\n",
      "Num: -46.0 Value: -97336.0\n",
      "Num: -45.0 Value: -91125.0\n",
      "Num: -44.0 Value: -85184.0\n",
      "Num: -43.0 Value: -79507.0\n",
      "Num: -42.0 Value: -74088.0\n",
      "Num: -41.0 Value: -68921.0\n",
      "Num: -40.0 Value: -64000.0\n",
      "Num: -39.0 Value: -59319.0\n",
      "Num: -38.0 Value: -54872.0\n",
      "Num: -37.0 Value: -50653.0\n",
      "Num: -36.0 Value: -46656.0\n",
      "Num: -35.0 Value: -42875.0\n",
      "Num: -34.0 Value: -39304.0\n",
      "Num: -33.0 Value: -35937.0\n",
      "Num: -32.0 Value: -32768.0\n",
      "Num: -31.0 Value: -29791.0\n",
      "Num: -30.0 Value: -27000.0\n",
      "Num: -29.0 Value: -24389.0\n",
      "Num: -28.0 Value: -21952.0\n",
      "Num: -27.0 Value: -19683.0\n",
      "Num: -26.0 Value: -17576.0\n",
      "Num: -25.0 Value: -15625.0\n",
      "Num: -24.0 Value: -13824.0\n",
      "Num: -23.0 Value: -12167.0\n",
      "Num: -22.0 Value: -10648.0\n",
      "Num: -21.0 Value: -9261.0\n",
      "Num: -20.0 Value: -8000.0\n",
      "Num: -19.0 Value: -6859.0\n",
      "Num: -18.0 Value: -5832.0\n",
      "Num: -17.0 Value: -4913.0\n",
      "Num: -16.0 Value: -4096.0\n",
      "Num: -15.0 Value: -3375.0\n",
      "Num: -14.0 Value: -2744.0\n",
      "Num: -13.0 Value: -2197.0\n",
      "Num: -12.0 Value: -1728.0\n",
      "Num: -11.0 Value: -1331.0\n",
      "Num: -10.0 Value: -1000.0\n",
      "Num: -9.0 Value: -729.0\n",
      "Num: -8.0 Value: -512.0\n",
      "Num: -7.0 Value: -343.0\n",
      "Num: -6.0 Value: -216.0\n",
      "Num: -5.0 Value: -125.0\n",
      "Num: -4.0 Value: -64.0\n",
      "Num: -3.0 Value: -27.0\n",
      "Num: -2.0 Value: -8.0\n",
      "Num: -1.0 Value: -1.0\n"
     ]
    }
   ],
   "source": [
    "for num in first_domain:\n",
    "    print \"Num:\",num, \"Value:\", first_function(num)"
   ]
  },
  {
   "cell_type": "code",
   "execution_count": 101,
   "metadata": {
    "collapsed": false
   },
   "outputs": [
    {
     "name": "stdout",
     "output_type": "stream",
     "text": [
      "Num: 0.0 Value: 6.0\n",
      "Num: 1.0 Value: 7.0\n",
      "Num: 2.0 Value: 14.0\n",
      "Num: 3.0 Value: 33.0\n",
      "Num: 4.0 Value: 70.0\n",
      "Num: 5.0 Value: 131.0\n",
      "Num: 6.0 Value: 222.0\n",
      "Num: 7.0 Value: 349.0\n",
      "Num: 8.0 Value: 518.0\n",
      "Num: 9.0 Value: 735.0\n",
      "Num: 10.0 Value: 1006.0\n",
      "Num: 11.0 Value: 1337.0\n",
      "Num: 12.0 Value: 1734.0\n",
      "Num: 13.0 Value: 2203.0\n",
      "Num: 14.0 Value: 2750.0\n",
      "Num: 15.0 Value: 3381.0\n",
      "Num: 16.0 Value: 4102.0\n",
      "Num: 17.0 Value: 4919.0\n",
      "Num: 18.0 Value: 5838.0\n",
      "Num: 19.0 Value: 6865.0\n",
      "Num: 20.0 Value: 8006.0\n",
      "Num: 21.0 Value: 9267.0\n",
      "Num: 22.0 Value: 10654.0\n",
      "Num: 23.0 Value: 12173.0\n",
      "Num: 24.0 Value: 13830.0\n",
      "Num: 25.0 Value: 15631.0\n",
      "Num: 26.0 Value: 17582.0\n",
      "Num: 27.0 Value: 19689.0\n",
      "Num: 28.0 Value: 21958.0\n",
      "Num: 29.0 Value: 24395.0\n",
      "Num: 30.0 Value: 27006.0\n",
      "Num: 31.0 Value: 29797.0\n",
      "Num: 32.0 Value: 32774.0\n",
      "Num: 33.0 Value: 35943.0\n",
      "Num: 34.0 Value: 39310.0\n",
      "Num: 35.0 Value: 42881.0\n",
      "Num: 36.0 Value: 46662.0\n",
      "Num: 37.0 Value: 50659.0\n",
      "Num: 38.0 Value: 54878.0\n",
      "Num: 39.0 Value: 59325.0\n",
      "Num: 40.0 Value: 64006.0\n",
      "Num: 41.0 Value: 68927.0\n",
      "Num: 42.0 Value: 74094.0\n",
      "Num: 43.0 Value: 79513.0\n",
      "Num: 44.0 Value: 85190.0\n",
      "Num: 45.0 Value: 91131.0\n",
      "Num: 46.0 Value: 97342.0\n",
      "Num: 47.0 Value: 103829.0\n",
      "Num: 48.0 Value: 110598.0\n",
      "Num: 49.0 Value: 117655.0\n",
      "Num: 50.0 Value: 125006.0\n",
      "[  6.00000000e+00   7.00000000e+00   1.40000000e+01   3.30000000e+01\n",
      "   7.00000000e+01   1.31000000e+02   2.22000000e+02   3.49000000e+02\n",
      "   5.18000000e+02   7.35000000e+02   1.00600000e+03   1.33700000e+03\n",
      "   1.73400000e+03   2.20300000e+03   2.75000000e+03   3.38100000e+03\n",
      "   4.10200000e+03   4.91900000e+03   5.83800000e+03   6.86500000e+03\n",
      "   8.00600000e+03   9.26700000e+03   1.06540000e+04   1.21730000e+04\n",
      "   1.38300000e+04   1.56310000e+04   1.75820000e+04   1.96890000e+04\n",
      "   2.19580000e+04   2.43950000e+04   2.70060000e+04   2.97970000e+04\n",
      "   3.27740000e+04   3.59430000e+04   3.93100000e+04   4.28810000e+04\n",
      "   4.66620000e+04   5.06590000e+04   5.48780000e+04   5.93250000e+04\n",
      "   6.40060000e+04   6.89270000e+04   7.40940000e+04   7.95130000e+04\n",
      "   8.51900000e+04   9.11310000e+04   9.73420000e+04   1.03829000e+05\n",
      "   1.10598000e+05   1.17655000e+05   1.25006000e+05]\n"
     ]
    }
   ],
   "source": [
    "for num in second_domain:\n",
    "    print \"Num:\",num, \"Value:\", second_function(num)\n",
    "    \n",
    "print second_function(second_domain)"
   ]
  },
  {
   "cell_type": "code",
   "execution_count": 100,
   "metadata": {
    "collapsed": true
   },
   "outputs": [],
   "source": [
    "from sklearn.naive_bayes import GaussianNB as naive"
   ]
  },
  {
   "cell_type": "code",
   "execution_count": 109,
   "metadata": {
    "collapsed": false
   },
   "outputs": [
    {
     "name": "stdout",
     "output_type": "stream",
     "text": [
      "50 51\n"
     ]
    },
    {
     "ename": "TypeError",
     "evalue": "only length-1 arrays can be converted to Python scalars",
     "output_type": "error",
     "traceback": [
      "\u001b[1;31m---------------------------------------------------------------------------\u001b[0m",
      "\u001b[1;31mTypeError\u001b[0m                                 Traceback (most recent call last)",
      "\u001b[1;32m<ipython-input-109-1da26f32e4de>\u001b[0m in \u001b[0;36m<module>\u001b[1;34m()\u001b[0m\n\u001b[0;32m      4\u001b[0m \u001b[1;32mprint\u001b[0m \u001b[0mfirst_data\u001b[0m\u001b[1;33m.\u001b[0m\u001b[0msize\u001b[0m\u001b[1;33m,\u001b[0m \u001b[0msecond_data\u001b[0m\u001b[1;33m.\u001b[0m\u001b[0msize\u001b[0m\u001b[1;33m\u001b[0m\u001b[0m\n\u001b[0;32m      5\u001b[0m \u001b[1;33m\u001b[0m\u001b[0m\n\u001b[1;32m----> 6\u001b[1;33m \u001b[0mmerged_data\u001b[0m \u001b[1;33m=\u001b[0m \u001b[0mnp\u001b[0m\u001b[1;33m.\u001b[0m\u001b[0mconcatenate\u001b[0m\u001b[1;33m(\u001b[0m\u001b[0mfirst_data\u001b[0m\u001b[1;33m,\u001b[0m\u001b[0msecond_data\u001b[0m\u001b[1;33m)\u001b[0m\u001b[1;33m\u001b[0m\u001b[0m\n\u001b[0m\u001b[0;32m      7\u001b[0m \u001b[1;31m# we will now teach the model our data, and try to predict other points\u001b[0m\u001b[1;33m\u001b[0m\u001b[1;33m\u001b[0m\u001b[0m\n",
      "\u001b[1;31mTypeError\u001b[0m: only length-1 arrays can be converted to Python scalars"
     ]
    }
   ],
   "source": [
    "first_data = first_function(first_domain)\n",
    "second_data = second_function(second_domain)\n",
    "\n",
    "print first_data.size, second_data.size\n",
    "\n",
    "merged_data = np.concatenate(first_data,second_data)\n",
    "# we will now teach the model our data, and try to predict other points\n"
   ]
  },
  {
   "cell_type": "code",
   "execution_count": 111,
   "metadata": {
    "collapsed": false
   },
   "outputs": [],
   "source": [
    "first_data = first_function(first_domain)\n",
    "second_data = second_function(second_domain)\n",
    "\n",
    "merged_data = np.concatenate([first_data,second_data])"
   ]
  },
  {
   "cell_type": "code",
   "execution_count": 113,
   "metadata": {
    "collapsed": false
   },
   "outputs": [
    {
     "name": "stdout",
     "output_type": "stream",
     "text": [
      "[ -1.25000000e+05  -1.17649000e+05  -1.10592000e+05  -1.03823000e+05\n",
      "  -9.73360000e+04  -9.11250000e+04  -8.51840000e+04  -7.95070000e+04\n",
      "  -7.40880000e+04  -6.89210000e+04  -6.40000000e+04  -5.93190000e+04\n",
      "  -5.48720000e+04  -5.06530000e+04  -4.66560000e+04  -4.28750000e+04\n",
      "  -3.93040000e+04  -3.59370000e+04  -3.27680000e+04  -2.97910000e+04\n",
      "  -2.70000000e+04  -2.43890000e+04  -2.19520000e+04  -1.96830000e+04\n",
      "  -1.75760000e+04  -1.56250000e+04  -1.38240000e+04  -1.21670000e+04\n",
      "  -1.06480000e+04  -9.26100000e+03  -8.00000000e+03  -6.85900000e+03\n",
      "  -5.83200000e+03  -4.91300000e+03  -4.09600000e+03  -3.37500000e+03\n",
      "  -2.74400000e+03  -2.19700000e+03  -1.72800000e+03  -1.33100000e+03\n",
      "  -1.00000000e+03  -7.29000000e+02  -5.12000000e+02  -3.43000000e+02\n",
      "  -2.16000000e+02  -1.25000000e+02  -6.40000000e+01  -2.70000000e+01\n",
      "  -8.00000000e+00  -1.00000000e+00   6.00000000e+00   7.00000000e+00\n",
      "   1.40000000e+01   3.30000000e+01   7.00000000e+01   1.31000000e+02\n",
      "   2.22000000e+02   3.49000000e+02   5.18000000e+02   7.35000000e+02\n",
      "   1.00600000e+03   1.33700000e+03   1.73400000e+03   2.20300000e+03\n",
      "   2.75000000e+03   3.38100000e+03   4.10200000e+03   4.91900000e+03\n",
      "   5.83800000e+03   6.86500000e+03   8.00600000e+03   9.26700000e+03\n",
      "   1.06540000e+04   1.21730000e+04   1.38300000e+04   1.56310000e+04\n",
      "   1.75820000e+04   1.96890000e+04   2.19580000e+04   2.43950000e+04\n",
      "   2.70060000e+04   2.97970000e+04   3.27740000e+04   3.59430000e+04\n",
      "   3.93100000e+04   4.28810000e+04   4.66620000e+04   5.06590000e+04\n",
      "   5.48780000e+04   5.93250000e+04   6.40060000e+04   6.89270000e+04\n",
      "   7.40940000e+04   7.95130000e+04   8.51900000e+04   9.11310000e+04\n",
      "   9.73420000e+04   1.03829000e+05   1.10598000e+05   1.17655000e+05\n",
      "   1.25006000e+05]\n"
     ]
    }
   ],
   "source": [
    "print merged_data # this merged_data contains some data from one model, and some from another"
   ]
  },
  {
   "cell_type": "code",
   "execution_count": 123,
   "metadata": {
    "collapsed": false
   },
   "outputs": [
    {
     "name": "stderr",
     "output_type": "stream",
     "text": [
      "/site/x86/anaconda-1.8/anaconda/lib/python2.7/site-packages/sklearn/utils/validation.py:515: DataConversionWarning: A column-vector y was passed when a 1d array was expected. Please change the shape of y to (n_samples, ), for example using ravel().\n",
      "  y = column_or_1d(y, warn=True)\n"
     ]
    }
   ],
   "source": [
    "predict = naive()\n",
    "prop_x = x.reshape(-1,1)\n",
    "prop_data = merged_data.reshape(-1,1)\n",
    "predicted_values = predict.fit(prop_x,prop_data).predict(prop_x)"
   ]
  },
  {
   "cell_type": "code",
   "execution_count": 124,
   "metadata": {
    "collapsed": false
   },
   "outputs": [
    {
     "name": "stdout",
     "output_type": "stream",
     "text": [
      "[ 0.  0.  0.  0.  0.  0.  0.  0.  0.  0.  0.  0.  0.  0.  0.  0.  0.  0.\n",
      "  0.  0.  0.  0.  0.  0.  0.  0.  0.  0.  0.  0.  0.  0.  0.  0.  0.  0.\n",
      "  0.  0.  0.  0.  0.  0.  0.  0.  0.  0.  0.  0.  0.  0.  0.  0.  0.  0.\n",
      "  0.  0.  0.  0.  0.  0.  0.  0.  0.  0.  0.  0.  0.  0.  0.  0.  0.  0.\n",
      "  0.  0.  0.  0.  0.  0.  0.  0.  0.  0.  0.  0.  0.  0.  0.  0.  0.  0.\n",
      "  0.  0.  0.  0.  0.  0.  0.  0.  0.  0.  0.]\n"
     ]
    }
   ],
   "source": [
    "print predicted_values-merged_data # either this fit was very good, or there is a problem, it displays no error here"
   ]
  },
  {
   "cell_type": "markdown",
   "metadata": {},
   "source": [
    "### Using other models for fit (This is a cubic)"
   ]
  },
  {
   "cell_type": "code",
   "execution_count": 133,
   "metadata": {
    "collapsed": false
   },
   "outputs": [
    {
     "name": "stdout",
     "output_type": "stream",
     "text": [
      "[[ 3.06684261]]\n"
     ]
    },
    {
     "data": {
      "image/png": "[encoded data removed]",
      "text/plain": [
       "<matplotlib.figure.Figure at 0x7f9bf2d11790>"
      ]
     },
     "metadata": {},
     "output_type": "display_data"
    }
   ],
   "source": [
    "# using n-degree polynomials\n",
    "from sklearn.preprocessing import PolynomialFeatures\n",
    "from sklearn.pipeline import make_pipeline\n",
    "from sklearn.linear_model import Ridge\n",
    "\n",
    "degree = 3 #we want to guess a cubic (because we already know it is in fact cubic)\n",
    "\n",
    "model = make_pipeline(PolynomialFeatures(degree),Ridge())\n",
    "model.fit(prop_x,prop_data)\n",
    "\n",
    "x_plot = np.arange(-50.,50.,0.2).reshape(-1,1)\n",
    "\n",
    "y_plot = model.predict(x_plot).reshape(-1,1)\n",
    "plot.plot(x_plot,y_plot)\n",
    "\n",
    "print model.predict(0) #perfect, essentially created a curve between the two "
   ]
  }
 ],
 "metadata": {
  "kernelspec": {
   "display_name": "Python 2",
   "language": "python",
   "name": "python2"
  },
  "language_info": {
   "codemirror_mode": {
    "name": "ipython",
    "version": 2
   },
   "file_extension": ".py",
   "mimetype": "text/x-python",
   "name": "python",
   "nbconvert_exporter": "python",
   "pygments_lexer": "ipython2",
   "version": "2.7.11"
  }
 },
 "nbformat": 4,
 "nbformat_minor": 0
}
