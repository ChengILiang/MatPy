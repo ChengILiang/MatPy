{
 "cells": [
  {
   "cell_type": "code",
   "execution_count": 6,
   "metadata": {
    "collapsed": false
   },
   "outputs": [],
   "source": [
    "%%capture\n",
    "%matplotlib notebook \n",
    "\n",
    "\n",
    "import numpy as np\n",
    "import math\n",
    "import matplotlib.pyplot as plt\n",
    "from matplotlib import ticker\n",
    "\n",
    "from sklearn.metrics import r2_score\n",
    "\n",
    "###############################################################################\n",
    "# Lasso and Linear\n",
    "from sklearn.linear_model import Lasso,LinearRegression\n",
    "\n",
    "import matplotlib\n",
    "from mpl_toolkits.mplot3d import Axes3D\n",
    "\n",
    "import scipy.optimize as sciop\n",
    "from scipy.optimize import basinhopping\n",
    "\n",
    "!make fortran;\n",
    "import irreverisble #importing the fortran mechanics routine\n",
    "\n",
    "global exp\n",
    "exp = []                           # ***** target \n",
    "exp = np.loadtxt('ref/HSRS/22')\n",
    "\n",
    "def error_evaluation_rms(errors):\n",
    "    \n",
    "    sum_of_squares = 0\n",
    "    \n",
    "    for error in errors:\n",
    "        sum_of_squares = sum_of_squares + error**2\n",
    "        \n",
    "    return ((sum_of_squares/len(errors))**(1./2.)) #incorporated division by n, which is the proper rms \n",
    "\n",
    "def mcfunc(model_parameters):\n",
    "    T_service = 22. + 273.\n",
    "    prec_stress = 0\n",
    "    SS_stress = 750\n",
    "    \n",
    "    strain_stress, WTN = irreverisble.mechanics(prec_stress,SS_stress,T_service,model_parameters,no_samples)\n",
    "    strain_stress = np.array(np.trim_zeros(strain_stress)).reshape(-1,2)\n",
    "    #print strain_stress\n",
    "    \n",
    "    #----------------------------\n",
    "    cal_val = []\n",
    "    errors = []\n",
    "    \n",
    "    #traverses experimental data points\n",
    "    for iexp, data in enumerate(exp[:,0]):\n",
    "        \n",
    "        #finding nearest neighbors that surround the data points, and using them to determine the error\n",
    "        for ical, data in enumerate(strain_stress[:,0]):\n",
    "            \n",
    "            ical = ical-1 # May or may not be advantageous to keep this instead of the range attribute for mem save\n",
    "            \n",
    "            left_strainpoint = strain_stress[ical,0]\n",
    "            right_strainpoint = strain_stress[ical+1,0]\n",
    "            \n",
    "            exp_datapoint = exp[iexp,0]\n",
    "            \n",
    "            if(exp_datapoint>left_strainpoint and exp_datapoint<right_strainpoint):\n",
    "                                \n",
    "                # stores the differences between the successive approximations so we interpolate\n",
    "                left_difference = exp_datapoint-left_strainpoint\n",
    "                right_difference = right_strainpoint-exp_datapoint\n",
    "                \n",
    "                total_difference = left_difference+right_difference\n",
    "                \n",
    "                left_weight = left_difference/total_difference\n",
    "                right_weight = right_difference/total_difference\n",
    "                  \n",
    "                # interpolate stress based on strain?\n",
    "                interpolated_strain = left_weight*left_strainpoint + right_weight*right_strainpoint\n",
    "                interpolated_stress = left_weight*strain_stress[ical,1] + right_weight*strain_stress[ical+1,1]\n",
    "                    \n",
    "                stress_error = interpolated_stress - exp[iexp,1]    \n",
    "                #print stress_error\n",
    "                \n",
    "                #adds value, we want to find difference between these approximated data points and the real results\n",
    "                cal_val.append([interpolated_strain,interpolated_stress])                 \n",
    "                errors.append(stress_error)\n",
    "                \n",
    "                break\n",
    "    \n",
    "    #print errors\n",
    "    error_rms = error_evaluation_rms(errors)    \n",
    "    cal_val = np.asarray(cal_val)\n",
    "    \n",
    "    #print cal_val\n",
    "    #----------------------------\n",
    "    \n",
    "    # return error as well as the results of stress-strain curve?\n",
    "    return error_rms\n",
    "\n",
    "# --------------- material properties\n",
    "T_service = 22. + 273.\n",
    "prec_stress = 0\n",
    "SS_stress = 750\n",
    "\n",
    "# -------------- number samples, =1 in this case\n",
    "no_samples = 1\n",
    "# ============================== objective\n",
    "# optimize these two parameters (model_parameters)\n",
    "# to minimize the error between [exp] and [stress_strain]\n",
    "# ==============================\n",
    "model_parameters = (-100, 1)\n",
    "\n",
    "\n",
    "# the function, irreverisble.mechanics, is used to calculate the stress-strain curve in plastic deforamtion region \n",
    "# the outputs are 2D list (stress-strain, stress_strain) and 1 parameter (work to necking, WTN)\n",
    "strain_stress, WTN = irreverisble.mechanics(prec_stress,SS_stress,T_service,model_parameters,no_samples)\n",
    "strain_stress = np.array(np.trim_zeros(strain_stress)).reshape(-1,2)\n",
    "\n",
    "necking_loc = strain_stress[strain_stress==WTN]\n",
    "#plotSingle2D(strain_stress,'strain','stress','linear','linear')\n",
    "\n",
    "def IntervalPlot3D(xlabel=\"\",ylabel=\"\",zlabel=\"\",title=\"\",fontsize=14):\n",
    "\n",
    "\n",
    "    fig = plt.figure()\n",
    "    ax = fig.gca(projection='3d')\n",
    "    plt.title(title)\n",
    "    matplotlib.rcParams.update({'font.size': fontsize})\n",
    "    \n",
    "    interval = 1.\n",
    "\n",
    "    x_domain = np.arange(-102.,-94.,interval)\n",
    "    y_domain = np.arange(5.,15.,interval)\n",
    "\n",
    "    x = np.zeros(0)\n",
    "    y = np.zeros(0)\n",
    "\n",
    "    for y_val in y_domain:\n",
    "\n",
    "        x = np.append(x,x_domain)\n",
    "\n",
    "        for x_val in x_domain:\n",
    "\n",
    "            y = np.append(y,y_val)\n",
    "\n",
    "    z = np.zeros(0)\n",
    "\n",
    "    for index, value in enumerate(x):\n",
    "\n",
    "        model_params = (x[index],y[index])\n",
    "        z = np.append(z,mcfunc(model_params))\n",
    "\n",
    "    ax.plot(x,y,z,\"p\")\n",
    "\n",
    "    ax.set_xlabel(xlabel)\n",
    "    ax.set_ylabel(ylabel)\n",
    "    ax.set_zlabel(zlabel)\n",
    "\n",
    "    plt.show()\n",
    "    \n",
    "#IntervalPlot3D(xlabel=\"Param 1\",ylabel=\"Param 2\",zlabel=\"Error from experimental results\",title=\"Error\", fontsize=16)"
   ]
  },
  {
   "cell_type": "code",
   "execution_count": null,
   "metadata": {
    "collapsed": false
   },
   "outputs": [],
   "source": [
    "%%capture\n",
    "\"\"\"import numpy as np\n",
    "import scipy as sp\n",
    "import matplotlib.pyplot as plot\n",
    "\n",
    "from scipy.optimize import minimize\n",
    "\n",
    "import timeit\n",
    "from memory_profiler import memory_usage\n",
    "\n",
    "#all methods to minimize\n",
    "methods = ['Powell','CG','SLSQP']\n",
    "\n",
    "start = np.zeros(0)\n",
    "stop = np.zeros(0)\n",
    "num_iters = np.zeros(0)\n",
    "\n",
    "most_mem = np.zeros(0)\n",
    "result = []\n",
    "\n",
    "#runtime code goes here\n",
    "\n",
    "function = mcfunc\n",
    "\n",
    "#testing every minimization method\n",
    "for method in methods:\n",
    "    \n",
    "    mem_use = memory_usage(-1,interval=0.1)\n",
    "    start = np.append(start,timeit.default_timer())\n",
    "    \n",
    "    guess = [-5.,10.] # guess for correct minimum\n",
    "    \n",
    "    # Possibly was finding the iterations in the wrong order\n",
    "    current_result = minimize(function, x0 = guess, method = method,tol=1e-6)\n",
    "    result.append(current_result)\n",
    "    \n",
    "    keys = current_result.keys() # contains all traits of result\n",
    "    iterations = -1\n",
    "    \n",
    "    if 'nit' in keys:    \n",
    "        iterations = current_result.get('nit')\n",
    "        \n",
    "  ,'BFGS','L-BFGS-B','TNC','COBYLA','SLSQP'  num_iters = np.append(num_iters,iterations)\n",
    "    stop = np.append(stop,timeit.default_timer())\n",
    "    \n",
    "    # tracks amount of memory used\n",
    "    most_mem = np.append(most_mem,max(mem_use)) \n",
    "\n",
    "exec_time = stop-start\n",
    "\n",
    "# If an algorithm took (-1) iterations, the number of iterations was not returned\n",
    "for counter, method in enumerate(methods):\n",
    "    \n",
    "    print '{0} took {1} seconds. The result, {4} was found at ({2}, {3})'.format(method,exec_time[counter],result[counter].x[0],result[counter].x[1],result[counter].fun)\n",
    "    print '{0} used {1} megabytes and took {2} iterations'.format(method,most_mem[counter],num_iters[counter])\n",
    "    print\n",
    "    \"\"\""
   ]
  },
  {
   "cell_type": "markdown",
   "metadata": {},
   "source": [
    "### The listing results have been corrected!\n",
    "Powell took 56.1397018433 seconds. The result, 397.946431233 was found at (-97.2243276084, 15.2352005544)\n",
    "Powell used 87.65234375 megabytes and took 2.0 iterations\n",
    "\n",
    "CG took 841.190486193 seconds. The result, 397.94643127 was found at (-97.220916748, 10.0)\n",
    "CG used 87.66015625 megabytes and took 47.0 iterations\n",
    "\n",
    "SLSQP took 19.0377500057 seconds. The result, 397.946431256 was found at (-97.2270084708, 10.0)\n",
    "SLSQP used 87.72265625 megabytes and took 10.0 iterations"
   ]
  },
  {
   "cell_type": "markdown",
   "metadata": {},
   "source": [
    "### Trying basinhopping to find the minimum of our error"
   ]
  },
  {
   "cell_type": "code",
   "execution_count": null,
   "metadata": {
    "collapsed": false
   },
   "outputs": [],
   "source": [
    "%%capture\n",
    "\"\"\"import numpy as np\n",
    "import scipy as sp\n",
    "import matplotlib.pyplot as plot\n",
    "\n",
    "from scipy.optimize import minimize\n",
    "\n",
    "import timeit\n",
    "from memory_profiler import memory_usage\n",
    "\n",
    "start = np.zeros(0)\n",
    "stop = np.zeros(0)\n",
    "num_iters = np.zeros(0)\n",
    "\n",
    "most_mem = np.zeros(0)\n",
    "\n",
    "#runtime code goes here\n",
    "\n",
    "function = mcfunc\n",
    "\n",
    "#testing every minimization method\n",
    "for method in methods:\n",
    "    \n",
    "    mem_use = memory_usage(-1,interval=0.1)\n",
    "    start = np.append(start,timeit.default_timer())\n",
    "    \n",
    "    guess = [-5.,10.] # guess for correct minimum\n",
    "    \n",
    "    # Possibly was finding the iterations in the wrong order\n",
    "    result = basinhopping(function, x0 = guess)\n",
    "    \n",
    "    keys = result.keys() # contains all traits of result\n",
    "    iterations = -1\n",
    "    \n",
    "    if 'nit' in keys:    \n",
    "        iterations = result.get('nit')\n",
    "        \n",
    "    num_iters = np.append(num_iters,iterations)\n",
    "    stop = np.append(stop,timeit.default_timer())\n",
    "    \n",
    "    # tracks amount of memory used\n",
    "    most_mem = np.append(most_mem,max(mem_use)) \n",
    "\n",
    "exec_time = stop-start\n",
    "\n",
    "# If an algorithm took (-1) iterations, the number of iterations was not returned\n",
    "for counter, method in enumerate(methods):\n",
    "    \n",
    "    print '{0} took {1} seconds. The result, {4} was found at ({2}, {3})'.format(method,exec_time[counter],result.x[0],result.x[1],result.fun)\n",
    "    print '{0} used {1} megabytes and took {2} iterations'.format(method,most_mem[counter],num_iters[counter])\n",
    "    print\"\"\""
   ]
  },
  {
   "cell_type": "markdown",
   "metadata": {},
   "source": [
    "Basinhopping took 1963.73302293 seconds. The result, 397.946431233 was found at (-97.2243260013, 11.9417785317)\n",
    "Basinhopping used 102.2734375 megabytes and took 100.0 iterations (Same result as local minimization)"
   ]
  },
  {
   "cell_type": "markdown",
   "metadata": {},
   "source": [
    "### Now, we should make this testing method a class that can be called (Will do this outside notebook)"
   ]
  },
  {
   "cell_type": "code",
   "execution_count": null,
   "metadata": {
    "collapsed": false
   },
   "outputs": [],
   "source": [
    "#import test_suite\n",
    "\n",
    "#test_suite.minimize_suite(mcfunc,['Powell','SLSQP'],[-500.,1.])"
   ]
  },
  {
   "cell_type": "markdown",
   "metadata": {},
   "source": [
    "### Performing this with all functions to evaluate if memory issue was solved"
   ]
  },
  {
   "cell_type": "code",
   "execution_count": null,
   "metadata": {
    "collapsed": false
   },
   "outputs": [],
   "source": [
    "#import test_suite\n",
    "\n",
    "#test_suite.minimize_suite(mcfunc,['Nelder-Mead','SLSQP'],[-500.,1.])"
   ]
  },
  {
   "cell_type": "markdown",
   "metadata": {},
   "source": [
    "Nelder-Mead took 73.8156878948 seconds. The result, 397.946431233 was found at (-97.2243219614, 1.62465067804)\n",
    "Nelder-Mead used 87.56640625 megabytes and took 69.0 iterations\n",
    "\n",
    "Powell took 102.296751022 seconds. The result, nan was found at (-27.4739053532, 0.274894413458)\n",
    "Powell used 87.5703125 megabytes and took 28.0 iterations\n",
    "\n",
    "CG took 967.848807096 seconds. The result, 397.946431246 was found at (-97.226373943, 1.35675756514)\n",
    "CG used 87.5703125 megabytes and took 52.0 iterations\n",
    "\n",
    "BFGS took 32.2478640079 seconds. The result, nan was found at (-315655.4971, -44984.1665113)\n",
    "BFGS used 87.6328125 megabytes and took 3.0 iterations\n",
    "\n",
    "L-BFGS-B took 30.2151210308 seconds. The result, 397.946431622 was found at (-97.2352796645, 57.1105312168)\n",
    "L-BFGS-B used 87.7578125 megabytes and took 6.0 iterations\n",
    "\n",
    "TNC took 12.0557310581 seconds. The result, 421.937094344 was found at (-500.0, 1.0)\n",
    "TNC used 87.92578125 megabytes and took 0.0 iterations\n",
    "\n",
    "COBYLA took 474.013291836 seconds. The result, 412.637188539 was found at (-272.261846785, 2.36548167553)\n",
    "COBYLA used 87.9296875 megabytes and took -1.0 iterations\n",
    "\n",
    "SLSQP took 36.7581448555 seconds. The result, 397.946431938 was found at (-97.2095787659, 58.2472771029)\n",
    "SLSQP used 87.93359375 megabytes and took 17.0 iterations"
   ]
  },
  {
   "cell_type": "code",
   "execution_count": null,
   "metadata": {
    "collapsed": false
   },
   "outputs": [],
   "source": [
    "import test_suite\n",
    "\n",
    "test_suite.minimize_suite(mcfunc,['Nelder-Mead','SLSQP'],[-500.,1.])"
   ]
  },
  {
   "cell_type": "markdown",
   "metadata": {
    "collapsed": false
   },
   "source": [
    "### The memory functionality seems to be working, let's try it with all functions one time"
   ]
  },
  {
   "cell_type": "code",
   "execution_count": 8,
   "metadata": {
    "collapsed": false
   },
   "outputs": [
    {
     "name": "stdout",
     "output_type": "stream",
     "text": [
      "Powell took 98.0354118347 seconds. The result, nan was found at (-27.4867516679, 0.274970173161)\n",
      "Powell used 88.98828125 megabytes and took 28.0 iterations\n",
      "\n"
     ]
    }
   ],
   "source": [
    "import test_suite\n",
    "\n",
    "test_suite.minimize_suite(mcfunc,['Powell'],[-100.,1.])"
   ]
  },
  {
   "cell_type": "markdown",
   "metadata": {},
   "source": [
    "Powell took 98.0354118347 seconds. The result, nan was found at (-27.4867516679, 0.274970173161)\n",
    "Powell used 88.98828125 megabytes and took 28.0 iterations"
   ]
  },
  {
   "cell_type": "code",
   "execution_count": 9,
   "metadata": {
    "collapsed": false
   },
   "outputs": [
    {
     "name": "stderr",
     "output_type": "stream",
     "text": [
      "Process MemTimer-5:\n",
      "Traceback (most recent call last):\n",
      "  File \"/site/x86/anaconda-1.8/anaconda/lib/python2.7/multiprocessing/process.py\", line 258, in _bootstrap\n",
      "    self.run()\n",
      "  File \"/site/x86/anaconda-1.8/anaconda/lib/python2.7/site-packages/memory_profiler.py\", line 149, in run\n",
      "    stop = self.pipe.poll(self.interval)\n",
      "KeyboardInterrupt\n"
     ]
    },
    {
     "ename": "KeyboardInterrupt",
     "evalue": "",
     "output_type": "error",
     "traceback": [
      "\u001b[1;31m---------------------------------------------------------------------------\u001b[0m",
      "\u001b[1;31mKeyboardInterrupt\u001b[0m                         Traceback (most recent call last)",
      "\u001b[1;32m<ipython-input-9-fcf226c541ac>\u001b[0m in \u001b[0;36m<module>\u001b[1;34m()\u001b[0m\n\u001b[0;32m      1\u001b[0m \u001b[1;32mimport\u001b[0m \u001b[0mtest_suite\u001b[0m\u001b[1;33m\u001b[0m\u001b[0m\n\u001b[0;32m      2\u001b[0m \u001b[1;33m\u001b[0m\u001b[0m\n\u001b[1;32m----> 3\u001b[1;33m \u001b[0mtest_suite\u001b[0m\u001b[1;33m.\u001b[0m\u001b[0mminimize_suite\u001b[0m\u001b[1;33m(\u001b[0m\u001b[0mmcfunc\u001b[0m\u001b[1;33m,\u001b[0m\u001b[1;33m[\u001b[0m\u001b[1;34m'CG'\u001b[0m\u001b[1;33m]\u001b[0m\u001b[1;33m,\u001b[0m\u001b[1;33m[\u001b[0m\u001b[1;33m-\u001b[0m\u001b[1;36m100.\u001b[0m\u001b[1;33m,\u001b[0m\u001b[1;36m1.\u001b[0m\u001b[1;33m]\u001b[0m\u001b[1;33m)\u001b[0m\u001b[1;33m\u001b[0m\u001b[0m\n\u001b[0m",
      "\u001b[1;32m/users/ean1/Documents/notebook_results/test_suite.pyc\u001b[0m in \u001b[0;36mminimize_suite\u001b[1;34m(function, methods, guess)\u001b[0m\n\u001b[0;32m     41\u001b[0m \u001b[1;33m\u001b[0m\u001b[0m\n\u001b[0;32m     42\u001b[0m                 \u001b[1;31m#tracks amount of memory used\u001b[0m\u001b[1;33m\u001b[0m\u001b[1;33m\u001b[0m\u001b[0m\n\u001b[1;32m---> 43\u001b[1;33m                 \u001b[0mmost_mem\u001b[0m \u001b[1;33m=\u001b[0m \u001b[0mnp\u001b[0m\u001b[1;33m.\u001b[0m\u001b[0mappend\u001b[0m\u001b[1;33m(\u001b[0m\u001b[0mmost_mem\u001b[0m\u001b[1;33m,\u001b[0m \u001b[0mmax\u001b[0m\u001b[1;33m(\u001b[0m\u001b[0mmemory_usage\u001b[0m\u001b[1;33m(\u001b[0m\u001b[1;33m(\u001b[0m\u001b[0miter_minimize\u001b[0m\u001b[1;33m,\u001b[0m \u001b[1;33m(\u001b[0m\u001b[0mmethod\u001b[0m\u001b[1;33m,\u001b[0m \u001b[0mnum_iters\u001b[0m\u001b[1;33m,\u001b[0m \u001b[0mstart\u001b[0m\u001b[1;33m,\u001b[0m \u001b[0mstop\u001b[0m\u001b[1;33m,\u001b[0m \u001b[0mguess\u001b[0m\u001b[1;33m)\u001b[0m\u001b[1;33m,\u001b[0m\u001b[1;33m)\u001b[0m\u001b[1;33m)\u001b[0m\u001b[1;33m)\u001b[0m\u001b[1;33m)\u001b[0m\u001b[1;33m\u001b[0m\u001b[0m\n\u001b[0m\u001b[0;32m     44\u001b[0m                 \u001b[0mnum_iters\u001b[0m\u001b[1;33m,\u001b[0m \u001b[0mstart\u001b[0m\u001b[1;33m,\u001b[0m \u001b[0mstop\u001b[0m \u001b[1;33m=\u001b[0m \u001b[0miter_minimize\u001b[0m\u001b[1;33m(\u001b[0m\u001b[0mmethod\u001b[0m\u001b[1;33m,\u001b[0m \u001b[0mnum_iters\u001b[0m\u001b[1;33m,\u001b[0m \u001b[0mstart\u001b[0m\u001b[1;33m,\u001b[0m \u001b[0mstop\u001b[0m\u001b[1;33m,\u001b[0m \u001b[0mguess\u001b[0m\u001b[1;33m)\u001b[0m\u001b[1;33m\u001b[0m\u001b[0m\n\u001b[0;32m     45\u001b[0m \u001b[1;33m\u001b[0m\u001b[0m\n",
      "\u001b[1;32m/site/x86/anaconda-1.8/anaconda/lib/python2.7/site-packages/memory_profiler.pyc\u001b[0m in \u001b[0;36mmemory_usage\u001b[1;34m(proc, interval, timeout, timestamps, include_children, max_usage, retval, stream)\u001b[0m\n\u001b[0;32m    237\u001b[0m             \u001b[0mp\u001b[0m\u001b[1;33m.\u001b[0m\u001b[0mstart\u001b[0m\u001b[1;33m(\u001b[0m\u001b[1;33m)\u001b[0m\u001b[1;33m\u001b[0m\u001b[0m\n\u001b[0;32m    238\u001b[0m             \u001b[0mparent_conn\u001b[0m\u001b[1;33m.\u001b[0m\u001b[0mrecv\u001b[0m\u001b[1;33m(\u001b[0m\u001b[1;33m)\u001b[0m  \u001b[1;31m# wait until we start getting memory\u001b[0m\u001b[1;33m\u001b[0m\u001b[0m\n\u001b[1;32m--> 239\u001b[1;33m             \u001b[0mreturned\u001b[0m \u001b[1;33m=\u001b[0m \u001b[0mf\u001b[0m\u001b[1;33m(\u001b[0m\u001b[1;33m*\u001b[0m\u001b[0margs\u001b[0m\u001b[1;33m,\u001b[0m \u001b[1;33m**\u001b[0m\u001b[0mkw\u001b[0m\u001b[1;33m)\u001b[0m\u001b[1;33m\u001b[0m\u001b[0m\n\u001b[0m\u001b[0;32m    240\u001b[0m             \u001b[0mparent_conn\u001b[0m\u001b[1;33m.\u001b[0m\u001b[0msend\u001b[0m\u001b[1;33m(\u001b[0m\u001b[1;36m0\u001b[0m\u001b[1;33m)\u001b[0m  \u001b[1;31m# finish timing\u001b[0m\u001b[1;33m\u001b[0m\u001b[0m\n\u001b[0;32m    241\u001b[0m             \u001b[0mret\u001b[0m \u001b[1;33m=\u001b[0m \u001b[0mparent_conn\u001b[0m\u001b[1;33m.\u001b[0m\u001b[0mrecv\u001b[0m\u001b[1;33m(\u001b[0m\u001b[1;33m)\u001b[0m\u001b[1;33m\u001b[0m\u001b[0m\n",
      "\u001b[1;32m/users/ean1/Documents/notebook_results/test_suite.pyc\u001b[0m in \u001b[0;36miter_minimize\u001b[1;34m(method, num_iters, start, stop, guess)\u001b[0m\n\u001b[0;32m     26\u001b[0m \u001b[1;33m\u001b[0m\u001b[0m\n\u001b[0;32m     27\u001b[0m                         \u001b[1;31m# Possibly was finding the iterations in the wrong order\u001b[0m\u001b[1;33m\u001b[0m\u001b[1;33m\u001b[0m\u001b[0m\n\u001b[1;32m---> 28\u001b[1;33m                         \u001b[0mcur_result\u001b[0m \u001b[1;33m=\u001b[0m \u001b[0mminimize\u001b[0m\u001b[1;33m(\u001b[0m\u001b[0mfunction\u001b[0m\u001b[1;33m,\u001b[0m \u001b[0mx0\u001b[0m \u001b[1;33m=\u001b[0m \u001b[0mguess\u001b[0m\u001b[1;33m,\u001b[0m \u001b[0mmethod\u001b[0m \u001b[1;33m=\u001b[0m \u001b[0mmethod\u001b[0m\u001b[1;33m,\u001b[0m \u001b[0mtol\u001b[0m\u001b[1;33m=\u001b[0m\u001b[1;36m1e-6\u001b[0m\u001b[1;33m)\u001b[0m\u001b[1;33m\u001b[0m\u001b[0m\n\u001b[0m\u001b[0;32m     29\u001b[0m                         \u001b[0mresult\u001b[0m\u001b[1;33m.\u001b[0m\u001b[0mappend\u001b[0m\u001b[1;33m(\u001b[0m\u001b[0mcur_result\u001b[0m\u001b[1;33m)\u001b[0m\u001b[1;33m\u001b[0m\u001b[0m\n\u001b[0;32m     30\u001b[0m \u001b[1;33m\u001b[0m\u001b[0m\n",
      "\u001b[1;32m/site/x86/anaconda-1.8/anaconda/lib/python2.7/site-packages/scipy/optimize/_minimize.pyc\u001b[0m in \u001b[0;36mminimize\u001b[1;34m(fun, x0, args, method, jac, hess, hessp, bounds, constraints, tol, callback, options)\u001b[0m\n\u001b[0;32m    434\u001b[0m         \u001b[1;32mreturn\u001b[0m \u001b[0m_minimize_powell\u001b[0m\u001b[1;33m(\u001b[0m\u001b[0mfun\u001b[0m\u001b[1;33m,\u001b[0m \u001b[0mx0\u001b[0m\u001b[1;33m,\u001b[0m \u001b[0margs\u001b[0m\u001b[1;33m,\u001b[0m \u001b[0mcallback\u001b[0m\u001b[1;33m,\u001b[0m \u001b[1;33m**\u001b[0m\u001b[0moptions\u001b[0m\u001b[1;33m)\u001b[0m\u001b[1;33m\u001b[0m\u001b[0m\n\u001b[0;32m    435\u001b[0m     \u001b[1;32melif\u001b[0m \u001b[0mmeth\u001b[0m \u001b[1;33m==\u001b[0m \u001b[1;34m'cg'\u001b[0m\u001b[1;33m:\u001b[0m\u001b[1;33m\u001b[0m\u001b[0m\n\u001b[1;32m--> 436\u001b[1;33m         \u001b[1;32mreturn\u001b[0m \u001b[0m_minimize_cg\u001b[0m\u001b[1;33m(\u001b[0m\u001b[0mfun\u001b[0m\u001b[1;33m,\u001b[0m \u001b[0mx0\u001b[0m\u001b[1;33m,\u001b[0m \u001b[0margs\u001b[0m\u001b[1;33m,\u001b[0m \u001b[0mjac\u001b[0m\u001b[1;33m,\u001b[0m \u001b[0mcallback\u001b[0m\u001b[1;33m,\u001b[0m \u001b[1;33m**\u001b[0m\u001b[0moptions\u001b[0m\u001b[1;33m)\u001b[0m\u001b[1;33m\u001b[0m\u001b[0m\n\u001b[0m\u001b[0;32m    437\u001b[0m     \u001b[1;32melif\u001b[0m \u001b[0mmeth\u001b[0m \u001b[1;33m==\u001b[0m \u001b[1;34m'bfgs'\u001b[0m\u001b[1;33m:\u001b[0m\u001b[1;33m\u001b[0m\u001b[0m\n\u001b[0;32m    438\u001b[0m         \u001b[1;32mreturn\u001b[0m \u001b[0m_minimize_bfgs\u001b[0m\u001b[1;33m(\u001b[0m\u001b[0mfun\u001b[0m\u001b[1;33m,\u001b[0m \u001b[0mx0\u001b[0m\u001b[1;33m,\u001b[0m \u001b[0margs\u001b[0m\u001b[1;33m,\u001b[0m \u001b[0mjac\u001b[0m\u001b[1;33m,\u001b[0m \u001b[0mcallback\u001b[0m\u001b[1;33m,\u001b[0m \u001b[1;33m**\u001b[0m\u001b[0moptions\u001b[0m\u001b[1;33m)\u001b[0m\u001b[1;33m\u001b[0m\u001b[0m\n",
      "\u001b[1;32m/site/x86/anaconda-1.8/anaconda/lib/python2.7/site-packages/scipy/optimize/optimize.pyc\u001b[0m in \u001b[0;36m_minimize_cg\u001b[1;34m(fun, x0, args, jac, callback, gtol, norm, eps, maxiter, disp, return_all, **unknown_options)\u001b[0m\n\u001b[0;32m   1165\u001b[0m             \u001b[0malpha_k\u001b[0m\u001b[1;33m,\u001b[0m \u001b[0mfc\u001b[0m\u001b[1;33m,\u001b[0m \u001b[0mgc\u001b[0m\u001b[1;33m,\u001b[0m \u001b[0mold_fval\u001b[0m\u001b[1;33m,\u001b[0m \u001b[0mold_old_fval\u001b[0m\u001b[1;33m,\u001b[0m \u001b[0mgfkp1\u001b[0m \u001b[1;33m=\u001b[0m\u001b[0;31m \u001b[0m\u001b[0;31m\\\u001b[0m\u001b[1;33m\u001b[0m\u001b[0m\n\u001b[0;32m   1166\u001b[0m                      _line_search_wolfe12(f, myfprime, xk, pk, gfk, old_fval,\n\u001b[1;32m-> 1167\u001b[1;33m                                           old_old_fval, c2=0.4)\n\u001b[0m\u001b[0;32m   1168\u001b[0m         \u001b[1;32mexcept\u001b[0m \u001b[0m_LineSearchError\u001b[0m\u001b[1;33m:\u001b[0m\u001b[1;33m\u001b[0m\u001b[0m\n\u001b[0;32m   1169\u001b[0m             \u001b[1;31m# Line search failed to find a better solution.\u001b[0m\u001b[1;33m\u001b[0m\u001b[1;33m\u001b[0m\u001b[0m\n",
      "\u001b[1;32m/site/x86/anaconda-1.8/anaconda/lib/python2.7/site-packages/scipy/optimize/optimize.pyc\u001b[0m in \u001b[0;36m_line_search_wolfe12\u001b[1;34m(f, fprime, xk, pk, gfk, old_fval, old_old_fval, **kwargs)\u001b[0m\n\u001b[0;32m    700\u001b[0m             \u001b[0mwarnings\u001b[0m\u001b[1;33m.\u001b[0m\u001b[0msimplefilter\u001b[0m\u001b[1;33m(\u001b[0m\u001b[1;34m'ignore'\u001b[0m\u001b[1;33m,\u001b[0m \u001b[0mLineSearchWarning\u001b[0m\u001b[1;33m)\u001b[0m\u001b[1;33m\u001b[0m\u001b[0m\n\u001b[0;32m    701\u001b[0m             ret = line_search_wolfe2(f, fprime, xk, pk, gfk,\n\u001b[1;32m--> 702\u001b[1;33m                                      old_fval, old_old_fval)\n\u001b[0m\u001b[0;32m    703\u001b[0m \u001b[1;33m\u001b[0m\u001b[0m\n\u001b[0;32m    704\u001b[0m     \u001b[1;32mif\u001b[0m \u001b[0mret\u001b[0m\u001b[1;33m[\u001b[0m\u001b[1;36m0\u001b[0m\u001b[1;33m]\u001b[0m \u001b[1;32mis\u001b[0m \u001b[0mNone\u001b[0m\u001b[1;33m:\u001b[0m\u001b[1;33m\u001b[0m\u001b[0m\n",
      "\u001b[1;32m/site/x86/anaconda-1.8/anaconda/lib/python2.7/site-packages/scipy/optimize/linesearch.pyc\u001b[0m in \u001b[0;36mline_search_wolfe2\u001b[1;34m(f, myfprime, xk, pk, gfk, old_fval, old_old_fval, args, c1, c2, amax)\u001b[0m\n\u001b[0;32m    280\u001b[0m \u001b[1;33m\u001b[0m\u001b[0m\n\u001b[0;32m    281\u001b[0m     alpha_star, phi_star, old_fval, derphi_star = scalar_search_wolfe2(\n\u001b[1;32m--> 282\u001b[1;33m             phi, derphi, old_fval, old_old_fval, derphi0, c1, c2, amax)\n\u001b[0m\u001b[0;32m    283\u001b[0m \u001b[1;33m\u001b[0m\u001b[0m\n\u001b[0;32m    284\u001b[0m     \u001b[1;32mif\u001b[0m \u001b[0mderphi_star\u001b[0m \u001b[1;32mis\u001b[0m \u001b[0mNone\u001b[0m\u001b[1;33m:\u001b[0m\u001b[1;33m\u001b[0m\u001b[0m\n",
      "\u001b[1;32m/site/x86/anaconda-1.8/anaconda/lib/python2.7/site-packages/scipy/optimize/linesearch.pyc\u001b[0m in \u001b[0;36mscalar_search_wolfe2\u001b[1;34m(phi, derphi, phi0, old_phi0, derphi0, c1, c2, amax)\u001b[0m\n\u001b[0;32m    385\u001b[0m             \u001b[1;32mbreak\u001b[0m\u001b[1;33m\u001b[0m\u001b[0m\n\u001b[0;32m    386\u001b[0m \u001b[1;33m\u001b[0m\u001b[0m\n\u001b[1;32m--> 387\u001b[1;33m         \u001b[0mderphi_a1\u001b[0m \u001b[1;33m=\u001b[0m \u001b[0mderphi\u001b[0m\u001b[1;33m(\u001b[0m\u001b[0malpha1\u001b[0m\u001b[1;33m)\u001b[0m\u001b[1;33m\u001b[0m\u001b[0m\n\u001b[0m\u001b[0;32m    388\u001b[0m         \u001b[1;32mif\u001b[0m \u001b[1;33m(\u001b[0m\u001b[0mabs\u001b[0m\u001b[1;33m(\u001b[0m\u001b[0mderphi_a1\u001b[0m\u001b[1;33m)\u001b[0m \u001b[1;33m<=\u001b[0m \u001b[1;33m-\u001b[0m\u001b[0mc2\u001b[0m\u001b[1;33m*\u001b[0m\u001b[0mderphi0\u001b[0m\u001b[1;33m)\u001b[0m\u001b[1;33m:\u001b[0m\u001b[1;33m\u001b[0m\u001b[0m\n\u001b[0;32m    389\u001b[0m             \u001b[0malpha_star\u001b[0m \u001b[1;33m=\u001b[0m \u001b[0malpha1\u001b[0m\u001b[1;33m\u001b[0m\u001b[0m\n",
      "\u001b[1;32m/site/x86/anaconda-1.8/anaconda/lib/python2.7/site-packages/scipy/optimize/linesearch.pyc\u001b[0m in \u001b[0;36mderphi\u001b[1;34m(alpha)\u001b[0m\n\u001b[0;32m    272\u001b[0m         \u001b[1;32mdef\u001b[0m \u001b[0mderphi\u001b[0m\u001b[1;33m(\u001b[0m\u001b[0malpha\u001b[0m\u001b[1;33m)\u001b[0m\u001b[1;33m:\u001b[0m\u001b[1;33m\u001b[0m\u001b[0m\n\u001b[0;32m    273\u001b[0m             \u001b[0mgc\u001b[0m\u001b[1;33m[\u001b[0m\u001b[1;36m0\u001b[0m\u001b[1;33m]\u001b[0m \u001b[1;33m+=\u001b[0m \u001b[1;36m1\u001b[0m\u001b[1;33m\u001b[0m\u001b[0m\n\u001b[1;32m--> 274\u001b[1;33m             \u001b[0mgval\u001b[0m\u001b[1;33m[\u001b[0m\u001b[1;36m0\u001b[0m\u001b[1;33m]\u001b[0m \u001b[1;33m=\u001b[0m \u001b[0mfprime\u001b[0m\u001b[1;33m(\u001b[0m\u001b[0mxk\u001b[0m \u001b[1;33m+\u001b[0m \u001b[0malpha\u001b[0m \u001b[1;33m*\u001b[0m \u001b[0mpk\u001b[0m\u001b[1;33m,\u001b[0m \u001b[1;33m*\u001b[0m\u001b[0margs\u001b[0m\u001b[1;33m)\u001b[0m  \u001b[1;31m# store for later use\u001b[0m\u001b[1;33m\u001b[0m\u001b[0m\n\u001b[0m\u001b[0;32m    275\u001b[0m             \u001b[1;32mreturn\u001b[0m \u001b[0mnp\u001b[0m\u001b[1;33m.\u001b[0m\u001b[0mdot\u001b[0m\u001b[1;33m(\u001b[0m\u001b[0mgval\u001b[0m\u001b[1;33m[\u001b[0m\u001b[1;36m0\u001b[0m\u001b[1;33m]\u001b[0m\u001b[1;33m,\u001b[0m \u001b[0mpk\u001b[0m\u001b[1;33m)\u001b[0m\u001b[1;33m\u001b[0m\u001b[0m\n\u001b[0;32m    276\u001b[0m \u001b[1;33m\u001b[0m\u001b[0m\n",
      "\u001b[1;32m/site/x86/anaconda-1.8/anaconda/lib/python2.7/site-packages/scipy/optimize/optimize.pyc\u001b[0m in \u001b[0;36mfunction_wrapper\u001b[1;34m(*wrapper_args)\u001b[0m\n\u001b[0;32m    283\u001b[0m     \u001b[1;32mdef\u001b[0m \u001b[0mfunction_wrapper\u001b[0m\u001b[1;33m(\u001b[0m\u001b[1;33m*\u001b[0m\u001b[0mwrapper_args\u001b[0m\u001b[1;33m)\u001b[0m\u001b[1;33m:\u001b[0m\u001b[1;33m\u001b[0m\u001b[0m\n\u001b[0;32m    284\u001b[0m         \u001b[0mncalls\u001b[0m\u001b[1;33m[\u001b[0m\u001b[1;36m0\u001b[0m\u001b[1;33m]\u001b[0m \u001b[1;33m+=\u001b[0m \u001b[1;36m1\u001b[0m\u001b[1;33m\u001b[0m\u001b[0m\n\u001b[1;32m--> 285\u001b[1;33m         \u001b[1;32mreturn\u001b[0m \u001b[0mfunction\u001b[0m\u001b[1;33m(\u001b[0m\u001b[1;33m*\u001b[0m\u001b[1;33m(\u001b[0m\u001b[0mwrapper_args\u001b[0m \u001b[1;33m+\u001b[0m \u001b[0margs\u001b[0m\u001b[1;33m)\u001b[0m\u001b[1;33m)\u001b[0m\u001b[1;33m\u001b[0m\u001b[0m\n\u001b[0m\u001b[0;32m    286\u001b[0m \u001b[1;33m\u001b[0m\u001b[0m\n\u001b[0;32m    287\u001b[0m     \u001b[1;32mreturn\u001b[0m \u001b[0mncalls\u001b[0m\u001b[1;33m,\u001b[0m \u001b[0mfunction_wrapper\u001b[0m\u001b[1;33m\u001b[0m\u001b[0m\n",
      "\u001b[1;32m/site/x86/anaconda-1.8/anaconda/lib/python2.7/site-packages/scipy/optimize/optimize.pyc\u001b[0m in \u001b[0;36mapprox_fprime\u001b[1;34m(xk, f, epsilon, *args)\u001b[0m\n\u001b[0;32m    616\u001b[0m \u001b[1;33m\u001b[0m\u001b[0m\n\u001b[0;32m    617\u001b[0m     \"\"\"\n\u001b[1;32m--> 618\u001b[1;33m     \u001b[1;32mreturn\u001b[0m \u001b[0m_approx_fprime_helper\u001b[0m\u001b[1;33m(\u001b[0m\u001b[0mxk\u001b[0m\u001b[1;33m,\u001b[0m \u001b[0mf\u001b[0m\u001b[1;33m,\u001b[0m \u001b[0mepsilon\u001b[0m\u001b[1;33m,\u001b[0m \u001b[0margs\u001b[0m\u001b[1;33m=\u001b[0m\u001b[0margs\u001b[0m\u001b[1;33m)\u001b[0m\u001b[1;33m\u001b[0m\u001b[0m\n\u001b[0m\u001b[0;32m    619\u001b[0m \u001b[1;33m\u001b[0m\u001b[0m\n\u001b[0;32m    620\u001b[0m \u001b[1;33m\u001b[0m\u001b[0m\n",
      "\u001b[1;32m/site/x86/anaconda-1.8/anaconda/lib/python2.7/site-packages/scipy/optimize/optimize.pyc\u001b[0m in \u001b[0;36m_approx_fprime_helper\u001b[1;34m(xk, f, epsilon, args, f0)\u001b[0m\n\u001b[0;32m    556\u001b[0m         \u001b[0mei\u001b[0m\u001b[1;33m[\u001b[0m\u001b[0mk\u001b[0m\u001b[1;33m]\u001b[0m \u001b[1;33m=\u001b[0m \u001b[1;36m1.0\u001b[0m\u001b[1;33m\u001b[0m\u001b[0m\n\u001b[0;32m    557\u001b[0m         \u001b[0md\u001b[0m \u001b[1;33m=\u001b[0m \u001b[0mepsilon\u001b[0m \u001b[1;33m*\u001b[0m \u001b[0mei\u001b[0m\u001b[1;33m\u001b[0m\u001b[0m\n\u001b[1;32m--> 558\u001b[1;33m         \u001b[0mgrad\u001b[0m\u001b[1;33m[\u001b[0m\u001b[0mk\u001b[0m\u001b[1;33m]\u001b[0m \u001b[1;33m=\u001b[0m \u001b[1;33m(\u001b[0m\u001b[0mf\u001b[0m\u001b[1;33m(\u001b[0m\u001b[1;33m*\u001b[0m\u001b[1;33m(\u001b[0m\u001b[1;33m(\u001b[0m\u001b[0mxk\u001b[0m \u001b[1;33m+\u001b[0m \u001b[0md\u001b[0m\u001b[1;33m,\u001b[0m\u001b[1;33m)\u001b[0m \u001b[1;33m+\u001b[0m \u001b[0margs\u001b[0m\u001b[1;33m)\u001b[0m\u001b[1;33m)\u001b[0m \u001b[1;33m-\u001b[0m \u001b[0mf0\u001b[0m\u001b[1;33m)\u001b[0m \u001b[1;33m/\u001b[0m \u001b[0md\u001b[0m\u001b[1;33m[\u001b[0m\u001b[0mk\u001b[0m\u001b[1;33m]\u001b[0m\u001b[1;33m\u001b[0m\u001b[0m\n\u001b[0m\u001b[0;32m    559\u001b[0m         \u001b[0mei\u001b[0m\u001b[1;33m[\u001b[0m\u001b[0mk\u001b[0m\u001b[1;33m]\u001b[0m \u001b[1;33m=\u001b[0m \u001b[1;36m0.0\u001b[0m\u001b[1;33m\u001b[0m\u001b[0m\n\u001b[0;32m    560\u001b[0m     \u001b[1;32mreturn\u001b[0m \u001b[0mgrad\u001b[0m\u001b[1;33m\u001b[0m\u001b[0m\n",
      "\u001b[1;32m/site/x86/anaconda-1.8/anaconda/lib/python2.7/site-packages/scipy/optimize/optimize.pyc\u001b[0m in \u001b[0;36mfunction_wrapper\u001b[1;34m(*wrapper_args)\u001b[0m\n\u001b[0;32m    283\u001b[0m     \u001b[1;32mdef\u001b[0m \u001b[0mfunction_wrapper\u001b[0m\u001b[1;33m(\u001b[0m\u001b[1;33m*\u001b[0m\u001b[0mwrapper_args\u001b[0m\u001b[1;33m)\u001b[0m\u001b[1;33m:\u001b[0m\u001b[1;33m\u001b[0m\u001b[0m\n\u001b[0;32m    284\u001b[0m         \u001b[0mncalls\u001b[0m\u001b[1;33m[\u001b[0m\u001b[1;36m0\u001b[0m\u001b[1;33m]\u001b[0m \u001b[1;33m+=\u001b[0m \u001b[1;36m1\u001b[0m\u001b[1;33m\u001b[0m\u001b[0m\n\u001b[1;32m--> 285\u001b[1;33m         \u001b[1;32mreturn\u001b[0m \u001b[0mfunction\u001b[0m\u001b[1;33m(\u001b[0m\u001b[1;33m*\u001b[0m\u001b[1;33m(\u001b[0m\u001b[0mwrapper_args\u001b[0m \u001b[1;33m+\u001b[0m \u001b[0margs\u001b[0m\u001b[1;33m)\u001b[0m\u001b[1;33m)\u001b[0m\u001b[1;33m\u001b[0m\u001b[0m\n\u001b[0m\u001b[0;32m    286\u001b[0m \u001b[1;33m\u001b[0m\u001b[0m\n\u001b[0;32m    287\u001b[0m     \u001b[1;32mreturn\u001b[0m \u001b[0mncalls\u001b[0m\u001b[1;33m,\u001b[0m \u001b[0mfunction_wrapper\u001b[0m\u001b[1;33m\u001b[0m\u001b[0m\n",
      "\u001b[1;32m<ipython-input-6-6792e2eacf27>\u001b[0m in \u001b[0;36mmcfunc\u001b[1;34m(model_parameters)\u001b[0m\n\u001b[0;32m     56\u001b[0m             \u001b[0mical\u001b[0m \u001b[1;33m=\u001b[0m \u001b[0mical\u001b[0m\u001b[1;33m-\u001b[0m\u001b[1;36m1\u001b[0m \u001b[1;31m# May or may not be advantageous to keep this instead of the range attribute for mem save\u001b[0m\u001b[1;33m\u001b[0m\u001b[0m\n\u001b[0;32m     57\u001b[0m \u001b[1;33m\u001b[0m\u001b[0m\n\u001b[1;32m---> 58\u001b[1;33m             \u001b[0mleft_strainpoint\u001b[0m \u001b[1;33m=\u001b[0m \u001b[0mstrain_stress\u001b[0m\u001b[1;33m[\u001b[0m\u001b[0mical\u001b[0m\u001b[1;33m,\u001b[0m\u001b[1;36m0\u001b[0m\u001b[1;33m]\u001b[0m\u001b[1;33m\u001b[0m\u001b[0m\n\u001b[0m\u001b[0;32m     59\u001b[0m             \u001b[0mright_strainpoint\u001b[0m \u001b[1;33m=\u001b[0m \u001b[0mstrain_stress\u001b[0m\u001b[1;33m[\u001b[0m\u001b[0mical\u001b[0m\u001b[1;33m+\u001b[0m\u001b[1;36m1\u001b[0m\u001b[1;33m,\u001b[0m\u001b[1;36m0\u001b[0m\u001b[1;33m]\u001b[0m\u001b[1;33m\u001b[0m\u001b[0m\n\u001b[0;32m     60\u001b[0m \u001b[1;33m\u001b[0m\u001b[0m\n",
      "\u001b[1;31mKeyboardInterrupt\u001b[0m: "
     ]
    }
   ],
   "source": [
    "import test_suite\n",
    "\n",
    "test_suite.minimize_suite(mcfunc,['CG'],[-100.,1.])"
   ]
  }
 ],
 "metadata": {
  "kernelspec": {
   "display_name": "Python 2",
   "language": "python",
   "name": "python2"
  },
  "language_info": {
   "codemirror_mode": {
    "name": "ipython",
    "version": 2
   },
   "file_extension": ".py",
   "mimetype": "text/x-python",
   "name": "python",
   "nbconvert_exporter": "python",
   "pygments_lexer": "ipython2",
   "version": "2.7.11"
  }
 },
 "nbformat": 4,
 "nbformat_minor": 0
}
