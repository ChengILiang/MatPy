{
 "cells": [
  {
   "cell_type": "code",
   "execution_count": 30,
   "metadata": {
    "collapsed": false
   },
   "outputs": [
    {
     "name": "stdout",
     "output_type": "stream",
     "text": [
      "L-BFGS-B took 0.0012731552124 seconds. The result, 5.51468703641e-17 was found at (-5.25104134263e-09, -5.25104134263e-09)\n",
      "L-BFGS-B used 61.375 megabytes and took 3.0 iterations\n",
      "\n"
     ]
    }
   ],
   "source": [
    "import optimization_suite\n",
    "reload(optimization_suite)\n",
    "\n",
    "func = lambda (x,y): x**2 + y**2\n",
    "\n",
    "optimization_suite.minimize_suite(func,['L-BFGS-B'],[100.,100.])"
   ]
  },
  {
   "cell_type": "code",
   "execution_count": 3,
   "metadata": {
    "collapsed": false
   },
   "outputs": [
    {
     "name": "stdout",
     "output_type": "stream",
     "text": [
      "(array([  4.51204795e-06]), 2.0358576720339696e-11)\n"
     ]
    }
   ],
   "source": [
    "from pybrain.optimization import GA\n",
    "\n",
    "func = lambda (x, ): x**2 \n",
    "\n",
    "def learn(func,guess):\n",
    "    \n",
    "    result = GA(func,guess,minimize=True)\n",
    "    print result.learn()\n",
    "\n",
    "learn(func,[100.])"
   ]
  },
  {
   "cell_type": "code",
   "execution_count": 42,
   "metadata": {
    "collapsed": false
   },
   "outputs": [
    {
     "name": "stdout",
     "output_type": "stream",
     "text": [
      "(array([2]), None)\n"
     ]
    }
   ],
   "source": [
    "reload(optimization_suite)\n",
    "\n",
    "def func(x):\n",
    "    return x**2\n",
    "optimization_suite.GA_minimize(func,guess=2)"
   ]
  },
  {
   "cell_type": "code",
   "execution_count": 6,
   "metadata": {
    "collapsed": false
   },
   "outputs": [
    {
     "name": "stdout",
     "output_type": "stream",
     "text": [
      "The result is:  (array([  3.02716639e-06]), 9.1637363495407037e-12)\n",
      "Genetic Algorithm took 20.7496471405 seconds\n",
      "Genetic Algorithm used 59.69921875 megabytes\n",
      "\n"
     ]
    }
   ],
   "source": [
    "from optimization_suite import GA_minimize as blahblahblah\n",
    "import timeit\n",
    "from memory_profiler import memory_usage\n",
    "\n",
    "# Our workaround for evaluating GA performance, needs its own method because it is separate in the SciPy class and takes different parameters\n",
    "def GA_minimize(function, guess):\n",
    "    \n",
    "    result = GA(func,guess,minimize=True)\n",
    "    print result.learn()\n",
    "\n",
    "blahblahblah(lambda (x, ): x**2, guess = [1.0,])"
   ]
  },
  {
   "cell_type": "code",
   "execution_count": 10,
   "metadata": {
    "collapsed": false
   },
   "outputs": [
    {
     "name": "stdout",
     "output_type": "stream",
     "text": [
      "Nelder-Mead took 0.0213780403137 seconds. The result, 0.0 was found at (0.0, 0.002625)\n",
      "Nelder-Mead used 60.6796875 megabytes and took 202.0 iterations\n",
      "\n",
      "L-BFGS-B took 0.00122022628784 seconds. The result, 2.5654139844e-17 was found at (-5.06499159367e-09, 0.0)\n",
      "L-BFGS-B used 60.6796875 megabytes and took 3.0 iterations\n",
      "\n"
     ]
    }
   ],
   "source": [
    "from optimization_suite import minimize_suite \n",
    "\n",
    "minimize_suite(lambda (x,y): x**2, methods=['Nelder-Mead','L-BFGS-B'],guess = [100.,0])"
   ]
  },
  {
   "cell_type": "code",
   "execution_count": 14,
   "metadata": {
    "collapsed": false
   },
   "outputs": [
    {
     "ename": "NameError",
     "evalue": "name 'optimization_suite' is not defined",
     "output_type": "error",
     "traceback": [
      "\u001b[1;31m---------------------------------------------------------------------------\u001b[0m",
      "\u001b[1;31mNameError\u001b[0m                                 Traceback (most recent call last)",
      "\u001b[1;32m<ipython-input-14-2ca8d2357764>\u001b[0m in \u001b[0;36m<module>\u001b[1;34m()\u001b[0m\n\u001b[0;32m      1\u001b[0m \u001b[1;32mfrom\u001b[0m \u001b[0mscipy\u001b[0m\u001b[1;33m.\u001b[0m\u001b[0moptimize\u001b[0m \u001b[1;32mimport\u001b[0m \u001b[0mbasinhopping\u001b[0m\u001b[1;33m\u001b[0m\u001b[0m\n\u001b[0;32m      2\u001b[0m \u001b[1;32mfrom\u001b[0m \u001b[0moptimization_suite\u001b[0m \u001b[1;32mimport\u001b[0m \u001b[0mcustom_minimize\u001b[0m\u001b[1;33m\u001b[0m\u001b[0m\n\u001b[1;32m----> 3\u001b[1;33m \u001b[0mreload\u001b[0m\u001b[1;33m(\u001b[0m\u001b[0moptimization_suite\u001b[0m\u001b[1;33m)\u001b[0m\u001b[1;33m\u001b[0m\u001b[0m\n\u001b[0m\u001b[0;32m      4\u001b[0m \u001b[1;33m\u001b[0m\u001b[0m\n\u001b[0;32m      5\u001b[0m \u001b[0mcustom_minimize\u001b[0m\u001b[1;33m(\u001b[0m\u001b[1;32mlambda\u001b[0m \u001b[1;33m(\u001b[0m\u001b[0mx\u001b[0m\u001b[1;33m,\u001b[0m\u001b[0my\u001b[0m\u001b[1;33m)\u001b[0m\u001b[1;33m:\u001b[0m \u001b[0mx\u001b[0m\u001b[1;33m**\u001b[0m\u001b[1;36m2\u001b[0m\u001b[1;33m,\u001b[0m \u001b[0mbasinhopping\u001b[0m\u001b[1;33m,\u001b[0m\u001b[1;33m)\u001b[0m\u001b[1;33m\u001b[0m\u001b[0m\n",
      "\u001b[1;31mNameError\u001b[0m: name 'optimization_suite' is not defined"
     ]
    }
   ],
   "source": [
    "from scipy.optimize import basinhopping\n",
    "from optimization_suite import custom_minimize\n",
    "\n",
    "custom_minimize(lambda (x,y): x**2, basinhopping,)"
   ]
  }
 ],
 "metadata": {
  "kernelspec": {
   "display_name": "Python 2",
   "language": "python",
   "name": "python2"
  },
  "language_info": {
   "codemirror_mode": {
    "name": "ipython",
    "version": 2
   },
   "file_extension": ".py",
   "mimetype": "text/x-python",
   "name": "python",
   "nbconvert_exporter": "python",
   "pygments_lexer": "ipython2",
   "version": "2.7.11"
  }
 },
 "nbformat": 4,
 "nbformat_minor": 0
}
