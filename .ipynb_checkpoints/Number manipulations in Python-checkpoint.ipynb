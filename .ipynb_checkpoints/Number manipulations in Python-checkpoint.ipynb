{
 "cells": [
  {
   "cell_type": "code",
   "execution_count": 15,
   "metadata": {
    "collapsed": false
   },
   "outputs": [
    {
     "name": "stdout",
     "output_type": "stream",
     "text": [
      "[0, 2, 5, 0, 0, 0, 0, 0, 0] Took 0.000396013259888\n"
     ]
    }
   ],
   "source": [
    "# finding the unit fraction with denom between 1 and 1000 with longest repeating denominator\n",
    "import timeit\n",
    "\n",
    "start = timeit.default_timer()\n",
    "\n",
    "seq = []\n",
    "\n",
    "#for denom in xrange(1,1000):\n",
    "\n",
    "dividend = 1\n",
    "divisor = 4\n",
    "\n",
    "# the equivalent of doing long division by hand\n",
    "for counter in xrange (1,10):\n",
    "\n",
    "    next_decimalplace = dividend / divisor\n",
    "    remainder = dividend % divisor\n",
    "    \n",
    "    dividend = remainder * 10\n",
    "    \n",
    "    seq.append(next_decimalplace)\n",
    "    \n",
    "stop = timeit.default_timer()\n",
    "    \n",
    "print seq, \"Took\", stop-start\n",
    "    "
   ]
  },
  {
   "cell_type": "code",
   "execution_count": 16,
   "metadata": {
    "collapsed": false
   },
   "outputs": [
    {
     "name": "stdout",
     "output_type": "stream",
     "text": [
      "[ 0.  2.  5.  0.  0.  0.  0.  0.  0.] Took 0.000643014907837\n"
     ]
    }
   ],
   "source": [
    "import numpy as np\n",
    "\n",
    "import timeit\n",
    "\n",
    "start = timeit.default_timer()\n",
    "\n",
    "seq = np.zeros(0)\n",
    "\n",
    "dividend = 1\n",
    "divisor = 4\n",
    "\n",
    "# the equivalent of doing long division by hand\n",
    "for counter in xrange (1,10):\n",
    "\n",
    "    next_decimalplace = dividend / divisor\n",
    "    remainder = dividend % divisor\n",
    "    \n",
    "    dividend = remainder * 10\n",
    "    \n",
    "    seq = np.append(seq,next_decimalplace)\n",
    "    \n",
    "stop = timeit.default_timer()\n",
    "\n",
    "print seq, \"Took\", stop-start"
   ]
  },
  {
   "cell_type": "code",
   "execution_count": 20,
   "metadata": {
    "collapsed": false
   },
   "outputs": [
    {
     "name": "stdout",
     "output_type": "stream",
     "text": [
      "[array([ 1.,  0.,  0.,  0.,  0.,  0.,  0.,  0.,  0.]), array([ 0.,  5.,  0.,  0.,  0.,  0.,  0.,  0.,  0.]), array([ 0.,  3.,  3.,  3.,  3.,  3.,  3.,  3.,  3.]), array([ 0.,  2.,  5.,  0.,  0.,  0.,  0.,  0.,  0.]), array([ 0.,  2.,  0.,  0.,  0.,  0.,  0.,  0.,  0.]), array([ 0.,  1.,  6.,  6.,  6.,  6.,  6.,  6.,  6.]), array([ 0.,  1.,  4.,  2.,  8.,  5.,  7.,  1.,  4.]), array([ 0.,  1.,  2.,  5.,  0.,  0.,  0.,  0.,  0.]), array([ 0.,  1.,  1.,  1.,  1.,  1.,  1.,  1.,  1.]), array([ 0.,  1.,  0.,  0.,  0.,  0.,  0.,  0.,  0.]), array([ 0.,  0.,  9.,  0.,  9.,  0.,  9.,  0.,  9.]), array([ 0.,  0.,  8.,  3.,  3.,  3.,  3.,  3.,  3.]), array([ 0.,  0.,  7.,  6.,  9.,  2.,  3.,  0.,  7.]), array([ 0.,  0.,  7.,  1.,  4.,  2.,  8.,  5.,  7.]), array([ 0.,  0.,  6.,  6.,  6.,  6.,  6.,  6.,  6.]), array([ 0.,  0.,  6.,  2.,  5.,  0.,  0.,  0.,  0.]), array([ 0.,  0.,  5.,  8.,  8.,  2.,  3.,  5.,  2.]), array([ 0.,  0.,  5.,  5.,  5.,  5.,  5.,  5.,  5.]), array([ 0.,  0.,  5.,  2.,  6.,  3.,  1.,  5.,  7.]), array([ 0.,  0.,  5.,  0.,  0.,  0.,  0.,  0.,  0.]), array([ 0.,  0.,  4.,  7.,  6.,  1.,  9.,  0.,  4.]), array([ 0.,  0.,  4.,  5.,  4.,  5.,  4.,  5.,  4.]), array([ 0.,  0.,  4.,  3.,  4.,  7.,  8.,  2.,  6.]), array([ 0.,  0.,  4.,  1.,  6.,  6.,  6.,  6.,  6.]), array([ 0.,  0.,  4.,  0.,  0.,  0.,  0.,  0.,  0.]), array([ 0.,  0.,  3.,  8.,  4.,  6.,  1.,  5.,  3.]), array([ 0.,  0.,  3.,  7.,  0.,  3.,  7.,  0.,  3.]), array([ 0.,  0.,  3.,  5.,  7.,  1.,  4.,  2.,  8.]), array([ 0.,  0.,  3.,  4.,  4.,  8.,  2.,  7.,  5.]), array([ 0.,  0.,  3.,  3.,  3.,  3.,  3.,  3.,  3.]), array([ 0.,  0.,  3.,  2.,  2.,  5.,  8.,  0.,  6.]), array([ 0.,  0.,  3.,  1.,  2.,  5.,  0.,  0.,  0.]), array([ 0.,  0.,  3.,  0.,  3.,  0.,  3.,  0.,  3.]), array([ 0.,  0.,  2.,  9.,  4.,  1.,  1.,  7.,  6.]), array([ 0.,  0.,  2.,  8.,  5.,  7.,  1.,  4.,  2.]), array([ 0.,  0.,  2.,  7.,  7.,  7.,  7.,  7.,  7.]), array([ 0.,  0.,  2.,  7.,  0.,  2.,  7.,  0.,  2.]), array([ 0.,  0.,  2.,  6.,  3.,  1.,  5.,  7.,  8.]), array([ 0.,  0.,  2.,  5.,  6.,  4.,  1.,  0.,  2.]), array([ 0.,  0.,  2.,  5.,  0.,  0.,  0.,  0.,  0.]), array([ 0.,  0.,  2.,  4.,  3.,  9.,  0.,  2.,  4.]), array([ 0.,  0.,  2.,  3.,  8.,  0.,  9.,  5.,  2.]), array([ 0.,  0.,  2.,  3.,  2.,  5.,  5.,  8.,  1.]), array([ 0.,  0.,  2.,  2.,  7.,  2.,  7.,  2.,  7.]), array([ 0.,  0.,  2.,  2.,  2.,  2.,  2.,  2.,  2.]), array([ 0.,  0.,  2.,  1.,  7.,  3.,  9.,  1.,  3.]), array([ 0.,  0.,  2.,  1.,  2.,  7.,  6.,  5.,  9.]), array([ 0.,  0.,  2.,  0.,  8.,  3.,  3.,  3.,  3.]), array([ 0.,  0.,  2.,  0.,  4.,  0.,  8.,  1.,  6.]), array([ 0.,  0.,  2.,  0.,  0.,  0.,  0.,  0.,  0.]), array([ 0.,  0.,  1.,  9.,  6.,  0.,  7.,  8.,  4.]), array([ 0.,  0.,  1.,  9.,  2.,  3.,  0.,  7.,  6.]), array([ 0.,  0.,  1.,  8.,  8.,  6.,  7.,  9.,  2.]), array([ 0.,  0.,  1.,  8.,  5.,  1.,  8.,  5.,  1.]), array([ 0.,  0.,  1.,  8.,  1.,  8.,  1.,  8.,  1.]), array([ 0.,  0.,  1.,  7.,  8.,  5.,  7.,  1.,  4.]), array([ 0.,  0.,  1.,  7.,  5.,  4.,  3.,  8.,  5.]), array([ 0.,  0.,  1.,  7.,  2.,  4.,  1.,  3.,  7.]), array([ 0.,  0.,  1.,  6.,  9.,  4.,  9.,  1.,  5.]), array([ 0.,  0.,  1.,  6.,  6.,  6.,  6.,  6.,  6.]), array([ 0.,  0.,  1.,  6.,  3.,  9.,  3.,  4.,  4.]), array([ 0.,  0.,  1.,  6.,  1.,  2.,  9.,  0.,  3.]), array([ 0.,  0.,  1.,  5.,  8.,  7.,  3.,  0.,  1.]), array([ 0.,  0.,  1.,  5.,  6.,  2.,  5.,  0.,  0.]), array([ 0.,  0.,  1.,  5.,  3.,  8.,  4.,  6.,  1.]), array([ 0.,  0.,  1.,  5.,  1.,  5.,  1.,  5.,  1.]), array([ 0.,  0.,  1.,  4.,  9.,  2.,  5.,  3.,  7.]), array([ 0.,  0.,  1.,  4.,  7.,  0.,  5.,  8.,  8.]), array([ 0.,  0.,  1.,  4.,  4.,  9.,  2.,  7.,  5.]), array([ 0.,  0.,  1.,  4.,  2.,  8.,  5.,  7.,  1.]), array([ 0.,  0.,  1.,  4.,  0.,  8.,  4.,  5.,  0.]), array([ 0.,  0.,  1.,  3.,  8.,  8.,  8.,  8.,  8.]), array([ 0.,  0.,  1.,  3.,  6.,  9.,  8.,  6.,  3.]), array([ 0.,  0.,  1.,  3.,  5.,  1.,  3.,  5.,  1.]), array([ 0.,  0.,  1.,  3.,  3.,  3.,  3.,  3.,  3.]), array([ 0.,  0.,  1.,  3.,  1.,  5.,  7.,  8.,  9.]), array([ 0.,  0.,  1.,  2.,  9.,  8.,  7.,  0.,  1.]), array([ 0.,  0.,  1.,  2.,  8.,  2.,  0.,  5.,  1.]), array([ 0.,  0.,  1.,  2.,  6.,  5.,  8.,  2.,  2.]), array([ 0.,  0.,  1.,  2.,  5.,  0.,  0.,  0.,  0.]), array([ 0.,  0.,  1.,  2.,  3.,  4.,  5.,  6.,  7.]), array([ 0.,  0.,  1.,  2.,  1.,  9.,  5.,  1.,  2.]), array([ 0.,  0.,  1.,  2.,  0.,  4.,  8.,  1.,  9.]), array([ 0.,  0.,  1.,  1.,  9.,  0.,  4.,  7.,  6.]), array([ 0.,  0.,  1.,  1.,  7.,  6.,  4.,  7.,  0.]), array([ 0.,  0.,  1.,  1.,  6.,  2.,  7.,  9.,  0.]), array([ 0.,  0.,  1.,  1.,  4.,  9.,  4.,  2.,  5.]), array([ 0.,  0.,  1.,  1.,  3.,  6.,  3.,  6.,  3.]), array([ 0.,  0.,  1.,  1.,  2.,  3.,  5.,  9.,  5.]), array([ 0.,  0.,  1.,  1.,  1.,  1.,  1.,  1.,  1.]), array([ 0.,  0.,  1.,  0.,  9.,  8.,  9.,  0.,  1.]), array([ 0.,  0.,  1.,  0.,  8.,  6.,  9.,  5.,  6.]), array([ 0.,  0.,  1.,  0.,  7.,  5.,  2.,  6.,  8.]), array([ 0.,  0.,  1.,  0.,  6.,  3.,  8.,  2.,  9.]), array([ 0.,  0.,  1.,  0.,  5.,  2.,  6.,  3.,  1.]), array([ 0.,  0.,  1.,  0.,  4.,  1.,  6.,  6.,  6.]), array([ 0.,  0.,  1.,  0.,  3.,  0.,  9.,  2.,  7.]), array([ 0.,  0.,  1.,  0.,  2.,  0.,  4.,  0.,  8.]), array([ 0.,  0.,  1.,  0.,  1.,  0.,  1.,  0.,  1.])] Took 0.0102980136871\n"
     ]
    }
   ],
   "source": [
    "import numpy as np\n",
    "\n",
    "import timeit\n",
    "\n",
    "start = timeit.default_timer()\n",
    "\n",
    "all_seqs = []\n",
    "\n",
    "# the equivalent of doing long division by hand\n",
    "for divisor in xrange (1,100):\n",
    "    \n",
    "    dividend = 1\n",
    "    \n",
    "    seq = np.zeros(0)\n",
    "\n",
    "\n",
    "    for counter in xrange(1,10):\n",
    "    \n",
    "        next_decimalplace = dividend / divisor\n",
    "        remainder = dividend % divisor\n",
    "\n",
    "        dividend = remainder * 10\n",
    "\n",
    "        seq = np.append(seq,next_decimalplace)\n",
    "    \n",
    "    all_seqs.append(seq)\n",
    "    \n",
    "stop = timeit.default_timer()\n",
    "\n",
    "print all_seqs, \"Took\", stop-start"
   ]
  },
  {
   "cell_type": "code",
   "execution_count": 26,
   "metadata": {
    "collapsed": false
   },
   "outputs": [
    {
     "name": "stdout",
     "output_type": "stream",
     "text": [
      "[array([ 1.,  0.,  0.,  0.,  0.,  0.,  0.,  0.,  0.]), array([ 0.,  5.,  0.,  0.,  0.,  0.,  0.,  0.,  0.]), array([ 0.,  3.,  3.,  3.,  3.,  3.,  3.,  3.,  3.]), array([ 0.,  2.,  5.,  0.,  0.,  0.,  0.,  0.,  0.]), array([ 0.,  2.,  0.,  0.,  0.,  0.,  0.,  0.,  0.]), array([ 0.,  1.,  6.,  6.,  6.,  6.,  6.,  6.,  6.]), array([ 0.,  1.,  4.,  2.,  8.,  5.,  7.,  1.,  4.]), array([ 0.,  1.,  2.,  5.,  0.,  0.,  0.,  0.,  0.]), array([ 0.,  1.,  1.,  1.,  1.,  1.,  1.,  1.,  1.]), array([ 0.,  1.,  0.,  0.,  0.,  0.,  0.,  0.,  0.]), array([ 0.,  0.,  9.,  0.,  9.,  0.,  9.,  0.,  9.]), array([ 0.,  0.,  8.,  3.,  3.,  3.,  3.,  3.,  3.]), array([ 0.,  0.,  7.,  6.,  9.,  2.,  3.,  0.,  7.]), array([ 0.,  0.,  7.,  1.,  4.,  2.,  8.,  5.,  7.]), array([ 0.,  0.,  6.,  6.,  6.,  6.,  6.,  6.,  6.]), array([ 0.,  0.,  6.,  2.,  5.,  0.,  0.,  0.,  0.]), array([ 0.,  0.,  5.,  8.,  8.,  2.,  3.,  5.,  2.]), array([ 0.,  0.,  5.,  5.,  5.,  5.,  5.,  5.,  5.]), array([ 0.,  0.,  5.,  2.,  6.,  3.,  1.,  5.,  7.]), array([ 0.,  0.,  5.,  0.,  0.,  0.,  0.,  0.,  0.]), array([ 0.,  0.,  4.,  7.,  6.,  1.,  9.,  0.,  4.]), array([ 0.,  0.,  4.,  5.,  4.,  5.,  4.,  5.,  4.]), array([ 0.,  0.,  4.,  3.,  4.,  7.,  8.,  2.,  6.]), array([ 0.,  0.,  4.,  1.,  6.,  6.,  6.,  6.,  6.]), array([ 0.,  0.,  4.,  0.,  0.,  0.,  0.,  0.,  0.]), array([ 0.,  0.,  3.,  8.,  4.,  6.,  1.,  5.,  3.]), array([ 0.,  0.,  3.,  7.,  0.,  3.,  7.,  0.,  3.]), array([ 0.,  0.,  3.,  5.,  7.,  1.,  4.,  2.,  8.]), array([ 0.,  0.,  3.,  4.,  4.,  8.,  2.,  7.,  5.]), array([ 0.,  0.,  3.,  3.,  3.,  3.,  3.,  3.,  3.]), array([ 0.,  0.,  3.,  2.,  2.,  5.,  8.,  0.,  6.]), array([ 0.,  0.,  3.,  1.,  2.,  5.,  0.,  0.,  0.]), array([ 0.,  0.,  3.,  0.,  3.,  0.,  3.,  0.,  3.]), array([ 0.,  0.,  2.,  9.,  4.,  1.,  1.,  7.,  6.]), array([ 0.,  0.,  2.,  8.,  5.,  7.,  1.,  4.,  2.]), array([ 0.,  0.,  2.,  7.,  7.,  7.,  7.,  7.,  7.]), array([ 0.,  0.,  2.,  7.,  0.,  2.,  7.,  0.,  2.]), array([ 0.,  0.,  2.,  6.,  3.,  1.,  5.,  7.,  8.]), array([ 0.,  0.,  2.,  5.,  6.,  4.,  1.,  0.,  2.]), array([ 0.,  0.,  2.,  5.,  0.,  0.,  0.,  0.,  0.]), array([ 0.,  0.,  2.,  4.,  3.,  9.,  0.,  2.,  4.]), array([ 0.,  0.,  2.,  3.,  8.,  0.,  9.,  5.,  2.]), array([ 0.,  0.,  2.,  3.,  2.,  5.,  5.,  8.,  1.]), array([ 0.,  0.,  2.,  2.,  7.,  2.,  7.,  2.,  7.]), array([ 0.,  0.,  2.,  2.,  2.,  2.,  2.,  2.,  2.]), array([ 0.,  0.,  2.,  1.,  7.,  3.,  9.,  1.,  3.]), array([ 0.,  0.,  2.,  1.,  2.,  7.,  6.,  5.,  9.]), array([ 0.,  0.,  2.,  0.,  8.,  3.,  3.,  3.,  3.]), array([ 0.,  0.,  2.,  0.,  4.,  0.,  8.,  1.,  6.]), array([ 0.,  0.,  2.,  0.,  0.,  0.,  0.,  0.,  0.]), array([ 0.,  0.,  1.,  9.,  6.,  0.,  7.,  8.,  4.]), array([ 0.,  0.,  1.,  9.,  2.,  3.,  0.,  7.,  6.]), array([ 0.,  0.,  1.,  8.,  8.,  6.,  7.,  9.,  2.]), array([ 0.,  0.,  1.,  8.,  5.,  1.,  8.,  5.,  1.]), array([ 0.,  0.,  1.,  8.,  1.,  8.,  1.,  8.,  1.]), array([ 0.,  0.,  1.,  7.,  8.,  5.,  7.,  1.,  4.]), array([ 0.,  0.,  1.,  7.,  5.,  4.,  3.,  8.,  5.]), array([ 0.,  0.,  1.,  7.,  2.,  4.,  1.,  3.,  7.]), array([ 0.,  0.,  1.,  6.,  9.,  4.,  9.,  1.,  5.]), array([ 0.,  0.,  1.,  6.,  6.,  6.,  6.,  6.,  6.]), array([ 0.,  0.,  1.,  6.,  3.,  9.,  3.,  4.,  4.]), array([ 0.,  0.,  1.,  6.,  1.,  2.,  9.,  0.,  3.]), array([ 0.,  0.,  1.,  5.,  8.,  7.,  3.,  0.,  1.]), array([ 0.,  0.,  1.,  5.,  6.,  2.,  5.,  0.,  0.]), array([ 0.,  0.,  1.,  5.,  3.,  8.,  4.,  6.,  1.]), array([ 0.,  0.,  1.,  5.,  1.,  5.,  1.,  5.,  1.]), array([ 0.,  0.,  1.,  4.,  9.,  2.,  5.,  3.,  7.]), array([ 0.,  0.,  1.,  4.,  7.,  0.,  5.,  8.,  8.]), array([ 0.,  0.,  1.,  4.,  4.,  9.,  2.,  7.,  5.]), array([ 0.,  0.,  1.,  4.,  2.,  8.,  5.,  7.,  1.]), array([ 0.,  0.,  1.,  4.,  0.,  8.,  4.,  5.,  0.]), array([ 0.,  0.,  1.,  3.,  8.,  8.,  8.,  8.,  8.]), array([ 0.,  0.,  1.,  3.,  6.,  9.,  8.,  6.,  3.]), array([ 0.,  0.,  1.,  3.,  5.,  1.,  3.,  5.,  1.]), array([ 0.,  0.,  1.,  3.,  3.,  3.,  3.,  3.,  3.]), array([ 0.,  0.,  1.,  3.,  1.,  5.,  7.,  8.,  9.]), array([ 0.,  0.,  1.,  2.,  9.,  8.,  7.,  0.,  1.]), array([ 0.,  0.,  1.,  2.,  8.,  2.,  0.,  5.,  1.]), array([ 0.,  0.,  1.,  2.,  6.,  5.,  8.,  2.,  2.]), array([ 0.,  0.,  1.,  2.,  5.,  0.,  0.,  0.,  0.]), array([ 0.,  0.,  1.,  2.,  3.,  4.,  5.,  6.,  7.]), array([ 0.,  0.,  1.,  2.,  1.,  9.,  5.,  1.,  2.]), array([ 0.,  0.,  1.,  2.,  0.,  4.,  8.,  1.,  9.]), array([ 0.,  0.,  1.,  1.,  9.,  0.,  4.,  7.,  6.]), array([ 0.,  0.,  1.,  1.,  7.,  6.,  4.,  7.,  0.]), array([ 0.,  0.,  1.,  1.,  6.,  2.,  7.,  9.,  0.]), array([ 0.,  0.,  1.,  1.,  4.,  9.,  4.,  2.,  5.]), array([ 0.,  0.,  1.,  1.,  3.,  6.,  3.,  6.,  3.]), array([ 0.,  0.,  1.,  1.,  2.,  3.,  5.,  9.,  5.]), array([ 0.,  0.,  1.,  1.,  1.,  1.,  1.,  1.,  1.]), array([ 0.,  0.,  1.,  0.,  9.,  8.,  9.,  0.,  1.]), array([ 0.,  0.,  1.,  0.,  8.,  6.,  9.,  5.,  6.]), array([ 0.,  0.,  1.,  0.,  7.,  5.,  2.,  6.,  8.]), array([ 0.,  0.,  1.,  0.,  6.,  3.,  8.,  2.,  9.]), array([ 0.,  0.,  1.,  0.,  5.,  2.,  6.,  3.,  1.]), array([ 0.,  0.,  1.,  0.,  4.,  1.,  6.,  6.,  6.]), array([ 0.,  0.,  1.,  0.,  3.,  0.,  9.,  2.,  7.]), array([ 0.,  0.,  1.,  0.,  2.,  0.,  4.,  0.,  8.]), array([ 0.,  0.,  1.,  0.,  1.,  0.,  1.,  0.,  1.])] Took 0.00939702987671\n"
     ]
    }
   ],
   "source": [
    "#performs our divisions in a function\n",
    "def seq_values(dividend, divisor):\n",
    "    \n",
    "    next_decimalplace = dividend / divisor\n",
    "    remainder = dividend % divisor\n",
    "    dividend = remainder * 10\n",
    "    \n",
    "    return next_decimalplace,dividend\n",
    "\n",
    "\n",
    "\n",
    "import numpy as np\n",
    "\n",
    "import timeit\n",
    "\n",
    "start = timeit.default_timer()\n",
    "all_seqs = []\n",
    "\n",
    "# the equivalent of doing long division by hand\n",
    "for divisor in xrange (1,100):\n",
    "    \n",
    "    dividend = 1\n",
    "    seq = np.zeros(0)\n",
    "\n",
    "    for counter in xrange(1,10):\n",
    "    \n",
    "        next_digit, dividend = seq_values(dividend,divisor)\n",
    "        seq = np.append(seq,next_digit)\n",
    "    \n",
    "    all_seqs.append(seq)\n",
    "    \n",
    "stop = timeit.default_timer()\n",
    "\n",
    "print all_seqs, \"Took\", stop-start"
   ]
  },
  {
   "cell_type": "code",
   "execution_count": 31,
   "metadata": {
    "collapsed": false
   },
   "outputs": [
    {
     "name": "stdout",
     "output_type": "stream",
     "text": [
      "[array([ 0.,  3.,  3.])] Took 0.000483989715576\n"
     ]
    }
   ],
   "source": [
    "#performs our divisions in a function\n",
    "def seq_values(dividend, divisor):\n",
    "    \n",
    "    next_decimalplace = dividend / divisor\n",
    "    remainder = dividend % divisor\n",
    "    dividend = remainder * 10\n",
    "    \n",
    "    return next_decimalplace,dividend\n",
    "\n",
    "\n",
    "import numpy as np\n",
    "\n",
    "import timeit\n",
    "\n",
    "start = timeit.default_timer()\n",
    "all_seqs = []\n",
    "\n",
    "# Just seeing for one number\n",
    "for divisor in xrange (3,4):\n",
    "    \n",
    "    dividend = 1\n",
    "    seq = np.zeros(0)\n",
    "    \n",
    "    done = False\n",
    "\n",
    "    while done == False:\n",
    "    \n",
    "        next_digit, dividend = seq_values(dividend,divisor)\n",
    "        index = np.where(seq == next_digit)[0]\n",
    "        \n",
    "        if index:\n",
    "            done = True\n",
    "        \n",
    "        seq = np.append(seq,next_digit)\n",
    "        \n",
    "        \n",
    "    all_seqs.append(seq)\n",
    "    \n",
    "stop = timeit.default_timer()\n",
    "\n",
    "print all_seqs, \"Took\", stop-start"
   ]
  },
  {
   "cell_type": "code",
   "execution_count": 52,
   "metadata": {
    "collapsed": false
   },
   "outputs": [
    {
     "name": "stdout",
     "output_type": "stream",
     "text": [
      "[1]\n",
      "[3 1]\n",
      "[1]\n",
      "[4 1]\n",
      "[3 1]\n",
      "[1]\n",
      "[6]\n",
      "7 Took 0.00450086593628\n"
     ]
    }
   ],
   "source": [
    "#performs our divisions in a function\n",
    "def seq_values(dividend, divisor):\n",
    "    \n",
    "    next_decimalplace = dividend / divisor\n",
    "    remainder = dividend % divisor\n",
    "    dividend = remainder * 10\n",
    "    \n",
    "    return next_decimalplace,dividend\n",
    "\n",
    "\n",
    "import numpy as np\n",
    "\n",
    "import timeit\n",
    "\n",
    "start = timeit.default_timer()\n",
    "all_seqs = []\n",
    "\n",
    "max_repeat = 0\n",
    "max_index =0 \n",
    "\n",
    "# Just seeing for one number\n",
    "for divisor in xrange (1,8):\n",
    "    \n",
    "    dividend = 1\n",
    "    seq = np.zeros(0)\n",
    "    current_index = 0\n",
    "    \n",
    "    done = False\n",
    "\n",
    "    while done == False:\n",
    "    \n",
    "        next_digit, dividend = seq_values(dividend,divisor)\n",
    "        index = np.where(seq == next_digit)[0]\n",
    "        \n",
    "        # If the index is present we must traverse the entire range, verify that elements match up\n",
    "        if index.any():\n",
    "            \n",
    "            print current_index - index\n",
    "            \n",
    "            gap = min(current_index - index)\n",
    "            \n",
    "            if(gap>max_repeat):\n",
    "                gap = max_repeat\n",
    "                max_index = current_index\n",
    "                \n",
    "            done = True\n",
    "            #for digit in xrange()\n",
    "            \n",
    "        current_index = current_index + 1\n",
    "        seq = np.append(seq,next_digit)\n",
    "        \n",
    "        \n",
    "    all_seqs.append(seq)\n",
    "    \n",
    "stop = timeit.default_timer()\n",
    "\n",
    "print max_index, \"Took\", stop-start"
   ]
  },
  {
   "cell_type": "code",
   "execution_count": 63,
   "metadata": {
    "collapsed": false
   },
   "outputs": [
    {
     "name": "stdout",
     "output_type": "stream",
     "text": [
      "81 Took 0.0769770145416\n"
     ]
    }
   ],
   "source": [
    "#performs our divisions in a function\n",
    "def seq_values(dividend, divisor):\n",
    "    \n",
    "    next_decimalplace = dividend / divisor\n",
    "    remainder = dividend % divisor\n",
    "    dividend = remainder * 10\n",
    "    \n",
    "    return next_decimalplace,dividend\n",
    "\n",
    "\n",
    "import numpy as np\n",
    "\n",
    "import timeit\n",
    "\n",
    "start = timeit.default_timer()\n",
    "all_seqs = []\n",
    "\n",
    "max_repeat = 0\n",
    "max_index = 0 \n",
    "\n",
    "# Just seeing for one number\n",
    "for divisor in xrange (1,1000):\n",
    "    \n",
    "    dividend = 1\n",
    "    seq = np.zeros(0)\n",
    "    current_index = 0\n",
    "    \n",
    "    done = False\n",
    "\n",
    "    while done == False:\n",
    "    \n",
    "        next_digit, dividend = seq_values(dividend,divisor)\n",
    "        index = np.where(seq == next_digit)[0]\n",
    "        \n",
    "        # If the index is present we must traverse the entire range, verify that elements match up\n",
    "        if index.any():\n",
    "            \n",
    "            #print current_index - index\n",
    "            \n",
    "            gap = min(current_index - index) #smallest space between two digits\n",
    "            \n",
    "            if(gap > max_repeat):\n",
    "                max_repeat = gap\n",
    "                max_index = divisor\n",
    "                \n",
    "                #print max_index\n",
    "                \n",
    "            done = True\n",
    "                        \n",
    "        current_index = current_index + 1\n",
    "        seq = np.append(seq,next_digit)\n",
    "        \n",
    "    #print     \n",
    "    all_seqs.append(seq)\n",
    "    \n",
    "stop = timeit.default_timer()\n",
    "\n",
    "print max_index, \"Took\", stop-start"
   ]
  },
  {
   "cell_type": "code",
   "execution_count": 68,
   "metadata": {
    "collapsed": false
   },
   "outputs": [
    {
     "ename": "SyntaxError",
     "evalue": "invalid syntax (<ipython-input-68-49e02f76b29e>, line 52)",
     "output_type": "error",
     "traceback": [
      "\u001b[1;36m  File \u001b[1;32m\"<ipython-input-68-49e02f76b29e>\"\u001b[1;36m, line \u001b[1;32m52\u001b[0m\n\u001b[1;33m    for (digit in xrange(0,gap) and answer_possible == True):\u001b[0m\n\u001b[1;37m                                                            ^\u001b[0m\n\u001b[1;31mSyntaxError\u001b[0m\u001b[1;31m:\u001b[0m invalid syntax\n"
     ]
    }
   ],
   "source": [
    "#performs our divisions in a function\n",
    "def seq_values(dividend, divisor):\n",
    "    \n",
    "    next_decimalplace = dividend / divisor\n",
    "    remainder = dividend % divisor\n",
    "    dividend = remainder * 10\n",
    "    \n",
    "    return next_decimalplace,dividend\n",
    "\n",
    "#true if all values between current index and gap further are consistent\n",
    "def check_seq(seq, gap, current_index, divisor):               \n",
    "\n",
    "    dividend = seq[current_index]\n",
    "    \n",
    "    for num in xrange(0,gap):\n",
    "        \n",
    "        next_digit, dividend = seq_values(dividend,divisor)\n",
    "        \n",
    "        if(seq[current_index]!=seq_values(dividend,divisor))\n",
    "        \n",
    "        \n",
    "        \n",
    "\n",
    "import numpy as np\n",
    "\n",
    "import timeit\n",
    "\n",
    "start = timeit.default_timer()\n",
    "all_seqs = []\n",
    "\n",
    "max_repeat = 0\n",
    "max_index = 0 \n",
    "\n",
    "for divisor in xrange (1,1000):\n",
    "    \n",
    "    dividend = 1\n",
    "    seq = np.zeros(0)\n",
    "    current_index = 0\n",
    "    \n",
    "    done = False\n",
    "\n",
    "    while done == False:\n",
    "    \n",
    "        next_digit, dividend = seq_values(dividend,divisor)\n",
    "        index = np.where(seq == next_digit)[0]\n",
    "        \n",
    "        # If the index is present we must traverse the entire range, verify that elements match up\n",
    "        if index.any():\n",
    "                        \n",
    "            gap = min(current_index - index) #smallest space between two same digits\n",
    "            \n",
    "            # we don't care about the sequence if it's short so we won't check it\n",
    "            if(gap > max_repeat):     \n",
    "\n",
    "                if(check_seq(seq,gap,current_index, divisor) == True):\n",
    "                \n",
    "                    max_repeat = gap\n",
    "                    max_index = divisor            \n",
    "                        \n",
    "        current_index = current_index + 1\n",
    "        seq = np.append(seq,next_digit)\n",
    "        \n",
    "    #print     \n",
    "    all_seqs.append(seq)\n",
    "    \n",
    "stop = timeit.default_timer()\n",
    "\n",
    "print max_index, \"Took\", stop-start"
   ]
  },
  {
   "cell_type": "code",
   "execution_count": null,
   "metadata": {
    "collapsed": true
   },
   "outputs": [],
   "source": []
  }
 ],
 "metadata": {
  "kernelspec": {
   "display_name": "Python 2",
   "language": "python",
   "name": "python2"
  },
  "language_info": {
   "codemirror_mode": {
    "name": "ipython",
    "version": 2
   },
   "file_extension": ".py",
   "mimetype": "text/x-python",
   "name": "python",
   "nbconvert_exporter": "python",
   "pygments_lexer": "ipython2",
   "version": "2.7.11"
  }
 },
 "nbformat": 4,
 "nbformat_minor": 0
}
