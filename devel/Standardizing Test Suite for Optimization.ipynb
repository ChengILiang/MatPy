{
 "cells": [
  {
   "cell_type": "markdown",
   "metadata": {},
   "source": [
    "### Standard Procedures for testing an algorithm"
   ]
  },
  {
   "cell_type": "code",
   "execution_count": 89,
   "metadata": {
    "collapsed": false
   },
   "outputs": [],
   "source": [
    "#library/config we need\n",
    "%matplotlib inline\n",
    "\n",
    "import numpy as np\n",
    "import scipy as sp\n",
    "import matplotlib.pyplot as plot\n",
    "\n",
    "#will allow us to get necessary information from running\n",
    "numiters = 0\n",
    "import timeit #timeit.default_timer() times runtime\n",
    "#import memory_profiler "
   ]
  },
  {
   "cell_type": "markdown",
   "metadata": {},
   "source": [
    "### This is how we use variable numbers of arguments"
   ]
  },
  {
   "cell_type": "code",
   "execution_count": 90,
   "metadata": {
    "collapsed": false
   },
   "outputs": [
    {
     "name": "stdout",
     "output_type": "stream",
     "text": [
      "Hello,\n",
      "my\n",
      "name\n",
      "is\n",
      "Bob\n",
      "Time = 0.000913858413696\n"
     ]
    }
   ],
   "source": [
    "start = timeit.default_timer()\n",
    "\n",
    "# this will print all of our arguments in reverse\n",
    "def reverse(*args):\n",
    "    \n",
    "    if not args[0]:\n",
    "        return\n",
    "    \n",
    "    print args[0][-1] #prints last word\n",
    "    reverse(args[0][:-1]) #calls itself with one less word\n",
    "    \n",
    "reverse(['Bob', 'is', 'name', 'my', 'Hello,'])\n",
    "\n",
    "stop = timeit.default_timer()\n",
    "\n",
    "print \"Time =\",stop-start"
   ]
  },
  {
   "cell_type": "code",
   "execution_count": 91,
   "metadata": {
    "collapsed": false
   },
   "outputs": [
    {
     "name": "stdout",
     "output_type": "stream",
     "text": [
      "Alexander\n",
      "Nusinovich\n",
      "Edward\n"
     ]
    }
   ],
   "source": [
    "def map_print(apple=\"\",**kwargs):\n",
    "    \n",
    "    for key in kwargs:\n",
    "        print kwargs[key]\n",
    "        \n",
    "test_dictionary = {\"a\":\"b\"}\n",
    "dictionary={\"First\":\"Edward\",\"Last\":\"Nusinovich\",\"Middle\":\"Alexander\"}\n",
    "map_print(**dictionary)\n",
    "    "
   ]
  },
  {
   "cell_type": "markdown",
   "metadata": {},
   "source": [
    "## The standard format"
   ]
  },
  {
   "cell_type": "code",
   "execution_count": 1,
   "metadata": {
    "collapsed": false
   },
   "outputs": [
    {
     "ename": "NameError",
     "evalue": "name 'thefunction' is not defined",
     "output_type": "error",
     "traceback": [
      "\u001b[1;31m---------------------------------------------------------------------------\u001b[0m",
      "\u001b[1;31mNameError\u001b[0m                                 Traceback (most recent call last)",
      "\u001b[1;32m<ipython-input-1-7ba7fdb867fc>\u001b[0m in \u001b[0;36m<module>\u001b[1;34m()\u001b[0m\n\u001b[0;32m     36\u001b[0m \u001b[1;33m\u001b[0m\u001b[0m\n\u001b[0;32m     37\u001b[0m     \u001b[1;34m\" scipy.optimize.OptimizeResult contains the number iterations \"\u001b[0m\u001b[1;33m\u001b[0m\u001b[0m\n\u001b[1;32m---> 38\u001b[1;33m     \u001b[0mresult\u001b[0m \u001b[1;33m=\u001b[0m \u001b[0mminimize\u001b[0m\u001b[1;33m(\u001b[0m\u001b[0mthefunction\u001b[0m\u001b[1;33m(\u001b[0m\u001b[1;33m)\u001b[0m\u001b[1;33m,\u001b[0m\u001b[0mparams\u001b[0m\u001b[1;33m)\u001b[0m\u001b[1;33m\u001b[0m\u001b[0m\n\u001b[0m\u001b[0;32m     39\u001b[0m \u001b[1;33m\u001b[0m\u001b[0m\n\u001b[0;32m     40\u001b[0m \u001b[1;33m\u001b[0m\u001b[0m\n",
      "\u001b[1;31mNameError\u001b[0m: name 'thefunction' is not defined"
     ]
    }
   ],
   "source": [
    "# initial setup\n",
    "%matplotlib inline\n",
    "\n",
    "import numpy as np\n",
    "import scipy as sp\n",
    "import matplotlib.pyplot as plot\n",
    "import memory_profiler\n",
    "\n",
    "from scipy.optimize import minimize\n",
    "\n",
    "import timeit\n",
    "\n",
    "#all methods to minimize\n",
    "methods = ['Nelder-Mead','Powell','CG','BFGS','Newton-CG','L-BFGS-B','TNC','COBYLA','SLSQP','dogleg','trust-ncg']\n",
    "\n",
    "start = np.zeros(0)\n",
    "stop = np.zeros(0)\n",
    "num_iters = np.zeros(0)\n",
    "\n",
    "#runtime code goes here\n",
    "\n",
    "function = \"\"\"thefunction()\"\"\" #the function we're testing will go here\n",
    "\n",
    "#testing every minimization method\n",
    "for method in methods:\n",
    "    \n",
    "    start = np.append(start,timeit.default_timer())\n",
    "    \n",
    "    guess = [] # add an initial guess\n",
    "    \"\"\"\n",
    "    \n",
    "    Minimization testing code goes here\n",
    "\n",
    "    \"\"\"\n",
    "    \n",
    "    \n",
    "    \" scipy.optimize.OptimizeResult contains the number iterations \"\n",
    "    result = minimize(thefunction(),params)\n",
    "    \n",
    "    \n",
    "    stop = np.append(stop,timeit.default_timer())\n",
    "    \n",
    "\n",
    "\n",
    "exec_time = stop-start\n",
    "\n",
    "counter = 0\n",
    "\n",
    "#could print all of the runtimes as they run but it would be better to print them at the end and store runtimes\n",
    "for method in methods:\n",
    "    \n",
    "    print '{0} took {1} seconds to minimize this function. The result, {2} was found at {3}'.format(method,exec_time[counter],result.x,result.fun)\n",
    "    counter = counter + 1\n",
    "    \n"
   ]
  },
  {
   "cell_type": "markdown",
   "metadata": {},
   "source": [
    "### Testing different ways to display the data that enters the test suite"
   ]
  },
  {
   "cell_type": "code",
   "execution_count": 109,
   "metadata": {
    "collapsed": false
   },
   "outputs": [
    {
     "name": "stdout",
     "output_type": "stream",
     "text": [
      "This has taken [  3.29017639e-05   1.50203705e-05   1.19209290e-05   1.19209290e-05\n",
      "   1.19209290e-05   1.19209290e-05   1.59740448e-05   1.31130219e-05\n",
      "   1.19209290e-05   1.19209290e-05] seconds to execute\n"
     ]
    }
   ],
   "source": [
    "# Using the format method\n",
    "#exec_time = 5\n",
    "#print 'This has taken {} seconds to execute'.format(exec_time)\n",
    "\n",
    "#print 'Anybody know where {1} {0} is?'.format(\"Doe\",\"John\")\n",
    "\n",
    "for val in np.arange(1,len(methods)):\n",
    "    start = np.append(start,timeit.default_timer())\n",
    "    stop = np.append(stop,timeit.default_timer())\n",
    "\n",
    "#two numpy arrays can be subtracted from one another and will be subtracted element-wise\n",
    "print 'This has taken {0} seconds to execute'.format(stop-start)\n",
    "\n"
   ]
  },
  {
   "cell_type": "code",
   "execution_count": null,
   "metadata": {
    "collapsed": true
   },
   "outputs": [],
   "source": []
  }
 ],
 "metadata": {
  "kernelspec": {
   "display_name": "Python 2",
   "language": "python",
   "name": "python2"
  },
  "language_info": {
   "codemirror_mode": {
    "name": "ipython",
    "version": 2
   },
   "file_extension": ".py",
   "mimetype": "text/x-python",
   "name": "python",
   "nbconvert_exporter": "python",
   "pygments_lexer": "ipython2",
   "version": "2.7.11"
  }
 },
 "nbformat": 4,
 "nbformat_minor": 0
}
