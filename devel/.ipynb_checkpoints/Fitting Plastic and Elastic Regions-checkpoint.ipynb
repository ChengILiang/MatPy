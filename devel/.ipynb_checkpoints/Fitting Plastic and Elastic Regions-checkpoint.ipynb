{
 "cells": [
  {
   "cell_type": "code",
   "execution_count": 116,
   "metadata": {
    "collapsed": false
   },
   "outputs": [],
   "source": [
    "from parser import stress_strain as model\n",
    "import material_analytics\n",
    "\n",
    "reload(material_analytics)\n",
    "import graph_suite as plot\n",
    "\n",
    "data = model('ref/HSRS/22').get_experimental_data()\n",
    "\n",
    "\n",
    "yielding = material_analytics.yield_stress(data)[0]\n",
    "\n",
    "\"\"\"Finds the yield index\"\"\"\n",
    "yield_index = 0\n",
    "for index, point in enumerate(data):\n",
    "    \n",
    "    if (point == yielding).all():\n",
    "        yield_index = index\n",
    "        break\n",
    "\n",
    "\"\"\"Separates data into plastic and elastic regions\"\"\"\n",
    "elastic = data[:yield_index+1]\n",
    "elastic = elastic[elastic[:,0].argsort()] # sorts elastic by xs\n",
    "\n",
    "plastic = data[yield_index+1:]\n",
    "\n",
    "plot.plotmult2D(elastic, plastic,marker1 = 'bo', marker2 = 'ro')"
   ]
  },
  {
   "cell_type": "code",
   "execution_count": 57,
   "metadata": {
    "collapsed": true
   },
   "outputs": [
    {
     "name": "stdout",
     "output_type": "stream",
     "text": [
      " [ 0.          0.38665151] slope is: 100.258124938\n",
      "[  6.90235609e-06  -3.03527578e-01] slope is: -99991.8119738\n",
      "[ 0.00207038  1.53675264] slope is: 891.836110007\n",
      "[ 0.00318079  1.5367697 ] slope is: 0.0153676210086\n",
      "[ 0.0038187  -0.30353915] slope is: -2884.89138561\n",
      "[ 0.00403542  3.60711247] slope is: 18044.7278833\n",
      "[ 0.00502074 -3.06508516] slope is: -6771.61166445\n",
      "[ 0.00580736  2.22702922] slope is: 6727.62979004\n",
      "[ 0.00673739  4.9886397 ] slope is: 2969.39381296\n",
      "[ 0.00801604  0.84660961] slope is: -3239.36259184\n",
      "[ 0.00829301 -0.30355273] slope is: -4152.70835421\n",
      "[ 0.00856098  3.14709837] slope is: 12877.1398033\n",
      "[ 0.009495    5.67902188] slope is: 2710.78692785\n",
      "[ 0.01015951 -0.3035584 ] slope is: -9002.91381502\n",
      "[  1.01827365e-02   3.99299053e+02] slope is: 17206672.975\n",
      "[ 0.01085796  4.98884527] slope is: -583969.565508\n",
      "[ 0.01198191  4.29863957] slope is: -614.088618163\n",
      "[ 0.01260613  4.06834854] slope is: -368.925836131\n",
      "[ 0.01331199  3.37720703] slope is: -979.145640549\n",
      "[ 0.01335389  1.53692605] slope is: -43921.520918\n",
      "[ 0.01412908  4.29873187] slope is: 3562.74972129\n",
      "[ 0.01482264  2.91751139] slope is: -1991.50333506\n",
      "[ 0.01497645  4.29876829] slope is: 8980.5079714\n",
      "[ 0.01558322  1.0769984 ] slope is: -5309.63617923\n",
      "[ 0.0158238  -2.37512801] slope is: -14349.3200392\n",
      "[ 0.01624702  0.38671434] slope is: 6525.80722818\n",
      "[ 0.01684661  0.15638902] slope is: -384.137889679\n",
      "[ 0.01702841  0.84668592] slope is: 3797.03976156\n",
      "[ 0.01718668  5.44913029] slope is: 29079.7200011\n",
      "[ 0.01733861  1.53698729] slope is: -25749.4548562\n",
      "[ 0.01742363  2.91758727] slope is: 16239.1430811\n",
      "[ 0.01812746  5.44720632] slope is: 3594.06399619\n",
      "[ 0.0231042  -1.91373233] slope is: -1479.06713769\n",
      "[  2.33657006e-02   3.69746336e+02] slope is: 1421274.1679\n",
      "[ 0.02820966  1.99673514] slope is: -75919.2866622\n",
      "[ 0.03392703  1.76641027] slope is: -40.2850767029\n",
      "[ 0.04061022 -0.76379498] slope is: -378.592332586\n",
      "[  4.37217757e-02   4.34811338e+02] slope is: 139986.382752\n",
      "[ 0.04687485  3.60556754] slope is: -136757.458306\n",
      "[ 0.05500686  1.        ] slope is: -320.40844999\n",
      "[  5.70314638e-02   3.40173453e+02] slope is: 167526.171261\n",
      "[ 0.06320476  4.98515176] slope is: -54296.5228614\n",
      "[ 0.07169296  3.83479661] slope is: -135.523936075\n",
      "[  7.63260231e-02   4.83638355e+02] slope is: 103560.820858\n",
      "[ 0.08134057  6.82299987] slope is: -95086.5176802\n",
      "[  9.13452029e-02   3.14958671e+02] slope is: 30799.2836786\n",
      "[ 0.09150423  8.89094989] slope is: -1924668.54934\n",
      "[  1.08419422e-01   5.32436899e+02] slope is: 30951.2201438\n",
      "[  1.25329005e-01   2.89956164e+02] slope is: -14339.8415086\n",
      "[ 0.12700156  1.76925521] slope is: -172303.510935\n",
      "[  1.39649856e-01   5.48583230e+02] slope is: 43232.2192192\n",
      "[ 0.14936046  6.60812572] slope is: -55812.685433\n",
      "[  1.59006040e-01   2.60326837e+02] slope is: 26304.1550895\n",
      "[  1.69887493e-01   5.70926100e+02] slope is: 28543.9143739\n",
      "[ 0.17252417  5.68828789] slope is: -214375.003184\n",
      "[  1.91664697e-01   2.36207193e+02] slope is: 12043.4988365\n",
      "[ 0.19571199  7.99494049] slope is: -56386.3703981\n",
      "[  1.99288712e-01   5.83387271e+02] slope is: 160871.451453\n",
      "[  0.21968124  11.686137  ] slope is: -28034.8346806\n",
      "[   0.22378475  218.98856412] slope is: 50518.3374469\n",
      "[  2.28138245e-01   6.01124127e+02] slope is: 87776.7034939\n",
      "[ 0.24370953  9.38250509] slope is: -38002.1090803\n",
      "[   0.25398979  210.28975931] slope is: 19543.0125604\n",
      "[  2.56362411e-01   6.22528387e+02] slope is: 173748.119443\n",
      "[  0.26758515  10.76880222] slope is: -54510.7162794\n",
      "[   0.28318526  179.66415492] slope is: 10826.5509838\n",
      "[  2.84918641e-01   6.45293441e+02] slope is: 268624.474843\n",
      "[  0.29080709  10.31007365] slope is: -107835.390074\n",
      "[   0.31061207  163.78855645] slope is: 7749.49148516\n",
      "[  0.3129049   15.62007812] slope is: -64622.5566191\n",
      "[  3.14119557e-01   6.81109301e+02] slope is: 547880.395362\n",
      "[  0.33401691  19.31687671] slope is: -33260.3253428\n",
      "[   0.33574011  143.28439709] slope is: 71940.2555946\n",
      "[  3.44370920e-01   7.08422393e+02] slope is: 65479.1422221\n",
      "[  0.35322259  20.70651937] slope is: -77693.3519624\n",
      "[   0.35903655  133.8502572 ] slope is: 19460.6877216\n",
      "[  0.37165378  18.86254573] slope is: -9113.54751691\n",
      "[  3.76273117e-01   7.34556211e+02] slope is: 154934.363388\n",
      "[   0.37901726  114.01558928] slope is: -226133.037102\n",
      "[  0.38813323  25.33260665] slope is: -9728.31026996\n",
      "[   0.39670175  102.25538212] slope is: 8977.36635412\n",
      "[  0.40312001  29.72611435] slope is: -11300.4501352\n",
      "[  4.09425679e-01   7.53557412e+02] slope is: 114790.625435\n",
      "[  0.41122132  93.49078747] slope is: -367593.542772\n",
      "[  0.4150876   31.57757496] slope is: -16013.6602056\n",
      "[  0.42254496  81.48669383] slope is: 6692.59201711\n",
      "[  0.42472043  37.35681902] slope is: -20285.2458469\n",
      "[  0.43051481  74.56162045] slope is: 6420.847055\n",
      "[  0.4319358  42.2123715] slope is: -22765.2399933\n",
      "[  0.43555402  64.3974151 ] slope is: 6131.47814563\n",
      "[  0.43614017  49.83999047] slope is: -24835.5117711\n",
      "[  0.43744706  55.61757909] slope is: 4420.86900854\n",
      "[  4.44848029e-01   7.71611334e+02] slope is: 96743.2983424\n",
      "[  4.82364896e-01   7.91701881e+02] slope is: 535.507052464\n",
      "[  5.23385912e-01   8.07399575e+02] slope is: 382.674425135\n",
      "[  5.66767767e-01   8.28328118e+02] slope is: 482.426191787\n",
      "[  6.14150306e-01   8.39823764e+02] slope is: 242.613548031\n",
      "[  6.64133402e-01   8.56544363e+02] slope is: 334.52507168\n",
      "[  7.19691997e-01   8.68408206e+02] slope is: 213.537497783\n",
      "[  7.78460520e-01   8.81594549e+02] slope is: 224.377638372\n",
      "[  8.42515074e-01   8.87642149e+02] slope is: 94.4132813073\n",
      "[   0.94576549  898.12537392] slope is: 101.532028268\n",
      "[   1.05243884  899.44660331] slope is: 12.3857503764\n",
      "[   1.16290374  897.08782126] slope is: -21.3532269151\n",
      "[   1.27586995  897.88715462] slope is: 7.07586191938\n",
      "[   1.39127975  900.2614981 ] slope is: 20.5731531389\n",
      "[   1.51028567  892.61588504] slope is: -64.2456536754\n",
      "[   1.63038123  893.8101834 ] slope is: 9.94456764625\n",
      "[   1.75297856  892.03282867] slope is: -14.4974991654\n",
      "[   1.87595586  887.54974346] slope is: -36.4545734785\n",
      "[   1.99905135  881.72090114] slope is: -47.3522035041\n",
      "[   2.12256188  878.83566656] slope is: -23.3602310996\n",
      "[   2.24642216  868.29725722] slope is: -85.0830392773\n",
      "[   2.3703703   864.97274245] slope is: -26.8218217635\n",
      "[   2.49453809  861.21071336] slope is: -30.2979466177\n",
      "[   2.61786954  857.67815366] slope is: -28.6428128304\n",
      "[   2.74022937  855.96049394] slope is: -14.0377743717\n",
      "[   2.86230911  855.81133995] slope is: -1.22177509025\n",
      "[   2.98384194  851.42243289] slope is: -36.1129360297\n",
      "[   3.1045271   851.73500787] slope is: 2.59000333471\n",
      "[   3.22532444  863.84592233] slope is: 100.258124938\n"
     ]
    }
   ],
   "source": [
    "elasticslopes = material_analytics.get_slopes(elastic)\n",
    "\n",
    "for index, val in enumerate(elastic):\n",
    "    print val, \"slope is:\", elasticslopes[index-1]\n",
    "\n",
    "#print material_analytics.get_slopes(elastic)"
   ]
  },
  {
   "cell_type": "markdown",
   "metadata": {},
   "source": [
    "## Straight up interpolation isn't the best option as we have some noise"
   ]
  },
  {
   "cell_type": "code",
   "execution_count": 27,
   "metadata": {
    "collapsed": false
   },
   "outputs": [],
   "source": [
    "from scipy import interpolate\n",
    "import numpy as np\n",
    "\n",
    "elasticx = elastic[:,0]\n",
    "elasticy = elastic[:,1]\n",
    "\n",
    "finterp = interpolate.UnivariateSpline(elasticx,elasticy)\n",
    "xnew = np.arange(0, max(elasticx), 0.1)\n",
    "ynew = finterp(xnew)   # use interpolation function returned by `interp1d`\n",
    "\n",
    "interpdata = material_analytics.combine_data(xnew,ynew)\n",
    "\n",
    "plot.plot2D(interpdata)\n",
    "#plot.plotmult2D(elastic,interpdata, marker2='r-')"
   ]
  },
  {
   "cell_type": "code",
   "execution_count": 36,
   "metadata": {
    "collapsed": false
   },
   "outputs": [],
   "source": [
    "# trying to fit log stuff to our elastic region\n",
    "elastic = material_analytics.log_prep(elastic)\n",
    "elasticlog = material_analytics.log_approx(elastic)\n",
    "\n",
    "fittedelastic = material_analytics.samplepoints(elasticlog,[0.1,max(elastic[:,0])],1000)\n",
    "plot.plotmult2D(elastic,fittedelastic)"
   ]
  },
  {
   "cell_type": "markdown",
   "metadata": {},
   "source": [
    "_____________________________________________________________________________________________________________"
   ]
  },
  {
   "cell_type": "code",
   "execution_count": 59,
   "metadata": {
    "collapsed": true
   },
   "outputs": [],
   "source": [
    "from parser import stress_strain as model\n",
    "import material_analytics\n",
    "\n",
    "reload(material_analytics)\n",
    "import graph_suite as plot\n",
    "\n",
    "data = model('ref/HSRS/22').get_experimental_data()\n",
    "\n",
    "yielding = material_analytics.yield_stress(data)[0]\n",
    "\n",
    "\"\"\"Finds the yield index\"\"\"\n",
    "yield_index = 0\n",
    "for index, point in enumerate(data):\n",
    "    \n",
    "    if (point == yielding).all():\n",
    "        yield_index = index\n",
    "        break\n",
    "\n",
    "\"\"\"Separates data into plastic and elastic regions\"\"\"\n",
    "elastic = data[:yield_index+1]\n",
    "elastic = elastic[elastic[:,0].argsort()] # sorts elastic by xs\n",
    "\n",
    "plastic = data[yield_index+1:]"
   ]
  },
  {
   "cell_type": "markdown",
   "metadata": {},
   "source": [
    "## This attempts to smooth the curve, but because of horizontal error, we might be better off using splines now that we did an argsort "
   ]
  },
  {
   "cell_type": "code",
   "execution_count": 74,
   "metadata": {
    "collapsed": true
   },
   "outputs": [],
   "source": [
    "# http://scipy.github.io/old-wiki/pages/Cookbook/SavitzkyGolay (Written by scipy)\n",
    "# trying to use this to smooth the elastic curve to find the high yield point\n",
    "def savitzky_golay(y, window_size, order, deriv=0, rate=1):\n",
    "    r\"\"\"Smooth (and optionally differentiate) data with a Savitzky-Golay filter.\n",
    "    The Savitzky-Golay filter removes high frequency noise from data.\n",
    "    It has the advantage of preserving the original shape and\n",
    "    features of the signal better than other types of filtering\n",
    "    approaches, such as moving averages techniques.\n",
    "    Parameters\n",
    "    ----------\n",
    "    y : array_like, shape (N,)\n",
    "        the values of the time history of the signal.\n",
    "    window_size : int\n",
    "        the length of the window. Must be an odd integer number.\n",
    "    order : int\n",
    "        the order of the polynomial used in the filtering.\n",
    "        Must be less then `window_size` - 1.\n",
    "    deriv: int\n",
    "        the order of the derivative to compute (default = 0 means only smoothing)\n",
    "    Returns\n",
    "    -------\n",
    "    ys : ndarray, shape (N)\n",
    "        the smoothed signal (or it's n-th derivative).\n",
    "    Notes\n",
    "    -----\n",
    "    The Savitzky-Golay is a type of low-pass filter, particularly\n",
    "    suited for smoothing noisy data. The main idea behind this\n",
    "    approach is to make for each point a least-square fit with a\n",
    "    polynomial of high order over a odd-sized window centered at\n",
    "    the point.\n",
    "    Examples\n",
    "    --------\n",
    "    t = np.linspace(-4, 4, 500)\n",
    "    y = np.exp( -t**2 ) + np.random.normal(0, 0.05, t.shape)\n",
    "    ysg = savitzky_golay(y, window_size=31, order=4)\n",
    "    import matplotlib.pyplot as plt\n",
    "    plt.plot(t, y, label='Noisy signal')\n",
    "    plt.plot(t, np.exp(-t**2), 'k', lw=1.5, label='Original signal')\n",
    "    plt.plot(t, ysg, 'r', label='Filtered signal')\n",
    "    plt.legend()\n",
    "    plt.show()\n",
    "    References\n",
    "    ----------\n",
    "    .. [1] A. Savitzky, M. J. E. Golay, Smoothing and Differentiation of\n",
    "       Data by Simplified Least Squares Procedures. Analytical\n",
    "       Chemistry, 1964, 36 (8), pp 1627-1639.\n",
    "    .. [2] Numerical Recipes 3rd Edition: The Art of Scientific Computing\n",
    "       W.H. Press, S.A. Teukolsky, W.T. Vetterling, B.P. Flannery\n",
    "       Cambridge University Press ISBN-13: 9780521880688\n",
    "    \"\"\"\n",
    "    import numpy as np\n",
    "    from math import factorial\n",
    "    \n",
    "    try:\n",
    "        window_size = np.abs(np.int(window_size))\n",
    "        order = np.abs(np.int(order))\n",
    "    except ValueError, msg:\n",
    "        raise ValueError(\"window_size and order have to be of type int\")\n",
    "    if window_size % 2 != 1 or window_size < 1:\n",
    "        raise TypeError(\"window_size size must be a positive odd number\")\n",
    "    if window_size < order + 2:\n",
    "        raise TypeError(\"window_size is too small for the polynomials order\")\n",
    "    order_range = range(order+1)\n",
    "    half_window = (window_size -1) // 2\n",
    "    # precompute coefficients\n",
    "    b = np.mat([[k**i for i in order_range] for k in range(-half_window, half_window+1)])\n",
    "    m = np.linalg.pinv(b).A[deriv] * rate**deriv * factorial(deriv)\n",
    "    # pad the signal at the extremes with\n",
    "    # values taken from the signal itself\n",
    "    firstvals = y[0] - np.abs( y[1:half_window+1][::-1] - y[0] )\n",
    "    lastvals = y[-1] + np.abs(y[-half_window-1:-1][::-1] - y[-1])\n",
    "    y = np.concatenate((firstvals, y, lastvals))\n",
    "    return np.convolve( m[::-1], y, mode='valid')\n",
    "\n",
    "elasticstrain = elastic[:,0]\n",
    "elasticstress = elastic[:,1]\n",
    "elasticstress = savitzky_golay(elasticstress,101,4)\n",
    "\n",
    "elasticsmoothed = material_analytics.combine_data(elasticstrain,elasticstress)\n",
    "\n",
    "plot.plotmult2D(elastic,elasticsmoothed, marker1='o')"
   ]
  },
  {
   "cell_type": "code",
   "execution_count": null,
   "metadata": {
    "collapsed": true
   },
   "outputs": [],
   "source": [
    "# -------------------------------------------------------------------------"
   ]
  },
  {
   "cell_type": "code",
   "execution_count": 114,
   "metadata": {
    "collapsed": false
   },
   "outputs": [],
   "source": [
    "from parser import stress_strain as model\n",
    "import material_analytics\n",
    "\n",
    "reload(material_analytics)\n",
    "import graph_suite as plot\n",
    "\n",
    "data = model('ref/HSRS/22').get_experimental_data()\n",
    "\n",
    "yielding = material_analytics.yield_stress(data)[0]\n",
    "\n",
    "\"\"\"Finds the yield index\"\"\"\n",
    "yield_index = 0\n",
    "for index, point in enumerate(data):\n",
    "    \n",
    "    if (point == yielding).all():\n",
    "        yield_index = index\n",
    "        break\n",
    "\n",
    "\"\"\"Separates data into plastic and elastic regions\"\"\"\n",
    "elastic = data[:yield_index+1]\n",
    "plastic = data[yield_index+1:]\n",
    "\n",
    "\"\"\"\n",
    "Finds the upper yield point (lower yield point is *yielding*). \n",
    "We're taking the first element ([0]) because it returns the \n",
    "first element that meets the criteria in parentheses.\n",
    "\"\"\"\n",
    "upperyieldpoint_index = np.where(elastic==max(elastic[:,1]))[0][0]\n",
    "upperyieldpoint = elastic[upperyieldpoint_index]\n",
    "\n",
    "\"\"\"We estimate the region until the first upper yield point with a linear model\"\"\"\n",
    "lin_elastic_region = elastic[:upperyieldpoint_index]\n",
    "lin_elastic_samples = material_analytics.predictlinear(lin_elastic_region, step=0.1)\n",
    "\n",
    "plot.plotmult2D(lin_elastic_samples, lin_elastic_region)"
   ]
  },
  {
   "cell_type": "code",
   "execution_count": 115,
   "metadata": {
    "collapsed": false
   },
   "outputs": [],
   "source": [
    "\"\"\"\n",
    "If the upper yield point is the default yield point, \n",
    "then the material doesn't exhibit the yield point phenomenon.\n",
    "\n",
    "Otherwise, we establish the domain in which the yield point \n",
    "phenomenon occurs, within which we will be selecting nearest\n",
    "neighbors as a method of approximation.\n",
    "\"\"\"\n",
    "\n",
    "yieldpointphenom_region = None\n",
    "yieldpointphenom = True\n",
    "\n",
    "if upperyieldpoint_index==yield_index:\n",
    "    yieldpointphenom = False        \n",
    "\n",
    "if yieldpointphenom:\n",
    "    yieldpointphenom_region = [upperyieldpoint_index,yield_index]"
   ]
  },
  {
   "cell_type": "code",
   "execution_count": 123,
   "metadata": {
    "collapsed": false
   },
   "outputs": [
    {
     "data": {
      "text/plain": [
       "'Outside of these three regions, we assume that the material is broken'"
      ]
     },
     "execution_count": 123,
     "metadata": {},
     "output_type": "execute_result"
    }
   ],
   "source": [
    "\"\"\"Great fit, we fit a log to plastic region\"\"\"\n",
    "plastic_reg = material_analytics.log_approx(plastic)\n",
    "plot.plotmult2D(plastic,material_analytics.samplepoints(plastic_reg,[yielding[0],max(data[:,0])],100))\n",
    "\n",
    "\"\"\"Outside of these three regions, we assume that the material is broken\"\"\""
   ]
  },
  {
   "cell_type": "code",
   "execution_count": 139,
   "metadata": {
    "collapsed": false
   },
   "outputs": [
    {
     "name": "stdout",
     "output_type": "stream",
     "text": [
      "Yield Point phenomenon is not occuring!\n"
     ]
    },
    {
     "data": {
      "text/plain": [
       "'Outside of these three regions, we assume that the material has fractured'"
      ]
     },
     "execution_count": 139,
     "metadata": {},
     "output_type": "execute_result"
    }
   ],
   "source": [
    "from parser import stress_strain as model\n",
    "import material_analytics\n",
    "\n",
    "reload(material_analytics)\n",
    "import graph_suite as plot\n",
    "\n",
    "data = model('ref/850-300.dat').get_experimental_data()\n",
    "\n",
    "yielding = material_analytics.yield_stress(data)[0]\n",
    "\n",
    "\"\"\"Finds the yield index\"\"\"\n",
    "yield_index = 0\n",
    "for index, point in enumerate(data):\n",
    "    \n",
    "    if (point == yielding).all():\n",
    "        yield_index = index\n",
    "        break\n",
    "\n",
    "\"\"\"Separates data into plastic and elastic regions\"\"\"\n",
    "elastic = data[:yield_index+1]\n",
    "plastic = data[yield_index+1:]\n",
    "\n",
    "\"\"\"\n",
    "Finds the upper yield point (lower yield point is *yielding*). \n",
    "We're taking the first element ([0]) because it returns the \n",
    "first element that meets the criteria in parentheses.\n",
    "\"\"\"\n",
    "upperyieldpoint_index = np.where(elastic==max(elastic[:,1]))[0][0]\n",
    "upperyieldpoint = elastic[upperyieldpoint_index]\n",
    "\n",
    "\"\"\"We estimate the region until the first upper yield point with a linear model\"\"\"\n",
    "lin_elastic_region = elastic[:upperyieldpoint_index]\n",
    "lin_elastic_samples = material_analytics.predictlinear(lin_elastic_region, step=0.1)\n",
    "\n",
    "plot.plotmult2D(lin_elastic_samples, lin_elastic_region)\n",
    "\n",
    "\"\"\"\n",
    "If the upper yield point is the default yield point, \n",
    "then the material doesn't exhibit the yield point phenomenon.\n",
    "\n",
    "Otherwise, we establish the domain in which the yield point \n",
    "phenomenon occurs, within which we will be selecting nearest\n",
    "neighbors as a method of approximation.\n",
    "\"\"\"\n",
    "\n",
    "yieldpointphenom_region = None\n",
    "yieldpointphenom = True\n",
    "\n",
    "if upperyieldpoint_index==yield_index:\n",
    "    yieldpointphenom = False        \n",
    "\n",
    "if yieldpointphenom:\n",
    "    yieldpointphenom_region = [upperyieldpoint_index,yield_index]\n",
    "    print \"Yield Point phenomenon is occuring!\"\n",
    "    \n",
    "else:\n",
    "    print \"Yield Point phenomenon is not occuring!\"\n",
    "\n",
    "\"\"\"Great fit, we fit a log to plastic region\"\"\"\n",
    "plastic_reg = material_analytics.log_approx(plastic)\n",
    "plot.plotmult2D(plastic,material_analytics.samplepoints(plastic_reg,[yielding[0],max(data[:,0])],100))\n",
    "\n",
    "\"\"\"Outside of these three regions, we assume that the material has fractured\"\"\"\n"
   ]
  },
  {
   "cell_type": "code",
   "execution_count": 134,
   "metadata": {
    "collapsed": false
   },
   "outputs": [],
   "source": [
    "data1 = model('ref/850-300.dat').get_experimental_data()\n",
    "yield1 = material_analytics.yield_stress(data1)\n",
    "plot.plotmult2D(data1,yield1)"
   ]
  },
  {
   "cell_type": "code",
   "execution_count": 162,
   "metadata": {
    "collapsed": true
   },
   "outputs": [],
   "source": [
    "#Given a dataset and a strain value, predicts what the stress will be at that point\n",
    "def predict_value(data, strain):\n",
    "    \n",
    "    yielding = material_analytics.yield_stress(data)[0]\n",
    "\n",
    "    \"\"\"Finds the yield index\"\"\"\n",
    "    yield_index = 0\n",
    "    for index, point in enumerate(data):\n",
    "\n",
    "        if (point == yielding).all():\n",
    "            yield_index = index\n",
    "            break\n",
    "\n",
    "    \"\"\"Separates data into plastic and elastic regions\"\"\"\n",
    "    elastic = data[:yield_index+1]\n",
    "    plastic = data[yield_index+1:]\n",
    "\n",
    "    \"\"\"\n",
    "    Finds the upper yield point (lower yield point is the *yielding* variable). \n",
    "    We're taking the first element ([0]) because it returns the \n",
    "    first element that meets the criteria in parentheses.\n",
    "    \n",
    "    It's a two-dimensional array so we have to do this twice.\n",
    "    \"\"\"\n",
    "    upperyieldpoint_index = np.where(elastic==max(elastic[:,1]))[0][0]\n",
    "    upperyieldpoint = elastic[upperyieldpoint_index]\n",
    "\n",
    "    \"\"\"We estimate the region until the first upper yield point with a linear model\"\"\"\n",
    "    lin_elastic_region = elastic[:upperyieldpoint_index]\n",
    "    lin_elastic_model = material_analytics.linfit(lin_elastic_region)\n",
    "    \n",
    "    \"\"\"\n",
    "    If the upper yield point is the only yield point, \n",
    "    then the material doesn't exhibit the yield point phenomenon.\n",
    "\n",
    "    Otherwise, we establish the domain in which the yield point \n",
    "    phenomenon occurs, within which we will be selecting nearest\n",
    "    neighbors as a method of approximation. The yield point pheno-\n",
    "    menon occurs when there are two distinct yield points, and \n",
    "    that when plastic deformation begins, stress is immediately \n",
    "    relieved.\n",
    "    \"\"\"\n",
    "    yieldpointphenom_region = None\n",
    "    yieldpointphenom = True\n",
    "\n",
    "    if upperyieldpoint_index==yield_index:\n",
    "        yieldpointphenom = False        \n",
    "\n",
    "    if yieldpointphenom:\n",
    "        yieldpointphenom_region = [upperyieldpoint_index,yield_index]\n",
    "\n",
    "    \"\"\"We must determine which domain contains the strain point requested\"\"\"\n",
    "    \n",
    "    start_yield = upperyieldpoint[0]\n",
    "    \n",
    "    if strain < 0 or strain > max(data[:,0]):\n",
    "        \n",
    "        \"\"\"(Out of range)\"\"\"\n",
    "        return np.nan\n",
    "    \n",
    "    elif strain < start_yield:\n",
    "        \n",
    "        \"\"\"Linear approximation (elastic region)\"\"\"\n",
    "        return np.array([strain, lin_elastic_model.predict(strain)])[None,:] \n",
    "    \n",
    "    elif yieldpointphenom and strain >= start_yield and strain < yielding[0]:\n",
    "        \n",
    "        \"\"\"Picks the nearest neighbor in this zone\"\"\"\n",
    "        yieldpoints_inregion = elastic[elastic[0]>=start_yield and elastic[0]<yielding[0]]\n",
    "        \n",
    "        for val in yieldpoints_inregion:\n",
    "            if val[0] > strain:\n",
    "                return np.array([strain,val [1]])[None,:]  \n",
    "        \n",
    "    elif not yieldpointphenom or strain >= yielding[0]:\n",
    "           \n",
    "        \"\"\"We fit a logarithmic curve to approximate the plastic region\"\"\"\n",
    "        plastic_reg = material_analytics.log_approx(plastic)\n",
    "        return np.array([strain,plastic_reg(strain)])[None,:] \n",
    "        \n",
    "    "
   ]
  },
  {
   "cell_type": "code",
   "execution_count": 164,
   "metadata": {
    "collapsed": false
   },
   "outputs": [
    {
     "name": "stdout",
     "output_type": "stream",
     "text": [
      "Linear Approximation\n"
     ]
    },
    {
     "data": {
      "image/png": "[encoded data removed]",
      "text/plain": [
       "<matplotlib.figure.Figure at 0x7f09bb819c90>"
      ]
     },
     "metadata": {},
     "output_type": "display_data"
    }
   ],
   "source": [
    "% matplotlib inline\n",
    "data1 = model('ref/850-300.dat').get_experimental_data()\n",
    "plot.plotmult2D(data1,predict_value(data1,0.05))\n"
   ]
  },
  {
   "cell_type": "code",
   "execution_count": 6,
   "metadata": {
    "collapsed": false
   },
   "outputs": [
    {
     "ename": "ValueError",
     "evalue": "The truth value of an array with more than one element is ambiguous. Use a.any() or a.all()",
     "output_type": "error",
     "traceback": [
      "\u001b[1;31m---------------------------------------------------------------------------\u001b[0m",
      "\u001b[1;31mValueError\u001b[0m                                Traceback (most recent call last)",
      "\u001b[1;32m<ipython-input-6-c89d6881fa4e>\u001b[0m in \u001b[0;36m<module>\u001b[1;34m()\u001b[0m\n\u001b[0;32m      6\u001b[0m \u001b[1;33m\u001b[0m\u001b[0m\n\u001b[0;32m      7\u001b[0m \u001b[0mdata1\u001b[0m \u001b[1;33m=\u001b[0m \u001b[0mmodel\u001b[0m\u001b[1;33m(\u001b[0m\u001b[1;34m'ref/HSRS/22'\u001b[0m\u001b[1;33m)\u001b[0m\u001b[1;33m.\u001b[0m\u001b[0mget_experimental_data\u001b[0m\u001b[1;33m(\u001b[0m\u001b[1;33m)\u001b[0m\u001b[1;33m\u001b[0m\u001b[0m\n\u001b[1;32m----> 8\u001b[1;33m \u001b[0mplot\u001b[0m\u001b[1;33m.\u001b[0m\u001b[0mplotmult2D\u001b[0m\u001b[1;33m(\u001b[0m\u001b[0mdata1\u001b[0m\u001b[1;33m,\u001b[0m\u001b[0mmaterial_analytics\u001b[0m\u001b[1;33m.\u001b[0m\u001b[0mpredict_stress\u001b[0m\u001b[1;33m(\u001b[0m\u001b[0mdata1\u001b[0m\u001b[1;33m,\u001b[0m \u001b[1;36m1.5\u001b[0m\u001b[1;33m)\u001b[0m\u001b[1;33m)\u001b[0m\u001b[1;33m\u001b[0m\u001b[0m\n\u001b[0m",
      "\u001b[1;32m/users/ean1/Documents/mapy/devel/material_analytics.pyc\u001b[0m in \u001b[0;36mpredict_stress\u001b[1;34m(data, strain)\u001b[0m\n\u001b[0;32m    178\u001b[0m \u001b[1;33m\u001b[0m\u001b[0m\n\u001b[0;32m    179\u001b[0m         \u001b[1;34m\"\"\"Picks the nearest neighbor in this zone\"\"\"\u001b[0m\u001b[1;33m\u001b[0m\u001b[0m\n\u001b[1;32m--> 180\u001b[1;33m         \u001b[0myieldpoints_inregion\u001b[0m \u001b[1;33m=\u001b[0m \u001b[0melastic\u001b[0m\u001b[1;33m[\u001b[0m\u001b[0melastic\u001b[0m\u001b[1;33m[\u001b[0m\u001b[1;36m0\u001b[0m\u001b[1;33m]\u001b[0m\u001b[1;33m>=\u001b[0m\u001b[0mstart_yield\u001b[0m \u001b[1;32mand\u001b[0m \u001b[0melastic\u001b[0m\u001b[1;33m[\u001b[0m\u001b[1;36m0\u001b[0m\u001b[1;33m]\u001b[0m\u001b[1;33m<\u001b[0m\u001b[0myielding\u001b[0m\u001b[1;33m[\u001b[0m\u001b[1;36m0\u001b[0m\u001b[1;33m]\u001b[0m\u001b[1;33m]\u001b[0m\u001b[1;33m\u001b[0m\u001b[0m\n\u001b[0m\u001b[0;32m    181\u001b[0m \u001b[1;33m\u001b[0m\u001b[0m\n\u001b[0;32m    182\u001b[0m         \u001b[1;32mfor\u001b[0m \u001b[0mval\u001b[0m \u001b[1;32min\u001b[0m \u001b[0myieldpoints_inregion\u001b[0m\u001b[1;33m:\u001b[0m\u001b[1;33m\u001b[0m\u001b[0m\n",
      "\u001b[1;31mValueError\u001b[0m: The truth value of an array with more than one element is ambiguous. Use a.any() or a.all()"
     ]
    }
   ],
   "source": [
    "from parser import stress_strain as model\n",
    "import material_analytics\n",
    "import graph_suite as plot\n",
    "\n",
    "#reload(material_analytics)\n",
    "\n",
    "data1 = model('ref/HSRS/22').get_experimental_data()\n",
    "plot.plotmult2D(data1,material_analytics.predict_stress(data1, 1.5))"
   ]
  },
  {
   "cell_type": "markdown",
   "metadata": {},
   "source": [
    "## Fixing the nearest neighbors situation"
   ]
  },
  {
   "cell_type": "code",
   "execution_count": 26,
   "metadata": {
    "collapsed": false
   },
   "outputs": [],
   "source": [
    "import numpy as np\n",
    "\n",
    "#Given a dataset and a strain value, predicts what the stress will be at that point\n",
    "def predict_stress(data, strain):\n",
    "    \n",
    "    yielding = material_analytics.yield_stress(data)[0]\n",
    "\n",
    "    \"\"\"Finds the yield index\"\"\"\n",
    "    yield_index = 0\n",
    "    for index, point in enumerate(data):\n",
    "\n",
    "        if (point == yielding).all():\n",
    "            yield_index = index\n",
    "            break\n",
    "\n",
    "    \"\"\"Separates data into plastic and elastic regions\"\"\"\n",
    "    elastic = data[:yield_index+1]\n",
    "    plastic = data[yield_index+1:]\n",
    "\n",
    "    \"\"\"\n",
    "    Finds the upper yield point (lower yield point is the *yielding* variable). \n",
    "    We're taking the first element ([0]) because it returns the \n",
    "    first element that meets the criteria in parentheses.\n",
    "    \n",
    "    It's a two-dimensional array so we have to do this twice.\n",
    "    \"\"\"\n",
    "    upperyieldpoint_index = np.where(elastic==max(elastic[:,1]))[0][0]\n",
    "    upperyieldpoint = elastic[upperyieldpoint_index]\n",
    "\n",
    "    \"\"\"We estimate the region until the first upper yield point with a linear model\"\"\"\n",
    "    lin_elastic_region = elastic[:upperyieldpoint_index]\n",
    "    lin_elastic_model = material_analytics.linfit(lin_elastic_region)\n",
    "    \n",
    "    \"\"\"\n",
    "    If the upper yield point is the only yield point, \n",
    "    then the material doesn't exhibit the yield point phenomenon.\n",
    "\n",
    "    Otherwise, we establish the domain in which the yield point \n",
    "    phenomenon occurs, within which we will be selecting nearest\n",
    "    neighbors as a method of approximation. The yield point pheno-\n",
    "    menon occurs when there are two distinct yield points, and \n",
    "    that when plastic deformation begins, stress is immediately \n",
    "    relieved.\n",
    "    \"\"\"\n",
    "    yieldpointphenom_region = None\n",
    "    yieldpointphenom = True\n",
    "\n",
    "    if upperyieldpoint_index==yield_index:\n",
    "        yieldpointphenom = False        \n",
    "\n",
    "    if yieldpointphenom:\n",
    "        yieldpointphenom_region = [upperyieldpoint_index,yield_index]\n",
    "\n",
    "    \"\"\"We must determine which domain contains the strain point requested\"\"\"\n",
    "    \n",
    "    start_yield = upperyieldpoint[0]\n",
    "    \n",
    "    if strain < 0 or strain > max(data[:,0]):\n",
    "        \n",
    "        \"\"\"(Out of range)\"\"\"\n",
    "        return np.nan\n",
    "    \n",
    "    elif strain < start_yield:\n",
    "        \n",
    "        \"\"\"Linear approximation (elastic region)\"\"\"\n",
    "        return np.array([strain, lin_elastic_model.predict(strain)])[None,:] \n",
    "    \n",
    "    elif yieldpointphenom and strain >= start_yield and strain < yielding[0]:\n",
    "                \n",
    "        \"\"\"Picks the nearest neighbor in this zone\"\"\"\n",
    "        yieldpoints_inregion = elastic[np.where(np.logical_and(elastic[:,0] >= start_yield,\n",
    "                                                               elastic[:,0] < yielding[0]) )]\n",
    "    \n",
    "        for val in yieldpoints_inregion:\n",
    "            if val[0] > strain:\n",
    "                return np.array([strain,val [1]])[None,:]  \n",
    "        \n",
    "    elif not yieldpointphenom or strain >= yielding[0]:\n",
    "           \n",
    "        \"\"\"We fit a logarithmic curve to approximate the plastic region\"\"\"\n",
    "        plastic_reg = material_analytics.log_approx(plastic)\n",
    "        return np.array([strain,plastic_reg(strain)])[None,:] \n",
    "        \n",
    "data1 = model('ref/HSRS/22').get_experimental_data()\n",
    "plot.plotmult2D(data1,predict_stress(data1, 1.5))"
   ]
  },
  {
   "cell_type": "code",
   "execution_count": null,
   "metadata": {
    "collapsed": true
   },
   "outputs": [],
   "source": []
  }
 ],
 "metadata": {
  "kernelspec": {
   "display_name": "Python 2",
   "language": "python",
   "name": "python2"
  },
  "language_info": {
   "codemirror_mode": {
    "name": "ipython",
    "version": 2
   },
   "file_extension": ".py",
   "mimetype": "text/x-python",
   "name": "python",
   "nbconvert_exporter": "python",
   "pygments_lexer": "ipython2",
   "version": "2.7.12"
  }
 },
 "nbformat": 4,
 "nbformat_minor": 0
}
