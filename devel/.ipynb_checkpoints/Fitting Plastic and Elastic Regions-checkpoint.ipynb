{
 "cells": [
  {
   "cell_type": "code",
   "execution_count": 24,
   "metadata": {
    "collapsed": false
   },
   "outputs": [
    {
     "name": "stdout",
     "output_type": "stream",
     "text": [
      "[   3.22532444  863.84592233]\n"
     ]
    }
   ],
   "source": [
    "from parser import stress_strain as model\n",
    "import material_analytics\n",
    "import graph_suite as plot\n",
    "\n",
    "data = model('ref/HSRS/22').get_experimental_data()\n",
    "yielding = material_analytics.yield_stress(data)[0]\n",
    "\n",
    "print yielding\n",
    "\n",
    "\"\"\"Finds the yield index\"\"\"\n",
    "yield_index = 0\n",
    "for index, point in enumerate(data):\n",
    "    \n",
    "    if (point == yielding).all():\n",
    "        yield_index = index\n",
    "        break\n",
    "\n",
    "elastic = data[:yield_index+1]\n",
    "plastic = data[yield_index+1:]"
   ]
  },
  {
   "cell_type": "code",
   "execution_count": 26,
   "metadata": {
    "collapsed": false
   },
   "outputs": [],
   "source": [
    "plot.plotmult2D(elastic,plastic,marker1='o')"
   ]
  },
  {
   "cell_type": "code",
   "execution_count": null,
   "metadata": {
    "collapsed": true
   },
   "outputs": [],
   "source": [
    "\"\"\"Modeling elastic deformation as a known function\"\"\"\n",
    "def elastic_curve(x):\n",
    "    "
   ]
  }
 ],
 "metadata": {
  "kernelspec": {
   "display_name": "Python 2",
   "language": "python",
   "name": "python2"
  },
  "language_info": {
   "codemirror_mode": {
    "name": "ipython",
    "version": 2
   },
   "file_extension": ".py",
   "mimetype": "text/x-python",
   "name": "python",
   "nbconvert_exporter": "python",
   "pygments_lexer": "ipython2",
   "version": "2.7.12"
  }
 },
 "nbformat": 4,
 "nbformat_minor": 0
}
