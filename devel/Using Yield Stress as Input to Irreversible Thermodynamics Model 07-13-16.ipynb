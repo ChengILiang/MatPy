{
 "cells": [
  {
   "cell_type": "code",
   "execution_count": 26,
   "metadata": {
    "collapsed": false
   },
   "outputs": [],
   "source": [
    "import irreversible_stressstrain\n",
    "reload(irreversible_stressstrain)\n",
    "\n",
    "from irreversible_stressstrain import StressStrain as strainmodel"
   ]
  },
  {
   "cell_type": "code",
   "execution_count": 7,
   "metadata": {
    "collapsed": false
   },
   "outputs": [
    {
     "name": "stdout",
     "output_type": "stream",
     "text": [
      "863.845922326\n"
     ]
    }
   ],
   "source": [
    "import graph_suite as plot\n",
    "import material_analytics\n",
    "import optimization_suite\n",
    "\n",
    "model = strainmodel('ref/HSRS/22')\n",
    "\n",
    "SS_stress=material_analytics.yield_stress(model.get_experimental_data())[0,1] # it's important to access yield_stress this way\n",
    "plot.plotmult2D(model.get_experimental_data(),model.mcfunc((-100,1),SS_stress),marker2='r-')"
   ]
  },
  {
   "cell_type": "markdown",
   "metadata": {
    "collapsed": true
   },
   "source": [
    "## We must automatically determine yield stress, and then optimal parameters"
   ]
  },
  {
   "cell_type": "code",
   "execution_count": 8,
   "metadata": {
    "collapsed": false
   },
   "outputs": [
    {
     "name": "stdout",
     "output_type": "stream",
     "text": [
      "863.845922326\n"
     ]
    }
   ],
   "source": [
    "model = strainmodel('ref/HSRS/22')\n",
    "data = model.get_experimental_data()\n",
    "\n",
    "\"\"\"[0,1] is the first row, second column, which is the stress values\"\"\"\n",
    "SS_stress = material_analytics.yield_stress(data)[0,1]\n",
    "\n",
    "print SS_stress"
   ]
  },
  {
   "cell_type": "code",
   "execution_count": 15,
   "metadata": {
    "collapsed": false
   },
   "outputs": [
    {
     "name": "stdout",
     "output_type": "stream",
     "text": [
      "BFGS took 175.441886902 seconds. The result, 53.9904789232 was found at (-418.896972656, 10.0)\n",
      "BFGS used 149.515625 megabytes and took 1.0 iterations\n",
      "\n",
      "L-BFGS-B took 83.6906678677 seconds. The result, 48.5008678701 was found at (-319.851990106, 10.0)\n",
      "L-BFGS-B used 149.62890625 megabytes and took 5.0 iterations\n",
      "\n",
      "SLSQP took 119.519201994 seconds. The result, 48.5008678666 was found at (-319.849806339, 10.0)\n",
      "SLSQP used 149.7578125 megabytes and took 12.0 iterations\n",
      "\n"
     ]
    }
   ],
   "source": [
    "# -- testing to see if this will work still\n",
    "from irreversible_stressstrain import StressStrain\n",
    "from optimization_suite import minimize_suite as minim\n",
    "\n",
    "stressmodel = StressStrain('ref/HSRS/222')\n",
    "tominimize = stressmodel.mcfunc\n",
    "\n",
    "# totally guessing min, all new data set\n",
    "minim(tominimize, ['BFGS', 'L-BFGS-B','SLSQP'], [-500., 10.])"
   ]
  },
  {
   "cell_type": "code",
   "execution_count": 16,
   "metadata": {
    "collapsed": false
   },
   "outputs": [
    {
     "name": "stdout",
     "output_type": "stream",
     "text": [
      "L-BFGS-B took 15.4999392033 seconds. The result, 459.719221261 was found at (-184.947948552, 10.0)\n",
      "L-BFGS-B used 149.7578125 megabytes and took 3.0 iterations\n",
      "\n"
     ]
    }
   ],
   "source": [
    "# -- testing to see if this will work still\n",
    "from irreversible_stressstrain import StressStrain\n",
    "from optimization_suite import minimize_suite as minim\n",
    "\n",
    "stressmodel = StressStrain('ref/HSRS/22')\n",
    "tominimize = stressmodel.mcfunc\n",
    "\n",
    "# totally guessing min, all new data set\n",
    "minim(tominimize, ['L-BFGS-B',], [-500., 10.])"
   ]
  },
  {
   "cell_type": "markdown",
   "metadata": {},
   "source": [
    "## These are the results for ref/HSRS/22"
   ]
  },
  {
   "cell_type": "code",
   "execution_count": 38,
   "metadata": {
    "collapsed": false
   },
   "outputs": [],
   "source": [
    "stressmodel = StressStrain('ref/HSRS/22')\n",
    "tominimize = stressmodel.mcfunc\n",
    "\n",
    "# totally guessing min, all new data set\n",
    "#minim(tominimize, ['L-BFGS-B',], [-100., 10.])"
   ]
  },
  {
   "cell_type": "code",
   "execution_count": 39,
   "metadata": {
    "collapsed": false
   },
   "outputs": [
    {
     "ename": "IndexError",
     "evalue": "invalid index to scalar variable.",
     "output_type": "error",
     "traceback": [
      "\u001b[1;31m---------------------------------------------------------------------------\u001b[0m",
      "\u001b[1;31mIndexError\u001b[0m                                Traceback (most recent call last)",
      "\u001b[1;32m<ipython-input-39-9ec8a612990a>\u001b[0m in \u001b[0;36m<module>\u001b[1;34m()\u001b[0m\n\u001b[0;32m      1\u001b[0m \u001b[0mreload\u001b[0m\u001b[1;33m(\u001b[0m\u001b[0mplot\u001b[0m\u001b[1;33m)\u001b[0m\u001b[1;33m\u001b[0m\u001b[0m\n\u001b[1;32m----> 2\u001b[1;33m \u001b[0mplot\u001b[0m\u001b[1;33m.\u001b[0m\u001b[0mplotmult2D\u001b[0m\u001b[1;33m(\u001b[0m\u001b[0mstressmodel\u001b[0m\u001b[1;33m.\u001b[0m\u001b[0mget_experimental_data\u001b[0m\u001b[1;33m(\u001b[0m\u001b[1;33m)\u001b[0m\u001b[1;33m,\u001b[0m\u001b[0mmodel\u001b[0m\u001b[1;33m.\u001b[0m\u001b[0mmcfunc\u001b[0m\u001b[1;33m(\u001b[0m\u001b[1;33m(\u001b[0m\u001b[1;33m-\u001b[0m\u001b[1;36m185.092360586\u001b[0m\u001b[1;33m,\u001b[0m \u001b[1;36m10.0\u001b[0m\u001b[1;33m)\u001b[0m\u001b[1;33m)\u001b[0m\u001b[1;33m,\u001b[0m\u001b[0mmarker2\u001b[0m\u001b[1;33m=\u001b[0m\u001b[1;34m'r-'\u001b[0m\u001b[1;33m)\u001b[0m\u001b[1;33m\u001b[0m\u001b[0m\n\u001b[0m",
      "\u001b[1;32m/users/ean1/Documents/MatPy/devel/graph_suite.pyc\u001b[0m in \u001b[0;36mplotmult2D\u001b[1;34m(data1, data2, xtitle, ytitle, title, marker1, marker2, fontsize)\u001b[0m\n\u001b[0;32m    162\u001b[0m     \u001b[1;31m# plot stress vs strain\u001b[0m\u001b[1;33m\u001b[0m\u001b[1;33m\u001b[0m\u001b[0m\n\u001b[0;32m    163\u001b[0m     \u001b[0max\u001b[0m\u001b[1;33m.\u001b[0m\u001b[0mplot\u001b[0m\u001b[1;33m(\u001b[0m\u001b[0mdata1\u001b[0m\u001b[1;33m[\u001b[0m\u001b[1;33m:\u001b[0m\u001b[1;33m,\u001b[0m\u001b[1;36m0\u001b[0m\u001b[1;33m]\u001b[0m\u001b[1;33m,\u001b[0m\u001b[0mdata1\u001b[0m\u001b[1;33m[\u001b[0m\u001b[1;33m:\u001b[0m\u001b[1;33m,\u001b[0m\u001b[1;36m1\u001b[0m\u001b[1;33m]\u001b[0m\u001b[1;33m,\u001b[0m\u001b[0mmarker1\u001b[0m\u001b[1;33m)\u001b[0m\u001b[1;33m\u001b[0m\u001b[0m\n\u001b[1;32m--> 164\u001b[1;33m     \u001b[0max\u001b[0m\u001b[1;33m.\u001b[0m\u001b[0mplot\u001b[0m\u001b[1;33m(\u001b[0m\u001b[0mdata2\u001b[0m\u001b[1;33m[\u001b[0m\u001b[1;33m:\u001b[0m\u001b[1;33m,\u001b[0m\u001b[1;36m0\u001b[0m\u001b[1;33m]\u001b[0m\u001b[1;33m,\u001b[0m\u001b[0mdata2\u001b[0m\u001b[1;33m[\u001b[0m\u001b[1;33m:\u001b[0m\u001b[1;33m,\u001b[0m\u001b[1;36m1\u001b[0m\u001b[1;33m]\u001b[0m\u001b[1;33m,\u001b[0m\u001b[0mmarker2\u001b[0m\u001b[1;33m)\u001b[0m\u001b[1;33m\u001b[0m\u001b[0m\n\u001b[0m\u001b[0;32m    165\u001b[0m \u001b[1;33m\u001b[0m\u001b[0m\n\u001b[0;32m    166\u001b[0m     \u001b[0max\u001b[0m\u001b[1;33m.\u001b[0m\u001b[0mset_xlabel\u001b[0m\u001b[1;33m(\u001b[0m\u001b[0mxtitle\u001b[0m\u001b[1;33m)\u001b[0m\u001b[1;33m\u001b[0m\u001b[0m\n",
      "\u001b[1;31mIndexError\u001b[0m: invalid index to scalar variable."
     ]
    }
   ],
   "source": [
    "reload(plot)\n",
    "plot.plotmult2D(stressmodel.get_experimental_data(),model.mcfunc((-185.092360586, 10.0)),marker2='r-')"
   ]
  },
  {
   "cell_type": "code",
   "execution_count": 32,
   "metadata": {
    "collapsed": false
   },
   "outputs": [
    {
     "name": "stdout",
     "output_type": "stream",
     "text": [
      "1009.384532\n"
     ]
    }
   ],
   "source": [
    "from irreversible_stressstrain import StressStrain as strainmodel\n",
    "model = strainmodel('ref/HSRS/222')\n",
    "data = model.get_experimental_data()\n",
    "\n",
    "\"\"\"[0,1] is the first row, second column, which is the stress values\"\"\"\n",
    "SS_stress = material_analytics.yield_stress(data)[0,1]\n",
    "\n",
    "print SS_stress"
   ]
  },
  {
   "cell_type": "code",
   "execution_count": 28,
   "metadata": {
    "collapsed": false
   },
   "outputs": [
    {
     "name": "stdout",
     "output_type": "stream",
     "text": [
      "L-BFGS-B took 168.506247997 seconds. The result, 38.1879008562 was found at (-127613.815022, 10.0)\n",
      "L-BFGS-B used 174.515625 megabytes and took 20.0 iterations\n",
      "\n"
     ]
    }
   ],
   "source": [
    "reload(optimization_suite)\n",
    "from optimization_suite import minimize_suite as minim\n",
    "from irreversible_stressstrain import StressStrain as strainmodel\n",
    "\n",
    "tominimize = model.mcfunc\n",
    "\n",
    "minim(tominimize,,['L-BFGS-B',], [-500., 10.])"
   ]
  },
  {
   "cell_type": "markdown",
   "metadata": {},
   "source": [
    "L-BFGS-B took 168.506247997 seconds. The result, 38.1879008562 was found at (-127613.815022, 10.0)\n",
    "L-BFGS-B used 174.515625 megabytes and took 20.0 iterations"
   ]
  },
  {
   "cell_type": "code",
   "execution_count": 35,
   "metadata": {
    "collapsed": false
   },
   "outputs": [
    {
     "ename": "IndexError",
     "evalue": "invalid index to scalar variable.",
     "output_type": "error",
     "traceback": [
      "\u001b[1;31m---------------------------------------------------------------------------\u001b[0m",
      "\u001b[1;31mIndexError\u001b[0m                                Traceback (most recent call last)",
      "\u001b[1;32m<ipython-input-35-1d20b5b0545f>\u001b[0m in \u001b[0;36m<module>\u001b[1;34m()\u001b[0m\n\u001b[0;32m      4\u001b[0m \u001b[1;33m\u001b[0m\u001b[0m\n\u001b[0;32m      5\u001b[0m \u001b[0mreload\u001b[0m\u001b[1;33m(\u001b[0m\u001b[0mplot\u001b[0m\u001b[1;33m)\u001b[0m\u001b[1;33m\u001b[0m\u001b[0m\n\u001b[1;32m----> 6\u001b[1;33m \u001b[0mplot\u001b[0m\u001b[1;33m.\u001b[0m\u001b[0mplotmult2D\u001b[0m\u001b[1;33m(\u001b[0m\u001b[0mdata\u001b[0m\u001b[1;33m,\u001b[0m\u001b[0mmodel\u001b[0m\u001b[1;33m.\u001b[0m\u001b[0mmcfunc\u001b[0m\u001b[1;33m(\u001b[0m\u001b[1;33m(\u001b[0m\u001b[1;33m-\u001b[0m\u001b[1;36m127613.815022\u001b[0m\u001b[1;33m,\u001b[0m \u001b[1;36m10.0\u001b[0m\u001b[1;33m)\u001b[0m\u001b[1;33m)\u001b[0m\u001b[1;33m,\u001b[0m\u001b[0mmarker2\u001b[0m\u001b[1;33m=\u001b[0m\u001b[1;34m'r-'\u001b[0m\u001b[1;33m)\u001b[0m\u001b[1;33m\u001b[0m\u001b[0m\n\u001b[0m",
      "\u001b[1;32m/users/ean1/Documents/MatPy/devel/graph_suite.pyc\u001b[0m in \u001b[0;36mplotmult2D\u001b[1;34m(data1, data2, xtitle, ytitle, title, marker1, marker2, fontsize)\u001b[0m\n\u001b[0;32m    162\u001b[0m     \u001b[1;31m# plot stress vs strain\u001b[0m\u001b[1;33m\u001b[0m\u001b[1;33m\u001b[0m\u001b[0m\n\u001b[0;32m    163\u001b[0m     \u001b[0max\u001b[0m\u001b[1;33m.\u001b[0m\u001b[0mplot\u001b[0m\u001b[1;33m(\u001b[0m\u001b[0mdata1\u001b[0m\u001b[1;33m[\u001b[0m\u001b[1;33m:\u001b[0m\u001b[1;33m,\u001b[0m\u001b[1;36m0\u001b[0m\u001b[1;33m]\u001b[0m\u001b[1;33m,\u001b[0m\u001b[0mdata1\u001b[0m\u001b[1;33m[\u001b[0m\u001b[1;33m:\u001b[0m\u001b[1;33m,\u001b[0m\u001b[1;36m1\u001b[0m\u001b[1;33m]\u001b[0m\u001b[1;33m,\u001b[0m\u001b[0mmarker1\u001b[0m\u001b[1;33m)\u001b[0m\u001b[1;33m\u001b[0m\u001b[0m\n\u001b[1;32m--> 164\u001b[1;33m     \u001b[0max\u001b[0m\u001b[1;33m.\u001b[0m\u001b[0mplot\u001b[0m\u001b[1;33m(\u001b[0m\u001b[0mdata2\u001b[0m\u001b[1;33m[\u001b[0m\u001b[1;33m:\u001b[0m\u001b[1;33m,\u001b[0m\u001b[1;36m0\u001b[0m\u001b[1;33m]\u001b[0m\u001b[1;33m,\u001b[0m\u001b[0mdata2\u001b[0m\u001b[1;33m[\u001b[0m\u001b[1;33m:\u001b[0m\u001b[1;33m,\u001b[0m\u001b[1;36m1\u001b[0m\u001b[1;33m]\u001b[0m\u001b[1;33m,\u001b[0m\u001b[0mmarker2\u001b[0m\u001b[1;33m)\u001b[0m\u001b[1;33m\u001b[0m\u001b[0m\n\u001b[0m\u001b[0;32m    165\u001b[0m \u001b[1;33m\u001b[0m\u001b[0m\n\u001b[0;32m    166\u001b[0m     \u001b[0max\u001b[0m\u001b[1;33m.\u001b[0m\u001b[0mset_xlabel\u001b[0m\u001b[1;33m(\u001b[0m\u001b[0mxtitle\u001b[0m\u001b[1;33m)\u001b[0m\u001b[1;33m\u001b[0m\u001b[0m\n",
      "\u001b[1;31mIndexError\u001b[0m: invalid index to scalar variable."
     ]
    }
   ],
   "source": [
    "from irreversible_stressstrain import StressStrain as strainmodel\n",
    "model = strainmodel('ref/HSRS/222')\n",
    "data = model.get_experimental_data()\n",
    "\n",
    "reload(plot)\n",
    "plot.plotmult2D(data,model.mcfunc((-127613.815022, 10.0)),marker2='r-')"
   ]
  },
  {
   "cell_type": "code",
   "execution_count": 52,
   "metadata": {
    "collapsed": false
   },
   "outputs": [
    {
     "data": {
      "text/plain": [
       "(-185.14371002406608, 1.510182934008961)"
      ]
     },
     "execution_count": 52,
     "metadata": {},
     "output_type": "execute_result"
    }
   ],
   "source": [
    "import irreversible_stressstrain\n",
    "reload(irreversible_stressstrain)\n",
    "\n",
    "from irreversible_stressstrain import StressStrain as strainmodel\n",
    "reload(optimization_suite)\n",
    "\n",
    "\n",
    "model = strainmodel('ref/HSRS/22')\n",
    "data = model.get_experimental_data()\n",
    "\n",
    "\"\"\"[0,1] is the first row, second column, which is the stress values\"\"\"\n",
    "SS_stress = material_analytics.yield_stress(data)[0,1]\n",
    "\n",
    "\"\"\"If we pass in an SS_stress parameter, it returns the optimal model parameters\"\"\"\n",
    "optimization_suite.minimize_suite(model.mcfunc, methods=['Nelder-Mead',], guess = [-150,1] ,SS_stress=SS_stress)"
   ]
  },
  {
   "cell_type": "code",
   "execution_count": 61,
   "metadata": {
    "collapsed": false
   },
   "outputs": [],
   "source": [
    "import irreversible_stressstrain\n",
    "reload(irreversible_stressstrain)\n",
    "\n",
    "from irreversible_stressstrain import StressStrain as strainmodel\n",
    "reload(optimization_suite)\n",
    "\n",
    "\n",
    "model = strainmodel('ref/HSRS/22')\n",
    "data = model.get_experimental_data()\n",
    "\n",
    "\"\"\"[0,1] is the first row, second column, which is the stress values\"\"\"\n",
    "SS_stress = material_analytics.yield_stress(data)[0,1]\n",
    "\n",
    "\"\"\"It returned the guess because it failed\"\"\"\n",
    "model_params = optimization_suite.minimize_suite(model.mcfunc, methods=['BFGS',], guess = [-150,1] ,SS_stress=SS_stress)"
   ]
  },
  {
   "cell_type": "code",
   "execution_count": 60,
   "metadata": {
    "collapsed": false
   },
   "outputs": [],
   "source": [
    "import irreversible_stressstrain\n",
    "reload(irreversible_stressstrain)\n",
    "plot.plotmult2D(data, model.irreversible_model(model_params,SS_stress))"
   ]
  },
  {
   "cell_type": "code",
   "execution_count": 3,
   "metadata": {
    "collapsed": false
   },
   "outputs": [
    {
     "name": "stdout",
     "output_type": "stream",
     "text": [
      "Nelder-Mead took 23.4551222324 seconds. The result, 459.589964579 was found at (-182.78840661, 0.9139529109)\n",
      "Nelder-Mead used 81.953125 megabytes and took 30.0 iterations\n",
      "\n"
     ]
    },
    {
     "name": "stderr",
     "output_type": "stream",
     "text": [
      "material_analytics.py:327: RuntimeWarning: divide by zero encountered in log\n",
      "  return a*np.log(x)+c\n",
      "/site/x86/anaconda-1.8/anaconda/lib/python2.7/site-packages/scipy/optimize/minpack.py:690: OptimizeWarning: Covariance of the parameters could not be estimated\n",
      "  category=OptimizeWarning)\n"
     ]
    },
    {
     "data": {
      "text/plain": [
       "(-182.78840661048889, 0.91395291090011765)"
      ]
     },
     "execution_count": 3,
     "metadata": {},
     "output_type": "execute_result"
    }
   ],
   "source": [
    "import irreversible_stressstrain\n",
    "reload(irreversible_stressstrain)\n",
    "import material_analytics\n",
    "from irreversible_stressstrain import StressStrain as strainmodel\n",
    "\n",
    "import optimization_suite\n",
    "reload(optimization_suite)\n",
    "\n",
    "\n",
    "model = strainmodel('ref/HSRS/22')\n",
    "data = model.get_experimental_data()\n",
    "\n",
    "\"\"\"[0,1] is the first row, second column, which is the stress values\"\"\"\n",
    "SS_stress = material_analytics.yield_stress(data)[0,1]\n",
    "\n",
    "\"\"\"If we pass in an SS_stress parameter, it returns the optimal model parameters\"\"\"\n",
    "optimization_suite.minimize_suite(model.mcfunc, methods=['Nelder-Mead',], guess = [-150,1] ,SS_stress=SS_stress)"
   ]
  },
  {
   "cell_type": "markdown",
   "metadata": {},
   "source": [
    "# An example of how to use this in conjunction with irreversible thermodynamics model"
   ]
  },
  {
   "cell_type": "code",
   "execution_count": 6,
   "metadata": {
    "collapsed": false
   },
   "outputs": [
    {
     "name": "stdout",
     "output_type": "stream",
     "text": [
      "Nelder-Mead took 24.801897049 seconds. The result, 459.589964579 was found at (-182.78840661, 0.9139529109)\n",
      "Nelder-Mead used 139.6796875 megabytes and took 30.0 iterations\n",
      "\n"
     ]
    }
   ],
   "source": [
    "import irreversible_stressstrain\n",
    "reload(irreversible_stressstrain)\n",
    "\n",
    "from irreversible_stressstrain import StressStrain as strainmodel\n",
    "import optimization_suite\n",
    "reload(optimization_suite)\n",
    "\n",
    "import material_analytics\n",
    "import graph_suite as plot\n",
    "\n",
    "\n",
    "model = strainmodel('ref/HSRS/22')\n",
    "data = model.get_experimental_data()\n",
    "\n",
    "\"\"\"[0,1] is the first row, second column, which is the stress values\"\"\"\n",
    "SS_stress = material_analytics.yield_stress(data)[0,1]\n",
    "\n",
    "\"\"\"It returned the best fit\"\"\"\n",
    "model_params = optimization_suite.minimize_suite(model.mcfunc, methods=['Nelder-Mead',], guess = [-150,1] ,SS_stress=SS_stress)\n",
    "\n",
    "\"\"\"Plots the data versus the fitted data\"\"\"\n",
    "plot.plotmult2D(data, model.irreversible_model(model_params,SS_stress))"
   ]
  },
  {
   "cell_type": "code",
   "execution_count": null,
   "metadata": {
    "collapsed": true
   },
   "outputs": [],
   "source": []
  },
  {
   "cell_type": "code",
   "execution_count": null,
   "metadata": {
    "collapsed": true
   },
   "outputs": [],
   "source": []
  },
  {
   "cell_type": "code",
   "execution_count": null,
   "metadata": {
    "collapsed": true
   },
   "outputs": [],
   "source": []
  },
  {
   "cell_type": "code",
   "execution_count": null,
   "metadata": {
    "collapsed": true
   },
   "outputs": [],
   "source": []
  },
  {
   "cell_type": "code",
   "execution_count": 1,
   "metadata": {
    "collapsed": false
   },
   "outputs": [
    {
     "name": "stderr",
     "output_type": "stream",
     "text": [
      "material_analytics.py:331: RuntimeWarning: divide by zero encountered in log\n",
      "  return a*np.log(x)+c\n",
      "/site/x86/anaconda-1.8/anaconda/lib/python2.7/site-packages/scipy/optimize/minpack.py:690: OptimizeWarning: Covariance of the parameters could not be estimated\n",
      "  category=OptimizeWarning)\n"
     ]
    },
    {
     "name": "stdout",
     "output_type": "stream",
     "text": [
      "Nelder-Mead took 23.9607450962 seconds. The result, 459.589964579 was found at (-182.78840661, 0.9139529109)\n",
      "Nelder-Mead used 114.01953125 megabytes and took 30.0 iterations\n",
      "\n"
     ]
    }
   ],
   "source": [
    "from irreversible_stressstrain import StressStrain as strainmodel\n",
    "import optimization_suite\n",
    "import material_analytics\n",
    "\n",
    "model = strainmodel('ref/HSRS/22')\n",
    "data = model.get_experimental_data()\n",
    "\n",
    "SS_stress = material_analytics.yield_stress(data)[0,1]\n",
    "model_params = optimization_suite.minimize_suite(model.mcfunc, methods=['Nelder-Mead',], guess = [-150,1] ,SS_stress=SS_stress)"
   ]
  }
 ],
 "metadata": {
  "kernelspec": {
   "display_name": "Python 2",
   "language": "python",
   "name": "python2"
  },
  "language_info": {
   "codemirror_mode": {
    "name": "ipython",
    "version": 2
   },
   "file_extension": ".py",
   "mimetype": "text/x-python",
   "name": "python",
   "nbconvert_exporter": "python",
   "pygments_lexer": "ipython2",
   "version": "2.7.12"
  }
 },
 "nbformat": 4,
 "nbformat_minor": 0
}
