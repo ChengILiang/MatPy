{
 "cells": [
  {
   "cell_type": "code",
   "execution_count": 19,
   "metadata": {
    "collapsed": false
   },
   "outputs": [],
   "source": [
    "import irreversible_stressstrain\n",
    "reload(irreversible_stressstrain)\n",
    "\n",
    "from irreversible_stressstrain import StressStrain as strainmodel"
   ]
  },
  {
   "cell_type": "code",
   "execution_count": 24,
   "metadata": {
    "collapsed": false
   },
   "outputs": [],
   "source": [
    "import graph_suite as plot\n",
    "import material_analytics\n",
    "\n",
    "model = strainmodel('ref/HSRS/222')\n",
    "\n",
    "SS_stress=material_analytics.yield_stress(model.get_experimental_data())[0,1] # it's important to access yield_stress this way\n",
    "plot.plotmult2D(model.get_experimental_data(),model.mcfunc((-100,1),SS_stress),marker2='r-')"
   ]
  },
  {
   "cell_type": "code",
   "execution_count": null,
   "metadata": {
    "collapsed": true
   },
   "outputs": [],
   "source": []
  }
 ],
 "metadata": {
  "kernelspec": {
   "display_name": "Python 2",
   "language": "python",
   "name": "python2"
  },
  "language_info": {
   "codemirror_mode": {
    "name": "ipython",
    "version": 2
   },
   "file_extension": ".py",
   "mimetype": "text/x-python",
   "name": "python",
   "nbconvert_exporter": "python",
   "pygments_lexer": "ipython2",
   "version": "2.7.12"
  }
 },
 "nbformat": 4,
 "nbformat_minor": 0
}
