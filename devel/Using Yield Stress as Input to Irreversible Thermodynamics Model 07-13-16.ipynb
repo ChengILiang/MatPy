{
 "cells": [
  {
   "cell_type": "code",
   "execution_count": 1,
   "metadata": {
    "collapsed": false
   },
   "outputs": [],
   "source": [
    "import irreversible_stressstrain\n",
    "reload(irreversible_stressstrain)\n",
    "\n",
    "from irreversible_stressstrain import StressStrain as strainmodel"
   ]
  },
  {
   "cell_type": "code",
   "execution_count": 7,
   "metadata": {
    "collapsed": false
   },
   "outputs": [
    {
     "name": "stdout",
     "output_type": "stream",
     "text": [
      "863.845922326\n"
     ]
    }
   ],
   "source": [
    "import graph_suite as plot\n",
    "import material_analytics\n",
    "import optimization_suite\n",
    "\n",
    "model = strainmodel('ref/HSRS/22')\n",
    "\n",
    "SS_stress=material_analytics.yield_stress(model.get_experimental_data())[0,1] # it's important to access yield_stress this way\n",
    "plot.plotmult2D(model.get_experimental_data(),model.mcfunc((-100,1),SS_stress),marker2='r-')"
   ]
  },
  {
   "cell_type": "markdown",
   "metadata": {
    "collapsed": true
   },
   "source": [
    "## We must automatically determine yield stress, and then optimal parameters"
   ]
  },
  {
   "cell_type": "code",
   "execution_count": 8,
   "metadata": {
    "collapsed": false
   },
   "outputs": [
    {
     "name": "stdout",
     "output_type": "stream",
     "text": [
      "863.845922326\n"
     ]
    }
   ],
   "source": [
    "model = strainmodel('ref/HSRS/22')\n",
    "data = model.get_experimental_data()\n",
    "\n",
    "\"\"\"[0,1] is the first row, second column, which is the stress values\"\"\"\n",
    "SS_stress = material_analytics.yield_stress(data)[0,1]\n",
    "\n",
    "print SS_stress"
   ]
  },
  {
   "cell_type": "code",
   "execution_count": 15,
   "metadata": {
    "collapsed": false
   },
   "outputs": [
    {
     "name": "stdout",
     "output_type": "stream",
     "text": [
      "BFGS took 175.441886902 seconds. The result, 53.9904789232 was found at (-418.896972656, 10.0)\n",
      "BFGS used 149.515625 megabytes and took 1.0 iterations\n",
      "\n",
      "L-BFGS-B took 83.6906678677 seconds. The result, 48.5008678701 was found at (-319.851990106, 10.0)\n",
      "L-BFGS-B used 149.62890625 megabytes and took 5.0 iterations\n",
      "\n",
      "SLSQP took 119.519201994 seconds. The result, 48.5008678666 was found at (-319.849806339, 10.0)\n",
      "SLSQP used 149.7578125 megabytes and took 12.0 iterations\n",
      "\n"
     ]
    }
   ],
   "source": [
    "# -- testing to see if this will work still\n",
    "from irreversible_stressstrain import StressStrain\n",
    "from optimization_suite import minimize_suite as minim\n",
    "\n",
    "stressmodel = StressStrain('ref/HSRS/222')\n",
    "tominimize = stressmodel.mcfunc\n",
    "\n",
    "# totally guessing min, all new data set\n",
    "minim(tominimize, ['BFGS', 'L-BFGS-B','SLSQP'], [-500., 10.])"
   ]
  },
  {
   "cell_type": "code",
   "execution_count": 16,
   "metadata": {
    "collapsed": false
   },
   "outputs": [
    {
     "name": "stdout",
     "output_type": "stream",
     "text": [
      "L-BFGS-B took 15.4999392033 seconds. The result, 459.719221261 was found at (-184.947948552, 10.0)\n",
      "L-BFGS-B used 149.7578125 megabytes and took 3.0 iterations\n",
      "\n"
     ]
    }
   ],
   "source": [
    "# -- testing to see if this will work still\n",
    "from irreversible_stressstrain import StressStrain\n",
    "from optimization_suite import minimize_suite as minim\n",
    "\n",
    "stressmodel = StressStrain('ref/HSRS/22')\n",
    "tominimize = stressmodel.mcfunc\n",
    "\n",
    "# totally guessing min, all new data set\n",
    "minim(tominimize, ['L-BFGS-B',], [-500., 10.])"
   ]
  },
  {
   "cell_type": "markdown",
   "metadata": {},
   "source": [
    "## These are the results for ref/HSRS/22"
   ]
  },
  {
   "cell_type": "code",
   "execution_count": 17,
   "metadata": {
    "collapsed": false
   },
   "outputs": [
    {
     "name": "stdout",
     "output_type": "stream",
     "text": [
      "L-BFGS-B took 14.3252851963 seconds. The result, 459.719212065 was found at (-185.092360586, 10.0)\n",
      "L-BFGS-B used 149.765625 megabytes and took 8.0 iterations\n",
      "\n"
     ]
    }
   ],
   "source": [
    "stressmodel = StressStrain('ref/HSRS/22')\n",
    "tominimize = stressmodel.mcfunc\n",
    "\n",
    "# totally guessing min, all new data set\n",
    "minim(tominimize, ['L-BFGS-B',], [-100., 10.])"
   ]
  },
  {
   "cell_type": "code",
   "execution_count": 20,
   "metadata": {
    "collapsed": true
   },
   "outputs": [],
   "source": [
    "reload(plot)\n",
    "plot.plotmult2D(stressmodel.get_experimental_data(),model.mcfunc((-185.092360586, 10.0)),marker2='r-')"
   ]
  },
  {
   "cell_type": "code",
   "execution_count": null,
   "metadata": {
    "collapsed": true
   },
   "outputs": [],
   "source": []
  }
 ],
 "metadata": {
  "kernelspec": {
   "display_name": "Python 2",
   "language": "python",
   "name": "python2"
  },
  "language_info": {
   "codemirror_mode": {
    "name": "ipython",
    "version": 2
   },
   "file_extension": ".py",
   "mimetype": "text/x-python",
   "name": "python",
   "nbconvert_exporter": "python",
   "pygments_lexer": "ipython2",
   "version": "2.7.12"
  }
 },
 "nbformat": 4,
 "nbformat_minor": 0
}
