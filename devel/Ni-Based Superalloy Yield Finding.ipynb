{
 "cells": [
  {
   "cell_type": "code",
   "execution_count": 56,
   "metadata": {
    "collapsed": false
   },
   "outputs": [
    {
     "data": {
      "text/plain": [
       "<module 'graph_suite' from 'graph_suite.pyc'>"
      ]
     },
     "execution_count": 56,
     "metadata": {},
     "output_type": "execute_result"
    }
   ],
   "source": [
    "import parser\n",
    "import numpy as np\n",
    "import material_analytics\n",
    "import graph_suite as plot\n",
    "reload(plot)"
   ]
  },
  {
   "cell_type": "code",
   "execution_count": 85,
   "metadata": {
    "collapsed": false
   },
   "outputs": [],
   "source": [
    "data = parser.stress_strain('ref/1150.dat').get_experimental_data()\n",
    "\n",
    "def yield_classic(data, cutoff = 0.001, numpts = 1001):\n",
    "    \n",
    "    startpt = cutoff # can't be zero or log will freak out\n",
    "    \n",
    "    data = material_analytics.log_prep(data,cutoff = cutoff)\n",
    "    bestfit = material_analytics.log_approx(data)\n",
    "    domain = np.linspace(startpt,max(data[:,0]),numpts)\n",
    "    vals = material_analytics.combine_data(domain,bestfit(domain))\n",
    "    deriv1st = material_analytics.get_slopes(material_analytics.combine_data(domain,bestfit(domain)))\n",
    "\n",
    "    find_nearest = lambda array,value: array[(np.abs(array-value)).argmin()]\n",
    "\n",
    "    ave_slope = (vals[-1,1]-vals[0,1])/(vals[-1,0]-vals[0,0])\n",
    "    index_ave = np.where(deriv1st == find_nearest(deriv1st, ave_slope))\n",
    "    log_bend = vals[index_ave][0]\n",
    "    young_mod = (log_bend[1]-vals[0,1])/(log_bend[0]-vals[0,0])\n",
    "\n",
    "    linear_mod_2 = lambda x: young_mod*(x-0.2) + vals[0,1] # we will find where this intersects our exp data\n",
    "    samples2 = material_analytics.samplepoints(linear_mod_2,[startpt,max(vals[:,0])],numpts)\n",
    "\n",
    "    diff = np.abs(samples2[:,1] - vals[:,1])\n",
    "\n",
    "    \"\"\"We can call this the intersection, its the closest point\"\"\"\n",
    "    leastindex = diff.argmin()\n",
    "    cross_est = vals[leastindex].reshape(1,-1)[0,1]\n",
    "    yieldstress = find_nearest(data[:,1].reshape(-1,1),cross_est)[0]\n",
    "    yieldpt = data[np.where(data[:,1] == yieldstress)]\n",
    "    return yieldpt[0]\n",
    "\n",
    "plot.plotmult2D(data,yield_classic(data)[None,:],\n",
    "                title = 'Stress vs Strain', xtitle = \"Strain ($\\epsilon$)\", ytitle= \"Stress ($\\sigma$)\")"
   ]
  },
  {
   "cell_type": "code",
   "execution_count": null,
   "metadata": {
    "collapsed": true
   },
   "outputs": [],
   "source": []
  }
 ],
 "metadata": {
  "kernelspec": {
   "display_name": "Python 2",
   "language": "python",
   "name": "python2"
  },
  "language_info": {
   "codemirror_mode": {
    "name": "ipython",
    "version": 2
   },
   "file_extension": ".py",
   "mimetype": "text/x-python",
   "name": "python",
   "nbconvert_exporter": "python",
   "pygments_lexer": "ipython2",
   "version": "2.7.12"
  }
 },
 "nbformat": 4,
 "nbformat_minor": 0
}
