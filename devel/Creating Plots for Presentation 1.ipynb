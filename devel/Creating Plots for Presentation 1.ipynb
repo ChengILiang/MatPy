{
 "cells": [
  {
   "cell_type": "code",
   "execution_count": 39,
   "metadata": {
    "collapsed": true
   },
   "outputs": [],
   "source": [
    "import graph_suite as plot\n",
    "import parser\n",
    "reload(parser)\n",
    "import material_analytics\n",
    "reload(material_analytics)\n",
    "import numpy as np"
   ]
  },
  {
   "cell_type": "code",
   "execution_count": 46,
   "metadata": {
    "collapsed": true
   },
   "outputs": [],
   "source": [
    "model = parser.stress_strain('kolskybar.xml',type='xml') \n",
    "\n",
    "data = model.get_experimental_data()[:,:2] # disregarding the strain rate\n",
    "\n",
    "#plot.texOn()\n",
    "#plot.plot2D(data, title = 'Stress vs Strain', xtitle = \"Strain ($\\epsilon$)\", ytitle= \"Stress ($\\sigma$)\",\n",
    "#           marker = 'o')"
   ]
  },
  {
   "cell_type": "code",
   "execution_count": 47,
   "metadata": {
    "collapsed": false
   },
   "outputs": [],
   "source": [
    "yieldpoint = material_analytics.yield_stress(data)\n",
    "pts = []\n",
    "\n",
    "for a in np.linspace(0,max(data[:,0]),1001):\n",
    "    predicted = material_analytics.predict_stress(data,a)[0]\n",
    "    pts.append(predicted)\n",
    "    \n",
    "numpypoints = np.array(pts)"
   ]
  },
  {
   "cell_type": "code",
   "execution_count": 49,
   "metadata": {
    "collapsed": true
   },
   "outputs": [],
   "source": [
    "plot.plotmult2D(data,numpypoints, title = 'Stress vs Strain', xtitle = \"Strain ($\\epsilon$)\", ytitle= \"Stress ($\\sigma$)\")"
   ]
  },
  {
   "cell_type": "code",
   "execution_count": 32,
   "metadata": {
    "collapsed": false
   },
   "outputs": [
    {
     "name": "stdout",
     "output_type": "stream",
     "text": [
      "[[  0.00000000e+00   0.00000000e+00]\n",
      " [  1.66836624e-02   1.07909341e+01]\n",
      " [  3.33673247e-02   2.15818682e+01]\n",
      " ..., \n",
      " [  1.66502950e+01   1.10132026e+03]\n",
      " [  1.66669787e+01   1.10144949e+03]\n",
      " [  1.66836624e+01   1.10157860e+03]]\n"
     ]
    }
   ],
   "source": [
    "model = parser.stress_strain('ref/HSRS/22') \n",
    "data = model.get_experimental_data()\n",
    "\n",
    "yieldpoint = material_analytics.yield_stress(data)\n",
    "pts = []\n",
    "\n",
    "for a in np.linspace(0,max(data[:,0]),1001):\n",
    "    predicted = material_analytics.predict_stress(data,a)[0]\n",
    "    pts.append(predicted)\n",
    "    \n",
    "numpypoints = np.array(pts)\n",
    "print numpypoints"
   ]
  },
  {
   "cell_type": "code",
   "execution_count": 45,
   "metadata": {
    "collapsed": false
   },
   "outputs": [],
   "source": [
    "plot.plotmult2D(data,numpypoints, title = 'Stress vs Strain', xtitle = \"Strain ($\\epsilon$)\", ytitle= \"Stress ($\\sigma$)\")"
   ]
  },
  {
   "cell_type": "code",
   "execution_count": null,
   "metadata": {
    "collapsed": true
   },
   "outputs": [],
   "source": []
  }
 ],
 "metadata": {
  "kernelspec": {
   "display_name": "Python 2",
   "language": "python",
   "name": "python2"
  },
  "language_info": {
   "codemirror_mode": {
    "name": "ipython",
    "version": 2
   },
   "file_extension": ".py",
   "mimetype": "text/x-python",
   "name": "python",
   "nbconvert_exporter": "python",
   "pygments_lexer": "ipython2",
   "version": "2.7.12"
  }
 },
 "nbformat": 4,
 "nbformat_minor": 0
}
