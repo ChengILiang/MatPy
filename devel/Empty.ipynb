{
 "cells": [
  {
   "cell_type": "code",
   "execution_count": null,
   "metadata": {
    "collapsed": true
   },
   "outputs": [],
   "source": [
    "from matplotlib import pyplot as plt\n",
    "import matplotlib\n",
    "\n",
    "defaultfontsize = 30\n",
    "matplotlib.rcParams.update({'font.size': defaultfontsize}) # default font size\n",
    "\n",
    "def texOn():\n",
    "    plt.rc('text', usetex=True)\n",
    "\n",
    "texOn()\n",
    "model = strainmodel('ref/HSRS/22')\n",
    "data = model.get_experimental_data()\n",
    "SS_stress = material_analytics.yield_stress(data)[0,1]\n",
    "\n",
    "strain = data[:,0]\n",
    "stress = data[:,1]\n",
    "\n",
    "plt.ylabel(\"Stress ($\\sigma$)\")\n",
    "plt.xlabel(\"Strain ($\\epsilon$)\")\n",
    "plt.xlim([0,max(strain)])\n",
    "plt.title('Stress vs Strain')\n",
    "\n",
    "plt.plot(strain,stress, 'bo', label = 'Experimental Data')\n",
    "\n",
    "model_params = [(-97.2243219614, 1.62465067804), (-97.226373943, 1.35675756514), (-97.2352796645, 57.1105312168) \n",
    ",(-272.261846785, 2.36548167553) \n",
    ",(-97.2095787659, 58.2472771029) ]\n",
    "\n",
    "methods = ['Nelder-Mead', 'CG', 'L-BFGS-B', 'COBYLA', 'SLSQP']\n",
    "\n",
    "\"\"\"\n",
    "Nelder-Mead (-97.2243219614, 1.62465067804) \n",
    "CG  (-97.226373943, 1.35675756514) \n",
    "L-BFGS-B  (-97.2352796645, 57.1105312168) \n",
    "COBYLA  (-272.261846785, 2.36548167553) \n",
    "SLSQP  (-97.2095787659, 58.2472771029) \n",
    "\"\"\"\n",
    "\n",
    "for index, model_param in enumerate(model_params):\n",
    "    datacurrent = model.irreversible_model(model_param,SS_stress)\n",
    "    \n",
    "    plt.plot(datacurrent[:,0],datacurrent[:,1],'-', label = methods[index] )\n",
    "\n",
    "plt.legend(prop={'size':10})\n",
    "plot.plot2D(data)"
    ]
  }
 ],
 "metadata": {
  "kernelspec": {
   "display_name": "Python 2",
   "language": "python",
   "name": "python2"
  },
  "language_info": {
   "codemirror_mode": {
    "name": "ipython",
    "version": 2
   },
   "file_extension": ".py",
   "mimetype": "text/x-python",
   "name": "python",
   "nbconvert_exporter": "python",
   "pygments_lexer": "ipython2",
   "version": "2.7.12"
  }
 },
 "nbformat": 4,
 "nbformat_minor": 0
}
