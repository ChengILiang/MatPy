{
 "cells": [
  {
   "cell_type": "code",
   "execution_count": 24,
   "metadata": {
    "collapsed": false
   },
   "outputs": [
    {
     "ename": "AttributeError",
     "evalue": "'DataModelDict' object has no attribute 'iterlist'",
     "output_type": "error",
     "traceback": [
      "\u001b[1;31m---------------------------------------------------------------------------\u001b[0m",
      "\u001b[1;31mAttributeError\u001b[0m                            Traceback (most recent call last)",
      "\u001b[1;32m<ipython-input-24-4974b832e6e8>\u001b[0m in \u001b[0;36m<module>\u001b[1;34m()\u001b[0m\n\u001b[0;32m      5\u001b[0m \u001b[1;33m\u001b[0m\u001b[0m\n\u001b[0;32m      6\u001b[0m \u001b[0mdistable\u001b[0m \u001b[1;33m=\u001b[0m \u001b[1;33m[\u001b[0m\u001b[1;33m]\u001b[0m\u001b[1;33m\u001b[0m\u001b[0m\n\u001b[1;32m----> 7\u001b[1;33m \u001b[1;32mfor\u001b[0m \u001b[0mrow\u001b[0m \u001b[1;32min\u001b[0m \u001b[0mtable\u001b[0m\u001b[1;33m[\u001b[0m\u001b[1;34m'rows'\u001b[0m\u001b[1;33m]\u001b[0m\u001b[1;33m.\u001b[0m\u001b[0miterlist\u001b[0m\u001b[1;33m(\u001b[0m\u001b[1;34m'row'\u001b[0m\u001b[1;33m)\u001b[0m\u001b[1;33m:\u001b[0m\u001b[1;33m\u001b[0m\u001b[0m\n\u001b[0m\u001b[0;32m      8\u001b[0m         \u001b[0mdisrow\u001b[0m \u001b[1;33m=\u001b[0m \u001b[1;33m[\u001b[0m\u001b[1;33m]\u001b[0m\u001b[1;33m\u001b[0m\u001b[0m\n\u001b[0;32m      9\u001b[0m         \u001b[1;32mfor\u001b[0m \u001b[0mcolumn\u001b[0m \u001b[1;32min\u001b[0m \u001b[0mrow\u001b[0m\u001b[1;33m.\u001b[0m\u001b[0miterlist\u001b[0m\u001b[1;33m(\u001b[0m\u001b[1;34m'column'\u001b[0m\u001b[1;33m)\u001b[0m\u001b[1;33m:\u001b[0m\u001b[1;33m\u001b[0m\u001b[0m\n",
      "\u001b[1;31mAttributeError\u001b[0m: 'DataModelDict' object has no attribute 'iterlist'"
     ]
    }
   ],
   "source": [
    "from DataModelDict import DataModelDict as dmd\n",
    "\n",
    "schema = dmd(open('kolskybar.xml','r'))\n",
    "table = schema.find('stressStrain')\n",
    "\n",
    "distable = []\n",
    "for row in table['rows'].iterlist('row'):\n",
    "        disrow = []\n",
    "        for column in row.iterlist('column'):\n",
    "                disrow.append(column['#text'])\n",
    "        distable.append(disrow)\n",
    "\n",
    "del distable[0]\n",
    "distable = np.array(distable)\n",
    "\n",
    "print distable"
   ]
  },
  {
   "cell_type": "code",
   "execution_count": 39,
   "metadata": {
    "collapsed": false
   },
   "outputs": [
    {
     "name": "stdout",
     "output_type": "stream",
     "text": [
      "DataModelDict([(u'@id', 1), (u'column', [DataModelDict([(u'@id', 1), ('#text', 0.000303349228225)]), DataModelDict([(u'@id', 2), ('#text', -10.3437455647)]), DataModelDict([(u'@id', 3), ('#text', 0.0)])])])\n"
     ]
    }
   ],
   "source": [
    "from DataModelDict import DataModelDict as dmd\n",
    "\n",
    "schema = dmd(open('kolskybar.xml','r'))\n",
    "table = schema.find('stressStrain')\n",
    "\n",
    "#print table.keys()\n",
    "rows= table['rows']\n",
    "for row in rows.iteraslist('row'):\n",
    "    print row\n",
    "    break\n"
   ]
  },
  {
   "cell_type": "markdown",
   "metadata": {},
   "source": [
    "## The proper method is iteraslist()\n",
    "\n",
    "## This is an example provided by Sheng Yen"
   ]
  },
  {
   "cell_type": "code",
   "execution_count": 2,
   "metadata": {
    "collapsed": false
   },
   "outputs": [],
   "source": [
    "import numpy as np\n",
    "import matplotlib.pyplot as plt\n",
    "\n",
    "from DataModelDict import DataModelDict as dmd\n",
    "\n",
    "table = dmd(open('kolskybar.xml', \"r\")).find('stressStrain')\n",
    "\n",
    "distable = []\n",
    "\n",
    "for row in table['rows'].iteraslist('row'):\n",
    "    \n",
    "        disrow = []\n",
    "        \n",
    "        for column in row.iteraslist('column'):\n",
    "                disrow.append(column['#text'])\n",
    "        \n",
    "        distable.append(disrow)\n",
    "\n",
    "del distable[0] # gets rid of header\n",
    "distable = np.array(distable)\n"
   ]
  },
  {
   "cell_type": "markdown",
   "metadata": {},
   "source": [
    "## The first column is True Strain and the second is True Stress"
   ]
  },
  {
   "cell_type": "code",
   "execution_count": 3,
   "metadata": {
    "collapsed": false
   },
   "outputs": [],
   "source": [
    "p_alpha = 1\n",
    "volume=50\n",
    "fig, ax = plt.subplots(figsize=(12, 9))\n",
    "\n",
    "# plots first col vs second because stress vs strain\n",
    "ax.plot(distable[:,0],distable[:,1],lw=3) \n",
    "ax.tick_params(axis='x', labelsize=25, pad = 10)\n",
    "ax.tick_params(axis='y', labelsize=25, pad = 10)\n",
    "\n",
    "\n",
    "ax.grid(True)\n",
    "fig.tight_layout()\n",
    "\n",
    "\n",
    "plt.show()"
   ]
  },
  {
   "cell_type": "code",
   "execution_count": 1,
   "metadata": {
    "collapsed": false
   },
   "outputs": [],
   "source": [
    "from irreversible_stressstrain import StressStrain\n",
    "import matplotlib.pyplot as plt\n",
    "\n",
    "model = StressStrain('kolskybar.xml','xml')\n",
    "fig, ax = plt.subplots(figsize=(12, 9))\n",
    "distable = model.get_experimental_data()\n",
    "\n",
    "# plots first col vs second because stress vs strain\n",
    "ax.plot(distable[:,0],distable[:,1],lw=3) \n",
    "ax.tick_params(axis='x', labelsize=25, pad = 10)\n",
    "ax.tick_params(axis='y', labelsize=25, pad = 10)\n",
    "\n",
    "\n",
    "ax.grid(True)\n",
    "fig.tight_layout()\n",
    "\n",
    "\n",
    "plt.show()"
   ]
  },
  {
   "cell_type": "markdown",
   "metadata": {},
   "source": [
    "Displays error achieved by each of the two datasets with those optimal parameters"
   ]
  },
  {
   "cell_type": "code",
   "execution_count": 7,
   "metadata": {
    "collapsed": false
   },
   "outputs": [
    {
     "name": "stdout",
     "output_type": "stream",
     "text": [
      "134.867938053\n",
      "106.078477958\n"
     ]
    }
   ],
   "source": [
    "from irreversible_stressstrain import StressStrain\n",
    "\n",
    "model2 = StressStrain('ref/HSRS/326')\n",
    "print model2.mcfunc((-341.213647127, 6.68840882182))\n",
    "\n",
    "model3 = StressStrain('ref/HSRS/222')\n",
    "print model3.mcfunc((-160.27073606,  138.1929225))"
   ]
  }
 ],
 "metadata": {
  "kernelspec": {
   "display_name": "Python 2",
   "language": "python",
   "name": "python2"
  },
  "language_info": {
   "codemirror_mode": {
    "name": "ipython",
    "version": 2
   },
   "file_extension": ".py",
   "mimetype": "text/x-python",
   "name": "python",
   "nbconvert_exporter": "python",
   "pygments_lexer": "ipython2",
   "version": "2.7.11"
  }
 },
 "nbformat": 4,
 "nbformat_minor": 0
}
