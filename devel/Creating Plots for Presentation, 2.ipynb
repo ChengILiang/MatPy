{
 "cells": [
  {
   "cell_type": "code",
   "execution_count": 1,
   "metadata": {
    "collapsed": true
   },
   "outputs": [],
   "source": [
    "import graph_suite as plot\n",
    "import parser\n",
    "reload(parser)\n",
    "import material_analytics\n",
    "reload(material_analytics)\n",
    "import numpy as np"
   ]
  },
  {
   "cell_type": "markdown",
   "metadata": {},
   "source": [
    "### Doing this with KMeans Clustering"
   ]
  },
  {
   "cell_type": "code",
   "execution_count": 98,
   "metadata": {
    "collapsed": true
   },
   "outputs": [],
   "source": [
    "#add to GUI\n",
    "elastic, plastic = material_analytics.kmeanssplit(parser.stress_strain('ref/1150.dat').get_experimental_data()[:,:2])\n",
    "plot.plotmult2D(elastic,plastic, title = 'Stress vs Strain', xtitle = \"Strain ($\\epsilon$)\", ytitle= \"Stress ($\\sigma$)\")"
   ]
  },
  {
   "cell_type": "markdown",
   "metadata": {},
   "source": [
    "### Doing this with Classic method"
   ]
  },
  {
   "cell_type": "code",
   "execution_count": 127,
   "metadata": {
    "collapsed": false
   },
   "outputs": [],
   "source": [
    "def yield_classic(data, cutoff = 0.1):\n",
    "    \n",
    "    startpt = cutoff # can't be zero or log will freak out\n",
    "    \n",
    "    data = material_analytics.log_prep(data,cutoff = cutoff)\n",
    "    bestfit = material_analytics.log_approx(data)\n",
    "    domain = np.linspace(startpt,max(data[:,0]),100001)\n",
    "\n",
    "    vals = material_analytics.combine_data(domain,bestfit(domain))\n",
    "\n",
    "    deriv1st = material_analytics.get_slopes(material_analytics.combine_data(domain,bestfit(domain)))\n",
    "\n",
    "    find_nearest = lambda array,value: array[(np.abs(array-value)).argmin()]\n",
    "\n",
    "    ave_slope = (vals[-1,1]-vals[0,1])/(vals[-1,0]-vals[0,0])\n",
    "    index_ave = np.where(deriv1st == find_nearest(deriv1st, ave_slope))\n",
    "    log_bend = vals[index_ave][0]\n",
    "    young_mod = (log_bend[1]-vals[0,1])/(log_bend[0]-vals[0,0])\n",
    "\n",
    "    linear_mod_2 = lambda x: young_mod*(x-0.2) + vals[0,1] # we will find where this intersects our exp data\n",
    "    samples2 = material_analytics.samplepoints(linear_mod_2,[startpt,max(vals[:,0])],1001)\n",
    "\n",
    "    diff = np.abs(samples2[:,1] - vals[:,1])\n",
    "\n",
    "    \"\"\"We can call this the intersection, its the closest point\"\"\"\n",
    "    leastindex = diff.argmin()\n",
    "    cross_est = vals[leastindex].reshape(1,-1)[0,1]\n",
    "    yieldstress = find_nearest(data[:,1].reshape(-1,1),cross_est)[0]\n",
    "\n",
    "    yieldpt = data[np.where(data[:,1] == yieldstress)]\n",
    "    return yieldpt[0]\n",
    "\n",
    "data = parser.stress_strain('ref/HSRS/326').get_experimental_data()\n",
    "yieldpt = yield_classic(data)\n",
    "index = np.where(data == yieldpt)[0][0]\n",
    "\n",
    "elastic, plastic = data[:index], data[index:]\n",
    "plot.plotmult2D(elastic,plastic, title = 'Stress vs Strain', xtitle = \"Strain ($\\epsilon$)\", ytitle= \"Stress ($\\sigma$)\")\n"
   ]
  },
  {
   "cell_type": "markdown",
   "metadata": {},
   "source": [
    "## With custom method"
   ]
  },
  {
   "cell_type": "code",
   "execution_count": 7,
   "metadata": {
    "collapsed": false
   },
   "outputs": [],
   "source": [
    "data = parser.stress_strain('ref/900.dat').get_experimental_data()\n",
    "yieldpt = material_analytics.yield_stress(data)[0]\n",
    "\n",
    "index = np.where(data == yieldpt)[0][0]\n",
    "elastic, plastic = data[:index+1], data[index:]\n",
    "\n",
    "model = material_analytics.stress_model(data)\n",
    "\n",
    "plot.plotmult2D(elastic,plastic, marker2 = 'r-', title = 'Stress vs Strain', xtitle = \"Strain ($\\epsilon$)\", ytitle= \"Stress ($\\sigma$)\")"
   ]
  },
  {
   "cell_type": "code",
   "execution_count": 10,
   "metadata": {
    "collapsed": false
   },
   "outputs": [],
   "source": [
    "data = parser.stress_strain('ref/1150.dat').get_experimental_data()\n",
    "\n",
    "yldpt = material_analytics.yield_stress(data, cutoff=0.0000)\n",
    "plot.plotmult2D(data, yldpt)"
   ]
  },
  {
   "cell_type": "code",
   "execution_count": 128,
   "metadata": {
    "collapsed": false
   },
   "outputs": [
    {
     "ename": "TypeError",
     "evalue": "'NoneType' object has no attribute '__getitem__'",
     "output_type": "error",
     "traceback": [
      "\u001b[1;31m---------------------------------------------------------------------------\u001b[0m",
      "\u001b[1;31mTypeError\u001b[0m                                 Traceback (most recent call last)",
      "\u001b[1;32m<ipython-input-128-3a071b4965d8>\u001b[0m in \u001b[0;36m<module>\u001b[1;34m()\u001b[0m\n\u001b[0;32m      3\u001b[0m \u001b[0mfind_nearest\u001b[0m \u001b[1;33m=\u001b[0m \u001b[1;32mlambda\u001b[0m \u001b[0marray\u001b[0m\u001b[1;33m,\u001b[0m\u001b[0mvalue\u001b[0m\u001b[1;33m:\u001b[0m \u001b[0marray\u001b[0m\u001b[1;33m[\u001b[0m\u001b[1;33m(\u001b[0m\u001b[0mnp\u001b[0m\u001b[1;33m.\u001b[0m\u001b[0mabs\u001b[0m\u001b[1;33m(\u001b[0m\u001b[0marray\u001b[0m\u001b[1;33m-\u001b[0m\u001b[0mvalue\u001b[0m\u001b[1;33m)\u001b[0m\u001b[1;33m)\u001b[0m\u001b[1;33m.\u001b[0m\u001b[0margmin\u001b[0m\u001b[1;33m(\u001b[0m\u001b[1;33m)\u001b[0m\u001b[1;33m]\u001b[0m\u001b[1;33m\u001b[0m\u001b[0m\n\u001b[0;32m      4\u001b[0m \u001b[1;31m#logft = material_analytics.log_approx(data)\u001b[0m\u001b[1;33m\u001b[0m\u001b[1;33m\u001b[0m\u001b[0m\n\u001b[1;32m----> 5\u001b[1;33m \u001b[0myld\u001b[0m \u001b[1;33m=\u001b[0m \u001b[0myield_classic\u001b[0m\u001b[1;33m(\u001b[0m\u001b[0mdata\u001b[0m\u001b[1;33m)\u001b[0m\u001b[1;33m\u001b[0m\u001b[0m\n\u001b[0m",
      "\u001b[1;32m<ipython-input-127-66816f14d2ac>\u001b[0m in \u001b[0;36myield_classic\u001b[1;34m(data, cutoff)\u001b[0m\n\u001b[0;32m      3\u001b[0m     \u001b[0mstartpt\u001b[0m \u001b[1;33m=\u001b[0m \u001b[0mcutoff\u001b[0m \u001b[1;31m# can't be zero or log will freak out\u001b[0m\u001b[1;33m\u001b[0m\u001b[0m\n\u001b[0;32m      4\u001b[0m \u001b[1;33m\u001b[0m\u001b[0m\n\u001b[1;32m----> 5\u001b[1;33m     \u001b[0mdata\u001b[0m \u001b[1;33m=\u001b[0m \u001b[0mmaterial_analytics\u001b[0m\u001b[1;33m.\u001b[0m\u001b[0mlog_prep\u001b[0m\u001b[1;33m(\u001b[0m\u001b[0mdata\u001b[0m\u001b[1;33m,\u001b[0m\u001b[0mcutoff\u001b[0m \u001b[1;33m=\u001b[0m \u001b[0mcutoff\u001b[0m\u001b[1;33m)\u001b[0m\u001b[1;33m\u001b[0m\u001b[0m\n\u001b[0m\u001b[0;32m      6\u001b[0m     \u001b[0mbestfit\u001b[0m \u001b[1;33m=\u001b[0m \u001b[0mmaterial_analytics\u001b[0m\u001b[1;33m.\u001b[0m\u001b[0mlog_approx\u001b[0m\u001b[1;33m(\u001b[0m\u001b[0mdata\u001b[0m\u001b[1;33m)\u001b[0m\u001b[1;33m\u001b[0m\u001b[0m\n\u001b[0;32m      7\u001b[0m     \u001b[0mdomain\u001b[0m \u001b[1;33m=\u001b[0m \u001b[0mnp\u001b[0m\u001b[1;33m.\u001b[0m\u001b[0mlinspace\u001b[0m\u001b[1;33m(\u001b[0m\u001b[0mstartpt\u001b[0m\u001b[1;33m,\u001b[0m\u001b[0mmax\u001b[0m\u001b[1;33m(\u001b[0m\u001b[0mdata\u001b[0m\u001b[1;33m[\u001b[0m\u001b[1;33m:\u001b[0m\u001b[1;33m,\u001b[0m\u001b[1;36m0\u001b[0m\u001b[1;33m]\u001b[0m\u001b[1;33m)\u001b[0m\u001b[1;33m,\u001b[0m\u001b[1;36m1001\u001b[0m\u001b[1;33m)\u001b[0m\u001b[1;33m\u001b[0m\u001b[0m\n",
      "\u001b[1;32m/users/ean1/Documents/MatPy/devel/material_analytics.pyc\u001b[0m in \u001b[0;36mlog_prep\u001b[1;34m(model, cutoff)\u001b[0m\n\u001b[0;32m    284\u001b[0m \u001b[1;33m\u001b[0m\u001b[0m\n\u001b[0;32m    285\u001b[0m     \u001b[0mmodel\u001b[0m \u001b[1;33m=\u001b[0m \u001b[0mdelete_noise\u001b[0m\u001b[1;33m(\u001b[0m\u001b[0mmodel\u001b[0m\u001b[1;33m,\u001b[0m\u001b[0mcutoff\u001b[0m\u001b[1;33m=\u001b[0m\u001b[0mcutoff\u001b[0m\u001b[1;33m)\u001b[0m\u001b[1;33m\u001b[0m\u001b[0m\n\u001b[1;32m--> 286\u001b[1;33m     \u001b[0mmodel\u001b[0m \u001b[1;33m=\u001b[0m \u001b[0madjust\u001b[0m\u001b[1;33m(\u001b[0m\u001b[0mmodel\u001b[0m\u001b[1;33m)\u001b[0m\u001b[1;33m\u001b[0m\u001b[0m\n\u001b[0m\u001b[0;32m    287\u001b[0m     \u001b[1;32mreturn\u001b[0m \u001b[0mmodel\u001b[0m\u001b[1;33m\u001b[0m\u001b[0m\n\u001b[0;32m    288\u001b[0m \u001b[1;33m\u001b[0m\u001b[0m\n",
      "\u001b[1;32m/users/ean1/Documents/MatPy/devel/material_analytics.pyc\u001b[0m in \u001b[0;36madjust\u001b[1;34m(model)\u001b[0m\n\u001b[0;32m    310\u001b[0m     \"\"\"\n\u001b[0;32m    311\u001b[0m \u001b[1;33m\u001b[0m\u001b[0m\n\u001b[1;32m--> 312\u001b[1;33m     \u001b[1;32mfor\u001b[0m \u001b[0mindex\u001b[0m\u001b[1;33m,\u001b[0m \u001b[0mnum\u001b[0m \u001b[1;32min\u001b[0m \u001b[0menumerate\u001b[0m\u001b[1;33m(\u001b[0m\u001b[0mmodel\u001b[0m\u001b[1;33m[\u001b[0m\u001b[1;33m:\u001b[0m\u001b[1;33m,\u001b[0m\u001b[1;36m1\u001b[0m\u001b[1;33m]\u001b[0m\u001b[1;33m)\u001b[0m\u001b[1;33m:\u001b[0m\u001b[1;33m\u001b[0m\u001b[0m\n\u001b[0m\u001b[0;32m    313\u001b[0m \u001b[1;33m\u001b[0m\u001b[0m\n\u001b[0;32m    314\u001b[0m         \u001b[1;32mif\u001b[0m \u001b[0mnum\u001b[0m\u001b[1;33m<=\u001b[0m\u001b[1;36m0\u001b[0m\u001b[1;33m:\u001b[0m\u001b[1;33m\u001b[0m\u001b[0m\n",
      "\u001b[1;31mTypeError\u001b[0m: 'NoneType' object has no attribute '__getitem__'"
     ]
    }
   ],
   "source": [
    "data = parser.stress_strain('ref/1150.dat').get_experimental_data()\n",
    "\n",
    "find_nearest = lambda array,value: array[(np.abs(array-value)).argmin()]\n",
    "#logft = material_analytics.log_approx(data)\n",
    "yld = yield_classic(data)"
   ]
  },
  {
   "cell_type": "code",
   "execution_count": null,
   "metadata": {
    "collapsed": true
   },
   "outputs": [],
   "source": [
    "def sort_by_x(array):\n",
    "    \n",
    "    x_values = np.copy(array[:,0])\n",
    "    minimum_indices = []\n",
    "    \n",
    "    while(x_values.size != 0):\n",
    "    \n",
    "        minimum = np.inf\n",
    "        minimum_index = np.nan\n",
    "    \n",
    "        \"\"\"We find a minimum value in the array, and each time we do, we take it to the front\"\"\"\n",
    "        for index, num in enumerate(x_values):\n",
    "\n",
    "            if num < minimum:\n",
    "                minimum = num\n",
    "                minimum_index = index\n",
    "                \n",
    "        \"\"\"For each iteration, we remove the index that was the minimum and add it to the list of minimum indices\"\"\"\n",
    "        minimum_indices = np.append(minimum_indices, minimum_index)\n",
    "        x_values = np.delete(x_values, minimum_index)\n",
    "        \n",
    "    to_return = np.zeros(0)\n",
    "    \n",
    "    for counter, index in enumerate(minimum_indices):\n",
    "        print array[index][None,]\n",
    "        to_return = np.vstack((to_return,array[index][:,None]))\n",
    "            \n",
    "    return to_return\n",
    "\n",
    "example_data = material_analytics.combine_data([1,3,2,1],[1,4,5,6])\n",
    "sort_by_x(example_data)"
   ]
  },
  {
   "cell_type": "code",
   "execution_count": null,
   "metadata": {
    "collapsed": true
   },
   "outputs": [],
   "source": []
  },
  {
   "cell_type": "code",
   "execution_count": null,
   "metadata": {
    "collapsed": true
   },
   "outputs": [],
   "source": []
  },
  {
   "cell_type": "code",
   "execution_count": null,
   "metadata": {
    "collapsed": true
   },
   "outputs": [],
   "source": []
  },
  {
   "cell_type": "code",
   "execution_count": null,
   "metadata": {
    "collapsed": true
   },
   "outputs": [],
   "source": []
  },
  {
   "cell_type": "code",
   "execution_count": null,
   "metadata": {
    "collapsed": true
   },
   "outputs": [],
   "source": []
  },
  {
   "cell_type": "code",
   "execution_count": null,
   "metadata": {
    "collapsed": true
   },
   "outputs": [],
   "source": []
  },
  {
   "cell_type": "code",
   "execution_count": null,
   "metadata": {
    "collapsed": true
   },
   "outputs": [],
   "source": []
  },
  {
   "cell_type": "code",
   "execution_count": null,
   "metadata": {
    "collapsed": true
   },
   "outputs": [],
   "source": []
  },
  {
   "cell_type": "code",
   "execution_count": null,
   "metadata": {
    "collapsed": true
   },
   "outputs": [],
   "source": []
  },
  {
   "cell_type": "code",
   "execution_count": null,
   "metadata": {
    "collapsed": true
   },
   "outputs": [],
   "source": []
  },
  {
   "cell_type": "code",
   "execution_count": null,
   "metadata": {
    "collapsed": true
   },
   "outputs": [],
   "source": []
  },
  {
   "cell_type": "code",
   "execution_count": null,
   "metadata": {
    "collapsed": true
   },
   "outputs": [],
   "source": []
  },
  {
   "cell_type": "code",
   "execution_count": null,
   "metadata": {
    "collapsed": true
   },
   "outputs": [],
   "source": []
  },
  {
   "cell_type": "code",
   "execution_count": null,
   "metadata": {
    "collapsed": true
   },
   "outputs": [],
   "source": []
  },
  {
   "cell_type": "code",
   "execution_count": null,
   "metadata": {
    "collapsed": true
   },
   "outputs": [],
   "source": []
  },
  {
   "cell_type": "code",
   "execution_count": null,
   "metadata": {
    "collapsed": true
   },
   "outputs": [],
   "source": []
  },
  {
   "cell_type": "code",
   "execution_count": null,
   "metadata": {
    "collapsed": true
   },
   "outputs": [],
   "source": []
  },
  {
   "cell_type": "code",
   "execution_count": null,
   "metadata": {
    "collapsed": true
   },
   "outputs": [],
   "source": []
  },
  {
   "cell_type": "code",
   "execution_count": null,
   "metadata": {
    "collapsed": true
   },
   "outputs": [],
   "source": []
  },
  {
   "cell_type": "code",
   "execution_count": null,
   "metadata": {
    "collapsed": true
   },
   "outputs": [],
   "source": []
  },
  {
   "cell_type": "code",
   "execution_count": null,
   "metadata": {
    "collapsed": true
   },
   "outputs": [],
   "source": []
  },
  {
   "cell_type": "code",
   "execution_count": 1,
   "metadata": {
    "collapsed": true
   },
   "outputs": [],
   "source": [
    "import parser\n",
    "reload(parser)\n",
    "\n",
    "import material_analytics\n",
    "reload(material_analytics)\n",
    "\n",
    "import graph_suite as plot\n",
    "import numpy as np"
   ]
  },
  {
   "cell_type": "code",
   "execution_count": 135,
   "metadata": {
    "collapsed": false
   },
   "outputs": [
    {
     "name": "stdout",
     "output_type": "stream",
     "text": [
      "The average slope is 611.625721574\n",
      "The index where the curve bends is 15\n"
     ]
    }
   ],
   "source": [
    "data = parser.stress_strain('ref/1150.dat').get_experimental_data()\n",
    "\n",
    "av_slope = (data[-1,1]-data[0,1])/(data[-1,0]-data[0,0]) #rise over run\n",
    "closest_index = lambda data, value: (np.abs(data-value)).argmin()\n",
    "\n",
    "# no estimation needed for accurate data\n",
    "deriv1st = material_analytics.combine_data(data[:,0],material_analytics.get_slopes(data))\n",
    "\n",
    "bend = closest_index(deriv1st[:,1],av_slope)\n",
    "    \n",
    "print \"The average slope is\", av_slope\n",
    "print \"The index where the curve bends is\", bend\n",
    "\n",
    "plot.plotmult2D(data,data[bend][None,:])"
   ]
  },
  {
   "cell_type": "markdown",
   "metadata": {
    "collapsed": true
   },
   "source": [
    "## We can try the same thing but with a log fit"
   ]
  },
  {
   "cell_type": "code",
   "execution_count": 83,
   "metadata": {
    "collapsed": false
   },
   "outputs": [
    {
     "name": "stdout",
     "output_type": "stream",
     "text": [
      "The average slope is 445.936733989\n",
      "The index where the curve bends is 227\n"
     ]
    }
   ],
   "source": [
    "logapprox = material_analytics.log_approx(data)\n",
    "\n",
    "data_x = np.linspace(min(data[:,0]),max(data[:,0]),1001)\n",
    "data_y = logapprox(data_x)\n",
    "data = material_analytics.combine_data(data_x,data_y)\n",
    "\n",
    "av_slope = (data[-1,1]-data[0,1])/(data[-1,0]-data[0,0]) #rise over run\n",
    "closest_index = lambda data, value: (np.abs(data-value)).argmin()\n",
    "\n",
    "# no estimation needed for accurate data\n",
    "deriv1st = material_analytics.combine_data(data[:,0],material_analytics.get_slopes(data))\n",
    "\n",
    "bend = closest_index(deriv1st[:,1],av_slope)\n",
    "    \n",
    "print \"The average slope is\", av_slope\n",
    "print \"The index where the curve bends is\", bend\n",
    "\n",
    "plot.plotmult2D(data,data[bend][None,:])"
   ]
  },
  {
   "cell_type": "markdown",
   "metadata": {},
   "source": [
    "## I can now try to find where the 0.2% offset for the linear parts of each would be"
   ]
  },
  {
   "cell_type": "code",
   "execution_count": 88,
   "metadata": {
    "collapsed": false
   },
   "outputs": [],
   "source": [
    "young_modulus = (data[bend,1]-data[0,1])/(data[bend,0]-data[0,0])\n",
    "\n",
    "# this is the offset line\n",
    "def linear_estimation(x):\n",
    "    return data[0,1] + young_modulus*(x-0.002)\n",
    "\n",
    "linear_y = linear_estimation(data_x)\n",
    "difference_bw_est = np.abs(data_y-linear_y)\n",
    "intersection = data[np.where(difference_bw_est[:]==min(difference_bw_est))[0]]\n",
    "\n",
    "# want to find the intersection between the estimated line and data so find the closest pair of points\n",
    "plot.plotmult2D(data,intersection)"
   ]
  },
  {
   "cell_type": "code",
   "execution_count": null,
   "metadata": {
    "collapsed": true
   },
   "outputs": [],
   "source": []
  },
  {
   "cell_type": "code",
   "execution_count": null,
   "metadata": {
    "collapsed": true
   },
   "outputs": [],
   "source": []
  },
  {
   "cell_type": "code",
   "execution_count": null,
   "metadata": {
    "collapsed": true
   },
   "outputs": [],
   "source": []
  },
  {
   "cell_type": "code",
   "execution_count": null,
   "metadata": {
    "collapsed": true
   },
   "outputs": [],
   "source": []
  },
  {
   "cell_type": "code",
   "execution_count": null,
   "metadata": {
    "collapsed": true
   },
   "outputs": [],
   "source": []
  },
  {
   "cell_type": "code",
   "execution_count": null,
   "metadata": {
    "collapsed": true
   },
   "outputs": [],
   "source": []
  },
  {
   "cell_type": "code",
   "execution_count": null,
   "metadata": {
    "collapsed": true
   },
   "outputs": [],
   "source": []
  },
  {
   "cell_type": "markdown",
   "metadata": {},
   "source": [
    "## This is done with logarithmic methods"
   ]
  },
  {
   "cell_type": "code",
   "execution_count": 138,
   "metadata": {
    "collapsed": false
   },
   "outputs": [],
   "source": [
    "offset = 0.002\n",
    "cutoff = 0.00001\n",
    "\n",
    "\"\"\"Get data\"\"\"\n",
    "data_original = parser.stress_strain('ref/850.dat').get_experimental_data()\n",
    "\n",
    "\"\"\"Fit a log curve\"\"\"\n",
    "data = material_analytics.log_prep(data_original, cutoff = cutoff)\n",
    "logapprox = material_analytics.log_approx(data)\n",
    "\n",
    "\"\"\"Take sample data points\"\"\"\n",
    "data_x = np.linspace(min(data[:,0]),max(data[:,0]),1001)\n",
    "data_y = logapprox(data_x)\n",
    "data = material_analytics.combine_data(data_x,data_y)\n",
    "\n",
    "\"\"\"Determine average slope\"\"\"\n",
    "av_slope = (data[-1,1]-data[0,1])/(data[-1,0]-data[0,0]) #rise over run\n",
    "closest_index = lambda data, value: (np.abs(data-value)).argmin()\n",
    "deriv1st = material_analytics.combine_data(data[:,0],material_analytics.get_slopes(data))\n",
    "\n",
    "\"\"\"Determine where slope is closest to average\"\"\"\n",
    "bend = closest_index(deriv1st[:,1],av_slope)\n",
    "\n",
    "\"\"\"Fitted this offset line to the left side\"\"\"\n",
    "young_modulus = (data[bend,1]-data[0,1])/(data[bend,0]-data[0,0])\n",
    "def linear_estimation(x):\n",
    "    return data[0,1] + young_modulus*(x-offset)\n",
    "\n",
    "\"\"\"Sample linear points\"\"\"\n",
    "linear_y = linear_estimation(data_x)\n",
    "\n",
    "\"\"\"Find closest point in fitted curve\"\"\"\n",
    "difference_bw_est = np.abs(data_y-linear_y)\n",
    "intersection = data[np.where(difference_bw_est==min(difference_bw_est))[0]]\n",
    "\n",
    "\"\"\"Find closest point in original dataset\"\"\"\n",
    "data = data_original\n",
    "intersect_x = intersection[0,0]\n",
    "intersect_index = closest_index(data[:,0],intersect_x)\n",
    "\n",
    "\"\"\"Plot\"\"\"\n",
    "plot.plotmult2D(data,data[intersect_index][None,])"
   ]
  },
  {
   "cell_type": "code",
   "execution_count": null,
   "metadata": {
    "collapsed": true
   },
   "outputs": [],
   "source": []
  },
  {
   "cell_type": "code",
   "execution_count": null,
   "metadata": {
    "collapsed": true
   },
   "outputs": [],
   "source": []
  },
  {
   "cell_type": "code",
   "execution_count": null,
   "metadata": {
    "collapsed": true
   },
   "outputs": [],
   "source": []
  },
  {
   "cell_type": "code",
   "execution_count": 136,
   "metadata": {
    "collapsed": false
   },
   "outputs": [],
   "source": [
    "data = parser.stress_strain('ref/HSRS/326').get_experimental_data()\n",
    "data = material_analytics.adjust(data) # turns all nonreal values into 0\n",
    "\n",
    "\"\"\"1st derivative of actual data\"\"\"\n",
    "slopes = material_analytics.regularize(material_analytics.get_slopes(data))\n",
    "deriv1st = material_analytics.combine_data(data[:,0],slopes)\n",
    "\n",
    "\"\"\"Fit a log curve\"\"\"\n",
    "logdata = material_analytics.log_prep(data, cutoff = 0)\n",
    "logapprox = material_analytics.log_approx(logdata)\n",
    "\n",
    "\"\"\"Take sample data points\"\"\"\n",
    "data_x = np.linspace(min(logdata[:,0]),max(logdata[:,0]),1001)\n",
    "data_y = logapprox(data_x)\n",
    "logdata = material_analytics.combine_data(data_x,data_y)\n",
    "\n",
    "\"\"\"1st derivative of the fitted log function\"\"\"\n",
    "deriv1stlog = material_analytics.combine_data(data[:,0],material_analytics.get_slopes(logdata))\n",
    "\n",
    "\"\"\"First derivative vs first derivative of the logarithm\"\"\"\n",
    "plot.plotmult2D(deriv1st, deriv1stlog, title = 'Slope of Stress vs Strain', xtitle = \"Strain ($\\epsilon$)\", ytitle= \"Stress Slope ($\\partial \\sigma / \\partial \\epsilon$)\" )"
   ]
  },
  {
   "cell_type": "code",
   "execution_count": null,
   "metadata": {
    "collapsed": true
   },
   "outputs": [],
   "source": []
  },
  {
   "cell_type": "code",
   "execution_count": null,
   "metadata": {
    "collapsed": true
   },
   "outputs": [],
   "source": []
  },
  {
   "cell_type": "code",
   "execution_count": null,
   "metadata": {
    "collapsed": true
   },
   "outputs": [],
   "source": []
  },
  {
   "cell_type": "code",
   "execution_count": null,
   "metadata": {
    "collapsed": true
   },
   "outputs": [],
   "source": []
  },
  {
   "cell_type": "code",
   "execution_count": 140,
   "metadata": {
    "collapsed": true
   },
   "outputs": [],
   "source": [
    "cutoff = 0.00\n",
    "offset = 0.002\n",
    "\n",
    "\"\"\"Get data\"\"\"\n",
    "data_original = parser.stress_strain('ref/850.dat').get_experimental_data()\n",
    "\n",
    "\"\"\"Fit a log curve\"\"\"\n",
    "data = material_analytics.log_prep(data_original, cutoff = cutoff)\n",
    "logapprox = material_analytics.log_approx(data)\n",
    "\n",
    "\"\"\"Take sample data points\"\"\"\n",
    "data_x = np.linspace(min(data[:,0]),max(data[:,0]),1001)\n",
    "data_y = logapprox(data_x)\n",
    "data = material_analytics.combine_data(data_x,data_y)\n",
    "\n",
    "\"\"\"Determine average slope\"\"\"\n",
    "av_slope = (data[-1,1]-data[0,1])/(data[-1,0]-data[0,0]) #rise over run\n",
    "closest_index = lambda data, value: (np.abs(data-value)).argmin()\n",
    "deriv1st = material_analytics.combine_data(data[:,0],material_analytics.get_slopes(data))\n",
    "\n",
    "\"\"\"Determine where slope is closest to average\"\"\"\n",
    "bend = closest_index(deriv1st[:,1],av_slope)\n",
    "\n",
    "\"\"\"Fitted this offset line to the left side\"\"\"\n",
    "young_modulus = (data[bend,1]-data[0,1])/(data[bend,0]-data[0,0])\n",
    "def linear_estimation(x):\n",
    "    return data[0,1] + young_modulus*(x-offset)\n",
    "\n",
    "\"\"\"Sample linear points\"\"\"\n",
    "linear_y = linear_estimation(data_x)\n",
    "\n",
    "\"\"\"Find closest point in fitted curve\"\"\"\n",
    "difference_bw_est = np.abs(data_y-linear_y)\n",
    "intersection = data[np.where(difference_bw_est==min(difference_bw_est))[0]]\n",
    "\n",
    "\"\"\"Find closest point in original dataset\"\"\"\n",
    "data = data_original\n",
    "intersect_x = intersection[0,0]\n",
    "intersect_index = closest_index(data[:,0],intersect_x)\n",
    "\n",
    "\"\"\"Plot\"\"\"\n",
    "plot.plotmult2D(data,data[intersect_index][None,])"
   ]
  },
  {
   "cell_type": "code",
   "execution_count": 15,
   "metadata": {
    "collapsed": false
   },
   "outputs": [
    {
     "data": {
      "text/plain": [
       "<module 'material_analytics' from 'material_analytics.py'>"
      ]
     },
     "execution_count": 15,
     "metadata": {},
     "output_type": "execute_result"
    }
   ],
   "source": [
    "reload(material_analytics)"
   ]
  },
  {
   "cell_type": "code",
   "execution_count": 2,
   "metadata": {
    "collapsed": false
   },
   "outputs": [],
   "source": [
    "dat1 = parser.stress_strain('ref/850.dat').get_experimental_data()\n",
    "plot.plotmult2D(dat1,material_analytics.yield_stress_classic(dat1))"
   ]
  },
  {
   "cell_type": "code",
   "execution_count": null,
   "metadata": {
    "collapsed": true
   },
   "outputs": [],
   "source": []
  },
  {
   "cell_type": "code",
   "execution_count": null,
   "metadata": {
    "collapsed": true
   },
   "outputs": [],
   "source": []
  },
  {
   "cell_type": "code",
   "execution_count": null,
   "metadata": {
    "collapsed": true
   },
   "outputs": [],
   "source": []
  },
  {
   "cell_type": "code",
   "execution_count": null,
   "metadata": {
    "collapsed": true
   },
   "outputs": [],
   "source": []
  },
  {
   "cell_type": "code",
   "execution_count": 7,
   "metadata": {
    "collapsed": true
   },
   "outputs": [],
   "source": []
  },
  {
   "cell_type": "code",
   "execution_count": null,
   "metadata": {
    "collapsed": true
   },
   "outputs": [],
   "source": []
  },
  {
   "cell_type": "markdown",
   "metadata": {},
   "source": [
    "## Creating the unfitted version"
   ]
  },
  {
   "cell_type": "code",
   "execution_count": 10,
   "metadata": {
    "collapsed": false
   },
   "outputs": [],
   "source": [
    "cutoff = 0.00\n",
    "offset = 0.002\n",
    "\n",
    "\"\"\"Get data\"\"\"\n",
    "data = parser.stress_strain('ref/850.dat').get_experimental_data()\n",
    "\n",
    "\"\"\"Determine average slope\"\"\"\n",
    "av_slope = (data[-1,1]-data[0,1])/(data[-1,0]-data[0,0]) #rise over run\n",
    "closest_index = lambda data, value: (np.abs(data-value)).argmin()\n",
    "deriv1st = material_analytics.combine_data(data[:,0],material_analytics.get_slopes(data))\n",
    "\n",
    "\"\"\"Determine where slope is closest to average\"\"\"\n",
    "bend = closest_index(deriv1st[:,1],av_slope)\n",
    "\n",
    "\"\"\"Fitted this offset line to the left side\"\"\"\n",
    "young_modulus = (data[bend,1]-data[0,1])/(data[bend,0]-data[0,0])\n",
    "def linear_estimation(x):\n",
    "    return data[0,1] + young_modulus*(x-offset)\n",
    "\n",
    "\"\"\"Sample linear points\"\"\"\n",
    "linear_y = linear_estimation(data[:,0])\n",
    "\n",
    "\"\"\"Find closest point in fitted curve\"\"\"\n",
    "difference_bw_est = np.abs(data[:,1]-linear_y)\n",
    "intersection = data[np.where(difference_bw_est==min(difference_bw_est))[0]]\n",
    "\n",
    "\"\"\"Find closest point in original dataset\"\"\"\n",
    "intersect_x = intersection[0,0]\n",
    "intersect_index = closest_index(data[:,0],intersect_x)\n",
    "\n",
    "\"\"\"Plot\"\"\"\n",
    "plot.plotmult2D(data,data[intersect_index][None,])"
   ]
  },
  {
   "cell_type": "code",
   "execution_count": null,
   "metadata": {
    "collapsed": true
   },
   "outputs": [],
   "source": [
    "def yield_classic_unfitted(data, cutoff = 0.0, offset = 0.002):\n",
    "\n",
    "    \"\"\"Determine average slope\"\"\"\n",
    "    av_slope = (data[-1,1]-data[0,1])/(data[-1,0]-data[0,0])\n",
    "    closest_index = lambda data, value: (np.abs(data-value)).argmin()\n",
    "    deriv1st = material_analytics.combine_data(data[:,0],material_analytics.get_slopes(data))\n",
    "\n",
    "    \"\"\"Determine where slope is closest to average\"\"\"\n",
    "    bend = closest_index(deriv1st[:,1],av_slope)\n",
    "\n",
    "    \"\"\"Fitted this offset line to the left side\"\"\"\n",
    "    young_modulus = (data[bend,1]-data[0,1])/(data[bend,0]-data[0,0])\n",
    "    def linear_estimation(x):\n",
    "        return data[0,1] + young_modulus*(x-offset)\n",
    "\n",
    "    \"\"\"Sample linear points\"\"\"\n",
    "    linear_y = linear_estimation(data[:,0])\n",
    "\n",
    "    \"\"\"Find closest point in fitted curve\"\"\"\n",
    "    difference_bw_est = np.abs(data[:,1]-linear_y)\n",
    "    intersection = data[np.where(difference_bw_est==min(difference_bw_est))[0]]\n",
    "\n",
    "    \"\"\"Find closest point in original dataset\"\"\"\n",
    "    intersect_x = intersection[0,0]\n",
    "    intersect_index = closest_index(data[:,0],intersect_x)\n",
    "\n",
    "    return data[intersect_index][None,]"
   ]
  },
  {
   "cell_type": "code",
   "execution_count": null,
   "metadata": {
    "collapsed": true
   },
   "outputs": [],
   "source": []
  },
  {
   "cell_type": "code",
   "execution_count": null,
   "metadata": {
    "collapsed": true
   },
   "outputs": [],
   "source": []
  },
  {
   "cell_type": "code",
   "execution_count": null,
   "metadata": {
    "collapsed": true
   },
   "outputs": [],
   "source": []
  },
  {
   "cell_type": "code",
   "execution_count": null,
   "metadata": {
    "collapsed": true
   },
   "outputs": [],
   "source": []
  },
  {
   "cell_type": "code",
   "execution_count": 20,
   "metadata": {
    "collapsed": true
   },
   "outputs": [],
   "source": [
    "data = parser.stress_strain('ref/HSRS/22').get_experimental_data()\n",
    "plot.plotmult2D(data,material_analytics.yield_stress(data))"
   ]
  },
  {
   "cell_type": "code",
   "execution_count": 19,
   "metadata": {
    "collapsed": false
   },
   "outputs": [],
   "source": [
    "dat1 = parser.stress_strain('ref/900.dat').get_experimental_data()\n",
    "plot.plotmult2D(dat1,material_analytics.yield_stress_classic_unfitted(dat1))"
   ]
  },
  {
   "cell_type": "code",
   "execution_count": null,
   "metadata": {
    "collapsed": true
   },
   "outputs": [],
   "source": []
  },
  {
   "cell_type": "code",
   "execution_count": null,
   "metadata": {
    "collapsed": true
   },
   "outputs": [],
   "source": []
  },
  {
   "cell_type": "code",
   "execution_count": null,
   "metadata": {
    "collapsed": true
   },
   "outputs": [],
   "source": []
  },
  {
   "cell_type": "code",
   "execution_count": null,
   "metadata": {
    "collapsed": true
   },
   "outputs": [],
   "source": []
  },
  {
   "cell_type": "code",
   "execution_count": null,
   "metadata": {
    "collapsed": true
   },
   "outputs": [],
   "source": []
  },
  {
   "cell_type": "code",
   "execution_count": null,
   "metadata": {
    "collapsed": true
   },
   "outputs": [],
   "source": []
  },
  {
   "cell_type": "code",
   "execution_count": 11,
   "metadata": {
    "collapsed": false
   },
   "outputs": [
    {
     "name": "stdout",
     "output_type": "stream",
     "text": [
      "143\n"
     ]
    }
   ],
   "source": [
    "data = parser.stress_strain('ref/HSRS/222').get_experimental_data()\n",
    "yld = material_analytics.yield_stress(data)\n",
    "\n",
    "yldindex = np.where(data==yld)[0][0]\n",
    "print yldindex\n",
    "plot.plotmult2D(data[:yldindex],data[yldindex:], title = 'Stress vs Strain', xtitle = \"Strain ($\\epsilon$)\", ytitle= \"Stress ($\\sigma$)\")"
   ]
  },
  {
   "cell_type": "code",
   "execution_count": null,
   "metadata": {
    "collapsed": true
   },
   "outputs": [],
   "source": []
  },
  {
   "cell_type": "code",
   "execution_count": null,
   "metadata": {
    "collapsed": true
   },
   "outputs": [],
   "source": []
  },
  {
   "cell_type": "code",
   "execution_count": null,
   "metadata": {
    "collapsed": true
   },
   "outputs": [],
   "source": []
  },
  {
   "cell_type": "code",
   "execution_count": 255,
   "metadata": {
    "collapsed": false
   },
   "outputs": [
    {
     "data": {
      "text/plain": [
       "array([[  1.04575163e-03,   3.85340314e+01]])"
      ]
     },
     "execution_count": 255,
     "metadata": {},
     "output_type": "execute_result"
    }
   ],
   "source": [
    "data = parser.stress_strain('ref/900.dat').get_experimental_data()\n",
    "material_analytics.yield_stress(data, cutoff = 0.0002, decreasingend=True)"
   ]
  },
  {
   "cell_type": "code",
   "execution_count": null,
   "metadata": {
    "collapsed": true
   },
   "outputs": [],
   "source": []
  },
  {
   "cell_type": "code",
   "execution_count": 214,
   "metadata": {
    "collapsed": false
   },
   "outputs": [],
   "source": [
    "reload(material_analytics)\n",
    "import graph_suite as plot\n",
    "import parser"
   ]
  },
  {
   "cell_type": "code",
   "execution_count": 172,
   "metadata": {
    "collapsed": true
   },
   "outputs": [],
   "source": [
    "data = parser.stress_strain('ref/900.dat').get_experimental_data()"
   ]
  },
  {
   "cell_type": "code",
   "execution_count": 6,
   "metadata": {
    "collapsed": true
   },
   "outputs": [],
   "source": [
    "plot.plot2D(data, marker = 'o',title = 'Stress v Strain',xtitle ='Strain ($\\epsilon$)',ytitle='Stress ($\\sigma$)')"
   ]
  },
  {
   "cell_type": "code",
   "execution_count": 135,
   "metadata": {
    "collapsed": false,
    "scrolled": true
   },
   "outputs": [],
   "source": [
    "model = material_analytics.stress_model(data, material_analytics.yield_stress_classic_fitted(data))\n",
    "\n",
    "nums = np.zeros(2)\n",
    "\n",
    "for val in domain:\n",
    "    nums = np.vstack((nums, np.asarray(model(val))[None,:]))\n",
    "    \n",
    "nums = nums[1:]\n",
    "\n",
    "plot.plotmult2D(nums,data, marker1 = '-', marker2 = 'o',title = 'Stress v Strain',xtitle ='Strain ($\\epsilon$)',ytitle='Stress ($\\sigma$)')"
   ]
  },
  {
   "cell_type": "code",
   "execution_count": null,
   "metadata": {
    "collapsed": true
   },
   "outputs": [],
   "source": []
  },
  {
   "cell_type": "code",
   "execution_count": 217,
   "metadata": {
    "collapsed": false
   },
   "outputs": [],
   "source": [
    "model = material_analytics.stress_model(data, material_analytics.yield_stress_classic_fitted(data))\n",
    "fittedpts = material_analytics.samplepoints(model,[0.,1.],10000)\n",
    "plot.plotmult2D(data,fittedpts,marker1 = 'o', marker2 = '-',title = 'Stress v Strain',xtitle ='Strain ($\\epsilon$)',ytitle='Stress ($\\sigma$)')"
   ]
  },
  {
   "cell_type": "code",
   "execution_count": null,
   "metadata": {
    "collapsed": true
   },
   "outputs": [],
   "source": []
  },
  {
   "cell_type": "code",
   "execution_count": null,
   "metadata": {
    "collapsed": true
   },
   "outputs": [],
   "source": []
  },
  {
   "cell_type": "code",
   "execution_count": 244,
   "metadata": {
    "collapsed": true
   },
   "outputs": [],
   "source": [
    "reload(material_analytics)\n",
    "import graph_suite as plot\n",
    "import parser"
   ]
  },
  {
   "cell_type": "code",
   "execution_count": 250,
   "metadata": {
    "collapsed": false
   },
   "outputs": [],
   "source": [
    "data = parser.stress_strain('ref/850.dat').get_experimental_data()\n",
    "model = material_analytics.log_approx(data)\n",
    "fittedpts = material_analytics.samplepoints(model,[0.,max(data[:,0])],10000)\n",
    "plot.plotmult2D(data,fittedpts,marker1 = 'o', marker2 = '-',title = 'Stress v Strain',xtitle ='Strain ($\\epsilon$)',ytitle='Stress ($\\sigma$)')"
   ]
  },
  {
   "cell_type": "code",
   "execution_count": null,
   "metadata": {
    "collapsed": true
   },
   "outputs": [],
   "source": []
  },
  {
   "cell_type": "code",
   "execution_count": null,
   "metadata": {
    "collapsed": true
   },
   "outputs": [],
   "source": []
  },
  {
   "cell_type": "code",
   "execution_count": 261,
   "metadata": {
    "collapsed": false
   },
   "outputs": [
    {
     "name": "stdout",
     "output_type": "stream",
     "text": [
      "L-BFGS-B took 1.38596796989 seconds. The result, 460.05373642 was found at (-150.0, 1.0)\n",
      "L-BFGS-B used 205.57421875 megabytes and took 0.0 iterations\n",
      "\n"
     ]
    }
   ],
   "source": [
    "import irreversible_stressstrain\n",
    "#reload(irreversible_stressstrain)\n",
    "\n",
    "from irreversible_stressstrain import StressStrain as strainmodel\n",
    "import optimization_suite\n",
    "#reload(optimization_suite)\n",
    "\n",
    "import material_analytics\n",
    "import graph_suite as plot\n",
    "\n",
    "model = strainmodel('ref/HSRS/22')\n",
    "data = model.get_experimental_data()\n",
    "\n",
    "\"\"\"[0,1] is the first row, second column, which is the stress values\"\"\"\n",
    "SS_stress = material_analytics.yield_stress(data)[0,1]\n",
    "\n",
    "\"\"\"It returned the best fit\"\"\"\n",
    "model_params = optimization_suite.minimize_suite(model.mcfunc, methods=['L-BFGS-B',], guess = [-150,1] ,SS_stress=SS_stress)\n",
    "\n",
    "\"\"\"Plots the data versus the fitted data\"\"\"\n",
    "plot.plotmult2D(data, model.irreversible_model(model_params,SS_stress), marker1 ='o',  marker2 = 'g-')"
   ]
  },
  {
   "cell_type": "code",
   "execution_count": null,
   "metadata": {
    "collapsed": true
   },
   "outputs": [],
   "source": []
  },
  {
   "cell_type": "code",
   "execution_count": null,
   "metadata": {
    "collapsed": true
   },
   "outputs": [],
   "source": []
  },
  {
   "cell_type": "code",
   "execution_count": null,
   "metadata": {
    "collapsed": true
   },
   "outputs": [],
   "source": []
  },
  {
   "cell_type": "code",
   "execution_count": null,
   "metadata": {
    "collapsed": true
   },
   "outputs": [],
   "source": []
  },
  {
   "cell_type": "code",
   "execution_count": null,
   "metadata": {
    "collapsed": true
   },
   "outputs": [],
   "source": [
    "from matplotlib import pyplot as plt\n",
    "import matplotlib\n",
    "\n",
    "defaultfontsize = 30\n",
    "matplotlib.rcParams.update({'font.size': defaultfontsize}) # default font size\n",
    "\n",
    "def texOn():\n",
    "    plt.rc('text', usetex=True)\n",
    "\n",
    "texOn()\n",
    "model = strainmodel('ref/HSRS/22')\n",
    "data = model.get_experimental_data()\n",
    "SS_stress = material_analytics.yield_stress(data)[0,1]\n",
    "\n",
    "strain = data[:,0]\n",
    "stress = data[:,1]\n",
    "\n",
    "plt.ylabel(\"Stress ($\\sigma$)\")\n",
    "plt.xlabel(\"Strain ($\\epsilon$)\")\n",
    "plt.xlim([0,max(strain)])\n",
    "plt.title('Stress vs Strain')\n",
    "\n",
    "plt.plot(strain,stress, 'bo', label = 'Experimental Data')\n",
    "\n",
    "model_params = [(-97.2243219614, 1.62465067804), (-97.226373943, 1.35675756514), (-97.2352796645, 57.1105312168) \n",
    ",(-272.261846785, 2.36548167553) \n",
    ",(-97.2095787659, 58.2472771029) ]\n",
    "\n",
    "methods = ['Nelder-Mead', 'CG', 'L-BFGS-B', 'COBYLA', 'SLSQP']\n",
    "\n",
    "\"\"\"\n",
    "Nelder-Mead (-97.2243219614, 1.62465067804) \n",
    "CG  (-97.226373943, 1.35675756514) \n",
    "L-BFGS-B  (-97.2352796645, 57.1105312168) \n",
    "COBYLA  (-272.261846785, 2.36548167553) \n",
    "SLSQP  (-97.2095787659, 58.2472771029) \n",
    "\"\"\"\n",
    "\n",
    "for index, model_param in enumerate(model_params):\n",
    "    datacurrent = model.irreversible_model(model_param,SS_stress)\n",
    "    \n",
    "    plt.plot(datacurrent[:,0],datacurrent[:,1],'-', label = methods[index] )\n",
    "\n",
    "plt.legend(prop={'size':10})\n",
    "plot.plot2D(data)"
   ]
  }
 ],
 "metadata": {
  "kernelspec": {
   "display_name": "Python 2",
   "language": "python",
   "name": "python2"
  },
  "language_info": {
   "codemirror_mode": {
    "name": "ipython",
    "version": 2
   },
   "file_extension": ".py",
   "mimetype": "text/x-python",
   "name": "python",
   "nbconvert_exporter": "python",
   "pygments_lexer": "ipython2",
   "version": "2.7.12"
  }
 },
 "nbformat": 4,
 "nbformat_minor": 0
}
