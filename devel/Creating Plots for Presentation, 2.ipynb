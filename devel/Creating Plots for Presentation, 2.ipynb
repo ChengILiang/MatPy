{
 "cells": [
  {
   "cell_type": "code",
   "execution_count": 4,
   "metadata": {
    "collapsed": true
   },
   "outputs": [],
   "source": [
    "import graph_suite as plot\n",
    "import parser\n",
    "reload(parser)\n",
    "import material_analytics\n",
    "reload(material_analytics)\n",
    "import numpy as np"
   ]
  },
  {
   "cell_type": "markdown",
   "metadata": {},
   "source": [
    "### Doing this with KMeans Clustering"
   ]
  },
  {
   "cell_type": "code",
   "execution_count": 98,
   "metadata": {
    "collapsed": true
   },
   "outputs": [],
   "source": [
    "#add to GUI\n",
    "elastic, plastic = material_analytics.kmeanssplit(parser.stress_strain('ref/1150.dat').get_experimental_data()[:,:2])\n",
    "plot.plotmult2D(elastic,plastic, title = 'Stress vs Strain', xtitle = \"Strain ($\\epsilon$)\", ytitle= \"Stress ($\\sigma$)\")"
   ]
  },
  {
   "cell_type": "markdown",
   "metadata": {},
   "source": [
    "### Doing this with Classic method"
   ]
  },
  {
   "cell_type": "code",
   "execution_count": 127,
   "metadata": {
    "collapsed": false
   },
   "outputs": [],
   "source": [
    "def yield_classic(data, cutoff = 0.1):\n",
    "    \n",
    "    startpt = cutoff # can't be zero or log will freak out\n",
    "    \n",
    "    data = material_analytics.log_prep(data,cutoff = cutoff)\n",
    "    bestfit = material_analytics.log_approx(data)\n",
    "    domain = np.linspace(startpt,max(data[:,0]),100001)\n",
    "\n",
    "    vals = material_analytics.combine_data(domain,bestfit(domain))\n",
    "\n",
    "    deriv1st = material_analytics.get_slopes(material_analytics.combine_data(domain,bestfit(domain)))\n",
    "\n",
    "    find_nearest = lambda array,value: array[(np.abs(array-value)).argmin()]\n",
    "\n",
    "    ave_slope = (vals[-1,1]-vals[0,1])/(vals[-1,0]-vals[0,0])\n",
    "    index_ave = np.where(deriv1st == find_nearest(deriv1st, ave_slope))\n",
    "    log_bend = vals[index_ave][0]\n",
    "    young_mod = (log_bend[1]-vals[0,1])/(log_bend[0]-vals[0,0])\n",
    "\n",
    "    linear_mod_2 = lambda x: young_mod*(x-0.2) + vals[0,1] # we will find where this intersects our exp data\n",
    "    samples2 = material_analytics.samplepoints(linear_mod_2,[startpt,max(vals[:,0])],1001)\n",
    "\n",
    "    diff = np.abs(samples2[:,1] - vals[:,1])\n",
    "\n",
    "    \"\"\"We can call this the intersection, its the closest point\"\"\"\n",
    "    leastindex = diff.argmin()\n",
    "    cross_est = vals[leastindex].reshape(1,-1)[0,1]\n",
    "    yieldstress = find_nearest(data[:,1].reshape(-1,1),cross_est)[0]\n",
    "\n",
    "    yieldpt = data[np.where(data[:,1] == yieldstress)]\n",
    "    return yieldpt[0]\n",
    "\n",
    "data = parser.stress_strain('ref/HSRS/326').get_experimental_data()\n",
    "yieldpt = yield_classic(data)\n",
    "index = np.where(data == yieldpt)[0][0]\n",
    "\n",
    "elastic, plastic = data[:index], data[index:]\n",
    "plot.plotmult2D(elastic,plastic, title = 'Stress vs Strain', xtitle = \"Strain ($\\epsilon$)\", ytitle= \"Stress ($\\sigma$)\")\n"
   ]
  },
  {
   "cell_type": "markdown",
   "metadata": {},
   "source": [
    "## With custom method"
   ]
  },
  {
   "cell_type": "code",
   "execution_count": 7,
   "metadata": {
    "collapsed": false
   },
   "outputs": [],
   "source": [
    "data = parser.stress_strain('ref/900.dat').get_experimental_data()\n",
    "yieldpt = material_analytics.yield_stress(data)[0]\n",
    "\n",
    "index = np.where(data == yieldpt)[0][0]\n",
    "elastic, plastic = data[:index+1], data[index:]\n",
    "\n",
    "model = material_analytics.stress_model(data)\n",
    "\n",
    "plot.plotmult2D(elastic,plastic, marker2 = 'r-', title = 'Stress vs Strain', xtitle = \"Strain ($\\epsilon$)\", ytitle= \"Stress ($\\sigma$)\")"
   ]
  },
  {
   "cell_type": "code",
   "execution_count": 10,
   "metadata": {
    "collapsed": false
   },
   "outputs": [],
   "source": [
    "data = parser.stress_strain('ref/1150.dat').get_experimental_data()\n",
    "\n",
    "yldpt = material_analytics.yield_stress(data, cutoff=0.0000)\n",
    "plot.plotmult2D(data, yldpt)"
   ]
  },
  {
   "cell_type": "code",
   "execution_count": 128,
   "metadata": {
    "collapsed": false
   },
   "outputs": [
    {
     "ename": "TypeError",
     "evalue": "'NoneType' object has no attribute '__getitem__'",
     "output_type": "error",
     "traceback": [
      "\u001b[1;31m---------------------------------------------------------------------------\u001b[0m",
      "\u001b[1;31mTypeError\u001b[0m                                 Traceback (most recent call last)",
      "\u001b[1;32m<ipython-input-128-3a071b4965d8>\u001b[0m in \u001b[0;36m<module>\u001b[1;34m()\u001b[0m\n\u001b[0;32m      3\u001b[0m \u001b[0mfind_nearest\u001b[0m \u001b[1;33m=\u001b[0m \u001b[1;32mlambda\u001b[0m \u001b[0marray\u001b[0m\u001b[1;33m,\u001b[0m\u001b[0mvalue\u001b[0m\u001b[1;33m:\u001b[0m \u001b[0marray\u001b[0m\u001b[1;33m[\u001b[0m\u001b[1;33m(\u001b[0m\u001b[0mnp\u001b[0m\u001b[1;33m.\u001b[0m\u001b[0mabs\u001b[0m\u001b[1;33m(\u001b[0m\u001b[0marray\u001b[0m\u001b[1;33m-\u001b[0m\u001b[0mvalue\u001b[0m\u001b[1;33m)\u001b[0m\u001b[1;33m)\u001b[0m\u001b[1;33m.\u001b[0m\u001b[0margmin\u001b[0m\u001b[1;33m(\u001b[0m\u001b[1;33m)\u001b[0m\u001b[1;33m]\u001b[0m\u001b[1;33m\u001b[0m\u001b[0m\n\u001b[0;32m      4\u001b[0m \u001b[1;31m#logft = material_analytics.log_approx(data)\u001b[0m\u001b[1;33m\u001b[0m\u001b[1;33m\u001b[0m\u001b[0m\n\u001b[1;32m----> 5\u001b[1;33m \u001b[0myld\u001b[0m \u001b[1;33m=\u001b[0m \u001b[0myield_classic\u001b[0m\u001b[1;33m(\u001b[0m\u001b[0mdata\u001b[0m\u001b[1;33m)\u001b[0m\u001b[1;33m\u001b[0m\u001b[0m\n\u001b[0m",
      "\u001b[1;32m<ipython-input-127-66816f14d2ac>\u001b[0m in \u001b[0;36myield_classic\u001b[1;34m(data, cutoff)\u001b[0m\n\u001b[0;32m      3\u001b[0m     \u001b[0mstartpt\u001b[0m \u001b[1;33m=\u001b[0m \u001b[0mcutoff\u001b[0m \u001b[1;31m# can't be zero or log will freak out\u001b[0m\u001b[1;33m\u001b[0m\u001b[0m\n\u001b[0;32m      4\u001b[0m \u001b[1;33m\u001b[0m\u001b[0m\n\u001b[1;32m----> 5\u001b[1;33m     \u001b[0mdata\u001b[0m \u001b[1;33m=\u001b[0m \u001b[0mmaterial_analytics\u001b[0m\u001b[1;33m.\u001b[0m\u001b[0mlog_prep\u001b[0m\u001b[1;33m(\u001b[0m\u001b[0mdata\u001b[0m\u001b[1;33m,\u001b[0m\u001b[0mcutoff\u001b[0m \u001b[1;33m=\u001b[0m \u001b[0mcutoff\u001b[0m\u001b[1;33m)\u001b[0m\u001b[1;33m\u001b[0m\u001b[0m\n\u001b[0m\u001b[0;32m      6\u001b[0m     \u001b[0mbestfit\u001b[0m \u001b[1;33m=\u001b[0m \u001b[0mmaterial_analytics\u001b[0m\u001b[1;33m.\u001b[0m\u001b[0mlog_approx\u001b[0m\u001b[1;33m(\u001b[0m\u001b[0mdata\u001b[0m\u001b[1;33m)\u001b[0m\u001b[1;33m\u001b[0m\u001b[0m\n\u001b[0;32m      7\u001b[0m     \u001b[0mdomain\u001b[0m \u001b[1;33m=\u001b[0m \u001b[0mnp\u001b[0m\u001b[1;33m.\u001b[0m\u001b[0mlinspace\u001b[0m\u001b[1;33m(\u001b[0m\u001b[0mstartpt\u001b[0m\u001b[1;33m,\u001b[0m\u001b[0mmax\u001b[0m\u001b[1;33m(\u001b[0m\u001b[0mdata\u001b[0m\u001b[1;33m[\u001b[0m\u001b[1;33m:\u001b[0m\u001b[1;33m,\u001b[0m\u001b[1;36m0\u001b[0m\u001b[1;33m]\u001b[0m\u001b[1;33m)\u001b[0m\u001b[1;33m,\u001b[0m\u001b[1;36m1001\u001b[0m\u001b[1;33m)\u001b[0m\u001b[1;33m\u001b[0m\u001b[0m\n",
      "\u001b[1;32m/users/ean1/Documents/MatPy/devel/material_analytics.pyc\u001b[0m in \u001b[0;36mlog_prep\u001b[1;34m(model, cutoff)\u001b[0m\n\u001b[0;32m    284\u001b[0m \u001b[1;33m\u001b[0m\u001b[0m\n\u001b[0;32m    285\u001b[0m     \u001b[0mmodel\u001b[0m \u001b[1;33m=\u001b[0m \u001b[0mdelete_noise\u001b[0m\u001b[1;33m(\u001b[0m\u001b[0mmodel\u001b[0m\u001b[1;33m,\u001b[0m\u001b[0mcutoff\u001b[0m\u001b[1;33m=\u001b[0m\u001b[0mcutoff\u001b[0m\u001b[1;33m)\u001b[0m\u001b[1;33m\u001b[0m\u001b[0m\n\u001b[1;32m--> 286\u001b[1;33m     \u001b[0mmodel\u001b[0m \u001b[1;33m=\u001b[0m \u001b[0madjust\u001b[0m\u001b[1;33m(\u001b[0m\u001b[0mmodel\u001b[0m\u001b[1;33m)\u001b[0m\u001b[1;33m\u001b[0m\u001b[0m\n\u001b[0m\u001b[0;32m    287\u001b[0m     \u001b[1;32mreturn\u001b[0m \u001b[0mmodel\u001b[0m\u001b[1;33m\u001b[0m\u001b[0m\n\u001b[0;32m    288\u001b[0m \u001b[1;33m\u001b[0m\u001b[0m\n",
      "\u001b[1;32m/users/ean1/Documents/MatPy/devel/material_analytics.pyc\u001b[0m in \u001b[0;36madjust\u001b[1;34m(model)\u001b[0m\n\u001b[0;32m    310\u001b[0m     \"\"\"\n\u001b[0;32m    311\u001b[0m \u001b[1;33m\u001b[0m\u001b[0m\n\u001b[1;32m--> 312\u001b[1;33m     \u001b[1;32mfor\u001b[0m \u001b[0mindex\u001b[0m\u001b[1;33m,\u001b[0m \u001b[0mnum\u001b[0m \u001b[1;32min\u001b[0m \u001b[0menumerate\u001b[0m\u001b[1;33m(\u001b[0m\u001b[0mmodel\u001b[0m\u001b[1;33m[\u001b[0m\u001b[1;33m:\u001b[0m\u001b[1;33m,\u001b[0m\u001b[1;36m1\u001b[0m\u001b[1;33m]\u001b[0m\u001b[1;33m)\u001b[0m\u001b[1;33m:\u001b[0m\u001b[1;33m\u001b[0m\u001b[0m\n\u001b[0m\u001b[0;32m    313\u001b[0m \u001b[1;33m\u001b[0m\u001b[0m\n\u001b[0;32m    314\u001b[0m         \u001b[1;32mif\u001b[0m \u001b[0mnum\u001b[0m\u001b[1;33m<=\u001b[0m\u001b[1;36m0\u001b[0m\u001b[1;33m:\u001b[0m\u001b[1;33m\u001b[0m\u001b[0m\n",
      "\u001b[1;31mTypeError\u001b[0m: 'NoneType' object has no attribute '__getitem__'"
     ]
    }
   ],
   "source": [
    "data = parser.stress_strain('ref/1150.dat').get_experimental_data()\n",
    "\n",
    "find_nearest = lambda array,value: array[(np.abs(array-value)).argmin()]\n",
    "#logft = material_analytics.log_approx(data)\n",
    "yld = yield_classic(data)"
   ]
  }
 ],
 "metadata": {
  "kernelspec": {
   "display_name": "Python 2",
   "language": "python",
   "name": "python2"
  },
  "language_info": {
   "codemirror_mode": {
    "name": "ipython",
    "version": 2
   },
   "file_extension": ".py",
   "mimetype": "text/x-python",
   "name": "python",
   "nbconvert_exporter": "python",
   "pygments_lexer": "ipython2",
   "version": "2.7.12"
  }
 },
 "nbformat": 4,
 "nbformat_minor": 0
}
