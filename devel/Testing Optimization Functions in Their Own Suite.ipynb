{
 "cells": [
  {
   "cell_type": "code",
   "execution_count": 30,
   "metadata": {
    "collapsed": false
   },
   "outputs": [
    {
     "name": "stdout",
     "output_type": "stream",
     "text": [
      "L-BFGS-B took 0.0012731552124 seconds. The result, 5.51468703641e-17 was found at (-5.25104134263e-09, -5.25104134263e-09)\n",
      "L-BFGS-B used 61.375 megabytes and took 3.0 iterations\n",
      "\n"
     ]
    }
   ],
   "source": [
    "import optimization_suite\n",
    "reload(optimization_suite)\n",
    "\n",
    "func = lambda (x,y): x**2 + y**2\n",
    "\n",
    "optimization_suite.minimize_suite(func,['L-BFGS-B'],[100.,100.])"
   ]
  },
  {
   "cell_type": "code",
   "execution_count": 3,
   "metadata": {
    "collapsed": false
   },
   "outputs": [
    {
     "name": "stdout",
     "output_type": "stream",
     "text": [
      "(array([  4.51204795e-06]), 2.0358576720339696e-11)\n"
     ]
    }
   ],
   "source": [
    "from pybrain.optimization import GA\n",
    "\n",
    "func = lambda (x, ): x**2 \n",
    "\n",
    "def learn(func,guess):\n",
    "    \n",
    "    result = GA(func,guess,minimize=True)\n",
    "    print result.learn()\n",
    "\n",
    "learn(func,[100.])"
   ]
  },
  {
   "cell_type": "code",
   "execution_count": 42,
   "metadata": {
    "collapsed": false
   },
   "outputs": [
    {
     "name": "stdout",
     "output_type": "stream",
     "text": [
      "(array([2]), None)\n"
     ]
    }
   ],
   "source": [
    "reload(optimization_suite)\n",
    "\n",
    "def func(x):\n",
    "    return x**2\n",
    "optimization_suite.GA_minimize(func,guess=2)"
   ]
  },
  {
   "cell_type": "code",
   "execution_count": 6,
   "metadata": {
    "collapsed": false
   },
   "outputs": [
    {
     "name": "stdout",
     "output_type": "stream",
     "text": [
      "The result is:  (array([ -2.10339992e-06]), 4.4242912258326645e-12)\n",
      "Genetic Algorithm took 19.9956068993 seconds\n",
      "Genetic Algorithm used 60.24609375 megabytes\n",
      "\n"
     ]
    }
   ],
   "source": [
    "from optimization_suite import GA_minimize as blahblahblah\n",
    "import timeit\n",
    "from memory_profiler import memory_usage\n",
    "\n",
    "# Our workaround for evaluating GA performance, needs its own method because it is separate in the SciPy class and takes different parameters\n",
    "def GA_minimize(function, guess):\n",
    "    \n",
    "    result = GA(func,guess,minimize=True)\n",
    "    print result.learn()\n",
    "\n",
    "blahblahblah(lambda (x, ): x**2, guess = [1.0,])"
   ]
  },
  {
   "cell_type": "code",
   "execution_count": 7,
   "metadata": {
    "collapsed": false
   },
   "outputs": [
    {
     "name": "stdout",
     "output_type": "stream",
     "text": [
      "Nelder-Mead took 0.0204789638519 seconds. The result, 0.0 was found at (0.0, 0.002625)\n",
      "Nelder-Mead used 60.24609375 megabytes and took 202.0 iterations\n",
      "\n",
      "L-BFGS-B took 0.00133109092712 seconds. The result, 2.5654139844e-17 was found at (-5.06499159367e-09, 0.0)\n",
      "L-BFGS-B used 60.3046875 megabytes and took 3.0 iterations\n",
      "\n"
     ]
    }
   ],
   "source": [
    "from optimization_suite import minimize_suite \n",
    "\n",
    "minimize_suite(lambda (x,y): x**2, methods=['Nelder-Mead','L-BFGS-B'],guess = [100.,0])"
   ]
  },
  {
   "cell_type": "code",
   "execution_count": 8,
   "metadata": {
    "collapsed": false
   },
   "outputs": [
    {
     "name": "stdout",
     "output_type": "stream",
     "text": [
      "basinhopping took 0.0400290489197 seconds. The result, 1.11640669219e-17 was found at ([  3.34126726e-09])\n",
      "basinhopping used [ 60.60546875] megabytes and took 100 iterations\n",
      "\n"
     ]
    }
   ],
   "source": [
    "from scipy.optimize import basinhopping\n",
    "from optimization_suite import custom_minimize\n",
    "\n",
    "custom_minimize(lambda x: x**2, basinhopping,guess=[1.0])"
   ]
  },
  {
   "cell_type": "code",
   "execution_count": null,
   "metadata": {
    "collapsed": true
   },
   "outputs": [],
   "source": []
  }
 ],
 "metadata": {
  "kernelspec": {
   "display_name": "Python 2",
   "language": "python",
   "name": "python2"
  },
  "language_info": {
   "codemirror_mode": {
    "name": "ipython",
    "version": 2
   },
   "file_extension": ".py",
   "mimetype": "text/x-python",
   "name": "python",
   "nbconvert_exporter": "python",
   "pygments_lexer": "ipython2",
   "version": "2.7.11"
  }
 },
 "nbformat": 4,
 "nbformat_minor": 0
}
