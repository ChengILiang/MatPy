{
 "cells": [
  {
   "cell_type": "markdown",
   "metadata": {},
   "source": [
    "## We have two goals in our application of machine learning: \n",
    "### 1. Predicting Stress-Strain Curves\n",
    "### 2. Automatically determining the region where plastic deformation occurs (Classification, and finding the border)"
   ]
  },
  {
   "cell_type": "code",
   "execution_count": 17,
   "metadata": {
    "collapsed": false
   },
   "outputs": [],
   "source": [
    "%matplotlib notebook\n",
    "from irreversible_stressstrain import StressStrain\n",
    "\n",
    "model2 = StressStrain('ref/HSRS/222')\n",
    "model3 = StressStrain('ref/HSRS/326')"
   ]
  },
  {
   "cell_type": "markdown",
   "metadata": {},
   "source": [
    "## Visualize our experimental data"
   ]
  },
  {
   "cell_type": "code",
   "execution_count": 37,
   "metadata": {
    "collapsed": false
   },
   "outputs": [
    {
     "name": "stdout",
     "output_type": "stream",
     "text": [
      "<type 'numpy.ndarray'>\n"
     ]
    }
   ],
   "source": [
    "%matplotlib inline\n",
    "import test_suite\n",
    "reload(test_suite)\n",
    "from test_suite import plot2D\n",
    "\n",
    "\"\"\"Establishing our models\"\"\"\n",
    "exp2 = model2.get_experimental_data()\n",
    "exp3 = model3.get_experimental_data()\n",
    "\n",
    "\"\"\"Plots 2 identical graphs, which isn't good...\"\"\"\n",
    "#plot2D(StressStrain('ref/HSRS/22').get_experimental_data(),'stress','strain','HSRS/22')\n",
    "#plot2D(exp2,'stress','strain','HSRS/222')\n",
    "#plot2D(exp3,'stress','strain','HSRS/326')\n",
    "\n",
    "print type(exp2[0])"
   ]
  },
  {
   "cell_type": "code",
   "execution_count": 2,
   "metadata": {
    "collapsed": false
   },
   "outputs": [
    {
     "name": "stdout",
     "output_type": "stream",
     "text": [
      "24.47717992\n",
      "27.61252945\n"
     ]
    }
   ],
   "source": [
    "import irreversible_stressstrain\n",
    "reload(irreversible_stressstrain)\n",
    "from irreversible_stressstrain import StressStrain\n",
    "\n",
    "import test_suite\n",
    "reload(test_suite)\n",
    "from test_suite import plot2D\n",
    "\n",
    "model2 = StressStrain('ref/HSRS/222')\n",
    "model3 = StressStrain('ref/HSRS/326')\n",
    "\n",
    "\"\"\"Establishing our models\"\"\"\n",
    "exp2 = model2.get_experimental_data()\n",
    "exp3 = model3.get_experimental_data()\n",
    "\n",
    "\"\"\"Print last two values of each to ascertain domain\"\"\"\n",
    "x1 = exp2[:,0]\n",
    "x2 = exp3[:,0]\n",
    "\n",
    "\"\"\"\n",
    "These are the same which means, it's being overwritten.\n",
    "This is because exp is a global variable, it should be an object variable.\n",
    "(FIXED)\n",
    "\"\"\"\n",
    "\n",
    "print x1[-1]\n",
    "print x2[-1]"
   ]
  },
  {
   "cell_type": "code",
   "execution_count": 67,
   "metadata": {
    "collapsed": false
   },
   "outputs": [
    {
     "name": "stderr",
     "output_type": "stream",
     "text": [
      "/site/x86/anaconda-1.8/anaconda/lib/python2.7/site-packages/sklearn/utils/validation.py:515: DataConversionWarning: A column-vector y was passed when a 1d array was expected. Please change the shape of y to (n_samples, ), for example using ravel().\n",
      "  y = column_or_1d(y, warn=True)\n"
     ]
    },
    {
     "ename": "ValueError",
     "evalue": "all the input array dimensions except for the concatenation axis must match exactly",
     "output_type": "error",
     "traceback": [
      "\u001b[1;31m---------------------------------------------------------------------------\u001b[0m",
      "\u001b[1;31mValueError\u001b[0m                                Traceback (most recent call last)",
      "\u001b[1;32m<ipython-input-67-ff06b27f2894>\u001b[0m in \u001b[0;36m<module>\u001b[1;34m()\u001b[0m\n\u001b[0;32m     25\u001b[0m \u001b[1;33m\u001b[0m\u001b[0m\n\u001b[0;32m     26\u001b[0m \u001b[1;32mfor\u001b[0m \u001b[0mindex\u001b[0m\u001b[1;33m,\u001b[0m \u001b[0mentry\u001b[0m \u001b[1;32min\u001b[0m \u001b[0menumerate\u001b[0m\u001b[1;33m(\u001b[0m\u001b[0mguess_domain\u001b[0m\u001b[1;33m)\u001b[0m\u001b[1;33m:\u001b[0m\u001b[1;33m\u001b[0m\u001b[0m\n\u001b[1;32m---> 27\u001b[1;33m     \u001b[0mdata\u001b[0m \u001b[1;33m=\u001b[0m \u001b[0mnp\u001b[0m\u001b[1;33m.\u001b[0m\u001b[0mvstack\u001b[0m\u001b[1;33m(\u001b[0m\u001b[1;33m(\u001b[0m\u001b[0mdata\u001b[0m\u001b[1;33m,\u001b[0m\u001b[0mnp\u001b[0m\u001b[1;33m.\u001b[0m\u001b[0marray\u001b[0m\u001b[1;33m(\u001b[0m\u001b[1;33m(\u001b[0m\u001b[0mguess_domain\u001b[0m\u001b[1;33m[\u001b[0m\u001b[0mindex\u001b[0m\u001b[1;33m,\u001b[0m\u001b[1;36m0\u001b[0m\u001b[1;33m]\u001b[0m\u001b[1;33m,\u001b[0m\u001b[0mguess_range\u001b[0m\u001b[1;33m[\u001b[0m\u001b[0mindex\u001b[0m\u001b[1;33m]\u001b[0m\u001b[1;33m)\u001b[0m\u001b[1;33m)\u001b[0m\u001b[1;33m.\u001b[0m\u001b[0mreshape\u001b[0m\u001b[1;33m(\u001b[0m\u001b[1;33m-\u001b[0m\u001b[1;36m1\u001b[0m\u001b[1;33m,\u001b[0m\u001b[1;36m2\u001b[0m\u001b[1;33m)\u001b[0m\u001b[1;33m)\u001b[0m\u001b[1;33m)\u001b[0m\u001b[1;33m\u001b[0m\u001b[0m\n\u001b[0m\u001b[0;32m     28\u001b[0m \u001b[1;33m\u001b[0m\u001b[0m\n\u001b[0;32m     29\u001b[0m \u001b[1;32mprint\u001b[0m \u001b[0mdata\u001b[0m\u001b[1;33m\u001b[0m\u001b[0m\n",
      "\u001b[1;32m/site/x86/anaconda-1.8/anaconda/lib/python2.7/site-packages/numpy/core/shape_base.pyc\u001b[0m in \u001b[0;36mvstack\u001b[1;34m(tup)\u001b[0m\n\u001b[0;32m    228\u001b[0m \u001b[1;33m\u001b[0m\u001b[0m\n\u001b[0;32m    229\u001b[0m     \"\"\"\n\u001b[1;32m--> 230\u001b[1;33m     \u001b[1;32mreturn\u001b[0m \u001b[0m_nx\u001b[0m\u001b[1;33m.\u001b[0m\u001b[0mconcatenate\u001b[0m\u001b[1;33m(\u001b[0m\u001b[1;33m[\u001b[0m\u001b[0matleast_2d\u001b[0m\u001b[1;33m(\u001b[0m\u001b[0m_m\u001b[0m\u001b[1;33m)\u001b[0m \u001b[1;32mfor\u001b[0m \u001b[0m_m\u001b[0m \u001b[1;32min\u001b[0m \u001b[0mtup\u001b[0m\u001b[1;33m]\u001b[0m\u001b[1;33m,\u001b[0m \u001b[1;36m0\u001b[0m\u001b[1;33m)\u001b[0m\u001b[1;33m\u001b[0m\u001b[0m\n\u001b[0m\u001b[0;32m    231\u001b[0m \u001b[1;33m\u001b[0m\u001b[0m\n\u001b[0;32m    232\u001b[0m \u001b[1;32mdef\u001b[0m \u001b[0mhstack\u001b[0m\u001b[1;33m(\u001b[0m\u001b[0mtup\u001b[0m\u001b[1;33m)\u001b[0m\u001b[1;33m:\u001b[0m\u001b[1;33m\u001b[0m\u001b[0m\n",
      "\u001b[1;31mValueError\u001b[0m: all the input array dimensions except for the concatenation axis must match exactly"
     ]
    }
   ],
   "source": [
    "\"\"\"\n",
    "We are using 'squared_loss' here because we don't have too many outliers in our\n",
    "data, otherwise, it would be better to use Huber. This is a linear model, but we\n",
    "are going to try to fit it to our data.\n",
    "\"\"\"\n",
    "\n",
    "from sklearn.linear_model import SGDRegressor\n",
    "import numpy as np\n",
    "reg = SGDRegressor(loss='squared_loss') \n",
    "\n",
    "reg.fit(exp2[:,0].reshape(-1,1),exp2[:,1].reshape(-1,1))\n",
    "#print reg.predict(100)\n",
    "\n",
    "\n",
    "guess_domain = np.linspace(0,25.,51).reshape(-1,1)\n",
    "#print guess_domain\n",
    "\n",
    "guess_range = reg.predict(guess_domain)\n",
    "#print guess_range\n",
    "\n",
    "#print guess_domain, guess_range\n",
    "\n",
    "#make this better, to improve speed instead of appending\n",
    "data = np.zeros(0).reshape(-1,1)\n",
    "\n",
    "for index, entry in enumerate(guess_domain):\n",
    "    data = np.vstack((data,np.array((guess_domain[index,0],guess_range[index])).reshape(-1,2)))\n",
    "\n",
    "print data\n"
   ]
  },
  {
   "cell_type": "code",
   "execution_count": 24,
   "metadata": {
    "collapsed": false
   },
   "outputs": [
    {
     "name": "stdout",
     "output_type": "stream",
     "text": [
      "[  0.    0.5   1.    1.5   2.    2.5   3.    3.5   4.    4.5   5.    5.5\n",
      "   6.    6.5   7.    7.5   8.    8.5   9.    9.5  10.   10.5  11.   11.5\n",
      "  12.   12.5  13.   13.5  14.   14.5  15.   15.5  16.   16.5  17.   17.5\n",
      "  18.   18.5  19.   19.5  20.   20.5  21.   21.5  22.   22.5  23.   23.5\n",
      "  24.   24.5  25. ] [  306.37842782   321.10772227   335.83701673   350.56631118   365.29560563\n",
      "   380.02490009   394.75419454   409.483489     424.21278345   438.94207791\n",
      "   453.67137236   468.40066681   483.12996127   497.85925572   512.58855018\n",
      "   527.31784463   542.04713908   556.77643354   571.50572799   586.23502245\n",
      "   600.9643169    615.69361136   630.42290581   645.15220026   659.88149472\n",
      "   674.61078917   689.34008363   704.06937808   718.79867254   733.52796699\n",
      "   748.25726144   762.9865559    777.71585035   792.44514481   807.17443926\n",
      "   821.90373371   836.63302817   851.36232262   866.09161708   880.82091153\n",
      "   895.55020599   910.27950044   925.00879489   939.73808935   954.4673838\n",
      "   969.19667826   983.92597271   998.65526716  1013.38456162  1028.11385607\n",
      "  1042.84315053]\n",
      "[[  0.00000000e+00   3.06378428e+02]\n",
      " [  5.00000000e-01   3.21107722e+02]\n",
      " [  1.00000000e+00   3.35837017e+02]\n",
      " [  1.50000000e+00   3.50566311e+02]\n",
      " [  2.00000000e+00   3.65295606e+02]\n",
      " [  2.50000000e+00   3.80024900e+02]\n",
      " [  3.00000000e+00   3.94754195e+02]\n",
      " [  3.50000000e+00   4.09483489e+02]\n",
      " [  4.00000000e+00   4.24212783e+02]\n",
      " [  4.50000000e+00   4.38942078e+02]\n",
      " [  5.00000000e+00   4.53671372e+02]\n",
      " [  5.50000000e+00   4.68400667e+02]\n",
      " [  6.00000000e+00   4.83129961e+02]\n",
      " [  6.50000000e+00   4.97859256e+02]\n",
      " [  7.00000000e+00   5.12588550e+02]\n",
      " [  7.50000000e+00   5.27317845e+02]\n",
      " [  8.00000000e+00   5.42047139e+02]\n",
      " [  8.50000000e+00   5.56776434e+02]\n",
      " [  9.00000000e+00   5.71505728e+02]\n",
      " [  9.50000000e+00   5.86235022e+02]\n",
      " [  1.00000000e+01   6.00964317e+02]\n",
      " [  1.05000000e+01   6.15693611e+02]\n",
      " [  1.10000000e+01   6.30422906e+02]\n",
      " [  1.15000000e+01   6.45152200e+02]\n",
      " [  1.20000000e+01   6.59881495e+02]\n",
      " [  1.25000000e+01   6.74610789e+02]\n",
      " [  1.30000000e+01   6.89340084e+02]\n",
      " [  1.35000000e+01   7.04069378e+02]\n",
      " [  1.40000000e+01   7.18798673e+02]\n",
      " [  1.45000000e+01   7.33527967e+02]\n",
      " [  1.50000000e+01   7.48257261e+02]\n",
      " [  1.55000000e+01   7.62986556e+02]\n",
      " [  1.60000000e+01   7.77715850e+02]\n",
      " [  1.65000000e+01   7.92445145e+02]\n",
      " [  1.70000000e+01   8.07174439e+02]\n",
      " [  1.75000000e+01   8.21903734e+02]\n",
      " [  1.80000000e+01   8.36633028e+02]\n",
      " [  1.85000000e+01   8.51362323e+02]\n",
      " [  1.90000000e+01   8.66091617e+02]\n",
      " [  1.95000000e+01   8.80820912e+02]\n",
      " [  2.00000000e+01   8.95550206e+02]\n",
      " [  2.05000000e+01   9.10279500e+02]\n",
      " [  2.10000000e+01   9.25008795e+02]\n",
      " [  2.15000000e+01   9.39738089e+02]\n",
      " [  2.20000000e+01   9.54467384e+02]\n",
      " [  2.25000000e+01   9.69196678e+02]\n",
      " [  2.30000000e+01   9.83925973e+02]\n",
      " [  2.35000000e+01   9.98655267e+02]\n",
      " [  2.40000000e+01   1.01338456e+03]\n",
      " [  2.45000000e+01   1.02811386e+03]\n",
      " [  2.50000000e+01   1.04284315e+03]]\n"
     ]
    },
    {
     "name": "stderr",
     "output_type": "stream",
     "text": [
      "/site/x86/anaconda-1.8/anaconda/lib/python2.7/site-packages/sklearn/utils/validation.py:515: DataConversionWarning: A column-vector y was passed when a 1d array was expected. Please change the shape of y to (n_samples, ), for example using ravel().\n",
      "  y = column_or_1d(y, warn=True)\n"
     ]
    }
   ],
   "source": [
    "from sklearn.linear_model import SGDRegressor\n",
    "import numpy as np\n",
    "reg = SGDRegressor(loss='squared_loss') \n",
    "\n",
    "reg.fit(exp2[:,0].reshape(-1,1),exp2[:,1].reshape(-1,1))\n",
    "\n",
    "guess_domain = np.linspace(0,25.,51)\n",
    "guess_range = reg.predict(guess_domain[:,None])\n",
    "\n",
    "print guess_domain, guess_range\n",
    "data = []\n",
    "\n",
    "for index, guess in enumerate(guess_domain):  \n",
    "    data.append([guess_domain[index],guess_range[index]])\n",
    "\n",
    "data = np.asarray(data)\n",
    "print data"
   ]
  },
  {
   "cell_type": "code",
   "execution_count": 27,
   "metadata": {
    "collapsed": false
   },
   "outputs": [
    {
     "data": {
      "image/png": "[encoded data removed]",
      "text/plain": [
       "<matplotlib.figure.Figure at 0x7f4a410eb9d0>"
      ]
     },
     "metadata": {},
     "output_type": "display_data"
    }
   ],
   "source": [
    "%matplotlib inline\n",
    "import test_suite\n",
    "reload(test_suite)\n",
    "test_suite.plotmult2D(exp2,data)"
   ]
  },
  {
   "cell_type": "code",
   "execution_count": null,
   "metadata": {
    "collapsed": true
   },
   "outputs": [],
   "source": [
    "\"\"\"Template for fitting data\"\"\"\n",
    "\n",
    "from sklearn.linear_model import SGDRegressor\n",
    "import numpy as np\n",
    "reg = SGDRegressor(loss='squared_loss') \n",
    "\n",
    "reg.fit(exp2[:,0].reshape(-1,1),exp2[:,1].reshape(-1,1))\n",
    "\n",
    "guess_domain = np.linspace(0,25.,51)\n",
    "guess_range = reg.predict(guess_domain[:,None])\n",
    "\n",
    "data = []\n",
    "\n",
    "for index, guess in enumerate(guess_domain):  \n",
    "    data.append([guess_domain[index],guess_range[index]])\n",
    "\n",
    "data = np.asarray(data)\n",
    "print data"
   ]
  },
  {
   "cell_type": "markdown",
   "metadata": {},
   "source": [
    "### Not a good fit, let's try something different \n",
    "\n",
    "(UPDATE): Fitting process should take pairs of values"
   ]
  },
  {
   "cell_type": "code",
   "execution_count": 44,
   "metadata": {
    "collapsed": false
   },
   "outputs": [
    {
     "name": "stdout",
     "output_type": "stream",
     "text": [
      "{'copy_X': True, 'normalize': False, 'n_jobs': 1, 'fit_intercept': True}\n"
     ]
    }
   ],
   "source": [
    "import irreversible_stressstrain\n",
    "reload(irreversible_stressstrain)\n",
    "from irreversible_stressstrain import StressStrain\n",
    "\n",
    "from sklearn.linear_model import LinearRegression\n",
    "import numpy as np\n",
    "\n",
    "import test_suite\n",
    "reload(test_suite)\n",
    "from test_suite import plot2D\n",
    "\n",
    "model2 = StressStrain('ref/HSRS/222')\n",
    "model3 = StressStrain('ref/HSRS/326')\n",
    "\n",
    "\"\"\"Establishing our models\"\"\"\n",
    "exp2 = model2.get_experimental_data()\n",
    "exp3 = model3.get_experimental_data()\n",
    "\n",
    "clf = LinearRegression()\n",
    "clf.fit(exp2[:,0].reshape(-1,1),exp2[:,1].reshape(-1,1))\n",
    "guess_domain = np.linspace(0,25.,51)\n",
    "guess_range = clf.predict(guess_domain[:,None])\n",
    "\n",
    "data = []\n",
    "\n",
    "for index, guess in enumerate(guess_domain):  \n",
    "    data.append([guess_domain[index],guess_range[index]])\n",
    "\n",
    "data = np.asarray(data)\n",
    "print clf.get_params()\n",
    "#test_suite.plotmult2D(exp2,data)"
   ]
  },
  {
   "cell_type": "code",
   "execution_count": 52,
   "metadata": {
    "collapsed": false
   },
   "outputs": [
    {
     "name": "stdout",
     "output_type": "stream",
     "text": [
      "259 259\n"
     ]
    },
    {
     "name": "stderr",
     "output_type": "stream",
     "text": [
      "/site/x86/anaconda-1.8/anaconda/lib/python2.7/site-packages/sklearn/utils/validation.py:386: DeprecationWarning: Passing 1d arrays as data is deprecated in 0.17 and willraise ValueError in 0.19. Reshape your data either using X.reshape(-1, 1) if your data has a single feature or X.reshape(1, -1) if it contains a single sample.\n",
      "  DeprecationWarning)\n"
     ]
    },
    {
     "ename": "ValueError",
     "evalue": "Found arrays with inconsistent numbers of samples: [  1 259]",
     "output_type": "error",
     "traceback": [
      "\u001b[1;31m---------------------------------------------------------------------------\u001b[0m",
      "\u001b[1;31mValueError\u001b[0m                                Traceback (most recent call last)",
      "\u001b[1;32m<ipython-input-52-4c2b3163c38b>\u001b[0m in \u001b[0;36m<module>\u001b[1;34m()\u001b[0m\n\u001b[0;32m     20\u001b[0m \u001b[1;33m\u001b[0m\u001b[0m\n\u001b[0;32m     21\u001b[0m \u001b[1;32mprint\u001b[0m \u001b[0mlen\u001b[0m\u001b[1;33m(\u001b[0m\u001b[0mexp2\u001b[0m\u001b[1;33m[\u001b[0m\u001b[1;33m:\u001b[0m\u001b[1;33m,\u001b[0m\u001b[1;36m0\u001b[0m\u001b[1;33m]\u001b[0m\u001b[1;33m.\u001b[0m\u001b[0mtolist\u001b[0m\u001b[1;33m(\u001b[0m\u001b[1;33m)\u001b[0m\u001b[1;33m)\u001b[0m\u001b[1;33m,\u001b[0m\u001b[0mlen\u001b[0m\u001b[1;33m(\u001b[0m\u001b[0mexp2\u001b[0m\u001b[1;33m[\u001b[0m\u001b[1;33m:\u001b[0m\u001b[1;33m,\u001b[0m\u001b[1;36m1\u001b[0m\u001b[1;33m]\u001b[0m\u001b[1;33m.\u001b[0m\u001b[0mtolist\u001b[0m\u001b[1;33m(\u001b[0m\u001b[1;33m)\u001b[0m\u001b[1;33m)\u001b[0m\u001b[1;33m\u001b[0m\u001b[0m\n\u001b[1;32m---> 22\u001b[1;33m \u001b[0mclf\u001b[0m\u001b[1;33m.\u001b[0m\u001b[0mfit\u001b[0m\u001b[1;33m(\u001b[0m\u001b[0mexp2\u001b[0m\u001b[1;33m[\u001b[0m\u001b[1;33m:\u001b[0m\u001b[1;33m,\u001b[0m\u001b[1;36m0\u001b[0m\u001b[1;33m]\u001b[0m\u001b[1;33m.\u001b[0m\u001b[0mtolist\u001b[0m\u001b[1;33m(\u001b[0m\u001b[1;33m)\u001b[0m\u001b[1;33m,\u001b[0m\u001b[0mexp2\u001b[0m\u001b[1;33m[\u001b[0m\u001b[1;33m:\u001b[0m\u001b[1;33m,\u001b[0m\u001b[1;36m1\u001b[0m\u001b[1;33m]\u001b[0m\u001b[1;33m.\u001b[0m\u001b[0mtolist\u001b[0m\u001b[1;33m(\u001b[0m\u001b[1;33m)\u001b[0m\u001b[1;33m)\u001b[0m\u001b[1;33m\u001b[0m\u001b[0m\n\u001b[0m",
      "\u001b[1;32m/site/x86/anaconda-1.8/anaconda/lib/python2.7/site-packages/sklearn/linear_model/base.pyc\u001b[0m in \u001b[0;36mfit\u001b[1;34m(self, X, y, sample_weight)\u001b[0m\n\u001b[0;32m    425\u001b[0m         \u001b[0mn_jobs_\u001b[0m \u001b[1;33m=\u001b[0m \u001b[0mself\u001b[0m\u001b[1;33m.\u001b[0m\u001b[0mn_jobs\u001b[0m\u001b[1;33m\u001b[0m\u001b[0m\n\u001b[0;32m    426\u001b[0m         X, y = check_X_y(X, y, accept_sparse=['csr', 'csc', 'coo'],\n\u001b[1;32m--> 427\u001b[1;33m                          y_numeric=True, multi_output=True)\n\u001b[0m\u001b[0;32m    428\u001b[0m \u001b[1;33m\u001b[0m\u001b[0m\n\u001b[0;32m    429\u001b[0m         \u001b[1;32mif\u001b[0m \u001b[1;33m(\u001b[0m\u001b[1;33m(\u001b[0m\u001b[0msample_weight\u001b[0m \u001b[1;32mis\u001b[0m \u001b[1;32mnot\u001b[0m \u001b[0mNone\u001b[0m\u001b[1;33m)\u001b[0m \u001b[1;32mand\u001b[0m \u001b[0mnp\u001b[0m\u001b[1;33m.\u001b[0m\u001b[0matleast_1d\u001b[0m\u001b[1;33m(\u001b[0m\u001b[0msample_weight\u001b[0m\u001b[1;33m)\u001b[0m\u001b[1;33m.\u001b[0m\u001b[0mndim\u001b[0m \u001b[1;33m>\u001b[0m \u001b[1;36m1\u001b[0m\u001b[1;33m)\u001b[0m\u001b[1;33m:\u001b[0m\u001b[1;33m\u001b[0m\u001b[0m\n",
      "\u001b[1;32m/site/x86/anaconda-1.8/anaconda/lib/python2.7/site-packages/sklearn/utils/validation.pyc\u001b[0m in \u001b[0;36mcheck_X_y\u001b[1;34m(X, y, accept_sparse, dtype, order, copy, force_all_finite, ensure_2d, allow_nd, multi_output, ensure_min_samples, ensure_min_features, y_numeric, warn_on_dtype, estimator)\u001b[0m\n\u001b[0;32m    518\u001b[0m         \u001b[0my\u001b[0m \u001b[1;33m=\u001b[0m \u001b[0my\u001b[0m\u001b[1;33m.\u001b[0m\u001b[0mastype\u001b[0m\u001b[1;33m(\u001b[0m\u001b[0mnp\u001b[0m\u001b[1;33m.\u001b[0m\u001b[0mfloat64\u001b[0m\u001b[1;33m)\u001b[0m\u001b[1;33m\u001b[0m\u001b[0m\n\u001b[0;32m    519\u001b[0m \u001b[1;33m\u001b[0m\u001b[0m\n\u001b[1;32m--> 520\u001b[1;33m     \u001b[0mcheck_consistent_length\u001b[0m\u001b[1;33m(\u001b[0m\u001b[0mX\u001b[0m\u001b[1;33m,\u001b[0m \u001b[0my\u001b[0m\u001b[1;33m)\u001b[0m\u001b[1;33m\u001b[0m\u001b[0m\n\u001b[0m\u001b[0;32m    521\u001b[0m \u001b[1;33m\u001b[0m\u001b[0m\n\u001b[0;32m    522\u001b[0m     \u001b[1;32mreturn\u001b[0m \u001b[0mX\u001b[0m\u001b[1;33m,\u001b[0m \u001b[0my\u001b[0m\u001b[1;33m\u001b[0m\u001b[0m\n",
      "\u001b[1;32m/site/x86/anaconda-1.8/anaconda/lib/python2.7/site-packages/sklearn/utils/validation.pyc\u001b[0m in \u001b[0;36mcheck_consistent_length\u001b[1;34m(*arrays)\u001b[0m\n\u001b[0;32m    174\u001b[0m     \u001b[1;32mif\u001b[0m \u001b[0mlen\u001b[0m\u001b[1;33m(\u001b[0m\u001b[0muniques\u001b[0m\u001b[1;33m)\u001b[0m \u001b[1;33m>\u001b[0m \u001b[1;36m1\u001b[0m\u001b[1;33m:\u001b[0m\u001b[1;33m\u001b[0m\u001b[0m\n\u001b[0;32m    175\u001b[0m         raise ValueError(\"Found arrays with inconsistent numbers of samples: \"\n\u001b[1;32m--> 176\u001b[1;33m                          \"%s\" % str(uniques))\n\u001b[0m\u001b[0;32m    177\u001b[0m \u001b[1;33m\u001b[0m\u001b[0m\n\u001b[0;32m    178\u001b[0m \u001b[1;33m\u001b[0m\u001b[0m\n",
      "\u001b[1;31mValueError\u001b[0m: Found arrays with inconsistent numbers of samples: [  1 259]"
     ]
    }
   ],
   "source": [
    "import irreversible_stressstrain\n",
    "reload(irreversible_stressstrain)\n",
    "from irreversible_stressstrain import StressStrain\n",
    "\n",
    "from sklearn.linear_model import LinearRegression\n",
    "import numpy as np\n",
    "\n",
    "import test_suite\n",
    "reload(test_suite)\n",
    "from test_suite import plot2D\n",
    "\n",
    "model2 = StressStrain('ref/HSRS/222')\n",
    "model3 = StressStrain('ref/HSRS/326')\n",
    "\n",
    "\"\"\"Establishing our models\"\"\"\n",
    "exp2 = model2.get_experimental_data()\n",
    "exp3 = model3.get_experimental_data()\n",
    "\n",
    "clf = LinearRegression()\n",
    "\n",
    "print exp2[:,0].tolist(),exp2[:,1].tolist()\n",
    "clf.fit(exp2[:,0].tolist(),exp2[:,1].tolist())\n"
   ]
  },
  {
   "cell_type": "markdown",
   "metadata": {},
   "source": [
    "## Will try to implement simple Linear Regression to understand the expected format"
   ]
  },
  {
   "cell_type": "code",
   "execution_count": 84,
   "metadata": {
    "collapsed": false
   },
   "outputs": [
    {
     "data": {
      "text/plain": [
       "array([ 25.83333333])"
      ]
     },
     "execution_count": 84,
     "metadata": {},
     "output_type": "execute_result"
    }
   ],
   "source": [
    "import irreversible_stressstrain\n",
    "reload(irreversible_stressstrain)\n",
    "from irreversible_stressstrain import StressStrain\n",
    "\n",
    "from sklearn.linear_model import LinearRegression\n",
    "import numpy as np\n",
    "\n",
    "import test_suite\n",
    "reload(test_suite)\n",
    "from test_suite import plot2D\n",
    "\n",
    "clf = LinearRegression()\n",
    "\n",
    "clf.fit ([(0, ), (1, ), (2 , )], [0, 1, 9])\n",
    "clf.predict(6)\n"
   ]
  },
  {
   "cell_type": "code",
   "execution_count": 110,
   "metadata": {
    "collapsed": false
   },
   "outputs": [
    {
     "data": {
      "text/plain": [
       "array([ 1042.15184224])"
      ]
     },
     "execution_count": 110,
     "metadata": {},
     "output_type": "execute_result"
    }
   ],
   "source": [
    "import irreversible_stressstrain\n",
    "reload(irreversible_stressstrain)\n",
    "from irreversible_stressstrain import StressStrain\n",
    "\n",
    "from sklearn.linear_model import LinearRegression\n",
    "import numpy as np\n",
    "\n",
    "import test_suite\n",
    "reload(test_suite)\n",
    "from test_suite import plot2D\n",
    "\n",
    "model2 = StressStrain('ref/HSRS/222')\n",
    "model3 = StressStrain('ref/HSRS/326')\n",
    "\n",
    "\"\"\"Establishing our models\"\"\"\n",
    "exp2 = model2.get_experimental_data()\n",
    "exp3 = model3.get_experimental_data()\n",
    "\n",
    "start = -20 # mark as none to feed all data to algorithm\n",
    "x_train = []\n",
    "y_train = exp2[start:,1]\n",
    "\n",
    "\"\"\"Our problem is that our data close to the origin is largely throwing off our estimates\"\"\"\n",
    "\n",
    "# -- all values must be added as tuples because the domain has to be iterable to account for higher dims\n",
    "for data in exp2[start:,0]:\n",
    "    x_train.append((data, ))\n",
    "\n",
    "#print x_train\n",
    "\n",
    "clf.fit(x_train,y_train)\n",
    "clf.predict(10.)"
   ]
  },
  {
   "cell_type": "markdown",
   "metadata": {},
   "source": [
    "## We can try to classify data into 2 sets to identify point of necking, and then furthermore fit a model to each of these groups"
   ]
  },
  {
   "cell_type": "code",
   "execution_count": 134,
   "metadata": {
    "collapsed": false
   },
   "outputs": [
    {
     "data": {
      "text/plain": [
       "'array[0] is the first group, array[1] is the other'"
      ]
     },
     "execution_count": 134,
     "metadata": {},
     "output_type": "execute_result"
    }
   ],
   "source": [
    "from sklearn.cluster import MiniBatchKMeans as mbkmeans\n",
    "reg = mbkmeans(n_clusters=2)\n",
    "reg.fit(x_train,y_train)\n",
    "reg.predict(10.)\n",
    "\n",
    "\"\"\"array[0] is the first group, array[1] is the other\"\"\""
   ]
  },
  {
   "cell_type": "code",
   "execution_count": 177,
   "metadata": {
    "collapsed": false
   },
   "outputs": [
    {
     "name": "stdout",
     "output_type": "stream",
     "text": [
      "0\n",
      "[]\n"
     ]
    }
   ],
   "source": [
    "import irreversible_stressstrain\n",
    "reload(irreversible_stressstrain)\n",
    "from irreversible_stressstrain import StressStrain\n",
    "\n",
    "from sklearn.linear_model import LinearRegression\n",
    "from sklearn.cluster import MiniBatchKMeans as mbkmeans\n",
    "\n",
    "import numpy as np\n",
    "\n",
    "import test_suite\n",
    "reload(test_suite)\n",
    "from test_suite import plot2D\n",
    "\n",
    "model2 = StressStrain('ref/HSRS/222')\n",
    "model3 = StressStrain('ref/HSRS/326')\n",
    "\n",
    "\"\"\"Establishing our models\"\"\"\n",
    "exp2 = model2.get_experimental_data()\n",
    "exp3 = model3.get_experimental_data()\n",
    "\n",
    "start = None # mark as None to feed all data to algorithm\n",
    "x_train = []\n",
    "y_train = exp2[start:,1]\n",
    "\n",
    "\"\"\"Our problem is that our data close to the origin is largely throwing off our estimates\"\"\"\n",
    "\n",
    "# -- all values must be added as tuples because the domain has to be iterable to account for higher dims\n",
    "for data in exp2[start:,0]:\n",
    "    x_train.append((data, ))\n",
    "    \n",
    "reg = mbkmeans(n_clusters=2)\n",
    "reg.fit(x_train,y_train)\n",
    "\n",
    "# -- predicts the group of every value in exp\n",
    "guess_range = reg.predict(exp2[:,0].reshape(-1,1)) \n",
    "initgroup = guess_range[0]\n",
    "splitgroup = 0\n",
    "\n",
    "for index, val in enumerate(guess_range):\n",
    "    \n",
    "    if val is not initgroup:\n",
    "        splitgroup = index\n",
    "        print splitgroup\n",
    "        break\n",
    "        \n",
    "group1x = exp2[:splitgroup,0]\n",
    "group1y = exp2[:splitgroup,1]\n",
    "\n",
    "group2x = exp2[splitgroup:,0]\n",
    "group2y = exp2[splitgroup:,1]\n",
    "\n",
    "group1 = zip(group1x,group1y)\n",
    "print group1x"
   ]
  },
  {
   "cell_type": "markdown",
   "metadata": {},
   "source": [
    "## Working on splitting values into two groups after clustering"
   ]
  },
  {
   "cell_type": "code",
   "execution_count": 193,
   "metadata": {
    "collapsed": false
   },
   "outputs": [
    {
     "name": "stdout",
     "output_type": "stream",
     "text": [
      "1\n",
      "173\n",
      "[ 0.          0.          0.          0.          0.          0.          0.\n",
      "  0.          0.          0.          0.          0.          0.          0.\n",
      "  0.          0.          0.          0.          0.          0.          0.\n",
      "  0.          0.          0.          0.          0.          0.          0.\n",
      "  0.          0.          0.          0.          0.          0.          0.\n",
      "  0.          0.          0.          0.          0.          0.          0.\n",
      "  0.          0.          0.          0.          0.          0.          0.\n",
      "  0.          0.          0.          0.          0.          0.          0.\n",
      "  0.          0.          0.          0.          0.          0.          0.\n",
      "  0.          0.          0.          0.          0.          0.          0.\n",
      "  0.          0.          0.          0.          0.          0.          0.\n",
      "  0.          0.          0.          0.          0.          0.          0.\n",
      "  0.          0.          0.          0.          0.          0.          0.\n",
      "  0.          0.          0.          0.          0.          0.          0.\n",
      "  0.          0.          0.          0.          0.          0.          0.\n",
      "  0.          0.          0.          0.          0.          0.          0.\n",
      "  0.          0.          0.          0.          0.          0.          0.\n",
      "  0.0632835   0.25129341  0.43811161  0.62329269  0.80743812  0.99054158\n",
      "  1.17212481  1.35291956  1.53276303  1.7119974   1.89111001  2.07040118\n",
      "  2.24977585  2.42939324  2.60939766  2.78950287  2.96983697  3.15020804\n",
      "  3.33093716  3.51199351  3.69234589  3.87186061  4.05066205  4.22931344\n",
      "  4.40680612  4.58197776  4.75579382  4.92880198  5.10089931  5.27240834\n",
      "  5.44424486  5.61614692  5.7884768   5.96192924  6.13641041  6.31212386\n",
      "  6.48887647  6.66747091  6.84776668  7.0282547   7.20916932  7.39074661\n",
      "  7.57293929  7.75460769  7.93529398  8.11570036  8.29533488  8.47387126\n",
      "  8.65137083  8.82857471  9.00524258  9.18075756  9.35685427  9.53377468]\n"
     ]
    }
   ],
   "source": [
    "import irreversible_stressstrain\n",
    "reload(irreversible_stressstrain)\n",
    "from irreversible_stressstrain import StressStrain\n",
    "\n",
    "from sklearn.linear_model import LinearRegression\n",
    "from sklearn.cluster import MiniBatchKMeans as mbkmeans\n",
    "\n",
    "import numpy as np\n",
    "\n",
    "import test_suite\n",
    "reload(test_suite)\n",
    "from test_suite import plot2D\n",
    "\n",
    "model2 = StressStrain('ref/HSRS/222')\n",
    "model3 = StressStrain('ref/HSRS/326')\n",
    "\n",
    "\"\"\"Establishing our models\"\"\"\n",
    "exp2 = model2.get_experimental_data()\n",
    "exp3 = model3.get_experimental_data()\n",
    "\n",
    "# mark as None to feed all data to algorithm\n",
    "start = None \n",
    "x_train = []\n",
    "y_train = exp2[start:,1]\n",
    "\n",
    "x_train = test_suite.expToTrain(exp2)\n",
    "    \n",
    "reg = mbkmeans(n_clusters=2) # 2 groups\n",
    "reg.fit(x_train,y_train)\n",
    "\n",
    "# -- predicts the group of every value in exp\n",
    "guess_range = reg.predict(exp2[:,0].reshape(-1,1)) \n",
    "initgroup = guess_range[0]\n",
    "\n",
    "splitgroup = 0\n",
    "\n",
    "for index, val in enumerate(guess_range):\n",
    "    \n",
    "    if val != initgroup:\n",
    "        splitgroup = index\n",
    "        print splitgroup\n",
    "        break\n",
    "        \n",
    "group1x = exp2[:splitgroup,0]\n",
    "group1y = exp2[:splitgroup,1]\n",
    "\n",
    "group2x = exp2[splitgroup:,0]\n",
    "group2y = exp2[splitgroup:,1]\n",
    "\n",
    "group1 = zip(group1x,group1y)\n",
    "print group1x"
   ]
  }
 ],
 "metadata": {
  "kernelspec": {
   "display_name": "Python 2",
   "language": "python",
   "name": "python2"
  },
  "language_info": {
   "codemirror_mode": {
    "name": "ipython",
    "version": 2
   },
   "file_extension": ".py",
   "mimetype": "text/x-python",
   "name": "python",
   "nbconvert_exporter": "python",
   "pygments_lexer": "ipython2",
   "version": "2.7.11"
  }
 },
 "nbformat": 4,
 "nbformat_minor": 0
}
